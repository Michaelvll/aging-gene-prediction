{
 "cells": [
  {
   "cell_type": "code",
   "execution_count": 1,
   "metadata": {},
   "outputs": [
    {
     "name": "stdout",
     "output_type": "stream",
     "text": [
      "Processed mcg data\n",
      "Processed genebody data\n",
      "Processed atac data\n",
      "Processed hic data\n",
      "zero: 4115, non-zero: 1431\n",
      "mcg 2146\n",
      "genebody 2146\n",
      "atac 2146\n",
      "hic 2146\n"
     ]
    }
   ],
   "source": [
    "from tqdm import tqdm\n",
    "\n",
    "import torch\n",
    "import torch.nn as nn\n",
    "import torch.optim as optim\n",
    "from torch.functional import F\n",
    "\n",
    "from torch.utils.data import Dataset, DataLoader\n",
    "import numpy as np\n",
    "from sklearn.model_selection import KFold\n",
    "\n",
    "from data_loader import load_data, get_balanced_data, normalize_features\n",
    "\n",
    "# import wandb\n",
    "# wandb.init(project='gene')\n",
    "\n",
    "data = load_data()\n",
    "X_balanced, y_balanced = get_balanced_data(data)\n",
    "FEATURE_TYPES = ['mcg', 'atac', 'hic', 'genebody']\n",
    "for k, v in X_balanced.items():\n",
    "    print(k, len(v))\n",
    "# y_balanced = y_balanced[:, 2]\n",
    "# print('zero:', (y_balanced == 0).sum(), 'non-zero:', (y_balanced != 0).sum())"
   ]
  },
  {
   "cell_type": "code",
   "execution_count": 2,
   "metadata": {},
   "outputs": [
    {
     "name": "stdout",
     "output_type": "stream",
     "text": [
      "y_balanced 0: 715\n",
      "y_balanced -1: 874\n",
      "y_balanced 1: 557\n"
     ]
    }
   ],
   "source": [
    "# check how many  0 , -1 and 1 in y_balanced\n",
    "print('y_balanced 0:', np.sum(y_balanced == 0))\n",
    "print('y_balanced -1:', np.sum(y_balanced == -1))\n",
    "print('y_balanced 1:', np.sum(y_balanced == 1))\n"
   ]
  },
  {
   "cell_type": "code",
   "execution_count": 21,
   "metadata": {},
   "outputs": [],
   "source": []
  },
  {
   "cell_type": "code",
   "execution_count": 22,
   "metadata": {},
   "outputs": [
    {
     "name": "stdout",
     "output_type": "stream",
     "text": [
      "Normalizing mcg features\n",
      "Normalizing genebody features\n",
      "Normalizing atac features\n",
      "Normalizing hic features\n"
     ]
    }
   ],
   "source": []
  },
  {
   "cell_type": "code",
   "execution_count": null,
   "metadata": {},
   "outputs": [],
   "source": []
  },
  {
   "cell_type": "code",
   "execution_count": null,
   "metadata": {},
   "outputs": [],
   "source": []
  },
  {
   "cell_type": "code",
   "execution_count": 3,
   "metadata": {},
   "outputs": [],
   "source": [
    "# 63%\n",
    "HIDDEN_DIM = 128\n",
    "NUM_LAYERS = 4  \n",
    "NUM_HEADS = 4\n",
    "DROPOUT = 0.1\n",
    "LR = 1e-3\n",
    "OUTPUT_DIM = 3  # number of classes (-1, 0, 1)\n",
    "NUM_EPOCHS = 50\n",
    "BATCH_SIZE = 32\n",
    "\n",
    "# HIDDEN_DIM = 64\n",
    "# NUM_LAYERS = 4\n",
    "# NUM_HEADS = 8\n",
    "# DROPOUT = 0.0\n",
    "# LR = 0.03\n",
    "# OUTPUT_DIM = 3  # number of classes (-1, 0, 1)\n",
    "# NUM_EPOCHS = 20\n",
    "# BATCH_SIZE = 32\n",
    "\n",
    "# HIDDEN_DIM = 64\n",
    "# NUM_LAYERS = 1\n",
    "# NUM_HEADS = 1\n",
    "# DROPOUT = 0.3\n",
    "# LR = 1e-4\n",
    "# OUTPUT_DIM = 3  # number of classes (-1, 0, 1)\n",
    "# NUM_EPOCHS = 200\n",
    "# BATCH_SIZE = 16\n",
    "\n",
    "\n",
    "class FourHeadTransformerModel(nn.Module):\n",
    "    def __init__(self, mcg_input_dim, atac_input_dim, hic_input_dim, genebody_input_dim, hidden_dim, output_dim, num_layers=2, num_heads=1, dropout=0.1):\n",
    "        super(FourHeadTransformerModel, self).__init__()\n",
    "        self.mcg_cls_embedding = nn.Parameter(torch.randn(1, 1, hidden_dim))\n",
    "        self.atac_cls_embedding = nn.Parameter(torch.randn(1, 1, hidden_dim))\n",
    "        self.hic_cls_embedding = nn.Parameter(torch.randn(1, 1, hidden_dim))\n",
    "        self.genebody_cls_embedding = nn.Parameter(torch.randn(1, 1, hidden_dim))\n",
    "        self.combined_cls_embedding = nn.Parameter(torch.randn(1, 1, hidden_dim))\n",
    "        self.mcg_embedding = nn.Linear(mcg_input_dim, hidden_dim)\n",
    "        self.atac_embedding = nn.Linear(atac_input_dim, hidden_dim)\n",
    "        self.hic_embedding = nn.Linear(hic_input_dim, hidden_dim)\n",
    "        self.genebody_embedding = nn.Linear(genebody_input_dim, hidden_dim)\n",
    "\n",
    "        # TODO: may need to use tanh in attention instead of softmax\n",
    "        encoder_layers = nn.TransformerEncoderLayer(hidden_dim, num_heads, dim_feedforward=hidden_dim*4, dropout=dropout, batch_first=True, norm_first=True)\n",
    "        self.mcg_transformer = nn.TransformerEncoder(encoder_layers, num_layers)\n",
    "        self.atac_transformer = nn.TransformerEncoder(encoder_layers, num_layers)\n",
    "        self.hic_transformer = nn.TransformerEncoder(encoder_layers, num_layers)\n",
    "        self.genebody_transformer = nn.TransformerEncoder(encoder_layers, num_layers)\n",
    "        \n",
    "        # Use self-attention mechanism to combine the outputs of the four heads\n",
    "        self.weight_vector = nn.Parameter(torch.randn(4, 1))\n",
    "        self.linear = nn.Sequential(\n",
    "            nn.Linear(hidden_dim, hidden_dim),\n",
    "            nn.LeakyReLU(),\n",
    "            nn.Dropout(dropout))\n",
    "        self.classifier = nn.Linear(hidden_dim, output_dim)\n",
    "        self._init_weights()\n",
    "        \n",
    "    def _init_weights(self):\n",
    "        for m in self.modules():\n",
    "            if isinstance(m, nn.Linear):\n",
    "                nn.init.xavier_uniform_(m.weight)\n",
    "                if m.bias is not None:\n",
    "                    nn.init.zeros_(m.bias)\n",
    "            elif isinstance(m, nn.Parameter):\n",
    "                nn.init.normal_(m.weight, mean=0.0, std=0.01)\n",
    "            elif isinstance(m, nn.LayerNorm):\n",
    "                nn.init.ones_(m.weight)\n",
    "                nn.init.zeros_(m.bias)\n",
    "\n",
    "\n",
    "        \n",
    "\n",
    "    def forward(self, mcg_x, mcg_mask, atac_x, atac_mask, hic_x, hic_mask, genebody_x, genebody_mask):\n",
    "        mcg_x = self.mcg_embedding(mcg_x)\n",
    "        atac_x = self.atac_embedding(atac_x)\n",
    "        hic_x = self.hic_embedding(hic_x)\n",
    "        genebody_x = self.genebody_embedding(genebody_x)\n",
    "        # Add cls embedding, so that we can take the first output as the representation of the sequence\n",
    "        mcg_cls_embedding = self.mcg_cls_embedding.repeat(mcg_x.size(0), 1, 1)\n",
    "        atac_cls_embedding = self.atac_cls_embedding.repeat(atac_x.size(0), 1, 1)\n",
    "        hic_cls_embedding = self.hic_cls_embedding.repeat(hic_x.size(0), 1, 1)\n",
    "        genebody_cls_embedding = self.genebody_cls_embedding.repeat(genebody_x.size(0), 1, 1)\n",
    "\n",
    "        mcg_x = torch.cat((mcg_cls_embedding, mcg_x), dim=1)\n",
    "        atac_x = torch.cat((atac_cls_embedding, atac_x), dim=1)\n",
    "        hic_x = torch.cat((hic_cls_embedding, hic_x), dim=1)\n",
    "        genebody_x = torch.cat((genebody_cls_embedding, genebody_x), dim=1)\n",
    "\n",
    "        mcg_mask = torch.cat((torch.ones(mcg_mask.size(0), 1), mcg_mask), dim=1)\n",
    "        atac_mask = torch.cat((torch.ones(atac_mask.size(0), 1), atac_mask), dim=1)\n",
    "        hic_mask = torch.cat((torch.ones(hic_mask.size(0), 1), hic_mask), dim=1)\n",
    "        genebody_mask = torch.cat((torch.ones(genebody_mask.size(0), 1), genebody_mask), dim=1)\n",
    "\n",
    "        mcg_x = self.mcg_transformer(mcg_x, src_key_padding_mask=~mcg_mask.bool())\n",
    "        atac_x = self.atac_transformer(atac_x, src_key_padding_mask=~atac_mask.bool())\n",
    "        hic_x = self.hic_transformer(hic_x, src_key_padding_mask=~hic_mask.bool())\n",
    "        genebody_x = self.genebody_transformer(genebody_x, src_key_padding_mask=~genebody_mask.bool())\n",
    "        \n",
    "        # Pooling, we should not use average pooling since the sequence length is also important\n",
    "        mcg_x = mcg_x[:, 0, :]\n",
    "        atac_x = atac_x[:, 0, :]\n",
    "        hic_x = hic_x[:, 0, :]\n",
    "        genebody_x = genebody_x[:, 0, :]\n",
    "\n",
    "        # Combine the output of four heads into a sequence\n",
    "        combined_x = torch.stack((mcg_x, atac_x, hic_x, genebody_x), dim=2) # (batch_size, hidden_dim, 4)\n",
    "        combined_x  = torch.matmul(combined_x, F.softmax(self.weight_vector, dim=0)).squeeze(-1) # (batch_size, hidden_dim, 1)\n",
    "        output = self.linear(combined_x) + combined_x\n",
    "        output = self.classifier(combined_x)\n",
    "        return output\n",
    "\n",
    "class CombinedGeneDataset(Dataset):\n",
    "    def __init__(self, mcg_data, atac_data, hic_data, genebody_data, labels):\n",
    "        self.mcg_data = mcg_data\n",
    "        self.atac_data = atac_data\n",
    "        self.hic_data = hic_data\n",
    "        self.genebody_data = genebody_data\n",
    "        self.labels = labels\n",
    "    \n",
    "    def __len__(self):\n",
    "        return len(self.labels)\n",
    "    \n",
    "    def __getitem__(self, idx):\n",
    "        mcg_gene_data = torch.FloatTensor(self.mcg_data[idx])\n",
    "        atac_gene_data = torch.FloatTensor(self.atac_data[idx])\n",
    "        hic_gene_data = torch.FloatTensor(self.hic_data[idx])\n",
    "        genebody_gene_data = torch.FloatTensor(self.genebody_data[idx])\n",
    "        label = torch.LongTensor([self.labels[idx] + 1])  # Add 1 to shift labels to 0, 1, 2\n",
    "        mcg_mask = torch.ones(len(mcg_gene_data))\n",
    "        atac_mask = torch.ones(len(atac_gene_data))\n",
    "        hic_mask = torch.ones(len(hic_gene_data))\n",
    "        genebody_mask = torch.ones(len(genebody_gene_data))\n",
    "        return mcg_gene_data, atac_gene_data, hic_gene_data, genebody_gene_data, label, mcg_mask, atac_mask, hic_mask, genebody_mask\n",
    "\n",
    "def combined_collate_fn(batch):\n",
    "    batch.sort(key=lambda x: len(x[0]), reverse=True)\n",
    "    mcg_sequences, atac_sequences, hic_sequences, genebody_sequences, labels, mcg_masks, atac_masks, hic_masks, genebody_masks = zip(*batch)\n",
    "    \n",
    "    mcg_lengths = [len(seq) for seq in mcg_sequences]\n",
    "    atac_lengths = [len(seq) for seq in atac_sequences]\n",
    "    hic_lengths = [len(seq) for seq in hic_sequences]\n",
    "    genebody_lengths = [len(seq) for seq in genebody_sequences]\n",
    "    mcg_max_len = max(mcg_lengths)\n",
    "    atac_max_len = max(atac_lengths)\n",
    "    hic_max_len = max(hic_lengths)\n",
    "    genebody_max_len = max(genebody_lengths)\n",
    "    \n",
    "    padded_mcg_seqs = torch.zeros(len(mcg_sequences), mcg_max_len, mcg_sequences[0].size(1))\n",
    "    padded_atac_seqs = torch.zeros(len(atac_sequences), atac_max_len, atac_sequences[0].size(1))\n",
    "    padded_hic_seqs = torch.zeros(len(hic_sequences), hic_max_len, hic_sequences[0].size(1))\n",
    "    padded_genebody_seqs = torch.zeros(len(genebody_sequences), genebody_max_len, genebody_sequences[0].size(1))\n",
    "    padded_mcg_masks = torch.zeros(len(mcg_sequences), mcg_max_len)\n",
    "    padded_atac_masks = torch.zeros(len(atac_sequences), atac_max_len)\n",
    "    padded_hic_masks = torch.zeros(len(hic_sequences), hic_max_len)\n",
    "    padded_genebody_masks = torch.zeros(len(genebody_sequences), genebody_max_len)\n",
    "    \n",
    "    for i, (mcg_seq, atac_seq, hic_seq, genebody_seq, mcg_length, atac_length, hic_length, genebody_length) in enumerate(zip(mcg_sequences, atac_sequences, hic_sequences, genebody_sequences, mcg_lengths, atac_lengths, hic_lengths, genebody_lengths)):\n",
    "        padded_mcg_seqs[i, :mcg_length] = mcg_seq\n",
    "        padded_atac_seqs[i, :atac_length] = atac_seq\n",
    "        padded_hic_seqs[i, :hic_length] = hic_seq\n",
    "        padded_genebody_seqs[i, :genebody_length] = genebody_seq\n",
    "        padded_mcg_masks[i, :mcg_length] = 1\n",
    "        padded_atac_masks[i, :atac_length] = 1\n",
    "        padded_hic_masks[i, :hic_length] = 1\n",
    "        padded_genebody_masks[i, :genebody_length] = 1\n",
    "    \n",
    "    return padded_mcg_seqs, padded_atac_seqs, padded_hic_seqs, padded_genebody_seqs, torch.cat(labels), padded_mcg_masks, padded_atac_masks, padded_hic_masks, padded_genebody_masks\n",
    "\n",
    "def train_combined_model(X_train_mcg, X_train_atac, X_train_hic, X_train_genebody, y_train, X_test_mcg, X_test_atac, X_test_hic, X_test_genebody, y_test, exp_name, fold_idx):\n",
    "    #wandb.init(project='gene', group=exp_name, name=f'fold-{fold_idx}')\n",
    "    mcg_input_dim = len(X_train_mcg[0][0])\n",
    "    atac_input_dim = len(X_train_atac[0][0])\n",
    "    hic_input_dim = len(X_train_hic[0][0])\n",
    "    genebody_input_dim = len(X_train_genebody[0][0])\n",
    "    \n",
    "    train_dataset = CombinedGeneDataset(X_train_mcg, X_train_atac, X_train_hic, X_train_genebody, y_train)\n",
    "    test_dataset = CombinedGeneDataset(X_test_mcg, X_test_atac, X_test_hic, X_test_genebody, y_test)\n",
    "    train_loader = DataLoader(train_dataset, batch_size=BATCH_SIZE, shuffle=True, collate_fn=combined_collate_fn)\n",
    "    test_loader = DataLoader(test_dataset, batch_size=BATCH_SIZE, shuffle=False, collate_fn=combined_collate_fn)\n",
    "\n",
    "    model = FourHeadTransformerModel(mcg_input_dim, atac_input_dim, hic_input_dim, genebody_input_dim, HIDDEN_DIM, OUTPUT_DIM, num_layers=NUM_LAYERS, num_heads=NUM_HEADS, dropout=DROPOUT)\n",
    "\n",
    "    from sklearn.utils.class_weight import compute_class_weight\n",
    "\n",
    "    # class_weights = compute_class_weight('balanced', classes=np.unique(y_train), y=y_train)\n",
    "    # class_weights = torch.FloatTensor(class_weights)\n",
    "    # criterion = nn.CrossEntropyLoss(weight=class_weights)\n",
    "    # optimizer = optim.Adam(model.parameters(), lr=LR)\n",
    "    # lr_scheduler = optim.lr_scheduler.CosineAnnealingLR(optimizer, T_max=NUM_EPOCHS, eta_min=0.0001)\n",
    "    criterion = nn.CrossEntropyLoss()\n",
    "    optimizer = optim.AdamW(model.parameters(), lr=LR, weight_decay=1e-5)\n",
    "    lr_scheduler = optim.lr_scheduler.OneCycleLR(optimizer, max_lr=LR, steps_per_epoch=len(train_loader), epochs=NUM_EPOCHS)\n",
    "\n",
    "    # Create the OneCycleLR scheduler\n",
    "    # lr_scheduler = optim.lr_scheduler.OneCycleLR(optimizer, max_lr=LR, total_steps=NUM_EPOCHS,\n",
    "    #                           pct_start=0.8, anneal_strategy='cos',\n",
    "    #                           cycle_momentum=False, div_factor=5.0,\n",
    "    #                           final_div_factor=10.0)\n",
    "\n",
    "    for epoch in range(NUM_EPOCHS):\n",
    "        model.train()\n",
    "        total_loss = 0\n",
    "        train_correct = 0\n",
    "        train_total = 0\n",
    "        for mcg_x, atac_x, hic_x, genebody_x, batch_y, mcg_mask, atac_mask, hic_mask, genebody_mask in train_loader:\n",
    "            optimizer.zero_grad()\n",
    "            outputs = model(mcg_x, mcg_mask, atac_x, atac_mask, hic_x, hic_mask, genebody_x, genebody_mask)\n",
    "            loss = criterion(outputs, batch_y.squeeze())\n",
    "            loss.backward()\n",
    "            optimizer.step()\n",
    "            lr_scheduler.step()\n",
    "            total_loss += loss.item()\n",
    "            train_correct += (outputs.argmax(dim=1) == batch_y.squeeze()).sum().item()\n",
    "            train_total += batch_y.size(0)\n",
    "\n",
    "        model.eval()\n",
    "        correct = 0\n",
    "        total = 0\n",
    "        with torch.no_grad():\n",
    "            for mcg_x, atac_x, hic_x, genebody_x, batch_y, mcg_mask, atac_mask, hic_mask, genebody_mask in test_loader:\n",
    "                outputs = model(mcg_x, mcg_mask, atac_x, atac_mask, hic_x, hic_mask, genebody_x, genebody_mask)\n",
    "                _, predicted = torch.max(outputs.data, 1)\n",
    "                total += batch_y.size(0)\n",
    "                correct += (predicted == batch_y.squeeze()).sum().item()\n",
    "        \n",
    "        accuracy = correct / total\n",
    "        print(f'Epoch [{epoch+1}/{NUM_EPOCHS}], Train Loss: {total_loss/len(train_loader):.4f}, Train Accuracy: {train_correct/train_total:.4f}, Test Accuracy: {accuracy:.4f}')\n",
    "        #wandb.log({'epoch': epoch, 'LR': optimizer.param_groups[0]['lr'], 'train_loss': total_loss/len(train_loader), 'train_accuracy': train_correct/train_total, 'test_accuracy': accuracy})\n",
    "\n",
    "    model.eval()\n",
    "    all_predictions = []\n",
    "    all_labels = []\n",
    "\n",
    "    with torch.no_grad():\n",
    "        for mcg_x, atac_x, hic_x, genebody_x, batch_y, mcg_mask, atac_mask, hic_mask, genebody_mask in test_loader:\n",
    "            outputs = model(mcg_x, mcg_mask, atac_x, atac_mask, hic_x, hic_mask, genebody_x, genebody_mask)\n",
    "            _, predicted = torch.max(outputs.data, 1)\n",
    "            all_predictions.extend(predicted.cpu().numpy())\n",
    "            all_labels.extend(batch_y.cpu().numpy())\n",
    "\n",
    "    final_accuracy = sum(np.array(all_predictions) == np.array(all_labels).squeeze()) / len(all_labels)\n",
    "    print(f'Final Test Accuracy: {final_accuracy:.4f}')\n",
    "    return final_accuracy, all_predictions, all_labels, model"
   ]
  },
  {
   "cell_type": "code",
   "execution_count": 4,
   "metadata": {},
   "outputs": [
    {
     "name": "stderr",
     "output_type": "stream",
     "text": [
      "/opt/conda/envs/ml/lib/python3.10/site-packages/torch/nn/modules/transformer.py:379: UserWarning: enable_nested_tensor is True, but self.use_nested_tensor is False because encoder_layer.norm_first was True\n",
      "  warnings.warn(\n",
      "/var/tmp/ipykernel_44788/129376214.py:129: UserWarning: Creating a tensor from a list of numpy.ndarrays is extremely slow. Please consider converting the list to a single numpy.ndarray with numpy.array() before converting to a tensor. (Triggered internally at ../torch/csrc/utils/tensor_new.cpp:278.)\n",
      "  label = torch.LongTensor([self.labels[idx] + 1])  # Add 1 to shift labels to 0, 1, 2\n"
     ]
    },
    {
     "name": "stdout",
     "output_type": "stream",
     "text": [
      "Epoch [1/50], Train Loss: 1.1985, Train Accuracy: 0.4172, Test Accuracy: 0.4837\n",
      "Epoch [2/50], Train Loss: 1.0115, Train Accuracy: 0.5157, Test Accuracy: 0.5233\n",
      "Epoch [3/50], Train Loss: 0.9629, Train Accuracy: 0.5402, Test Accuracy: 0.6442\n",
      "Epoch [4/50], Train Loss: 0.9118, Train Accuracy: 0.5600, Test Accuracy: 0.6209\n",
      "Epoch [5/50], Train Loss: 1.0182, Train Accuracy: 0.5379, Test Accuracy: 0.4512\n",
      "Epoch [6/50], Train Loss: 0.9799, Train Accuracy: 0.5431, Test Accuracy: 0.6419\n",
      "Epoch [7/50], Train Loss: 0.8752, Train Accuracy: 0.5857, Test Accuracy: 0.6023\n",
      "Epoch [8/50], Train Loss: 0.9205, Train Accuracy: 0.5699, Test Accuracy: 0.6558\n",
      "Epoch [9/50], Train Loss: 0.8550, Train Accuracy: 0.5874, Test Accuracy: 0.5302\n",
      "Epoch [10/50], Train Loss: 0.8948, Train Accuracy: 0.5798, Test Accuracy: 0.4674\n",
      "Epoch [11/50], Train Loss: 0.9474, Train Accuracy: 0.5659, Test Accuracy: 0.6233\n",
      "Epoch [12/50], Train Loss: 0.8905, Train Accuracy: 0.5967, Test Accuracy: 0.5930\n",
      "Epoch [13/50], Train Loss: 0.8270, Train Accuracy: 0.6084, Test Accuracy: 0.6302\n",
      "Epoch [14/50], Train Loss: 0.8093, Train Accuracy: 0.6247, Test Accuracy: 0.5581\n",
      "Epoch [15/50], Train Loss: 0.8234, Train Accuracy: 0.6090, Test Accuracy: 0.6419\n",
      "Epoch [16/50], Train Loss: 0.8058, Train Accuracy: 0.6154, Test Accuracy: 0.6442\n",
      "Epoch [17/50], Train Loss: 0.7915, Train Accuracy: 0.6148, Test Accuracy: 0.6186\n",
      "Epoch [18/50], Train Loss: 0.7788, Train Accuracy: 0.6235, Test Accuracy: 0.5953\n",
      "Epoch [19/50], Train Loss: 0.7771, Train Accuracy: 0.6230, Test Accuracy: 0.6163\n",
      "Epoch [20/50], Train Loss: 0.7672, Train Accuracy: 0.6311, Test Accuracy: 0.6233\n",
      "Epoch [21/50], Train Loss: 0.7725, Train Accuracy: 0.6136, Test Accuracy: 0.6488\n",
      "Epoch [22/50], Train Loss: 0.7754, Train Accuracy: 0.6177, Test Accuracy: 0.6372\n",
      "Epoch [23/50], Train Loss: 0.7439, Train Accuracy: 0.6422, Test Accuracy: 0.6558\n",
      "Epoch [24/50], Train Loss: 0.7409, Train Accuracy: 0.6550, Test Accuracy: 0.6140\n",
      "Epoch [25/50], Train Loss: 0.7334, Train Accuracy: 0.6445, Test Accuracy: 0.6372\n",
      "Epoch [26/50], Train Loss: 0.7236, Train Accuracy: 0.6393, Test Accuracy: 0.6535\n",
      "Epoch [27/50], Train Loss: 0.7290, Train Accuracy: 0.6591, Test Accuracy: 0.6442\n",
      "Epoch [28/50], Train Loss: 0.7220, Train Accuracy: 0.6638, Test Accuracy: 0.5349\n",
      "Epoch [29/50], Train Loss: 0.7189, Train Accuracy: 0.6463, Test Accuracy: 0.6628\n",
      "Epoch [30/50], Train Loss: 0.7289, Train Accuracy: 0.6579, Test Accuracy: 0.6651\n",
      "Epoch [31/50], Train Loss: 0.7035, Train Accuracy: 0.6626, Test Accuracy: 0.6279\n",
      "Epoch [32/50], Train Loss: 0.6795, Train Accuracy: 0.6876, Test Accuracy: 0.5674\n",
      "Epoch [33/50], Train Loss: 0.6875, Train Accuracy: 0.6672, Test Accuracy: 0.6279\n",
      "Epoch [34/50], Train Loss: 0.6763, Train Accuracy: 0.6824, Test Accuracy: 0.5767\n",
      "Epoch [35/50], Train Loss: 0.6978, Train Accuracy: 0.6591, Test Accuracy: 0.6349\n",
      "Epoch [36/50], Train Loss: 0.6634, Train Accuracy: 0.6952, Test Accuracy: 0.6535\n",
      "Epoch [37/50], Train Loss: 0.6485, Train Accuracy: 0.6906, Test Accuracy: 0.6558\n",
      "Epoch [38/50], Train Loss: 0.6478, Train Accuracy: 0.7040, Test Accuracy: 0.6488\n",
      "Epoch [39/50], Train Loss: 0.6403, Train Accuracy: 0.7063, Test Accuracy: 0.6558\n",
      "Epoch [40/50], Train Loss: 0.6235, Train Accuracy: 0.7133, Test Accuracy: 0.6698\n",
      "Epoch [41/50], Train Loss: 0.6091, Train Accuracy: 0.7238, Test Accuracy: 0.6674\n",
      "Epoch [42/50], Train Loss: 0.6087, Train Accuracy: 0.7139, Test Accuracy: 0.6558\n",
      "Epoch [43/50], Train Loss: 0.5985, Train Accuracy: 0.7232, Test Accuracy: 0.6512\n",
      "Epoch [44/50], Train Loss: 0.5792, Train Accuracy: 0.7348, Test Accuracy: 0.6581\n",
      "Epoch [45/50], Train Loss: 0.5722, Train Accuracy: 0.7401, Test Accuracy: 0.6442\n",
      "Epoch [46/50], Train Loss: 0.5749, Train Accuracy: 0.7284, Test Accuracy: 0.6651\n",
      "Epoch [47/50], Train Loss: 0.5762, Train Accuracy: 0.7319, Test Accuracy: 0.6535\n",
      "Epoch [48/50], Train Loss: 0.5584, Train Accuracy: 0.7418, Test Accuracy: 0.6558\n",
      "Epoch [49/50], Train Loss: 0.5629, Train Accuracy: 0.7477, Test Accuracy: 0.6581\n",
      "Epoch [50/50], Train Loss: 0.5561, Train Accuracy: 0.7582, Test Accuracy: 0.6605\n",
      "Final Test Accuracy: 0.6605\n"
     ]
    }
   ],
   "source": [
    "import time\n",
    "exp_name = f'four-head-{time.strftime(\"%Y%m%d-%H%M%S\")}'\n",
    "\n",
    "# wandb.config.update({\n",
    "#     'hidden_dim': HIDDEN_DIM,\n",
    "#     'num_layers': NUM_LAYERS,\n",
    "#     'num_heads': NUM_HEADS,\n",
    "#     'dropout': DROPOUT,\n",
    "#     'lr': LR,\n",
    "#     'output_dim': OUTPUT_DIM,\n",
    "#     'num_epochs': NUM_EPOCHS\n",
    "# })\n",
    "\n",
    "\n",
    "kf = KFold(n_splits=5, shuffle=True, random_state=25)\n",
    "accuracies = []\n",
    "for i, (train_index, test_index) in enumerate(kf.split(X_balanced['mcg'])):\n",
    "    X_train_mcg, X_test_mcg = [X_balanced['mcg'][i] for i in train_index], [X_balanced['mcg'][i] for i in test_index]\n",
    "    X_train_atac, X_test_atac = [X_balanced['atac'][i] for i in train_index], [X_balanced['atac'][i] for i in test_index]\n",
    "    X_train_hic, X_test_hic = [X_balanced['hic'][i] for i in train_index], [X_balanced['hic'][i] for i in test_index]\n",
    "    X_train_genebody, X_test_genebody = [X_balanced['genebody'][i] for i in train_index], [X_balanced['genebody'][i] for i in test_index]\n",
    "    y_train, y_test = [y_balanced[i] for i in train_index], [y_balanced[i] for i in test_index]\n",
    "\n",
    "    \n",
    "    X_train_mcg_normalized, X_test_mcg_normalized = normalize_features(X_train_mcg, X_test_mcg)\n",
    "    X_train_atac_normalized, X_test_atac_normalized = normalize_features(X_train_atac, X_test_atac)\n",
    "    X_train_hic_normalized, X_test_hic_normalized = normalize_features(X_train_hic, X_test_hic)\n",
    "    X_train_genebody_normalized, X_test_genebody_normalized = normalize_features(X_train_genebody, X_test_genebody)\n",
    "    \n",
    "    accuracies.append(train_combined_model(X_train_mcg_normalized, X_train_atac_normalized, X_train_hic_normalized, X_train_genebody_normalized, y_train, \n",
    "                                           X_test_mcg_normalized, X_test_atac_normalized, X_test_hic_normalized, X_test_genebody_normalized, y_test, exp_name=exp_name, fold_idx=i))\n",
    "    # acc, preds, labels, model = train_combined_model(X_train_mcg_normalized, X_train_atac_normalized, X_train_hic_normalized, X_train_genebody_normalized, y_train,\n",
    "    #                                           X_test_mcg_normalized, X_test_atac_normalized, X_test_hic_normalized, X_test_genebody_normalized, y_test, exp_name=exp_name, fold_idx=i)\n",
    "    break\n",
    "\n",
    "# print(f'Mean Accuracy: {np.mean(accuracies):.4f} ± {np.std(accuracies):.4f}')"
   ]
  },
  {
   "cell_type": "code",
   "execution_count": 5,
   "metadata": {},
   "outputs": [
    {
     "name": "stdout",
     "output_type": "stream",
     "text": [
      "Fold 0: 0.6605\n"
     ]
    }
   ],
   "source": [
    "for i, (acc, preds, labels, model) in enumerate(accuracies):\n",
    "    print(f'Fold {i}: {acc:.4f}')"
   ]
  },
  {
   "cell_type": "markdown",
   "metadata": {},
   "source": [
    "# plot"
   ]
  },
  {
   "cell_type": "code",
   "execution_count": 6,
   "metadata": {},
   "outputs": [],
   "source": [
    "import pandas as pd\n",
    "import seaborn as sns\n",
    "from matplotlib import pyplot as plt"
   ]
  },
  {
   "cell_type": "code",
   "execution_count": 9,
   "metadata": {},
   "outputs": [],
   "source": [
    "_labels = [i[0] for i in labels]\n",
    "\n",
    "result = pd.DataFrame([np.array(_labels) - 1, np.array(preds) - 1 ]).T\n",
    "result.columns = ['true', 'pred']"
   ]
  },
  {
   "cell_type": "code",
   "execution_count": 10,
   "metadata": {},
   "outputs": [
    {
     "data": {
      "text/plain": [
       "<Axes: >"
      ]
     },
     "execution_count": 10,
     "metadata": {},
     "output_type": "execute_result"
    },
    {
     "data": {
      "image/png": "[encoded data removed]",
      "text/plain": [
       "<Figure size 640x480 with 2 Axes>"
      ]
     },
     "metadata": {},
     "output_type": "display_data"
    }
   ],
   "source": [
    "sns.heatmap(result, cmap = 'coolwarm')"
   ]
  },
  {
   "cell_type": "code",
   "execution_count": 11,
   "metadata": {},
   "outputs": [],
   "source": [
    "result['predict_true'] = result['true'] == result['pred']"
   ]
  },
  {
   "cell_type": "code",
   "execution_count": 12,
   "metadata": {},
   "outputs": [],
   "source": [
    "\n",
    "toplot= result.groupby('true')['predict_true'].mean()"
   ]
  },
  {
   "cell_type": "code",
   "execution_count": 13,
   "metadata": {},
   "outputs": [
    {
     "data": {
      "text/plain": [
       "true\n",
       "-1    0.789157\n",
       " 0    0.525180\n",
       " 1    0.640000\n",
       "Name: predict_true, dtype: float64"
      ]
     },
     "execution_count": 13,
     "metadata": {},
     "output_type": "execute_result"
    }
   ],
   "source": [
    "toplot"
   ]
  },
  {
   "cell_type": "code",
   "execution_count": 15,
   "metadata": {},
   "outputs": [
    {
     "name": "stderr",
     "output_type": "stream",
     "text": [
      "/var/tmp/ipykernel_44788/1903490480.py:6: UserWarning: set_ticklabels() should only be used with a fixed number of ticks, i.e. after set_ticks() or using a FixedLocator.\n",
      "  ax.set_xticklabels(['down',  'non-age-deg', 'up',])\n"
     ]
    },
    {
     "data": {
      "image/png": "[encoded data removed]",
      "text/plain": [
       "<Figure size 1800x900 with 1 Axes>"
      ]
     },
     "metadata": {},
     "output_type": "display_data"
    }
   ],
   "source": [
    "# make a barplot\n",
    "fig, ax = plt.subplots(figsize=(6, 3), dpi = 300)\n",
    "sns.barplot(x = toplot.index, ax = ax,palette='tab20',\n",
    "            hue = toplot.index,y = toplot.values)\n",
    "# change xticks label as down up and non-age-deg\n",
    "ax.set_xticklabels(['down',  'non-age-deg', 'up',])\n",
    "# set xlabel ad DEG category, y as accuracy\n",
    "ax.set_xlabel('DEG category')\n",
    "ax.set_ylabel('Accuracy')\n",
    "#remove the egend\n",
    "ax.get_legend().remove()\n",
    "#label accuracy\n",
    "for i in range(len(toplot)):\n",
    "    ax.text(i, toplot.values[i]-0.1, round(toplot.values[i], 2), ha = 'center', va = 'bottom')"
   ]
  },
  {
   "cell_type": "code",
   "execution_count": null,
   "metadata": {},
   "outputs": [],
   "source": []
  }
 ],
 "metadata": {
  "kernelspec": {
   "display_name": "gene",
   "language": "python",
   "name": "python3"
  },
  "language_info": {
   "codemirror_mode": {
    "name": "ipython",
    "version": 3
   },
   "file_extension": ".py",
   "mimetype": "text/x-python",
   "name": "python",
   "nbconvert_exporter": "python",
   "pygments_lexer": "ipython3",
   "version": "3.10.15"
  }
 },
 "nbformat": 4,
 "nbformat_minor": 2
}
