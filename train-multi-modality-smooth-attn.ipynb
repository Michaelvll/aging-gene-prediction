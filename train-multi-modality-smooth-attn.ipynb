{
 "cells": [
  {
   "cell_type": "code",
   "execution_count": 1,
   "metadata": {},
   "outputs": [
    {
     "name": "stdout",
     "output_type": "stream",
     "text": [
      "Processed dmr data\n",
      "Processed mCH genebody data\n",
      "Processed mCG genebody data\n",
      "Processed atac data\n",
      "Processed abc dmr data\n",
      "Processed abc peak data\n",
      "Processed hic loop data\n",
      "Preparing data\n",
      "zero: 6930, non-zero: 1219\n",
      "Getting balanced data\n",
      "dmr 1828\n",
      "mcg_genebody 1828\n",
      "mch_genebody 1828\n",
      "atac 1828\n",
      "hic_loop 1828\n",
      "hic_abc_dmr 1828\n",
      "hic_abc_peak 1828\n"
     ]
    }
   ],
   "source": [
    "import os\n",
    "from tqdm import tqdm\n",
    "\n",
    "import torch\n",
    "import torch.nn as nn\n",
    "import torch.optim as optim\n",
    "from torch.functional import F\n",
    "\n",
    "from torch.utils.data import Dataset, DataLoader\n",
    "import numpy as np\n",
    "from sklearn.model_selection import KFold\n",
    "import wandb\n",
    "\n",
    "from data_loader import load_data, get_balanced_data, normalize_features, DATA_FEATURE_NAMES_LIST, concat_group_data\n",
    "\n",
    "USE_CONCAT_CTS = False\n",
    "USE_CT = 'CA1-ProS_Glut'\n",
    "# USE_CT = 'CA1-ProS_Glut'\n",
    "# MODALITY_INCLUDED = 'all'\n",
    "# MODALITY_INCLUDED = 'methylation'\n",
    "MODALITY_INCLUDED = 'hic'\n",
    "# MODALITY_INCLUDED = 'hic'\n",
    "if USE_CONCAT_CTS:\n",
    "    CTS = ['L23_IT_CTX_Glut', 'L6_CT_CTX_Glut', 'L5_ET_CTX_Glut','L6_IT_CTX_Glut','Oligo_NN','Pvalb_Gaba'] #\n",
    "    CT = ','.join(CTS)\n",
    "    X_balanced, y_balanced, gene_list = concat_group_data(CT)\n",
    "else:\n",
    "    CT = USE_CT\n",
    "    data = load_data(ct=CT)\n",
    "    X_balanced, y_balanced, gene_list = get_balanced_data(data)\n",
    "\n",
    "\n",
    "ML_OUTPUT_DIR = f'ml_output/{CT}'\n",
    "if MODALITY_INCLUDED != 'all':\n",
    "    ML_OUTPUT_DIR = f'ml_output/{CT}/{MODALITY_INCLUDED}'\n",
    "os.makedirs(ML_OUTPUT_DIR, exist_ok=True)\n",
    "\n",
    "assert len(y_balanced) == len(gene_list)\n",
    "\n",
    "if MODALITY_INCLUDED == 'all':\n",
    "    FEATURE_MODALITIES = DATA_FEATURE_NAMES_LIST\n",
    "elif MODALITY_INCLUDED == 'methylation':\n",
    "    FEATURE_MODALITIES = ['dmr', 'mcg_genebody', 'mch_genebody']\n",
    "elif MODALITY_INCLUDED == 'atac':\n",
    "    FEATURE_MODALITIES = ['atac']\n",
    "elif MODALITY_INCLUDED == 'hic':\n",
    "    FEATURE_MODALITIES = ['hic_loop', 'hic_abc_dmr', 'hic_abc_peak']\n",
    "else:\n",
    "    raise ValueError(f'{MODALITY_INCLUDED} is not a valid modality')\n",
    "    \n",
    "\n",
    "for k, v in X_balanced.items():\n",
    "    print(k, len(v))\n",
    "# y_balanced = y_balanced[:, 2]\n",
    "# print('zero:', (y_balanced == 0).sum(), 'non-zero:', (y_balanced != 0).sum())"
   ]
  },
  {
   "cell_type": "code",
   "execution_count": 2,
   "metadata": {},
   "outputs": [],
   "source": [
    "assert len(y_balanced) == len(gene_list)\n"
   ]
  },
  {
   "cell_type": "code",
   "execution_count": 3,
   "metadata": {},
   "outputs": [
    {
     "name": "stdout",
     "output_type": "stream",
     "text": [
      "y_balanced 0: 609\n",
      "y_balanced -1: 467\n",
      "y_balanced 1: 752\n"
     ]
    }
   ],
   "source": [
    "# check how many  0 , -1 and 1 in y_balanced\n",
    "print('y_balanced 0:', np.sum(y_balanced == 0))\n",
    "print('y_balanced -1:', np.sum(y_balanced == -1))\n",
    "print('y_balanced 1:', np.sum(y_balanced == 1))\n"
   ]
  },
  {
   "cell_type": "code",
   "execution_count": 4,
   "metadata": {},
   "outputs": [],
   "source": [
    "import wandb"
   ]
  },
  {
   "cell_type": "code",
   "execution_count": 5,
   "metadata": {},
   "outputs": [],
   "source": [
    "import os\n",
    "# 68%\n",
    "HIDDEN_DIM = 64\n",
    "NUM_LAYERS = 2\n",
    "NUM_HEADS = 4\n",
    "TEMPERATURE = 1.0\n",
    "DROPOUT = 0.15\n",
    "LR = 3e-3\n",
    "OUTPUT_DIM = 3  # number of classes (-1, 0, 1)\n",
    "NUM_EPOCHS = 20\n",
    "BATCH_SIZE = 32\n",
    "\n",
    "# HIDDEN_DIM = 64\n",
    "# NUM_LAYERS = 4\n",
    "# NUM_HEADS = 8\n",
    "# DROPOUT = 0.0\n",
    "# LR = 0.03\n",
    "# OUTPUT_DIM = 3  # number of classes (-1, 0, 1)\n",
    "# NUM_EPOCHS = 20\n",
    "# BATCH_SIZE = 32\n",
    "\n",
    "# HIDDEN_DIM = 64\n",
    "# NUM_LAYERS = 1\n",
    "# NUM_HEADS = 1\n",
    "# DROPOUT = 0.3\n",
    "# LR = 1e-4\n",
    "# OUTPUT_DIM = 3  # number of classes (-1, 0, 1)\n",
    "# NUM_EPOCHS = 200\n",
    "# BATCH_SIZE = 16\n",
    "\n",
    "\n",
    "class MultiModalityTransformerModel(nn.Module):\n",
    "    def __init__(self, modality_input_dims, hidden_dim, output_dim, num_layers=2, num_heads=1, dropout=0.1, temperature=1.0):\n",
    "        super(MultiModalityTransformerModel, self).__init__()\n",
    "        self.cls_embeddings = nn.ParameterDict({modality: nn.Parameter(torch.randn(1, 1, hidden_dim)) for modality in FEATURE_MODALITIES})\n",
    "        self.modality_embeddings = nn.ModuleDict({modality: nn.Linear(modality_input_dims[modality], hidden_dim) for modality in FEATURE_MODALITIES})\n",
    "\n",
    "        # TODO: may need to use tanh in attention instead of softmax\n",
    "        encoder_layers = nn.TransformerEncoderLayer(hidden_dim, num_heads, dim_feedforward=hidden_dim*4, dropout=dropout, batch_first=True, norm_first=True)\n",
    "        self.modality_transformers = nn.ModuleDict({modality: nn.TransformerEncoder(encoder_layers, num_layers) for modality in FEATURE_MODALITIES})\n",
    "\n",
    "        # Add one dimension for the sequence length\n",
    "        self.batch_norms = nn.ModuleDict({modality: nn.BatchNorm1d(hidden_dim + 1) for modality in FEATURE_MODALITIES})\n",
    "        \n",
    "        # Use self-attention mechanism to combine the outputs of the four heads\n",
    "        self.temperature = temperature\n",
    "        self.query = nn.Parameter(torch.randn(1, hidden_dim))\n",
    "        self.key_layer = nn.Linear(hidden_dim + 1, hidden_dim)\n",
    "        self.value_layer = nn.Linear(hidden_dim + 1, hidden_dim)\n",
    "        self.attn_output_norm = nn.BatchNorm1d(hidden_dim)\n",
    "        self.attn_output_layer = nn.Sequential(\n",
    "            nn.Linear(hidden_dim, hidden_dim),\n",
    "            nn.LeakyReLU(),\n",
    "            nn.Dropout(dropout),\n",
    "            nn.BatchNorm1d(hidden_dim),\n",
    "            )\n",
    "        self.classifier = nn.Linear(hidden_dim, output_dim)\n",
    "        self._init_weights()\n",
    "        \n",
    "    def _init_weights(self):\n",
    "        for m in self.modules():\n",
    "            if isinstance(m, nn.Linear):\n",
    "                nn.init.xavier_uniform_(m.weight)\n",
    "                if m.bias is not None:\n",
    "                    nn.init.zeros_(m.bias)\n",
    "            elif isinstance(m, nn.Parameter):\n",
    "                nn.init.normal_(m.weight, mean=0.0, std=0.01)\n",
    "            elif isinstance(m, nn.LayerNorm):\n",
    "                nn.init.ones_(m.weight)\n",
    "                nn.init.zeros_(m.bias)\n",
    "            elif isinstance(m, nn.BatchNorm1d):\n",
    "                nn.init.ones_(m.weight)\n",
    "                nn.init.zeros_(m.bias)\n",
    "\n",
    "\n",
    "        \n",
    "\n",
    "    def forward(self, x_dict, mask_dict, get_attn_weights=False):\n",
    "        # Add cls embedding, so that we can take the first output as the representation of the sequence\n",
    "        modality_cls_embeddings = {modality: self.cls_embeddings[modality].repeat(x_dict[modality].size(0), 1, 1) for modality in FEATURE_MODALITIES}\n",
    "\n",
    "\n",
    "        modality_embeddings = {modality: self.modality_embeddings[modality](x_dict[modality]) for modality in FEATURE_MODALITIES}\n",
    "\n",
    "        modality_embeddings = {modality: torch.cat((modality_cls_embeddings[modality], modality_embeddings[modality]), dim=1) for modality in FEATURE_MODALITIES}\n",
    "\n",
    "        modality_masks = {modality: torch.cat((torch.ones(mask_dict[modality].size(0), 1), mask_dict[modality]), dim=1) for modality in FEATURE_MODALITIES}\n",
    "\n",
    "        modality_outputs = {modality: self.modality_transformers[modality](modality_embeddings[modality], src_key_padding_mask=~modality_masks[modality].bool()) for modality in FEATURE_MODALITIES}\n",
    "\n",
    "        seq_lengths = {modality: torch.log(1 + mask_dict[modality].sum(dim=1).unsqueeze(-1)) for modality in FEATURE_MODALITIES}\n",
    "        # Pooling, we should not use average pooling since the sequence length is also important\n",
    "        modality_outputs = {modality: torch.cat((modality_outputs[modality][:, 0, :], seq_lengths[modality]), dim=1) for modality in FEATURE_MODALITIES}\n",
    "\n",
    "        modality_outputs = {modality: self.batch_norms[modality](modality_outputs[modality]) for modality in FEATURE_MODALITIES}\n",
    "\n",
    "        # Combine the output of four heads into a sequence\n",
    "        combined_x = torch.stack([modality_outputs[modality] for modality in FEATURE_MODALITIES], dim=1) # (batch_size, M, hidden_dim)\n",
    "\n",
    "        # self-attention\n",
    "        keys = self.key_layer(combined_x) # [N, M, d]\n",
    "        values = self.value_layer(combined_x) # [N, M, d]\n",
    "        query = self.query.expand(combined_x.size(0), -1).unsqueeze(-1)  # [N, d, 1]\n",
    "        attn_scores = torch.matmul(keys, query).squeeze(-1)  # [N, M]\n",
    "        # Devided by sqrt(d) to smooth the attention scores\n",
    "        attn_scores = attn_scores / self.temperature / torch.sqrt(torch.tensor(keys.size(-1), dtype=torch.float32))\n",
    "        attn_weights = F.softmax(attn_scores, dim=-1)  # [N, M]\n",
    "\n",
    "        combined_x = torch.sum(values * attn_weights.unsqueeze(-1), dim=1) # [N, d]\n",
    "        combined_x = self.attn_output_norm(combined_x)\n",
    "        residual = combined_x\n",
    "        combined_x = self.attn_output_layer(combined_x) \n",
    "        combined_x += residual\n",
    "    \n",
    "        output = self.classifier(combined_x)\n",
    "        if get_attn_weights:\n",
    "            return output, attn_weights\n",
    "        else:\n",
    "            return output\n",
    "\n",
    "class CombinedGeneDataset(Dataset):\n",
    "    def __init__(self, x_dict, labels):\n",
    "        self.x_dict = x_dict\n",
    "        self.labels = labels\n",
    "    \n",
    "    def __len__(self):\n",
    "        return len(self.labels)\n",
    "    \n",
    "    def __getitem__(self, idx):\n",
    "        x_dict = {modality: torch.FloatTensor(self.x_dict[modality][idx]) for modality in FEATURE_MODALITIES} # [M, seq_len, D]\n",
    "        label = torch.LongTensor([self.labels[idx].item() + 1])  # Add 1 to shift labels to 0, 1, 2\n",
    "        return x_dict, label\n",
    "\n",
    "def combined_collate_fn_no_sort(batch):\n",
    "    x_list, labels = zip(*batch) # x_dict: {modality: [N, seq_len, D]}\n",
    "\n",
    "    # Permute the dimensions of x_list to [M, N, seq_len, D]\n",
    "    batched_x_dict = {modality: [x_list[i][modality] for i in range(len(x_list))] for modality in FEATURE_MODALITIES}\n",
    "\n",
    "    modality_lengths = {modality: [len(seq) for seq in batched_x_dict[modality]] for modality in FEATURE_MODALITIES} # [N, M]\n",
    "    modality_max_len = {modality: max(modality_lengths[modality]) for modality in FEATURE_MODALITIES} # [M]\n",
    "    padded_x_dict = {modality: torch.zeros(len(batched_x_dict[modality]), modality_max_len[modality], batched_x_dict[modality][0].size(1)) for modality in FEATURE_MODALITIES} # [M, N, max_seq_len, D]\n",
    "    padded_mask_dict = {modality: torch.zeros(len(batched_x_dict[modality]), modality_max_len[modality]) for modality in FEATURE_MODALITIES} # [M, N, max_seq_len]\n",
    "    for modality, modality_seqs in batched_x_dict.items():\n",
    "        for batch_idx, (seq, length) in enumerate(zip(modality_seqs, modality_lengths[modality])):\n",
    "            padded_x_dict[modality][batch_idx, :length] = seq\n",
    "            padded_mask_dict[modality][batch_idx, :length] = 1\n",
    "    return padded_x_dict, padded_mask_dict, torch.cat(labels)\n",
    "\n",
    "def combined_collate_fn(batch):\n",
    "    batch.sort(key=lambda x: len(x[0][FEATURE_MODALITIES[0]]), reverse=True)\n",
    "    return combined_collate_fn_no_sort(batch)\n",
    "\n",
    "def train_combined_model(X_train_dict, y_train, X_test_dict, y_test, exp_name, fold_idx):\n",
    "    #wandb.init(project='gene', group=exp_name, name=f'fold-{fold_idx}')\n",
    "    modality_input_dims = {modality: len(X_train_dict[modality][0][0]) for modality in FEATURE_MODALITIES} \n",
    "\n",
    "    train_dataset = CombinedGeneDataset(X_train_dict, y_train)\n",
    "    test_dataset = CombinedGeneDataset(X_test_dict, y_test)\n",
    "    train_loader = DataLoader(train_dataset, batch_size=BATCH_SIZE, shuffle=True, collate_fn=combined_collate_fn, drop_last=True)\n",
    "    test_loader = DataLoader(test_dataset, batch_size=BATCH_SIZE, shuffle=False, collate_fn=combined_collate_fn_no_sort)\n",
    "\n",
    "    model = MultiModalityTransformerModel(modality_input_dims, HIDDEN_DIM, OUTPUT_DIM, num_layers=NUM_LAYERS, num_heads=NUM_HEADS, dropout=DROPOUT)\n",
    "\n",
    "    from sklearn.utils.class_weight import compute_class_weight\n",
    "\n",
    "    # class_weights = compute_class_weight('balanced', classes=np.unique(y_train), y=y_train)\n",
    "    # class_weights = torch.FloatTensor(class_weights)\n",
    "    # criterion = nn.CrossEntropyLoss(weight=class_weights)\n",
    "    # optimizer = optim.Adam(model.parameters(), lr=LR)\n",
    "    criterion = nn.CrossEntropyLoss()\n",
    "    optimizer = optim.AdamW(model.parameters(), lr=LR)\n",
    "    # lr_scheduler = optim.lr_scheduler.CosineAnnealingLR(optimizer, T_max=NUM_EPOCHS, eta_min=1e-3)\n",
    "    lr_scheduler = optim.lr_scheduler.OneCycleLR(optimizer, max_lr=LR, steps_per_epoch=len(train_loader), epochs=NUM_EPOCHS, final_div_factor=10)\n",
    "\n",
    "    # Create the OneCycleLR scheduler\n",
    "    # lr_scheduler = optim.lr_scheduler.OneCycleLR(optimizer, max_lr=LR, total_steps=NUM_EPOCHS,\n",
    "    #                           pct_start=0.8, anneal_strategy='cos',\n",
    "    #                           cycle_momentum=False, div_factor=5.0,\n",
    "    #                           final_div_factor=10.0)\n",
    "\n",
    "    def evaluate(model):\n",
    "        model.eval()\n",
    "        correct = 0\n",
    "        total = 0\n",
    "        with torch.no_grad():\n",
    "            for x_list, mask_list, batch_y in test_loader:\n",
    "                outputs = model(x_list, mask_list)\n",
    "                _, predicted = torch.max(outputs.data, 1)\n",
    "                total += batch_y.size(0)\n",
    "                correct += (predicted == batch_y.squeeze()).sum().item()\n",
    "        return correct / total\n",
    "    \n",
    "    print(f'Initial Test Accuracy: {evaluate(model):.4f}')\n",
    "\n",
    "    for epoch in range(NUM_EPOCHS):\n",
    "        model.train()\n",
    "        total_loss = 0\n",
    "        train_correct = 0\n",
    "        train_total = 0\n",
    "        for x_list, mask_list, batch_y in train_loader:\n",
    "            optimizer.zero_grad()\n",
    "            outputs = model(x_list, mask_list)\n",
    "            loss = criterion(outputs, batch_y.squeeze())\n",
    "            loss.backward()\n",
    "            optimizer.step()\n",
    "            lr_scheduler.step()\n",
    "            total_loss += loss.item()\n",
    "            train_correct += (outputs.argmax(dim=1) == batch_y.squeeze()).sum().item()\n",
    "            train_total += batch_y.size(0)\n",
    "\n",
    "        accuracy = evaluate(model)\n",
    "        print(f'Epoch [{epoch+1}/{NUM_EPOCHS}], Train Loss: {total_loss/len(train_loader):.4f}, Train Accuracy: {train_correct/train_total:.4f}, Test Accuracy: {accuracy:.4f}')\n",
    "\n",
    "        wandb.log({'epoch': epoch, 'LR': optimizer.param_groups[0]['lr'], 'train_loss': total_loss/len(train_loader), 'train_accuracy': train_correct/train_total, 'test_accuracy': accuracy})\n",
    "\n",
    "    model.eval()\n",
    "    all_predictions = []\n",
    "    all_labels = []\n",
    "\n",
    "    with torch.no_grad():\n",
    "        for x_list, mask_list, batch_y in test_loader:\n",
    "            outputs = model(x_list, mask_list)\n",
    "            _, predicted = torch.max(outputs.data, 1)\n",
    "            all_predictions.extend(predicted.cpu().numpy())\n",
    "            all_labels.extend(batch_y.cpu().numpy())\n",
    "\n",
    "    final_accuracy = sum(np.array(all_predictions) == np.array(all_labels).squeeze()) / len(all_labels)\n",
    "    print(f'Final Test Accuracy: {final_accuracy:.4f}')\n",
    "    return final_accuracy, all_predictions, all_labels, model"
   ]
  },
  {
   "cell_type": "code",
   "execution_count": null,
   "metadata": {},
   "outputs": [
    {
     "name": "stderr",
     "output_type": "stream",
     "text": [
      "\u001b[34m\u001b[1mwandb\u001b[0m: Currently logged in as: \u001b[33mmichaelvll\u001b[0m to \u001b[32mhttps://api.wandb.ai\u001b[0m. Use \u001b[1m`wandb login --relogin`\u001b[0m to force relogin\n",
      "\u001b[34m\u001b[1mwandb\u001b[0m: Using wandb-core as the SDK backend.  Please refer to https://wandb.me/wandb-core for more information.\n"
     ]
    },
    {
     "data": {
      "text/html": [
       "Tracking run with wandb version 0.19.6"
      ],
      "text/plain": [
       "<IPython.core.display.HTML object>"
      ]
     },
     "metadata": {},
     "output_type": "display_data"
    },
    {
     "data": {
      "text/html": [
       "Run data is saved locally in <code>/home/ubuntu/aging-gene-prediction/wandb/run-20250218_000858-4kv0mhcr</code>"
      ],
      "text/plain": [
       "<IPython.core.display.HTML object>"
      ]
     },
     "metadata": {},
     "output_type": "display_data"
    },
    {
     "data": {
      "text/html": [
       "Syncing run <strong><a href='https://wandb.ai/michaelvll/gene/runs/4kv0mhcr' target=\"_blank\">multi-modality-20250218-000858</a></strong> to <a href='https://wandb.ai/michaelvll/gene' target=\"_blank\">Weights & Biases</a> (<a href='https://wandb.me/developer-guide' target=\"_blank\">docs</a>)<br>"
      ],
      "text/plain": [
       "<IPython.core.display.HTML object>"
      ]
     },
     "metadata": {},
     "output_type": "display_data"
    },
    {
     "data": {
      "text/html": [
       " View project at <a href='https://wandb.ai/michaelvll/gene' target=\"_blank\">https://wandb.ai/michaelvll/gene</a>"
      ],
      "text/plain": [
       "<IPython.core.display.HTML object>"
      ]
     },
     "metadata": {},
     "output_type": "display_data"
    },
    {
     "data": {
      "text/html": [
       " View run at <a href='https://wandb.ai/michaelvll/gene/runs/4kv0mhcr' target=\"_blank\">https://wandb.ai/michaelvll/gene/runs/4kv0mhcr</a>"
      ],
      "text/plain": [
       "<IPython.core.display.HTML object>"
      ]
     },
     "metadata": {},
     "output_type": "display_data"
    },
    {
     "name": "stderr",
     "output_type": "stream",
     "text": [
      "/home/ubuntu/aging-gene-prediction/eat/lib/python3.10/site-packages/torch/nn/modules/transformer.py:562: UserWarning: Converting mask without torch.bool dtype to bool; this will negatively affect performance. Prefer to use a boolean mask directly. (Triggered internally at ../aten/src/ATen/native/transformers/attention.cpp:150.)\n",
      "  return torch._transformer_encoder_layer_fwd(\n"
     ]
    },
    {
     "name": "stdout",
     "output_type": "stream",
     "text": [
      "Initial Test Accuracy: 0.2705\n",
      "Epoch [1/20], Train Loss: 1.6700, Train Accuracy: 0.3417, Test Accuracy: 0.4317\n",
      "Epoch [2/20], Train Loss: 1.3762, Train Accuracy: 0.3569, Test Accuracy: 0.4071\n",
      "Epoch [3/20], Train Loss: 1.2238, Train Accuracy: 0.4097, Test Accuracy: 0.4699\n",
      "Epoch [4/20], Train Loss: 1.2257, Train Accuracy: 0.4076, Test Accuracy: 0.4126\n",
      "Epoch [5/20], Train Loss: 1.1729, Train Accuracy: 0.4194, Test Accuracy: 0.5109\n",
      "Epoch [6/20], Train Loss: 1.1448, Train Accuracy: 0.4160, Test Accuracy: 0.4590\n",
      "Epoch [7/20], Train Loss: 1.1043, Train Accuracy: 0.4542, Test Accuracy: 0.4481\n",
      "Epoch [8/20], Train Loss: 1.0940, Train Accuracy: 0.4674, Test Accuracy: 0.4290\n",
      "Epoch [9/20], Train Loss: 1.0659, Train Accuracy: 0.4910, Test Accuracy: 0.4645\n",
      "Epoch [10/20], Train Loss: 1.0340, Train Accuracy: 0.4972, Test Accuracy: 0.4645\n",
      "Epoch [11/20], Train Loss: 1.0397, Train Accuracy: 0.5049, Test Accuracy: 0.4699\n",
      "Epoch [12/20], Train Loss: 1.0148, Train Accuracy: 0.5076, Test Accuracy: 0.4891\n",
      "Epoch [13/20], Train Loss: 1.0022, Train Accuracy: 0.5271, Test Accuracy: 0.5137\n",
      "Epoch [14/20], Train Loss: 1.0113, Train Accuracy: 0.5160, Test Accuracy: 0.5191\n",
      "Epoch [15/20], Train Loss: 1.0005, Train Accuracy: 0.5174, Test Accuracy: 0.5301\n",
      "Epoch [16/20], Train Loss: 0.9762, Train Accuracy: 0.5514, Test Accuracy: 0.5191\n",
      "Epoch [17/20], Train Loss: 0.9834, Train Accuracy: 0.5417, Test Accuracy: 0.5082\n",
      "Epoch [18/20], Train Loss: 0.9632, Train Accuracy: 0.5528, Test Accuracy: 0.5082\n",
      "Epoch [19/20], Train Loss: 0.9626, Train Accuracy: 0.5375, Test Accuracy: 0.5164\n",
      "Epoch [20/20], Train Loss: 0.9599, Train Accuracy: 0.5375, Test Accuracy: 0.5109\n",
      "Final Test Accuracy: 0.5109\n",
      "Initial Test Accuracy: 0.4098\n",
      "Epoch [1/20], Train Loss: 1.5971, Train Accuracy: 0.3521, Test Accuracy: 0.4372\n",
      "Epoch [2/20], Train Loss: 1.4092, Train Accuracy: 0.3792, Test Accuracy: 0.4754\n",
      "Epoch [3/20], Train Loss: 1.2087, Train Accuracy: 0.4333, Test Accuracy: 0.3716\n",
      "Epoch [4/20], Train Loss: 1.2243, Train Accuracy: 0.3889, Test Accuracy: 0.4399\n",
      "Epoch [5/20], Train Loss: 1.1516, Train Accuracy: 0.4285, Test Accuracy: 0.4973\n",
      "Epoch [6/20], Train Loss: 1.1489, Train Accuracy: 0.4319, Test Accuracy: 0.4645\n",
      "Epoch [7/20], Train Loss: 1.0937, Train Accuracy: 0.4660, Test Accuracy: 0.4699\n",
      "Epoch [8/20], Train Loss: 1.0783, Train Accuracy: 0.4597, Test Accuracy: 0.4426\n",
      "Epoch [9/20], Train Loss: 1.0552, Train Accuracy: 0.4771, Test Accuracy: 0.4617\n",
      "Epoch [10/20], Train Loss: 1.0346, Train Accuracy: 0.4750, Test Accuracy: 0.3770\n",
      "Epoch [11/20], Train Loss: 1.0183, Train Accuracy: 0.4868, Test Accuracy: 0.4891\n",
      "Epoch [12/20], Train Loss: 1.0130, Train Accuracy: 0.5118, Test Accuracy: 0.5273\n",
      "Epoch [13/20], Train Loss: 0.9893, Train Accuracy: 0.5049, Test Accuracy: 0.5191\n",
      "Epoch [14/20], Train Loss: 0.9864, Train Accuracy: 0.5424, Test Accuracy: 0.5410\n",
      "Epoch [15/20], Train Loss: 0.9717, Train Accuracy: 0.5403, Test Accuracy: 0.5273\n",
      "Epoch [16/20], Train Loss: 0.9588, Train Accuracy: 0.5396, Test Accuracy: 0.5437\n",
      "Epoch [17/20], Train Loss: 0.9586, Train Accuracy: 0.5458, Test Accuracy: 0.5355\n",
      "Epoch [18/20], Train Loss: 0.9521, Train Accuracy: 0.5583, Test Accuracy: 0.5464\n",
      "Epoch [19/20], Train Loss: 0.9470, Train Accuracy: 0.5660, Test Accuracy: 0.5410\n",
      "Epoch [20/20], Train Loss: 0.9527, Train Accuracy: 0.5563, Test Accuracy: 0.5519\n",
      "Final Test Accuracy: 0.5519\n",
      "Initial Test Accuracy: 0.2240\n",
      "Epoch [1/20], Train Loss: 1.6793, Train Accuracy: 0.3278, Test Accuracy: 0.4454\n",
      "Epoch [2/20], Train Loss: 1.3355, Train Accuracy: 0.3868, Test Accuracy: 0.4235\n",
      "Epoch [3/20], Train Loss: 1.2494, Train Accuracy: 0.4007, Test Accuracy: 0.3716\n",
      "Epoch [4/20], Train Loss: 1.1817, Train Accuracy: 0.4181, Test Accuracy: 0.5109\n",
      "Epoch [5/20], Train Loss: 1.1254, Train Accuracy: 0.4444, Test Accuracy: 0.4372\n",
      "Epoch [6/20], Train Loss: 1.1083, Train Accuracy: 0.4472, Test Accuracy: 0.3934\n",
      "Epoch [7/20], Train Loss: 1.0947, Train Accuracy: 0.4799, Test Accuracy: 0.4781\n",
      "Epoch [8/20], Train Loss: 1.1093, Train Accuracy: 0.4431, Test Accuracy: 0.5137\n",
      "Epoch [9/20], Train Loss: 1.0640, Train Accuracy: 0.4764, Test Accuracy: 0.2350\n",
      "Epoch [10/20], Train Loss: 1.0495, Train Accuracy: 0.4618, Test Accuracy: 0.4863\n",
      "Epoch [11/20], Train Loss: 1.0491, Train Accuracy: 0.4722, Test Accuracy: 0.4645\n",
      "Epoch [12/20], Train Loss: 1.0111, Train Accuracy: 0.5118, Test Accuracy: 0.5246\n"
     ]
    }
   ],
   "source": [
    "import time\n",
    "exp_name = f'multi-modality-{time.strftime(\"%Y%m%d-%H%M%S\")}'\n",
    "wandb.init(project='gene', group=exp_name, name=exp_name, settings=wandb.Settings(code_dir=\".\"))\n",
    "\n",
    "wandb.config.update({\n",
    "    'hidden_dim': HIDDEN_DIM,\n",
    "    'num_layers': NUM_LAYERS,\n",
    "    'num_heads': NUM_HEADS,\n",
    "    'dropout': DROPOUT,\n",
    "    'lr': LR,\n",
    "    'output_dim': OUTPUT_DIM,\n",
    "    'num_epochs': NUM_EPOCHS,\n",
    "})\n",
    "\n",
    "\n",
    "# Fix the random seed\n",
    "torch.manual_seed(25)\n",
    "np.random.seed(25)\n",
    "kf = KFold(n_splits=5, shuffle=True, random_state=25)\n",
    "accuracies = []\n",
    "k_fold_indices = []\n",
    "for i, (train_index, test_index) in enumerate(kf.split(X_balanced[FEATURE_MODALITIES[0]])):\n",
    "    k_fold_indices.append((train_index, test_index))\n",
    "    X_train_dict = {modality: [X_balanced[modality][i] for i in train_index] for modality in FEATURE_MODALITIES}\n",
    "    X_test_dict = {modality: [X_balanced[modality][i] for i in test_index] for modality in FEATURE_MODALITIES}\n",
    "    y_train, y_test = [y_balanced[i] for i in train_index], [y_balanced[i] for i in test_index]\n",
    "\n",
    "    X_train_normalized_dict = {}\n",
    "    X_test_normalized_dict = {}\n",
    "    for modality in FEATURE_MODALITIES:\n",
    "        X_train_normalized_dict[modality], X_test_normalized_dict[modality] = normalize_features(X_train_dict[modality], X_test_dict[modality])\n",
    "    \n",
    "    acc, preds, labels, model = train_combined_model(X_train_normalized_dict, y_train, X_test_normalized_dict, y_test, exp_name=exp_name, fold_idx=i)\n",
    "    torch.save(model.state_dict(), f'{ML_OUTPUT_DIR}/model_{i}.pth')\n",
    "    accuracies.append(acc)\n",
    "\n",
    "\n",
    "    # acc, preds, labels, model = train_combined_model(X_train_dmr_normalized, X_train_atac_normalized, X_train_hic_normalized, X_train_genebody_normalized, y_train,\n",
    "    #                                           X_test_dmr_normalized, X_test_atac_normalized, X_test_hic_normalized, X_test_genebody_normalized, y_test, exp_name=exp_name, fold_idx=i)\n",
    "    # break\n",
    "\n",
    "# print(f'Mean Accuracy: {np.mean(accuracies):.4f} ± {np.std(accuracies):.4f}')"
   ]
  },
  {
   "cell_type": "code",
   "execution_count": 7,
   "metadata": {},
   "outputs": [],
   "source": [
    "# k_fold_indices = []\n",
    "# kf = KFold(n_splits=5, shuffle=True, random_state=25)\n",
    "# for i, (train_index, test_index) in enumerate(kf.split(X_balanced[FEATURE_MODALITIES[0]])):\n",
    "#     k_fold_indices.append((train_index, test_index))"
   ]
  },
  {
   "cell_type": "code",
   "execution_count": 8,
   "metadata": {},
   "outputs": [
    {
     "name": "stdout",
     "output_type": "stream",
     "text": [
      "(2305, 3)\n"
     ]
    }
   ],
   "source": [
    "result_indices = []\n",
    "all_preds = []\n",
    "all_labels = []\n",
    "attn_weights_list = []\n",
    "all_gene_list = []\n",
    "for i, (train_index, test_index) in enumerate(k_fold_indices):\n",
    "    X_train_dict = {modality: [X_balanced[modality][i] for i in train_index] for modality in FEATURE_MODALITIES}\n",
    "    X_test_dict = {modality: [X_balanced[modality][i] for i in test_index] for modality in FEATURE_MODALITIES}\n",
    "    y_train, y_test = [y_balanced[i] for i in train_index], [y_balanced[i] for i in test_index]\n",
    "\n",
    "    X_train_normalized_dict = {}\n",
    "    X_test_normalized_dict = {}\n",
    "    for modality in FEATURE_MODALITIES:\n",
    "        _, X_test_normalized_dict[modality] = normalize_features(X_train_dict[modality], X_test_dict[modality])\n",
    "    modality_input_dims = {modality: len(X_test_normalized_dict[modality][0][0]) for modality in FEATURE_MODALITIES}\n",
    "\n",
    "    model = MultiModalityTransformerModel(modality_input_dims, HIDDEN_DIM, OUTPUT_DIM, num_layers=NUM_LAYERS, num_heads=NUM_HEADS, dropout=DROPOUT, temperature=TEMPERATURE)\n",
    "    model.load_state_dict(torch.load(f'{ML_OUTPUT_DIR}/model_{i}.pth'))\n",
    "    model.eval()\n",
    "\n",
    "    test_dataset = CombinedGeneDataset(X_test_normalized_dict, y_test)\n",
    "    test_gene_list = [gene_list[i] for i in test_index]\n",
    "    all_gene_list.extend(test_gene_list)\n",
    "    result_indices.extend(test_index)\n",
    "\n",
    "    test_loader = DataLoader(test_dataset, batch_size=BATCH_SIZE, shuffle=False, collate_fn=combined_collate_fn_no_sort)\n",
    "\n",
    "    with torch.no_grad():\n",
    "        for x_dict, mask_dict, batch_y in test_loader:\n",
    "            outputs, attn_weights = model(x_dict, mask_dict, get_attn_weights=True)\n",
    "            pred = outputs.argmax(dim=1).cpu().numpy()\n",
    "            attn_weights = attn_weights.cpu().numpy()\n",
    "            all_preds.extend(pred)\n",
    "            all_labels.extend(batch_y.cpu().numpy())\n",
    "            attn_weights_list.append(attn_weights) # [N, 4]\n",
    "\n",
    "# all_gene_list = [gene_list[i] for i in result_indices]\n",
    "all_preds = np.array(all_preds)\n",
    "all_labels = np.array(all_labels)\n",
    "attn_weights = np.concatenate(attn_weights_list, axis=0)\n",
    "print(attn_weights.shape)"
   ]
  },
  {
   "cell_type": "code",
   "execution_count": 9,
   "metadata": {},
   "outputs": [
    {
     "name": "stdout",
     "output_type": "stream",
     "text": [
      "accuracy: 62.21%\n"
     ]
    }
   ],
   "source": [
    "print(f'accuracy: {(all_preds == all_labels).sum() / len(all_preds):.2%}')\n"
   ]
  },
  {
   "cell_type": "code",
   "execution_count": 10,
   "metadata": {},
   "outputs": [
    {
     "name": "stdout",
     "output_type": "stream",
     "text": [
      "0    948\n",
      "1    768\n",
      "2    589\n",
      "Name: count, dtype: int64\n",
      "0    961\n",
      "1    731\n",
      "2    613\n",
      "Name: count, dtype: int64\n"
     ]
    }
   ],
   "source": [
    "import pandas as pd\n",
    "\n",
    "if USE_CONCAT_CTS:\n",
    "    celltype_list, all_gene_list = zip(*[i.split('+') for i in all_gene_list])\n",
    "else:\n",
    "    celltype_list = [CT] * len(all_gene_list)\n",
    "result = pd.DataFrame({\n",
    "    'cell_type': celltype_list,\n",
    "    'gene': all_gene_list,\n",
    "    'DEG': all_labels - 1,\n",
    "    'pred': all_preds - 1,\n",
    "    **{\n",
    "        modality: attn_weights[:, i] for i, modality in enumerate(FEATURE_MODALITIES)\n",
    "    }\n",
    "})\n",
    "result.to_csv(f'{ML_OUTPUT_DIR}/result.csv', index=False)\n",
    "\n",
    "\n",
    "# Plot the attention weights (each attn_weight is a 4-dim vector)\n",
    "# We should label each row with the pred and label, and each column with the\n",
    "# modality name: dmr, atac, hic, genebody\n",
    "import seaborn as sns\n",
    "from matplotlib import pyplot as plt\n",
    "import pandas as pd\n",
    "\n",
    "# Find all the places where the prediction is correct\n",
    "print(pd.Series(all_labels).value_counts())\n",
    "print(pd.Series(all_preds).value_counts())\n",
    "\n",
    "correct_idx = (all_preds == all_labels)\n",
    "head = 100\n",
    "correct_pos = np.where(correct_idx)[0][:head]"
   ]
  },
  {
   "cell_type": "code",
   "execution_count": 11,
   "metadata": {},
   "outputs": [
    {
     "data": {
      "text/html": [
       "<div>\n",
       "<style scoped>\n",
       "    .dataframe tbody tr th:only-of-type {\n",
       "        vertical-align: middle;\n",
       "    }\n",
       "\n",
       "    .dataframe tbody tr th {\n",
       "        vertical-align: top;\n",
       "    }\n",
       "\n",
       "    .dataframe thead th {\n",
       "        text-align: right;\n",
       "    }\n",
       "</style>\n",
       "<table border=\"1\" class=\"dataframe\">\n",
       "  <thead>\n",
       "    <tr style=\"text-align: right;\">\n",
       "      <th></th>\n",
       "      <th>cell_type</th>\n",
       "      <th>gene</th>\n",
       "      <th>DEG</th>\n",
       "      <th>pred</th>\n",
       "      <th>hic_loop</th>\n",
       "      <th>hic_abc_dmr</th>\n",
       "      <th>hic_abc_peak</th>\n",
       "    </tr>\n",
       "  </thead>\n",
       "  <tbody>\n",
       "    <tr>\n",
       "      <th>385</th>\n",
       "      <td>Oligo_NN</td>\n",
       "      <td>Il33</td>\n",
       "      <td>1</td>\n",
       "      <td>1</td>\n",
       "      <td>0.295197</td>\n",
       "      <td>0.277572</td>\n",
       "      <td>0.427231</td>\n",
       "    </tr>\n",
       "  </tbody>\n",
       "</table>\n",
       "</div>"
      ],
      "text/plain": [
       "    cell_type  gene  DEG  pred  hic_loop  hic_abc_dmr  hic_abc_peak\n",
       "385  Oligo_NN  Il33    1     1  0.295197     0.277572      0.427231"
      ]
     },
     "execution_count": 11,
     "metadata": {},
     "output_type": "execute_result"
    }
   ],
   "source": [
    "result[result['gene'] == 'Il33']"
   ]
  },
  {
   "cell_type": "code",
   "execution_count": 12,
   "metadata": {},
   "outputs": [
    {
     "data": {
      "text/html": [
       "<div>\n",
       "<style scoped>\n",
       "    .dataframe tbody tr th:only-of-type {\n",
       "        vertical-align: middle;\n",
       "    }\n",
       "\n",
       "    .dataframe tbody tr th {\n",
       "        vertical-align: top;\n",
       "    }\n",
       "\n",
       "    .dataframe thead th {\n",
       "        text-align: right;\n",
       "    }\n",
       "</style>\n",
       "<table border=\"1\" class=\"dataframe\">\n",
       "  <thead>\n",
       "    <tr style=\"text-align: right;\">\n",
       "      <th></th>\n",
       "      <th>cell_type</th>\n",
       "      <th>gene</th>\n",
       "      <th>DEG</th>\n",
       "      <th>pred</th>\n",
       "      <th>hic_loop</th>\n",
       "      <th>hic_abc_dmr</th>\n",
       "      <th>hic_abc_peak</th>\n",
       "    </tr>\n",
       "  </thead>\n",
       "  <tbody>\n",
       "    <tr>\n",
       "      <th>187</th>\n",
       "      <td>Oligo_NN</td>\n",
       "      <td>Ubb</td>\n",
       "      <td>-1</td>\n",
       "      <td>-1</td>\n",
       "      <td>0.032493</td>\n",
       "      <td>0.294576</td>\n",
       "      <td>0.672931</td>\n",
       "    </tr>\n",
       "  </tbody>\n",
       "</table>\n",
       "</div>"
      ],
      "text/plain": [
       "    cell_type gene  DEG  pred  hic_loop  hic_abc_dmr  hic_abc_peak\n",
       "187  Oligo_NN  Ubb   -1    -1  0.032493     0.294576      0.672931"
      ]
     },
     "execution_count": 12,
     "metadata": {},
     "output_type": "execute_result"
    }
   ],
   "source": [
    "result[result['gene'] == 'Ubb']"
   ]
  },
  {
   "cell_type": "code",
   "execution_count": 13,
   "metadata": {},
   "outputs": [
    {
     "data": {
      "image/png": "[encoded data removed]",
      "text/plain": [
       "<Figure size 400x600 with 2 Axes>"
      ]
     },
     "metadata": {},
     "output_type": "display_data"
    }
   ],
   "source": [
    "fig, ax = plt.subplots(figsize=(4, 6), dpi = 100)\n",
    "ax = sns.heatmap(attn_weights[correct_pos, :], annot=False, fmt='.2f', cmap='coolwarm', vmin=0.1, vmax=0.6, ax=ax)\n",
    "\n",
    "ax.set_xlabel('Modality')\n",
    "ax.set_xticklabels(FEATURE_MODALITIES, rotation=45)\n",
    "ax.set_ylabel('Prediction')\n",
    "ax.set_yticks(range(len(correct_pos)))\n",
    "ax.set_yticklabels([f'{test_gene_list[i]}' for i in correct_pos], rotation=0)\n",
    "ax.set_title('Attention Weights')\n",
    "plt.show()"
   ]
  },
  {
   "cell_type": "code",
   "execution_count": null,
   "metadata": {},
   "outputs": [],
   "source": []
  },
  {
   "cell_type": "code",
   "execution_count": null,
   "metadata": {},
   "outputs": [],
   "source": []
  }
 ],
 "metadata": {
  "kernelspec": {
   "display_name": "eat",
   "language": "python",
   "name": "python3"
  },
  "language_info": {
   "codemirror_mode": {
    "name": "ipython",
    "version": 3
   },
   "file_extension": ".py",
   "mimetype": "text/x-python",
   "name": "python",
   "nbconvert_exporter": "python",
   "pygments_lexer": "ipython3",
   "version": "3.10.13"
  }
 },
 "nbformat": 4,
 "nbformat_minor": 2
}
