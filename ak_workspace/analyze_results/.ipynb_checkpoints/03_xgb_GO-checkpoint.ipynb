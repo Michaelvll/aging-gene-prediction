{
 "cells": [
  {
   "cell_type": "markdown",
   "id": "f03aa7d0-63e8-4e33-bbf7-b9cdc23c3fd7",
   "metadata": {},
   "source": [
    "This is a notebook in order to do gene set enrichment analysis on the results of an overfitted model. \n",
    "\n",
    "Here I define a background set of genes as all the genes for a given cell type and the in_set as the set of genes\n",
    "for which the model (trained on all genes of a given cell type) misclassified that given gene. Supposedly, these represent\n",
    "the set of genes for which even an overfitted model can't predict their DEG status (not regulated / atypical regulation \n",
    "by the epigenome)."
   ]
  },
  {
   "cell_type": "code",
   "execution_count": 1,
   "id": "ed758818-3c9b-4d3a-a3d7-f8ab4348cc2c",
   "metadata": {},
   "outputs": [],
   "source": [
    "import numpy as np\n",
    "import pandas as pd\n",
    "\n",
    "import matplotlib.pyplot as plt\n",
    "import seaborn as sns"
   ]
  },
  {
   "cell_type": "code",
   "execution_count": 2,
   "id": "46c97564-ac10-4cc5-8864-e8f1dcee298f",
   "metadata": {},
   "outputs": [],
   "source": [
    "cell_types = ['L23_IT_CTX_Glut','DG_Glut','CA1-ProS_Glut','Oligo_NN','CA3_Glut','L6_CT_CTX_Glut','L6_IT_CTX_Glut','L5_ET_CTX_Glut','Astro-TE_NN','OPC_NN'] #,'Pvalb_Gaba']\n",
    "_ct = cell_types[0]"
   ]
  },
  {
   "cell_type": "code",
   "execution_count": 10,
   "id": "a30bdf2b-1c88-4680-9e02-6439eb05b915",
   "metadata": {},
   "outputs": [
    {
     "name": "stdout",
     "output_type": "stream",
     "text": [
      "L23_IT_CTX_Glut\n",
      "9353 2312 \n",
      "\n",
      "DG_Glut\n",
      "8310 2832 \n",
      "\n",
      "CA1-ProS_Glut\n",
      "8149 1573 \n",
      "\n",
      "Oligo_NN\n",
      "5546 1143 \n",
      "\n",
      "CA3_Glut\n",
      "8677 1651 \n",
      "\n",
      "L6_CT_CTX_Glut\n",
      "9356 2398 \n",
      "\n",
      "L6_IT_CTX_Glut\n",
      "9253 95 \n",
      "\n",
      "L5_ET_CTX_Glut\n",
      "9183 874 \n",
      "\n",
      "Astro-TE_NN\n",
      "6629 175 \n",
      "\n",
      "OPC_NN\n",
      "6432 391 \n",
      "\n"
     ]
    }
   ],
   "source": [
    "for _ct in cell_types: \n",
    "    Y_out = pd.read_csv(f\"../result_data/xgb_mods/overfit/{_ct}.cv_cs.Y_outs.csv\", index_col=0)\n",
    "    background_set = Y_out.index\n",
    "    in_set = Y_out.loc[Y_out['DEG'] != Y_out['pred']]\n",
    "    print(_ct)\n",
    "    print(len(background_set), len(in_set), '\\n')\n",
    "    ## TODO Gene Set enrichment analysis"
   ]
  },
  {
   "cell_type": "code",
   "execution_count": null,
   "id": "82ae35bd-0355-4bf4-8f53-dd9024a650a2",
   "metadata": {},
   "outputs": [],
   "source": []
  },
  {
   "cell_type": "code",
   "execution_count": null,
   "id": "b7bdc7ba-78a0-4981-a106-21a632695c25",
   "metadata": {},
   "outputs": [],
   "source": []
  }
 ],
 "metadata": {
  "kernelspec": {
   "display_name": "Python 3 (ipykernel)",
   "language": "python",
   "name": "python3"
  },
  "language_info": {
   "codemirror_mode": {
    "name": "ipython",
    "version": 3
   },
   "file_extension": ".py",
   "mimetype": "text/x-python",
   "name": "python",
   "nbconvert_exporter": "python",
   "pygments_lexer": "ipython3",
   "version": "3.10.15"
  }
 },
 "nbformat": 4,
 "nbformat_minor": 5
}
