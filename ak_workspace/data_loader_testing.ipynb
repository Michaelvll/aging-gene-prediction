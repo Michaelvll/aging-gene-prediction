{
 "cells": [
  {
   "cell_type": "code",
   "execution_count": 2,
   "id": "c6ba04f7-0a74-45e8-8b5b-b9119251c87d",
   "metadata": {},
   "outputs": [],
   "source": [
    "import pandas as pd\n",
    "import numpy as np"
   ]
  },
  {
   "cell_type": "code",
   "execution_count": 1,
   "id": "b4813f80-d7a9-4c36-b574-8cce66472deb",
   "metadata": {},
   "outputs": [],
   "source": [
    "# Changing data loader"
   ]
  },
  {
   "cell_type": "code",
   "execution_count": 95,
   "id": "f8820412-c884-4838-861e-548777ced251",
   "metadata": {},
   "outputs": [],
   "source": [
    "import pandas as pd\n",
    "import numpy as np\n",
    "\n",
    "# import wandb\n",
    "# wandb.init(project='gene')\n",
    "\n",
    "\n",
    "# Setting the default loaded features (This can be changed once the calculated features are added\n",
    "DMR_FEATURE_NAMES = ['2mo', '9mo', '18mo', '9mo-2mo', '18mo-9mo', '18mo-2mo', 'log2(gene_length)', 'log2(r_length)', 'log2(r_length/gene_length)', 'log2(distance)']\n",
    "\n",
    "MCG_GENEBODY_FEATURE_NAMES = ['2mo', '9mo', '18mo', '9mo-2mo', '18mo-9mo', '18mo-2mo', 'log2(gene_length)','(9mo-2mo)*log2(gene_length)', \n",
    "                        '(18mo-2mo)*log2(gene_length)', '(18mo-9mo)*log2(gene_length)','DMG','corrected_pvalue']\n",
    "MCH_GENEBODY_FEATURE_NAMES = ['2mo', '9mo', '18mo', '9mo-2mo', '18mo-9mo', '18mo-2mo', 'log2(gene_length)','(9mo-2mo)*log2(gene_length)', \n",
    "                        '(18mo-2mo)*log2(gene_length)', '(18mo-9mo)*log2(gene_length)','DMG','corrected_pvalue']\n",
    "\n",
    "ATAC_FEATURE_NAMES = ['2mo', '9mo', '18mo', 'log2(9mo/2mo)', 'log2(18mo/9mo)', 'log2(18mo/2mo)', 'log2(gene_length)', 'log2(r_length)', 'log2(r_length/gene_length)', 'log2(distance)','DAR']\n",
    "\n",
    "HIC_FEATURE_NAMES = [ 'Tanova', '2mo.Q', '9mo.Q', '18mo.Q','9mo-2mo.Q','18mo-9mo.Q', '18mo-2mo.Q',\n",
    "                     'log2(gene_length)', 'log2(a_length)', 'log2(a_length/gene_length)','Diff_Loop'] #'Qanova', 'Eanova',,'2mo.T', '9mo.T', '18mo.T','9mo-2mo.T', '18mo-9mo.T', '18mo-2mo.T', \n",
    "\n",
    "DEFAULT_DATA_FEATURE_NAMES = {\n",
    "    'dmr': DMR_FEATURE_NAMES,\n",
    "    'atac': ATAC_FEATURE_NAMES,\n",
    "    'hic': HIC_FEATURE_NAMES,\n",
    "    'mcg_genebody': MCG_GENEBODY_FEATURE_NAMES,\n",
    "    'mch_genebody': MCH_GENEBODY_FEATURE_NAMES\n",
    "}\n",
    "\n",
    "\n",
    "def load_data(y_val = \"DEG\", filepath=\"data\", ct=\"Oligo_NN\", DATA_FEATURE_NAMES=DEFAULT_DATA_FEATURE_NAMES):\n",
    "    df = pd.read_csv(f'{filepath}/{ct}/{ct}.luisa_RNA_DEG.csv', index_col=0)\n",
    "    # df.set_index('gene', inplace=True)\n",
    "\n",
    "    if y_val == \"DEG\": \n",
    "        gene2value = df[['DEG']]\n",
    "    elif y_val == \"logFC\": \n",
    "        gene2value = df[['avg_log2FC']]\n",
    "\n",
    "    DATA = {}\n",
    "\n",
    "    \n",
    "    # MCG DMR features\n",
    "    if 'dmr' in DATA_FEATURE_NAMES.keys():\n",
    "        DMR_FEATURE_NAMES = DATA_FEATURE_NAMES['dmr']\n",
    "\n",
    "        skip_bool = True\n",
    "        try: # Trying to read the filepath for the data\n",
    "            mcg = pd.read_csv(f'{filepath}/{ct}/{ct}.aDMR_gene.csv')\n",
    "        except: \n",
    "            skip_bool = False\n",
    "            print(f\"No MCG data filepath for this cell type: {ct}, Skipping this data modality\")\n",
    "            print(f\"Missig Filepath: {filepath}/{ct}/{ct}.aDMR_gene.csv \")\n",
    "        if skip_bool: # Calculating all features and the subsetting only for the ones to keep (Can be improved?)\n",
    "            mcg_feat = mcg\n",
    "            mcg_feat.rename(columns={'gene_name': 'gene'}, inplace=True)\n",
    "            mcg_feat['9mo-2mo'] = mcg_feat['9mo'] - mcg_feat['2mo']\n",
    "            mcg_feat['18mo-9mo'] = mcg_feat['18mo'] - mcg_feat['9mo']\n",
    "            mcg_feat['18mo-2mo'] = mcg_feat['18mo'] - mcg_feat['2mo']\n",
    "            mcg_feat['log2(gene_length)'] = np.log2((mcg_feat['gene_end'] - mcg_feat['gene_start']).abs().astype(np.float64))\n",
    "            mcg_feat['log2(r_length)'] = np.log2((mcg_feat['end'] - mcg_feat['start']).abs().astype(np.float64))\n",
    "            mcg_feat['log2(r_length/gene_length)'] = np.log2((mcg_feat['end'] - mcg_feat['start'])/(mcg_feat['gene_end'] - mcg_feat['gene_start']))\n",
    "            mcg_feat['log2(distance)'] = np.log2((mcg_feat['gene_start'] - mcg_feat['start']).abs().astype(np.float64))\n",
    "            mcg_feat = mcg_feat[['gene', *DMR_FEATURE_NAMES]]\n",
    "    \n",
    "            # Checking that the features are valid\n",
    "            assert mcg_feat.isna().sum().sum() == 0\n",
    "            assert mcg_feat.isin([np.inf, -np.inf]).sum().sum() == 0\n",
    "    \n",
    "            # Adding MCG features to the data dictionary\n",
    "            DATA['dmr'] = mcg_feat\n",
    "            print('Processed dmr data')\n",
    "\n",
    "    # MCG Genebody Features\n",
    "    if 'mcg_genebody' in DATA_FEATURE_NAMES.keys():\n",
    "        MCG_GENEBODY_FEATURE_NAMES = DATA_FEATURE_NAMES['mcg_genebody']\n",
    "\n",
    "        skip_bool = True\n",
    "        try: # Trying to read the filepath for the data\n",
    "            genebody = pd.read_csv(f'{filepath}/{ct}/{ct}.mCG_genebody_gene.csv')\n",
    "        except: \n",
    "            skip_bool = False\n",
    "            print(f\"No MCG Genenbody data filepath for this cell type: {ct}, Skipping this data modality\")\n",
    "            print(f\"Missig Filepath: {filepath}/{ct}/{ct}.mCG_genebody_gene.csv\")\n",
    "        if skip_bool: # Calculating all features and the subsetting only for the ones to keep (Can be improved?)\n",
    "            genebody_feat = genebody\n",
    "            genebody_feat.rename(columns={'gene_name': 'gene'}, inplace=True)\n",
    "            genebody_feat['9mo-2mo'] = genebody_feat['9mo'] - genebody_feat['2mo']\n",
    "            genebody_feat['18mo-9mo'] = genebody_feat['18mo'] - genebody_feat['9mo']\n",
    "            genebody_feat['18mo-2mo'] = genebody_feat['18mo'] - genebody_feat['2mo']\n",
    "        \n",
    "            genebody_feat['log2(gene_length)'] = np.log2(genebody_feat['gene_length'])\n",
    "        \n",
    "            genebody_feat['(9mo-2mo)*log2(gene_length)'] = genebody_feat['9mo-2mo'] * genebody_feat['log2(gene_length)']\n",
    "            genebody_feat['(18mo-9mo)*log2(gene_length)'] = genebody_feat['18mo-9mo'] * genebody_feat['log2(gene_length)']\n",
    "            genebody_feat['(18mo-2mo)*log2(gene_length)'] = genebody_feat['18mo-2mo'] * genebody_feat['log2(gene_length)']\n",
    "        \n",
    "            genebody_feat = genebody_feat[['gene', *MCG_GENEBODY_FEATURE_NAMES]]\n",
    "            genebody_feat= genebody_feat.dropna()\n",
    "        \n",
    "            assert genebody_feat.isna().sum().sum() == 0\n",
    "            assert genebody_feat.isin([np.inf, -np.inf]).sum().sum() == 0\n",
    "        \n",
    "            DATA['mcg_genebody'] = genebody_feat\n",
    "            print('Processed MCG genebody data')\n",
    "\n",
    "    # MCH Genebody Features\n",
    "    if 'mch_genebody' in DATA_FEATURE_NAMES.keys():\n",
    "        MCH_GENEBODY_FEATURE_NAMES = DATA_FEATURE_NAMES['mch_genebody']\n",
    "\n",
    "        skip_bool = True\n",
    "        try: # Trying to read the filepath for the data\n",
    "            genebody = pd.read_csv(f'{filepath}/{ct}/{ct}.mCH_genebody_gene.csv')\n",
    "        except: \n",
    "            skip_bool = False\n",
    "            print(f\"No MCH Genenbody data filepath for this cell type: {ct}, Skipping this data modality\")\n",
    "            print(f\"Missig Filepath: {filepath}/{ct}/{ct}.mCH_genebody_gene.csv\")\n",
    "        if skip_bool: # Calculating all features and the subsetting only for the ones to keep (Can be improved?)\n",
    "            genebody_feat = genebody\n",
    "            genebody_feat.rename(columns={'gene_name': 'gene'}, inplace=True)\n",
    "            genebody_feat['9mo-2mo'] = genebody_feat['9mo'] - genebody_feat['2mo']\n",
    "            genebody_feat['18mo-9mo'] = genebody_feat['18mo'] - genebody_feat['9mo']\n",
    "            genebody_feat['18mo-2mo'] = genebody_feat['18mo'] - genebody_feat['2mo']\n",
    "        \n",
    "            genebody_feat['log2(gene_length)'] = np.log2(genebody_feat['gene_length'])\n",
    "        \n",
    "            genebody_feat['(9mo-2mo)*log2(gene_length)'] = genebody_feat['9mo-2mo'] * genebody_feat['log2(gene_length)']\n",
    "            genebody_feat['(18mo-9mo)*log2(gene_length)'] = genebody_feat['18mo-9mo'] * genebody_feat['log2(gene_length)']\n",
    "            genebody_feat['(18mo-2mo)*log2(gene_length)'] = genebody_feat['18mo-2mo'] * genebody_feat['log2(gene_length)']\n",
    "        \n",
    "            genebody_feat = genebody_feat[['gene', *MCH_GENEBODY_FEATURE_NAMES]]\n",
    "            genebody_feat= genebody_feat.dropna()\n",
    "        \n",
    "            assert genebody_feat.isna().sum().sum() == 0\n",
    "            assert genebody_feat.isin([np.inf, -np.inf]).sum().sum() == 0\n",
    "        \n",
    "            DATA['mch_genebody'] = genebody_feat\n",
    "            print('Processed MCH genebody data')\n",
    "    \n",
    "\n",
    "    # ATAC Seq Features\n",
    "    if 'atac' in DATA_FEATURE_NAMES.keys():\n",
    "        ATAC_FEATURE_NAMES = DATA_FEATURE_NAMES['atac']\n",
    "        \n",
    "        skip_bool = True\n",
    "        try: # Trying to read the filepath for the data\n",
    "            atac = pd.read_csv(f'{filepath}/{ct}/{ct}.peak_gene.csv')\n",
    "        except: \n",
    "            skip_bool = False\n",
    "            print(f\"No ATAC data filepath for this cell type: {ct}, Skipping this data modality\")\n",
    "            print(f\"Missig Filepath: {filepath}/{ct}/{ct}.peak_gene.csv\")\n",
    "        if skip_bool: # Calculating all features and the subsetting only for the ones to keep (Can be improved?)\n",
    "            atac_feat = atac\n",
    "            atac_feat.rename(columns={'gene_name': 'gene'}, inplace=True)\n",
    "            atac_feat['log2(9mo/2mo)'] = np.log2(atac_feat['9mo'] + 1e-10) - np.log2(atac_feat['2mo'] + 1e-10)\n",
    "            atac_feat['log2(18mo/9mo)'] = np.log2(atac_feat['18mo'] + 1e-10) - np.log2(atac_feat['9mo'] + 1e-10)\n",
    "            atac_feat['log2(18mo/2mo)'] = np.log2(atac_feat['18mo'] + 1e-10) - np.log2(atac_feat['2mo'] + 1e-10)\n",
    "            atac_feat['log2(gene_length)'] = np.log2((atac_feat['gene_end'] - atac_feat['gene_start']).abs().astype(np.float64) + 1e-10)\n",
    "            atac_feat['log2(r_length)'] = np.log2((atac_feat['peak_end'] - atac_feat['peak_start']).abs().astype(np.float64) + 1e-10)\n",
    "            atac_feat['log2(r_length/gene_length)'] = atac_feat['log2(r_length)'] - atac_feat['log2(gene_length)']\n",
    "            atac_feat['log2(distance)'] = np.log2((atac_feat['gene_start'] - atac_feat['peak_start']).abs().astype(np.float64) + 1e-10)\n",
    "            atac_feat = atac_feat[['gene', *ATAC_FEATURE_NAMES]]\n",
    "            \n",
    "            #check if any na or inf \n",
    "            assert atac_feat.isna().sum().sum() == 0\n",
    "            assert atac_feat.isin([np.inf, -np.inf]).sum().sum() == 0\n",
    "            \n",
    "            DATA['atac'] = atac_feat\n",
    "            print('Processed atac data')\n",
    "\n",
    "\n",
    "    # HiC Features\n",
    "    if 'hic' in DATA_FEATURE_NAMES.keys():\n",
    "        HIC_FEATURE_NAMES = DATA_FEATURE_NAMES['hic']\n",
    "\n",
    "        skip_bool = True\n",
    "        try: # Trying to read the filepath for the data\n",
    "            hic = pd.read_csv(f'{filepath}/{ct}/{ct}.Loop_gene.csv.gz')\n",
    "        except: \n",
    "            skip_bool = False\n",
    "            print(f\"No HiC data filepath for this cell type: {ct}, Skipping this data modality\")\n",
    "            print(f\"Missig Filepath: {filepath}/{ct}/{ct}.Loop_gene.csv.gz\")\n",
    "        if skip_bool: \n",
    "            hic.columns = ['chrom','anchor1_start','anchor1_end','chrom','anchor2_start','anchor2_end',\n",
    "                        'Qanova','Eanova','Tanova','2mo.Q','9mo.Q','18mo.Q','2mo.T','9mo.T','18mo.T','Diff_Loop',\n",
    "                        'gene_chrom','gene_start','gene_end','gene_id','strand','gene_name','gene_type']\n",
    "            hic_feat = hic\n",
    "            hic_feat.rename(columns={'gene_name': 'gene'}, inplace=True)\n",
    "            hic_feat['9mo-2mo.Q'] = hic_feat['9mo.Q'] - hic_feat['2mo.Q']\n",
    "            hic_feat['18mo-9mo.Q'] = hic_feat['18mo.Q'] - hic_feat['9mo.Q']\n",
    "            hic_feat['18mo-2mo.Q'] = hic_feat['18mo.Q'] - hic_feat['2mo.Q']\n",
    "        \n",
    "            hic_feat['9mo-2mo.T'] = hic_feat['9mo.T'] - hic_feat['2mo.T']\n",
    "            hic_feat['18mo-9mo.T'] = hic_feat['18mo.T'] - hic_feat['9mo.T']\n",
    "            hic_feat['18mo-2mo.T'] = hic_feat['18mo.T'] - hic_feat['2mo.T']\n",
    "        \n",
    "            hic_feat['log2(gene_length)'] = np.log2((hic_feat['gene_end'] - hic_feat['gene_start']).abs().astype(np.float64) + 1e-10)\n",
    "            hic_feat['log2(a_length)'] = np.log2((hic_feat['anchor2_start'] - hic_feat['anchor1_start']).abs().astype(np.float64) + 10000) #10000 i the loop resolution\n",
    "            hic_feat['log2(a_length/gene_length)'] = hic_feat['log2(a_length)'] - hic_feat['log2(gene_length)']\n",
    "            hic_feat = hic_feat[['gene', *HIC_FEATURE_NAMES]]\n",
    "            assert hic_feat.isna().sum().sum() == 0\n",
    "            assert hic_feat.isin([np.inf, -np.inf]).sum().sum() == 0\n",
    "        \n",
    "            DATA['hic'] = hic_feat\n",
    "            print('Processed hic data')\n",
    "\n",
    "\n",
    "    index_order = gene2value.index.tolist()\n",
    "    # Train a sequence model on mcg_feat to predict gene2value['log2(old/young)']\n",
    "    # Each gene has a sequence of 4 features, 2mo, 9mo, 18mo, old-young\n",
    "    # The sequence length is not fixed, so we need to use a dynamic model\n",
    "    # Let's use a commonly used sequence prediction model for sentence classification\n",
    "    # like LSTM or Transformer\n",
    "\n",
    "    X = {}\n",
    "    # Step 1: Prepare the data\n",
    "    for feature_type, features in DATA.items():\n",
    "        feature_names = DATA_FEATURE_NAMES[feature_type]\n",
    "        list_feat = features.groupby('gene').apply(lambda x: x[feature_names].values.tolist(), include_groups=False)\n",
    "        list_feat = list_feat.reindex(index_order, fill_value=[[0] * len(feature_names)])\n",
    "        X[feature_type] = list_feat.values.tolist()\n",
    "\n",
    "\n",
    "    if y_val == \"DEG\": \n",
    "        y = gene2value['DEG'].values.tolist()\n",
    "        genes = gene2value.index.values.tolist()\n",
    "        y = np.array([int(i) for i in y])\n",
    "        Y = gene2value['DEG'].astype(int)\n",
    "    elif y_val == \"logFC\": \n",
    "        y = gene2value['log2(old/young)'].values.tolist()\n",
    "        genes = gene2value.index.values.tolist()\n",
    "        y = np.array([float(i) for i in y])\n",
    "        Y = gene2value['log2(old/young)'].astype(float)\n",
    "\n",
    "    return {\n",
    "        'y': Y,\n",
    "        'X': X,\n",
    "    }\n",
    "\n",
    "def get_balanced_data(data, method=None, y_val='DEG'):\n",
    "    # Separate the data into zero and non-zero y values\n",
    "    y = data['y']\n",
    "    if y_val=='DEG': \n",
    "        if method == 'balanced': \n",
    "            zero_indices = np.where(y == 0)[0]\n",
    "            down_indices = np.where(y == -1)[0]\n",
    "            up_indices = np.where(y == 1)[0]\n",
    "            print(f'zero: {len(zero_indices)}, down: {len(down_indices)}, up: {len(up_indices)}')\n",
    "            # Sample len(non_zero_indices) indices from each group\n",
    "            n_samples = min(len(zero_indices), len(down_indices), len(up_indices))\n",
    "            sampled_zero_indices = np.random.choice(zero_indices, n_samples, replace=False)\n",
    "            sampled_down_indices = np.random.choice(down_indices, n_samples, replace=False)\n",
    "            sampled_up_indices = np.random.choice(up_indices, n_samples, replace=False)\n",
    "            # Combine the sampled indices\n",
    "            sampled_indices = np.concatenate([sampled_zero_indices, sampled_down_indices, sampled_up_indices])\n",
    "        else: \n",
    "            zero_indices = np.where(y == 0)[0]\n",
    "            non_zero_indices = np.where(y != 0)[0]\n",
    "            print(f'zero: {len(zero_indices)}, non-zero: {len(non_zero_indices)}')\n",
    "        \n",
    "            # Sample len(non_zero_indices) indices from each group\n",
    "            n_samples = len(non_zero_indices)\n",
    "            sampled_zero_indices = np.random.choice(zero_indices, n_samples // 2, replace=False)\n",
    "            sampled_non_zero_indices = np.random.choice(non_zero_indices, n_samples, replace=False)\n",
    "        \n",
    "            # Combine the sampled indices\n",
    "            sampled_indices = np.concatenate([sampled_zero_indices, sampled_non_zero_indices])\n",
    "    elif y_val == 'logFC': \n",
    "        pass\n",
    "\n",
    "    # Create balanced dataset\n",
    "    X_balanced = {}\n",
    "    for feature_type, features in data['X'].items():\n",
    "        X_balanced[feature_type] = [features[i] for i in sampled_indices]\n",
    "    y_balanced = data['y'][sampled_indices]\n",
    "    return X_balanced, y_balanced\n",
    "\n",
    "\n",
    "# Normalization function\n",
    "def normalize_features(train_data, test_data):\n",
    "    # Flatten the lists for easier processing\n",
    "    train_flat = [item for sublist in train_data for item in sublist]\n",
    "    test_flat = [item for sublist in test_data for item in sublist]\n",
    "    \n",
    "    # Convert to numpy arrays\n",
    "    train_array = np.array(train_flat)\n",
    "    test_array = np.array(test_flat)\n",
    "    \n",
    "    # Normalize all features using min-max scaling based on train data\n",
    "    min_vals = np.min(train_array, axis=0)\n",
    "    max_vals = np.max(train_array, axis=0)\n",
    "    train_normalized = (train_array - min_vals) / (max_vals - min_vals)\n",
    "    test_normalized = (test_array - min_vals) / (max_vals - min_vals)\n",
    "    \n",
    "    # Reconstruct the data structure\n",
    "    def reconstruct_data(normalized_array, original_data):\n",
    "        normalized_data = []\n",
    "        idx = 0\n",
    "        for sublist in original_data:\n",
    "            normalized_sublist = []\n",
    "            for _ in sublist:\n",
    "                normalized_sublist.append(normalized_array[idx].tolist())\n",
    "                idx += 1\n",
    "            normalized_data.append(normalized_sublist)\n",
    "        return normalized_data\n",
    "    \n",
    "    train_normalized = reconstruct_data(train_normalized, train_data)\n",
    "    test_normalized = reconstruct_data(test_normalized, test_data)\n",
    "    \n",
    "    return train_normalized, test_normalized\n",
    "\n"
   ]
  },
  {
   "cell_type": "code",
   "execution_count": 61,
   "id": "dfb0139c-aa9c-42e8-9fd3-3e23f29119bd",
   "metadata": {},
   "outputs": [
    {
     "name": "stdout",
     "output_type": "stream",
     "text": [
      "Processed dmr data\n",
      "Processed MCG genebody data\n",
      "Processed MCH genebody data\n",
      "Processed atac data\n",
      "Processed hic data\n"
     ]
    }
   ],
   "source": [
    "_ct = \"DG_Glut\"\n",
    "data = load_data(y_val = \"DEG\", ct=_ct, filepath=\"../data/\" )"
   ]
  },
  {
   "cell_type": "code",
   "execution_count": 41,
   "id": "1cf80961-3757-4a6f-ad6b-a68d3c9ac3b9",
   "metadata": {},
   "outputs": [
    {
     "data": {
      "text/plain": [
       "dict_keys(['dmr', 'mcg_genebody', 'mch_genebody', 'atac', 'hic'])"
      ]
     },
     "execution_count": 41,
     "metadata": {},
     "output_type": "execute_result"
    }
   ],
   "source": [
    "data['X'].keys()"
   ]
  },
  {
   "cell_type": "code",
   "execution_count": 45,
   "id": "c60da639-e8d3-4e20-97f2-20e48f16e062",
   "metadata": {},
   "outputs": [
    {
     "data": {
      "text/plain": [
       "[[1.6106592416763306,\n",
       "  1.6009608507156372,\n",
       "  1.6110053062438965,\n",
       "  -0.00969839096069336,\n",
       "  0.010044455528259277,\n",
       "  0.00034606456756591797,\n",
       "  14.482303782323182,\n",
       "  -0.1404550440924984,\n",
       "  0.00501181219578793,\n",
       "  0.14546685628828632,\n",
       "  0.0,\n",
       "  1.0]]"
      ]
     },
     "execution_count": 45,
     "metadata": {},
     "output_type": "execute_result"
    }
   ],
   "source": [
    "data['X']['mch_genebody'][3]"
   ]
  },
  {
   "cell_type": "code",
   "execution_count": 62,
   "id": "7d7b3c3b-92a7-4e30-a51b-fcf64e9feb62",
   "metadata": {},
   "outputs": [
    {
     "data": {
      "text/plain": [
       "Nrg1             1\n",
       "Snhg11           1\n",
       "Zfp804b          1\n",
       "Xist             1\n",
       "Nrxn3            1\n",
       "                ..\n",
       "Kifc5b           0\n",
       "Ccdc22           0\n",
       "Lrrc75a          0\n",
       "2310058D17Rik    0\n",
       "4732491K20Rik    0\n",
       "Name: DEG, Length: 8310, dtype: int64"
      ]
     },
     "execution_count": 62,
     "metadata": {},
     "output_type": "execute_result"
    }
   ],
   "source": [
    "data['y']"
   ]
  },
  {
   "cell_type": "code",
   "execution_count": 59,
   "id": "3a571181-9a93-470a-a199-9ec6cb47012a",
   "metadata": {},
   "outputs": [
    {
     "data": {
      "text/plain": [
       "DEG    1\n",
       "Name: Dpyd, dtype: int64"
      ]
     },
     "execution_count": 59,
     "metadata": {},
     "output_type": "execute_result"
    }
   ],
   "source": [
    "gene2value.loc['Dpyd']"
   ]
  },
  {
   "cell_type": "code",
   "execution_count": 81,
   "id": "f0a4e934-b698-49b4-8cde-eb195fecb901",
   "metadata": {},
   "outputs": [],
   "source": [
    "# gene2value.index.tolist()"
   ]
  },
  {
   "cell_type": "code",
   "execution_count": 64,
   "id": "b184fd3e-0df1-4a47-8219-b8dccbe1edc1",
   "metadata": {},
   "outputs": [],
   "source": [
    "DMR_FEATURE_NAMES = ['2mo', '9mo', '18mo', '9mo-2mo', '18mo-9mo', '18mo-2mo', 'log2(gene_length)', 'log2(r_length)', 'log2(r_length/gene_length)', 'log2(distance)']\n",
    "\n",
    "DATA_FEATURE_NAMES = {\n",
    "    'dmr': DMR_FEATURE_NAMES,\n",
    "}"
   ]
  },
  {
   "cell_type": "code",
   "execution_count": 65,
   "id": "dcfa38cb-aee9-4ca9-ba9f-fc1175792958",
   "metadata": {},
   "outputs": [
    {
     "name": "stdout",
     "output_type": "stream",
     "text": [
      "Processed dmr data\n"
     ]
    },
    {
     "name": "stderr",
     "output_type": "stream",
     "text": [
      "/tmp/ipykernel_71772/5928097.py:217: DeprecationWarning: DataFrameGroupBy.apply operated on the grouping columns. This behavior is deprecated, and in a future version of pandas the grouping columns will be excluded from the operation. Either pass `include_groups=False` to exclude the groupings or explicitly select the grouping columns after groupby to silence this warning.\n",
      "  list_feat = features.groupby('gene').apply(lambda x: x[feature_names].values.tolist(), include_groups = True)\n"
     ]
    }
   ],
   "source": [
    "_ct = \"DG_Glut\"\n",
    "data = load_data(y_val = \"DEG\", ct=_ct, filepath=\"../data/\", DATA_FEATURE_NAMES=DATA_FEATURE_NAMES )\n",
    "\n"
   ]
  },
  {
   "cell_type": "code",
   "execution_count": 73,
   "id": "38aacf23-4d8d-4dbf-b55e-91ba9bcb6021",
   "metadata": {},
   "outputs": [],
   "source": [
    "old_y = data['old_y']\n",
    "index_order = data['index_order']\n",
    "new_y = data['y']"
   ]
  },
  {
   "cell_type": "code",
   "execution_count": 75,
   "id": "427a656e-857b-48f0-883d-6e68c319b583",
   "metadata": {},
   "outputs": [
    {
     "data": {
      "text/plain": [
       "array([1, 1, 1, 1, 1])"
      ]
     },
     "execution_count": 75,
     "metadata": {},
     "output_type": "execute_result"
    }
   ],
   "source": [
    "old_y[:5]"
   ]
  },
  {
   "cell_type": "code",
   "execution_count": 94,
   "id": "ec0738d3-993e-4c65-8fbc-900c7ee591df",
   "metadata": {},
   "outputs": [
    {
     "data": {
      "text/plain": [
       "array([1, 1, 1, ..., 0, 0, 0])"
      ]
     },
     "execution_count": 94,
     "metadata": {},
     "output_type": "execute_result"
    }
   ],
   "source": [
    "# new_y.values"
   ]
  },
  {
   "cell_type": "code",
   "execution_count": 76,
   "id": "6e5b57c9-cd51-494f-946b-2c02e031e195",
   "metadata": {},
   "outputs": [
    {
     "data": {
      "text/plain": [
       "['Nrg1', 'Snhg11', 'Zfp804b', 'Xist', 'Nrxn3']"
      ]
     },
     "execution_count": 76,
     "metadata": {},
     "output_type": "execute_result"
    }
   ],
   "source": [
    "index_order[:5]"
   ]
  },
  {
   "cell_type": "code",
   "execution_count": 77,
   "id": "29e13162-2568-47e9-9161-1c5cc838945d",
   "metadata": {},
   "outputs": [
    {
     "data": {
      "text/plain": [
       "Nrg1             1\n",
       "Snhg11           1\n",
       "Zfp804b          1\n",
       "Xist             1\n",
       "Nrxn3            1\n",
       "                ..\n",
       "Kifc5b           0\n",
       "Ccdc22           0\n",
       "Lrrc75a          0\n",
       "2310058D17Rik    0\n",
       "4732491K20Rik    0\n",
       "Name: DEG, Length: 8310, dtype: int64"
      ]
     },
     "execution_count": 77,
     "metadata": {},
     "output_type": "execute_result"
    }
   ],
   "source": [
    "new_y"
   ]
  },
  {
   "cell_type": "code",
   "execution_count": 88,
   "id": "96d1536f-7629-4774-bb0d-f4e30b478c37",
   "metadata": {},
   "outputs": [
    {
     "data": {
      "text/plain": [
       "DEG    1\n",
       "Name: Zfp804b, dtype: int64"
      ]
     },
     "execution_count": 88,
     "metadata": {},
     "output_type": "execute_result"
    }
   ],
   "source": [
    "gene2value.loc['Zfp804b']"
   ]
  },
  {
   "cell_type": "code",
   "execution_count": null,
   "id": "cac18ff8-815d-4f20-b0b1-395ac20cfe18",
   "metadata": {},
   "outputs": [],
   "source": []
  },
  {
   "cell_type": "code",
   "execution_count": 85,
   "id": "e824afb3-7ec8-421c-9747-b32f73e426b0",
   "metadata": {},
   "outputs": [],
   "source": [
    "df = pd.read_csv(f'{filepath}/{ct}/{ct}.luisa_RNA_DEG.csv', index_col=0)\n",
    "# df.set_index('gene', inplace=True)\n",
    "\n",
    "gene2value = df[['DEG']]\n",
    "y = gene2value['DEG'].values.tolist()\n",
    "genes = gene2value.index.values.tolist()\n",
    "y = np.array([int(i) for i in y])"
   ]
  },
  {
   "cell_type": "code",
   "execution_count": 86,
   "id": "5b5adb7c-885d-4827-9a41-b2105fa0432f",
   "metadata": {},
   "outputs": [
    {
     "data": {
      "text/plain": [
       "(['Nrg1', 'Snhg11', 'Zfp804b', 'Xist', 'Nrxn3'], array([1, 1, 1, 1, 1]))"
      ]
     },
     "execution_count": 86,
     "metadata": {},
     "output_type": "execute_result"
    }
   ],
   "source": [
    "genes[:5], y[:5]"
   ]
  },
  {
   "cell_type": "code",
   "execution_count": 84,
   "id": "8dd337a1-cf65-41a8-a721-8cd5e0580889",
   "metadata": {},
   "outputs": [],
   "source": [
    "filepath=\"../data/\"\n",
    "ct=\"DG_Glut\""
   ]
  },
  {
   "cell_type": "code",
   "execution_count": 21,
   "id": "2c1e7d45-27f7-4a8a-8450-67ca3ad245f3",
   "metadata": {},
   "outputs": [],
   "source": [
    "del mcg"
   ]
  },
  {
   "cell_type": "code",
   "execution_count": 26,
   "id": "df51de34-b8e3-4ba5-95ab-1ce59fabace2",
   "metadata": {},
   "outputs": [
    {
     "name": "stdout",
     "output_type": "stream",
     "text": [
      "Here\n"
     ]
    }
   ],
   "source": [
    "mcg_skip_bool = True\n",
    "try: # Trying to read the filepath for the data\n",
    "    mcg = pd.read_csv(f'{filepath}/{ct}/{ct}.aDMR_gene.csv')\n",
    "except: \n",
    "    mcg_skip_bool = False\n",
    "    print(f\"No MCG data filepath for this cell type: {ct}, Skipping this data modality\")\n",
    "    print(f\"Missig Filepath: {filepath}/{ct}/{ct}.aDMR_gene.csv \")\n",
    "if mcg_skip_bool: # Calculating all features and the subsetting only f\n",
    "    print(\"Here\")\n",
    "    pass\n"
   ]
  },
  {
   "cell_type": "code",
   "execution_count": 20,
   "id": "bbfa4040-d03a-45a0-9b07-d48e98cdce8a",
   "metadata": {},
   "outputs": [
    {
     "data": {
      "text/html": [
       "<div>\n",
       "<style scoped>\n",
       "    .dataframe tbody tr th:only-of-type {\n",
       "        vertical-align: middle;\n",
       "    }\n",
       "\n",
       "    .dataframe tbody tr th {\n",
       "        vertical-align: top;\n",
       "    }\n",
       "\n",
       "    .dataframe thead th {\n",
       "        text-align: right;\n",
       "    }\n",
       "</style>\n",
       "<table border=\"1\" class=\"dataframe\">\n",
       "  <thead>\n",
       "    <tr style=\"text-align: right;\">\n",
       "      <th></th>\n",
       "      <th>chr</th>\n",
       "      <th>start</th>\n",
       "      <th>end</th>\n",
       "      <th>dmr_id</th>\n",
       "      <th>2mo</th>\n",
       "      <th>9mo</th>\n",
       "      <th>18mo</th>\n",
       "      <th>gene_chr</th>\n",
       "      <th>gene_start</th>\n",
       "      <th>gene_end</th>\n",
       "      <th>gene_id</th>\n",
       "      <th>gene_strand</th>\n",
       "      <th>gene_name</th>\n",
       "      <th>gene_type</th>\n",
       "      <th>old-young</th>\n",
       "    </tr>\n",
       "  </thead>\n",
       "  <tbody>\n",
       "    <tr>\n",
       "      <th>0</th>\n",
       "      <td>chr1</td>\n",
       "      <td>5058817</td>\n",
       "      <td>5058849</td>\n",
       "      <td>chr1-5058817-5058849</td>\n",
       "      <td>0.65</td>\n",
       "      <td>0.60</td>\n",
       "      <td>0.90</td>\n",
       "      <td>chr1</td>\n",
       "      <td>4907576</td>\n",
       "      <td>5072285</td>\n",
       "      <td>ENSMUSG00000002459.13</td>\n",
       "      <td>-</td>\n",
       "      <td>Rgs20</td>\n",
       "      <td>protein_coding</td>\n",
       "      <td>0.25</td>\n",
       "    </tr>\n",
       "    <tr>\n",
       "      <th>1</th>\n",
       "      <td>chr1</td>\n",
       "      <td>12811482</td>\n",
       "      <td>12811725</td>\n",
       "      <td>chr1-12811482-12811725</td>\n",
       "      <td>0.36</td>\n",
       "      <td>0.52</td>\n",
       "      <td>0.56</td>\n",
       "      <td>chr1</td>\n",
       "      <td>12690277</td>\n",
       "      <td>12863192</td>\n",
       "      <td>ENSMUSG00000016918.11</td>\n",
       "      <td>+</td>\n",
       "      <td>Sulf1</td>\n",
       "      <td>protein_coding</td>\n",
       "      <td>0.20</td>\n",
       "    </tr>\n",
       "    <tr>\n",
       "      <th>2</th>\n",
       "      <td>chr1</td>\n",
       "      <td>12860419</td>\n",
       "      <td>12860477</td>\n",
       "      <td>chr1-12860419-12860477</td>\n",
       "      <td>0.43</td>\n",
       "      <td>0.59</td>\n",
       "      <td>0.64</td>\n",
       "      <td>chr1</td>\n",
       "      <td>12690277</td>\n",
       "      <td>12863192</td>\n",
       "      <td>ENSMUSG00000016918.11</td>\n",
       "      <td>+</td>\n",
       "      <td>Sulf1</td>\n",
       "      <td>protein_coding</td>\n",
       "      <td>0.21</td>\n",
       "    </tr>\n",
       "    <tr>\n",
       "      <th>3</th>\n",
       "      <td>chr1</td>\n",
       "      <td>14304934</td>\n",
       "      <td>14304939</td>\n",
       "      <td>chr1-14304934-14304939</td>\n",
       "      <td>0.68</td>\n",
       "      <td>0.62</td>\n",
       "      <td>0.47</td>\n",
       "      <td>chr1</td>\n",
       "      <td>14166954</td>\n",
       "      <td>14312235</td>\n",
       "      <td>ENSMUSG00000025932.10</td>\n",
       "      <td>-</td>\n",
       "      <td>Eya1</td>\n",
       "      <td>protein_coding</td>\n",
       "      <td>-0.21</td>\n",
       "    </tr>\n",
       "    <tr>\n",
       "      <th>4</th>\n",
       "      <td>chr1</td>\n",
       "      <td>14305208</td>\n",
       "      <td>14305213</td>\n",
       "      <td>chr1-14305208-14305213</td>\n",
       "      <td>0.61</td>\n",
       "      <td>0.37</td>\n",
       "      <td>0.45</td>\n",
       "      <td>chr1</td>\n",
       "      <td>14166954</td>\n",
       "      <td>14312235</td>\n",
       "      <td>ENSMUSG00000025932.10</td>\n",
       "      <td>-</td>\n",
       "      <td>Eya1</td>\n",
       "      <td>protein_coding</td>\n",
       "      <td>-0.16</td>\n",
       "    </tr>\n",
       "    <tr>\n",
       "      <th>...</th>\n",
       "      <td>...</td>\n",
       "      <td>...</td>\n",
       "      <td>...</td>\n",
       "      <td>...</td>\n",
       "      <td>...</td>\n",
       "      <td>...</td>\n",
       "      <td>...</td>\n",
       "      <td>...</td>\n",
       "      <td>...</td>\n",
       "      <td>...</td>\n",
       "      <td>...</td>\n",
       "      <td>...</td>\n",
       "      <td>...</td>\n",
       "      <td>...</td>\n",
       "      <td>...</td>\n",
       "    </tr>\n",
       "    <tr>\n",
       "      <th>5143</th>\n",
       "      <td>chrX</td>\n",
       "      <td>166439811</td>\n",
       "      <td>166439849</td>\n",
       "      <td>chrX-166439811-166439849</td>\n",
       "      <td>0.26</td>\n",
       "      <td>0.46</td>\n",
       "      <td>0.41</td>\n",
       "      <td>chrX</td>\n",
       "      <td>166388033</td>\n",
       "      <td>166442704</td>\n",
       "      <td>ENSMUSG00000040586.8</td>\n",
       "      <td>-</td>\n",
       "      <td>Ofd1</td>\n",
       "      <td>protein_coding</td>\n",
       "      <td>0.15</td>\n",
       "    </tr>\n",
       "    <tr>\n",
       "      <th>5144</th>\n",
       "      <td>chrX</td>\n",
       "      <td>166439811</td>\n",
       "      <td>166439849</td>\n",
       "      <td>chrX-166439811-166439849</td>\n",
       "      <td>0.26</td>\n",
       "      <td>0.46</td>\n",
       "      <td>0.41</td>\n",
       "      <td>chrX</td>\n",
       "      <td>166438574</td>\n",
       "      <td>166455140</td>\n",
       "      <td>ENSMUSG00000079317.6</td>\n",
       "      <td>+</td>\n",
       "      <td>Trappc2</td>\n",
       "      <td>protein_coding</td>\n",
       "      <td>0.15</td>\n",
       "    </tr>\n",
       "    <tr>\n",
       "      <th>5145</th>\n",
       "      <td>chrX</td>\n",
       "      <td>169274524</td>\n",
       "      <td>169274610</td>\n",
       "      <td>chrX-169274524-169274610</td>\n",
       "      <td>0.55</td>\n",
       "      <td>0.66</td>\n",
       "      <td>0.78</td>\n",
       "      <td>chrX</td>\n",
       "      <td>169248193</td>\n",
       "      <td>169322372</td>\n",
       "      <td>ENSMUSG00000031352.6</td>\n",
       "      <td>-</td>\n",
       "      <td>Hccs</td>\n",
       "      <td>protein_coding</td>\n",
       "      <td>0.23</td>\n",
       "    </tr>\n",
       "    <tr>\n",
       "      <th>5146</th>\n",
       "      <td>chrX</td>\n",
       "      <td>169274524</td>\n",
       "      <td>169274610</td>\n",
       "      <td>chrX-169274524-169274610</td>\n",
       "      <td>0.55</td>\n",
       "      <td>0.66</td>\n",
       "      <td>0.78</td>\n",
       "      <td>chrX</td>\n",
       "      <td>168793099</td>\n",
       "      <td>169306435</td>\n",
       "      <td>ENSMUSG00000031355.12</td>\n",
       "      <td>+</td>\n",
       "      <td>Arhgap6</td>\n",
       "      <td>protein_coding</td>\n",
       "      <td>0.23</td>\n",
       "    </tr>\n",
       "    <tr>\n",
       "      <th>5147</th>\n",
       "      <td>chrX</td>\n",
       "      <td>169927615</td>\n",
       "      <td>169927622</td>\n",
       "      <td>chrX-169927615-169927622</td>\n",
       "      <td>0.54</td>\n",
       "      <td>0.65</td>\n",
       "      <td>0.44</td>\n",
       "      <td>chrX</td>\n",
       "      <td>169683199</td>\n",
       "      <td>170007736</td>\n",
       "      <td>ENSMUSG00000035299.12</td>\n",
       "      <td>+</td>\n",
       "      <td>Mid1</td>\n",
       "      <td>protein_coding</td>\n",
       "      <td>-0.10</td>\n",
       "    </tr>\n",
       "  </tbody>\n",
       "</table>\n",
       "<p>5148 rows × 15 columns</p>\n",
       "</div>"
      ],
      "text/plain": [
       "       chr      start        end                    dmr_id   2mo   9mo  18mo  \\\n",
       "0     chr1    5058817    5058849      chr1-5058817-5058849  0.65  0.60  0.90   \n",
       "1     chr1   12811482   12811725    chr1-12811482-12811725  0.36  0.52  0.56   \n",
       "2     chr1   12860419   12860477    chr1-12860419-12860477  0.43  0.59  0.64   \n",
       "3     chr1   14304934   14304939    chr1-14304934-14304939  0.68  0.62  0.47   \n",
       "4     chr1   14305208   14305213    chr1-14305208-14305213  0.61  0.37  0.45   \n",
       "...    ...        ...        ...                       ...   ...   ...   ...   \n",
       "5143  chrX  166439811  166439849  chrX-166439811-166439849  0.26  0.46  0.41   \n",
       "5144  chrX  166439811  166439849  chrX-166439811-166439849  0.26  0.46  0.41   \n",
       "5145  chrX  169274524  169274610  chrX-169274524-169274610  0.55  0.66  0.78   \n",
       "5146  chrX  169274524  169274610  chrX-169274524-169274610  0.55  0.66  0.78   \n",
       "5147  chrX  169927615  169927622  chrX-169927615-169927622  0.54  0.65  0.44   \n",
       "\n",
       "     gene_chr  gene_start   gene_end                gene_id gene_strand  \\\n",
       "0        chr1     4907576    5072285  ENSMUSG00000002459.13           -   \n",
       "1        chr1    12690277   12863192  ENSMUSG00000016918.11           +   \n",
       "2        chr1    12690277   12863192  ENSMUSG00000016918.11           +   \n",
       "3        chr1    14166954   14312235  ENSMUSG00000025932.10           -   \n",
       "4        chr1    14166954   14312235  ENSMUSG00000025932.10           -   \n",
       "...       ...         ...        ...                    ...         ...   \n",
       "5143     chrX   166388033  166442704   ENSMUSG00000040586.8           -   \n",
       "5144     chrX   166438574  166455140   ENSMUSG00000079317.6           +   \n",
       "5145     chrX   169248193  169322372   ENSMUSG00000031352.6           -   \n",
       "5146     chrX   168793099  169306435  ENSMUSG00000031355.12           +   \n",
       "5147     chrX   169683199  170007736  ENSMUSG00000035299.12           +   \n",
       "\n",
       "     gene_name       gene_type  old-young  \n",
       "0        Rgs20  protein_coding       0.25  \n",
       "1        Sulf1  protein_coding       0.20  \n",
       "2        Sulf1  protein_coding       0.21  \n",
       "3         Eya1  protein_coding      -0.21  \n",
       "4         Eya1  protein_coding      -0.16  \n",
       "...        ...             ...        ...  \n",
       "5143      Ofd1  protein_coding       0.15  \n",
       "5144   Trappc2  protein_coding       0.15  \n",
       "5145      Hccs  protein_coding       0.23  \n",
       "5146   Arhgap6  protein_coding       0.23  \n",
       "5147      Mid1  protein_coding      -0.10  \n",
       "\n",
       "[5148 rows x 15 columns]"
      ]
     },
     "execution_count": 20,
     "metadata": {},
     "output_type": "execute_result"
    }
   ],
   "source": [
    "mcg"
   ]
  },
  {
   "cell_type": "code",
   "execution_count": null,
   "id": "cce16bcf-32a5-476d-b568-f0e668e69a24",
   "metadata": {},
   "outputs": [],
   "source": [
    "data = load_data(y_val = \"DEG\", ct=_ct)\n",
    "\n",
    "# # For balanced testing (Regular Cross Entropy Loss)\n",
    "# if _testing_type == \"balanced\":\n",
    "#     X_balanced, y_balanced = get_balanced_data(data, method='balanced', y_val=\"DEG\")\n",
    "    \n",
    "# # For imbalanced training (loss function must accomodate for this)\n",
    "# elif _testing_type == \"imbalanced\":\n",
    "#     X_balanced = data['X']\n",
    "#     y_balanced = data['y']\n",
    "# else: \n",
    "#     raise(\"error\")\n",
    "\n",
    "# FEATURE_TYPES = ['mcg', 'atac', 'hic', 'genebody']\n",
    "# for k, v in X_balanced.items():\n",
    "#         print(k, len(v))"
   ]
  },
  {
   "cell_type": "code",
   "execution_count": null,
   "id": "a9bcde9e-0321-4cb9-9073-7c3a222e35b4",
   "metadata": {},
   "outputs": [],
   "source": []
  },
  {
   "cell_type": "code",
   "execution_count": null,
   "id": "d6ada414-4a4e-48aa-9601-e89b9d6ca015",
   "metadata": {},
   "outputs": [],
   "source": []
  }
 ],
 "metadata": {
  "kernelspec": {
   "display_name": "Python 3 (ipykernel)",
   "language": "python",
   "name": "python3"
  },
  "language_info": {
   "codemirror_mode": {
    "name": "ipython",
    "version": 3
   },
   "file_extension": ".py",
   "mimetype": "text/x-python",
   "name": "python",
   "nbconvert_exporter": "python",
   "pygments_lexer": "ipython3",
   "version": "3.10.15"
  }
 },
 "nbformat": 4,
 "nbformat_minor": 5
}
