{
 "cells": [
  {
   "cell_type": "code",
   "execution_count": 167,
   "id": "b563c434-832c-4667-ab79-fc21fe9c1ff6",
   "metadata": {},
   "outputs": [],
   "source": [
    "import os\n",
    "from pathlib import Path\n",
    "import pandas as pd\n",
    "import numpy as np\n",
    "import math \n",
    "# import ma=ytplotlib.pyplot as plt\n",
    "# import seaborn as sns"
   ]
  },
  {
   "cell_type": "code",
   "execution_count": 2,
   "id": "932c2264-e82b-4527-8c1c-ede2b59398b8",
   "metadata": {},
   "outputs": [
    {
     "name": "stdout",
     "output_type": "stream",
     "text": [
      "L23_IT_CTX_Glut\n",
      "DG_Glut\n",
      "CA1-ProS_Glut\n",
      "Astro-TE_NN\n",
      "Oligo_NN\n",
      "L6_IT_CTX_Glut\n",
      "L5_ET_CTX_Glut\n",
      "CA3_Glut\n",
      "Pvalb_Gaba\n",
      "L6_CT_CTX_Glut\n",
      "OPC_NN\n"
     ]
    }
   ],
   "source": [
    "cell_types = os.listdir('../../../ml_input/')\n",
    "for c in cell_types: \n",
    "    print(c)"
   ]
  },
  {
   "cell_type": "code",
   "execution_count": 364,
   "id": "00aabadd-1ba6-4ecb-bf77-70db83b8dc57",
   "metadata": {},
   "outputs": [],
   "source": [
    "ct = \"OPC_NN\"\n",
    "\n",
    "filepath = f\"/gale/ddn/aging/aklein/240903_aging_mice/aging_gene_prediction/aging_gene_prediction/ml_input/{ct}/\"\n",
    "\n",
    "outpath = Path(f\"/gale/ddn/aging/aklein/240903_aging_mice/aging_gene_prediction/aging_gene_prediction/ak_workspace/data/v2/{ct}/\")\n",
    "outpath.mkdir(exist_ok=True, parents=True)\n",
    "\n",
    "l_rna_file = 'luisa_rna'\n",
    "i_rna_file = 'inhouse_rna'"
   ]
  },
  {
   "cell_type": "code",
   "execution_count": 365,
   "id": "186f7f7d-5404-4062-a704-945f45caba24",
   "metadata": {},
   "outputs": [],
   "source": [
    "FEATURE_FILENAME_DICT = {'enhancer_DMR' : 'abc_enhancer.DMR_gene.csv',\n",
    "                         'enhancer_peak' : 'abc_enhancer.peak_gene.csv', \n",
    "                         'DAR' : 'aDAR_gene.csv', \n",
    "                         'DMR' : 'aDMR_gene.csv',\n",
    "                         'loops' : 'Loop_gene.csv.gz', \n",
    "                         'mcg_genebody' : 'mCG_genebody_gene.csv', \n",
    "                         'mch_genebody' : 'mCH_genebody_gene.csv', \n",
    "                         'atac' : 'peak_gene.csv', \n",
    "                         'luisa_rna' : 'luisa_RNA_DEG.csv', \n",
    "                         'inhouse_rna' : 'RNA_DEG.csv'}"
   ]
  },
  {
   "cell_type": "code",
   "execution_count": 366,
   "id": "4138d9dd-7eed-4ece-932e-76c2fc60e300",
   "metadata": {},
   "outputs": [
    {
     "name": "stdout",
     "output_type": "stream",
     "text": [
      "Output for Luisa RNA\n",
      "/gale/ddn/aging/aklein/240903_aging_mice/aging_gene_prediction/aging_gene_prediction/ak_workspace/data/v2/OPC_NN/OPC_NN.luisa_rna.csv\n",
      "Output for RNA\n",
      "/gale/ddn/aging/aklein/240903_aging_mice/aging_gene_prediction/aging_gene_prediction/ak_workspace/data/v2/OPC_NN/OPC_NN.inhouse_rna.csv\n"
     ]
    }
   ],
   "source": [
    "df_rna = pd.read_csv(f'{filepath}/{ct}.{FEATURE_FILENAME_DICT[l_rna_file]}', index_col=0)\n",
    "print(f\"Output for Luisa RNA\")\n",
    "print(f\"{outpath}/{ct}.luisa_rna.csv\")\n",
    "\n",
    "df_rna.to_csv(f\"{outpath}/{ct}.luisa_rna.csv\")\n",
    "\n",
    "df_rna = pd.read_csv(f'{filepath}/{ct}.{FEATURE_FILENAME_DICT[i_rna_file]}', index_col=0)\n",
    "print(f\"Output for RNA\")\n",
    "print(f\"{outpath}/{ct}.inhouse_rna.csv\")\n",
    "\n",
    "df_rna.to_csv(f\"{outpath}/{ct}.inhouse_rna.csv\")"
   ]
  },
  {
   "cell_type": "markdown",
   "id": "57cf70d4-4706-4ca7-9387-8e61a67578d7",
   "metadata": {},
   "source": [
    "# Functions"
   ]
  },
  {
   "cell_type": "markdown",
   "id": "5df4349a-5077-4aa9-8d0d-673971721422",
   "metadata": {},
   "source": [
    "## Meta"
   ]
  },
  {
   "cell_type": "code",
   "execution_count": 367,
   "id": "18f17121-3e06-4955-b6f2-5ddc7d652646",
   "metadata": {},
   "outputs": [],
   "source": [
    "# blank dataframe for meta\n",
    "df_meta = pd.DataFrame(index = df_rna.index)\n",
    "    \n",
    "# Get the gene length from the genebody files\n",
    "rel_path = FEATURE_FILENAME_DICT['mcg_genebody']\n",
    "fullpath = f'{filepath}/{ct}.{rel_path}'\n",
    "df_feat = pd.read_csv(fullpath).set_index('gene_name')\n",
    "df_meta['gene_length'] = df_feat.groupby('gene_name', observed=False)['gene_length'].mean()\n",
    "\n",
    "# get the gene type and chromosome number form the DAR / DMR files\n",
    "rel_path = FEATURE_FILENAME_DICT['DAR']\n",
    "fullpath = f'{filepath}/{ct}.{rel_path}'\n",
    "df_feat = pd.read_csv(fullpath).set_index('gene_name')\n",
    "df_meta['gene_type'] = df_feat.groupby('gene_name', observed=False)['gene_type'].first()\n",
    "df_meta['gene_chr'] = df_feat.groupby('gene_name', observed=False)['gene_chr'].first()\n",
    "\n",
    "df_meta.index.name = 'gene_name'"
   ]
  },
  {
   "cell_type": "code",
   "execution_count": 368,
   "id": "a976fa55-c9c4-47a3-b55b-e807007e69b4",
   "metadata": {},
   "outputs": [
    {
     "data": {
      "text/plain": [
       "gene_length    0.006685\n",
       "gene_type      0.789646\n",
       "gene_chr       0.789646\n",
       "dtype: float64"
      ]
     },
     "execution_count": 368,
     "metadata": {},
     "output_type": "execute_result"
    }
   ],
   "source": [
    "pd.isna(df_meta).sum() / df_meta.shape[0]"
   ]
  },
  {
   "cell_type": "code",
   "execution_count": 369,
   "id": "4e2fcd52-1dc3-4c22-b27d-4ca95eba6588",
   "metadata": {},
   "outputs": [
    {
     "name": "stdout",
     "output_type": "stream",
     "text": [
      "Output for Meta\n",
      "/gale/ddn/aging/aklein/240903_aging_mice/aging_gene_prediction/aging_gene_prediction/ak_workspace/data/v2/OPC_NN/OPC_NN.meta.csv\n"
     ]
    }
   ],
   "source": [
    "print(f\"Output for Meta\")\n",
    "print(f\"{outpath}/{ct}.meta.csv\")\n",
    "\n",
    "df_meta.to_csv(f\"{outpath}/{ct}.meta.csv\")"
   ]
  },
  {
   "cell_type": "markdown",
   "id": "5b958410-d5d4-45ff-a1ae-5efcd931ef8b",
   "metadata": {},
   "source": [
    "## ATAC"
   ]
  },
  {
   "cell_type": "code",
   "execution_count": 370,
   "id": "e31221ee-5fb3-4885-b186-6419bca7597c",
   "metadata": {},
   "outputs": [],
   "source": [
    "# Read the atac file (if it exists)\n",
    "def gen_atac_features(_feat, fullpath): \n",
    "    df_feat = pd.read_csv(fullpath).set_index('gene_name')\n",
    "    # df_feat.head()\n",
    "\n",
    "    # The list of features to generate\n",
    "    ATAC_FEATURES = ['9mo.2mo.log_ratio', '18mo.9mo.log_ratio' , '18mo.2mo.log_ratio', 'log2_distance']\n",
    "    df_feat['9mo.2mo.log_ratio'] = np.log2(df_feat['9mo'] + 1e-10) - np.log2(df_feat['2mo'] + 1e-10)\n",
    "    df_feat['18mo.9mo.log_ratio'] = np.log2(df_feat['18mo'] + 1e-10) - np.log2(df_feat['9mo'] + 1e-10)\n",
    "    df_feat['18mo.2mo.log_ratio'] = np.log2(df_feat['18mo'] + 1e-10) - np.log2(df_feat['2mo'] + 1e-10)\n",
    "    df_feat['log2_distance'] = np.log2((df_feat['distance']).abs().astype(np.float64) + 1e-10)\n",
    "\n",
    "    # the aggregating functions (Just mean and std for ATAC Features) \n",
    "    df_mean = df_feat.groupby(\"gene_name\", observed=True)[ATAC_FEATURES].mean()\n",
    "    df_mean.columns = [f\"{c}.mean\" for c in df_mean.columns]\n",
    "    \n",
    "    df_std = df_feat.groupby(\"gene_name\", observed=True)[ATAC_FEATURES].std()\n",
    "    df_std.columns = [f\"{c}.std\" for c in df_std.columns]\n",
    "    \n",
    "    df_res = df_mean.merge(df_std, left_on='gene_name', right_on = 'gene_name')\n",
    "    df_res['count'] = df_feat.groupby(\"gene_name\", observed=True).size()\n",
    "\n",
    "    return df_res\n",
    "    # print(\"Missing Values:\")\n",
    "    # print(pd.isna(df_res).sum() / df_res.shape[0] * 100)"
   ]
  },
  {
   "cell_type": "code",
   "execution_count": 371,
   "id": "f0a56c67-ef48-47e3-9c29-feb68fc35c0a",
   "metadata": {},
   "outputs": [
    {
     "name": "stdout",
     "output_type": "stream",
     "text": [
      "Output for atac\n",
      "/gale/ddn/aging/aklein/240903_aging_mice/aging_gene_prediction/aging_gene_prediction/ak_workspace/data/v2/OPC_NN/OPC_NN.atac.csv\n"
     ]
    }
   ],
   "source": [
    "_feat = 'atac'\n",
    "rel_path = FEATURE_FILENAME_DICT[_feat]\n",
    "fullpath = f'{filepath}/{ct}.{rel_path}'\n",
    "if Path(fullpath).exists(): \n",
    "    df_atac = gen_atac_features(_feat, fullpath)\n",
    "        \n",
    "    print(f\"Output for {_feat}\")\n",
    "    print(f\"{outpath}/{ct}.{_feat}.csv\")\n",
    "    \n",
    "    df_atac.to_csv(f\"{outpath}/{ct}.{_feat}.csv\")"
   ]
  },
  {
   "cell_type": "markdown",
   "id": "76cdbc24-9e16-49b2-b177-a720da3d6e85",
   "metadata": {},
   "source": [
    "## Genebody"
   ]
  },
  {
   "cell_type": "code",
   "execution_count": 372,
   "id": "a7976c3f-8155-42e8-9931-efa63238bce5",
   "metadata": {},
   "outputs": [],
   "source": [
    "def gen_genebody_features(_feat, fullpath): \n",
    "    # Read the dataframe\n",
    "    df_feat = pd.read_csv(fullpath).set_index('gene_name')\n",
    "    # display(df_feat.head())\n",
    "\n",
    "    # The list of features to generate\n",
    "    GENEBODY_FEATURES = ['9mo.2mo.log_ratio', '18mo.9mo.log_ratio', '18mo.2mo.log_ratio']\n",
    "    df_feat['9mo.2mo.log_ratio'] = np.log2(df_feat['9mo'] + 1e-10) - np.log2(df_feat['2mo'] + 1e-10)\n",
    "    df_feat['18mo.9mo.log_ratio'] = np.log2(df_feat['18mo'] + 1e-10) - np.log2(df_feat['9mo'] + 1e-10)\n",
    "    df_feat['18mo.2mo.log_ratio'] = np.log2(df_feat['18mo'] + 1e-10) - np.log2(df_feat['2mo'] + 1e-10)\n",
    "\n",
    "    df_res = df_feat.groupby(\"gene_name\", observed=True)[GENEBODY_FEATURES].mean()\n",
    "    return df_res"
   ]
  },
  {
   "cell_type": "code",
   "execution_count": 373,
   "id": "708c9181-424f-4dce-a5f5-d5387fa19dd5",
   "metadata": {},
   "outputs": [
    {
     "name": "stdout",
     "output_type": "stream",
     "text": [
      "Output for mch_genebody\n",
      "/gale/ddn/aging/aklein/240903_aging_mice/aging_gene_prediction/aging_gene_prediction/ak_workspace/data/v2/OPC_NN/OPC_NN.mch_genebody.csv\n"
     ]
    }
   ],
   "source": [
    "_feat = 'mch_genebody'\n",
    "rel_path = FEATURE_FILENAME_DICT[_feat]\n",
    "fullpath = f'{filepath}/{ct}.{rel_path}'\n",
    "if Path(fullpath).exists(): \n",
    "    df_gb_mch = gen_genebody_features(_feat, fullpath)\n",
    "    \n",
    "    print(f\"Output for {_feat}\")\n",
    "    print(f\"{outpath}/{ct}.{_feat}.csv\")\n",
    "    df_gb_mch.to_csv(f\"{outpath}/{ct}.{_feat}.csv\")"
   ]
  },
  {
   "cell_type": "code",
   "execution_count": 374,
   "id": "55267e4e-2c69-43c6-ba62-bdd3ec6dd600",
   "metadata": {},
   "outputs": [
    {
     "name": "stdout",
     "output_type": "stream",
     "text": [
      "Output for mcg_genebody\n",
      "/gale/ddn/aging/aklein/240903_aging_mice/aging_gene_prediction/aging_gene_prediction/ak_workspace/data/v2/OPC_NN/OPC_NN.mcg_genebody.csv\n"
     ]
    }
   ],
   "source": [
    "_feat = 'mcg_genebody'\n",
    "rel_path = FEATURE_FILENAME_DICT[_feat]\n",
    "fullpath = f'{filepath}/{ct}.{rel_path}'\n",
    "if Path(fullpath).exists(): \n",
    "    df_gb_mcg = gen_genebody_features(_feat, fullpath)\n",
    "    \n",
    "    print(f\"Output for {_feat}\")\n",
    "    print(f\"{outpath}/{ct}.{_feat}.csv\")\n",
    "    df_gb_mcg.to_csv(f\"{outpath}/{ct}.{_feat}.csv\")"
   ]
  },
  {
   "cell_type": "markdown",
   "id": "4da9a975-4597-4e36-a358-92279f48ddc1",
   "metadata": {},
   "source": [
    "## Loops\n",
    "\n",
    "The question: Should I be binning loops by the loop size? That is generating the mean, std, skew, max, min for different loop sizes? "
   ]
  },
  {
   "cell_type": "code",
   "execution_count": 375,
   "id": "2ae3564c-53d5-4fe0-a729-c29dc5151f04",
   "metadata": {},
   "outputs": [],
   "source": [
    "def gen_loop_features(_feat, fullpath):\n",
    "    # Read in data file\n",
    "    df_feat = pd.read_csv(fullpath).set_index('gene_name')\n",
    "\n",
    "    # The features to generate\n",
    "    LOOP_FEATURES = ['Qanova', 'Tanova', '9mo.2mo.Q', '18mo.9mo.Q', '18mo.2mo.Q', '9mo.2mo.T', '18mo.9mo.T', '18mo.2mo.T', 'a_length.log']\n",
    "    df_feat['9mo.2mo.Q'] = df_feat['9mo.Q'] - df_feat['2mo.Q']\n",
    "    df_feat['18mo.9mo.Q'] = df_feat['18mo.Q'] - df_feat['9mo.Q']\n",
    "    df_feat['18mo.2mo.Q'] = df_feat['18mo.Q'] - df_feat['2mo.Q']\n",
    "    df_feat['9mo.2mo.T'] = df_feat['9mo.T'] - df_feat['2mo.T']\n",
    "    df_feat['18mo.9mo.T'] = df_feat['18mo.T'] - df_feat['9mo.T']\n",
    "    df_feat['18mo.2mo.T'] = df_feat['18mo.T'] - df_feat['2mo.T']\n",
    "    df_feat['a_length.log'] = np.log2((df_feat['anchor2_distance'] - df_feat['anchor1_distance']).abs().astype(np.float64) + 10000) #10000 is the loop resolution\n",
    "    \n",
    "    # The aggregating functions to use: \n",
    "    funct_names = ['mean', 'median', 'std', 'skew', 'max', 'min']\n",
    "    df_res = df_feat.groupby(\"gene_name\", observed=True)[LOOP_FEATURES].agg(funct_names)\n",
    "    df_res.columns = df_res.columns.map('.'.join).str.strip('.')\n",
    "    df_res['count'] = df_feat.groupby(\"gene_name\", observed=True).size()\n",
    "    \n",
    "    return df_res"
   ]
  },
  {
   "cell_type": "code",
   "execution_count": 376,
   "id": "af34067d-6af2-4118-a61c-7b69972eef20",
   "metadata": {},
   "outputs": [
    {
     "name": "stdout",
     "output_type": "stream",
     "text": [
      "Output for loops\n",
      "/gale/ddn/aging/aklein/240903_aging_mice/aging_gene_prediction/aging_gene_prediction/ak_workspace/data/v2/OPC_NN/OPC_NN.loops.csv\n"
     ]
    }
   ],
   "source": [
    "_feat = 'loops'\n",
    "rel_path = FEATURE_FILENAME_DICT[_feat]\n",
    "fullpath = f'{filepath}/{ct}.{rel_path}'\n",
    "if Path(fullpath).exists(): \n",
    "    df_loop = gen_loop_features(_feat, fullpath)\n",
    "    \n",
    "    print(f\"Output for {_feat}\")\n",
    "    print(f\"{outpath}/{ct}.{_feat}.csv\")\n",
    "    df_loop.to_csv(f\"{outpath}/{ct}.{_feat}.csv\")"
   ]
  },
  {
   "cell_type": "markdown",
   "id": "a1ed5b0d-5b3f-43f9-b384-33822f2ef4c6",
   "metadata": {},
   "source": [
    "## Differential Regions"
   ]
  },
  {
   "cell_type": "code",
   "execution_count": 377,
   "id": "2aea2ed5-e38c-4cab-84a4-7925a2b28d14",
   "metadata": {},
   "outputs": [],
   "source": [
    "def gen_DR_features(_feat, fullpath):\n",
    "    # Read data file\n",
    "    df_feat = pd.read_csv(fullpath).set_index('gene_name')\n",
    "\n",
    "    # Features (DAR and DMR are slightly different so): \n",
    "    # if _feat == 'DMR': \n",
    "    #     DR_FEATURES = ['size', 'rel_pos', '9mo.2mo.log_ratio', '18mo.9mo.log_ratio', '18mo.2mo.log_ratio']\n",
    "    # elif _feat == 'DAR':\n",
    "    #     DR_FEATURES = ['rel_pos', '9mo.2mo.log_ratio', '18mo.9mo.log_ratio', '18mo.2mo.log_ratio']\n",
    "    # It appears that some of the cell types don't have the start, end and gene start and end, so for now:\n",
    "    # On the other hand some of the other ones don't have the distance parameter, so what to do? \n",
    "    DR_FEATURES = ['9mo.2mo.log_ratio', '18mo.9mo.log_ratio', '18mo.2mo.log_ratio']\n",
    "\n",
    "    # df_feat['size'] = df_feat['end'] - df_feat['start']\n",
    "    # df_feat['rel_pos'] = (df_feat['start'] - df_feat['gene_start']) / (df_feat['gene_end'] - df_feat['gene_start'])\n",
    "    df_feat['9mo.2mo.log_ratio'] = np.log2(df_feat['9mo'] + 1e-10) - np.log2(df_feat['2mo'] + 1e-10)\n",
    "    df_feat['18mo.9mo.log_ratio'] = np.log2(df_feat['18mo'] + 1e-10) - np.log2(df_feat['9mo'] + 1e-10)\n",
    "    df_feat['18mo.2mo.log_ratio'] = np.log2(df_feat['18mo'] + 1e-10) - np.log2(df_feat['2mo'] + 1e-10)\n",
    "    \n",
    "    df_res = df_feat.groupby(\"gene_name\", observed=True)[DR_FEATURES].mean()\n",
    "    df_res['count'] = df_feat.groupby(\"gene_name\", observed=True).size()\n",
    "    \n",
    "    return df_res"
   ]
  },
  {
   "cell_type": "code",
   "execution_count": 378,
   "id": "47bf9725-0f4d-4951-8b86-8843d55a368b",
   "metadata": {},
   "outputs": [
    {
     "name": "stdout",
     "output_type": "stream",
     "text": [
      "Output for DMR\n",
      "/gale/ddn/aging/aklein/240903_aging_mice/aging_gene_prediction/aging_gene_prediction/ak_workspace/data/v2/OPC_NN/OPC_NN.DMR.csv\n"
     ]
    }
   ],
   "source": [
    "_feat = 'DMR'\n",
    "rel_path = FEATURE_FILENAME_DICT[_feat]\n",
    "fullpath = f'{filepath}/{ct}.{rel_path}'\n",
    "if Path(fullpath).exists(): \n",
    "    df_dmr = gen_DR_features(_feat, fullpath)\n",
    "\n",
    "    print(f\"Output for {_feat}\")\n",
    "    print(f\"{outpath}/{ct}.{_feat}.csv\")\n",
    "    df_dmr.to_csv(f\"{outpath}/{ct}.{_feat}.csv\")"
   ]
  },
  {
   "cell_type": "code",
   "execution_count": 379,
   "id": "624c90bb-fd18-45b9-972a-446eae26dcf5",
   "metadata": {},
   "outputs": [
    {
     "name": "stdout",
     "output_type": "stream",
     "text": [
      "Output for DAR\n",
      "/gale/ddn/aging/aklein/240903_aging_mice/aging_gene_prediction/aging_gene_prediction/ak_workspace/data/v2/OPC_NN/OPC_NN.DAR.csv\n"
     ]
    }
   ],
   "source": [
    "_feat = 'DAR'\n",
    "rel_path = FEATURE_FILENAME_DICT[_feat]\n",
    "fullpath = f'{filepath}/{ct}.{rel_path}'\n",
    "if Path(fullpath).exists(): \n",
    "    df_dar = gen_DR_features(_feat, fullpath)\n",
    "\n",
    "    print(f\"Output for {_feat}\")\n",
    "    print(f\"{outpath}/{ct}.{_feat}.csv\")\n",
    "    df_dar.to_csv(f\"{outpath}/{ct}.{_feat}.csv\")"
   ]
  },
  {
   "cell_type": "markdown",
   "id": "b07733a4-90ea-4058-8da7-d01dac4acdb0",
   "metadata": {},
   "source": [
    "## ABC Enhancers"
   ]
  },
  {
   "cell_type": "code",
   "execution_count": 380,
   "id": "5d36b4a8-ed50-451a-933b-9d635740a528",
   "metadata": {},
   "outputs": [],
   "source": [
    "def gen_abc_features(_feat, fullpath):\n",
    "    # Read data file\n",
    "    df_feat = pd.read_csv(fullpath) # .set_index('gene_name')\n",
    "\n",
    "    # Features to generate\n",
    "    ENHANCER_ABC_FEATURES = ['9mo.2mo.activity.log_ratio', '18mo.2mo.activity.log_ratio', '18mo.9mo.activity.log_ratio',\n",
    "                             '9mo.2mo.contact.log_ratio', '18mo.2mo.contact.log_ratio', '18mo.9mo.contact.log_ratio',]\n",
    "                             # '9mo.2mo.abc_score.log_ratio', '18mo.2mo.abc_score.log_ratio', '18mo.9mo.abc_score.log_ratio']\n",
    "\n",
    "    df_feat['9mo.2mo.activity.log_ratio'] = np.log2(df_feat['9mo.activity'] + 1e-10) - np.log2(df_feat['2mo.activity'] + 1e-10)\n",
    "    df_feat['18mo.2mo.activity.log_ratio'] = np.log2(df_feat['18mo.activity'] + 1e-10) - np.log2(df_feat['2mo.activity'] + 1e-10)\n",
    "    df_feat['18mo.9mo.activity.log_ratio'] = np.log2(df_feat['18mo.activity'] + 1e-10) - np.log2(df_feat['9mo.activity'] + 1e-10)\n",
    "    \n",
    "    df_feat['9mo.2mo.contact.log_ratio'] = np.log2(df_feat['9mo.contact'] + 1e-10) - np.log2(df_feat['2mo.contact'] + 1e-10)\n",
    "    df_feat['18mo.2mo.contact.log_ratio'] = np.log2(df_feat['18mo.contact'] + 1e-10) - np.log2(df_feat['2mo.contact'] + 1e-10)\n",
    "    df_feat['18mo.9mo.contact.log_ratio'] = np.log2(df_feat['18mo.contact'] + 1e-10) - np.log2(df_feat['9mo.contact'] + 1e-10)\n",
    "    \n",
    "    # df_feat['9mo.2mo.abc_score.log_ratio'] = np.log2(df_feat['9mo.abc_score'] + 1e-10) - np.log2(df_feat['2mo.abc_score'] + 1e-10)\n",
    "    # df_feat['18mo.2mo.abc_score.log_ratio'] = np.log2(df_feat['18mo.abc_score'] + 1e-10) - np.log2(df_feat['2mo.abc_score'] + 1e-10)\n",
    "    # df_feat['18mo.9mo.abc_score.log_ratio'] = np.log2(df_feat['18mo.abc_score'] + 1e-10) - np.log2(df_feat['9mo.abc_score'] + 1e-10)\n",
    "\n",
    "    df_feat['end_distance'] = abs(df_feat['start'] - df_feat['gene_end'])\n",
    "    df_feat['start_distance'] = abs(df_feat['start'] - df_feat['gene_start'])\n",
    "    df_feat['e_distance'] = df_feat[['end_distance', 'start_distance']].min(axis=1)\n",
    "    df_feat = df_feat.drop(columns = ['end_distance', 'start_distance'])\n",
    "    \n",
    "    # binning by distance from gene: \n",
    "    eg_distance_cutoffs = [0, 10e3, 20e3, 1e6, 5e6]\n",
    "    bin_name_map = {'(0.0, 10000.0]' : '0 - 10kb', \n",
    "                    '(10000.0, 20000.0]' : '10kb - 20kb', \n",
    "                    '(20000.0, 1000000.0]' : '20kb - 1Mb', \n",
    "                    '(1000000.0, 5000000.0]' : '1Mb - 5Mb'\n",
    "                   }\n",
    "    df_feat['binned_distance'] = pd.cut(df_feat['e_distance'], eg_distance_cutoffs)\n",
    "    df_feat['binned_distance'] = df_feat['binned_distance'].apply(lambda x: bin_name_map[str(x)])\n",
    "    df_feat['binned_distance'] = df_feat['binned_distance'].cat.reorder_categories([ '0 - 10kb', '10kb - 20kb', '20kb - 1Mb', '1Mb - 5Mb'], ordered=True)\n",
    "\n",
    "    funct_names = ['mean', 'median', 'std', 'skew', 'max', 'min', 'count']\n",
    "    df_res = df_feat.groupby(['gene_name', 'binned_distance'], observed=True)[ENHANCER_ABC_FEATURES].agg(funct_names)\n",
    "    df_res.columns = df_res.columns.map('.'.join).str.strip('.')\n",
    "\n",
    "    df_res_dist = pd.DataFrame(index=df_feat['gene_name'].unique())\n",
    "    df_res_dist.index.name = 'gene_name'\n",
    "\n",
    "    df_res = df_res.reset_index().copy()\n",
    "    for _cat in df_res['binned_distance'].cat.categories:\n",
    "        cat = _cat.replace(\" \", \"\")\n",
    "        df_temp = df_res.loc[df_res['binned_distance'] == _cat]\n",
    "        df_temp = df_temp.set_index('gene_name').drop(columns = \"binned_distance\")\n",
    "        df_temp.columns = [f\"{c}.{cat}\" for c in df_temp.columns]\n",
    "        df_res_dist = df_res_dist.merge(df_temp, how='left',  left_on='gene_name', right_on = 'gene_name')\n",
    "        \n",
    "    df_res_dist['count'] = df_feat.groupby(\"gene_name\", observed=True).size()\n",
    "    return df_res_dist"
   ]
  },
  {
   "cell_type": "code",
   "execution_count": 381,
   "id": "cef659b9-5bff-4d8c-9e52-c2a665302f79",
   "metadata": {},
   "outputs": [
    {
     "name": "stdout",
     "output_type": "stream",
     "text": [
      "Output for enhancer_peak\n",
      "/gale/ddn/aging/aklein/240903_aging_mice/aging_gene_prediction/aging_gene_prediction/ak_workspace/data/v2/OPC_NN/OPC_NN.enhancer_peak.csv\n"
     ]
    }
   ],
   "source": [
    "_feat = 'enhancer_peak'\n",
    "rel_path = FEATURE_FILENAME_DICT[_feat]\n",
    "fullpath = f'{filepath}/{ct}.{rel_path}'\n",
    "if Path(fullpath).exists(): \n",
    "    df_abc_peak = gen_abc_features(_feat, fullpath)\n",
    "    \n",
    "    print(f\"Output for {_feat}\")\n",
    "    print(f\"{outpath}/{ct}.{_feat}.csv\")\n",
    "    df_abc_peak .to_csv(f\"{outpath}/{ct}.{_feat}.csv\")"
   ]
  },
  {
   "cell_type": "code",
   "execution_count": 382,
   "id": "a46b0168-86ef-43c6-9d13-6f600034ae9a",
   "metadata": {},
   "outputs": [
    {
     "name": "stdout",
     "output_type": "stream",
     "text": [
      "Output for enhancer_DMR\n",
      "/gale/ddn/aging/aklein/240903_aging_mice/aging_gene_prediction/aging_gene_prediction/ak_workspace/data/v2/OPC_NN/OPC_NN.enhancer_DMR.csv\n"
     ]
    }
   ],
   "source": [
    "_feat = 'enhancer_DMR'\n",
    "rel_path = FEATURE_FILENAME_DICT[_feat]\n",
    "fullpath = f'{filepath}/{ct}.{rel_path}'\n",
    "if Path(fullpath).exists(): \n",
    "    df_abc_dmr = gen_abc_features(_feat, fullpath)\n",
    "        \n",
    "    print(f\"Output for {_feat}\")\n",
    "    print(f\"{outpath}/{ct}.{_feat}.csv\")\n",
    "    df_abc_dmr.to_csv(f\"{outpath}/{ct}.{_feat}.csv\")"
   ]
  },
  {
   "cell_type": "markdown",
   "id": "eec2fd66-4f3a-43a2-afa2-91c51fc1d4b9",
   "metadata": {},
   "source": [
    "## Old"
   ]
  },
  {
   "cell_type": "code",
   "execution_count": 268,
   "id": "4397b131-d375-4e82-bda6-e1329032e3d5",
   "metadata": {},
   "outputs": [],
   "source": [
    "    \n",
    "    # # Mean \n",
    "    # df_feat_mean = pd.DataFrame(df_feat.groupby(['gene_name', 'binned_distance'], observed=True)[ENHANCER_ABC_FEATURES].mean()).reset_index()\n",
    "    \n",
    "    # df_feat_mean_dist = pd.DataFrame(index=df_feat['gene_name'].unique())\n",
    "    # df_feat_mean_dist.index.name = 'gene_name'\n",
    "    \n",
    "    # for _cat in df_feat_mean['binned_distance'].cat.categories:\n",
    "    #     # print(_cat, _cat.replace(\" \", \"\"))\n",
    "    #     cat = _cat.replace(\" \", \"\")\n",
    "        \n",
    "    #     df_temp = df_feat_mean.loc[df_feat_mean['binned_distance'] == _cat]\n",
    "    #     df_temp = df_temp.set_index('gene_name').drop(columns = \"binned_distance\")\n",
    "    #     df_temp.columns = [f\"{c}.{cat}\" for c in df_temp.columns]\n",
    "    #     df_feat_mean_dist = df_feat_mean_dist.merge(df_temp, left_on='gene_name', right_on = 'gene_name')\n",
    "    \n",
    "    # # Max \n",
    "    # df_feat_max = pd.DataFrame(df_feat.groupby(['gene_name', 'binned_distance'], observed=True)[ENHANCER_ABC_FEATURES].max()).reset_index()\n",
    "    \n",
    "    # df_feat_max_dist = pd.DataFrame(index=df_feat['gene_name'].unique())\n",
    "    # df_feat_max_dist.index.name = 'gene_name'\n",
    "    \n",
    "    # for _cat in df_feat_max['binned_distance'].cat.categories:\n",
    "    #     # print(_cat, _cat.replace(\" \", \"\"))\n",
    "    #     cat = _cat.replace(\" \", \"\")\n",
    "        \n",
    "    #     df_temp = df_feat_max.loc[df_feat_max['binned_distance'] == _cat]\n",
    "    #     df_temp = df_temp.set_index('gene_name').drop(columns = \"binned_distance\")\n",
    "    #     df_temp.columns = [f\"{c}.{cat}\" for c in df_temp.columns]\n",
    "    #     df_feat_max_dist = df_feat_max_dist.merge(df_temp, left_on='gene_name', right_on = 'gene_name')\n",
    "    \n",
    "    \n",
    "    # # Min\n",
    "    # df_feat_min = pd.DataFrame(df_feat.groupby(['gene_name', 'binned_distance'], observed=True)[ENHANCER_ABC_FEATURES].min()).reset_index()\n",
    "    \n",
    "    # df_feat_min_dist = pd.DataFrame(index=df_feat['gene_name'].unique())\n",
    "    # df_feat_min_dist.index.name = 'gene_name'\n",
    "    \n",
    "    # for _cat in df_feat_min['binned_distance'].cat.categories:\n",
    "    #     # print(_cat, _cat.replace(\" \", \"\"))\n",
    "    #     cat = _cat.replace(\" \", \"\")\n",
    "        \n",
    "    #     df_temp = df_feat_min.loc[df_feat_min['binned_distance'] == _cat]\n",
    "    #     df_temp = df_temp.set_index('gene_name').drop(columns = \"binned_distance\")\n",
    "    #     df_temp.columns = [f\"{c}.{cat}\" for c in df_temp.columns]\n",
    "    #     df_feat_min_dist = df_feat_min_dist.merge(df_temp, left_on='gene_name', right_on = 'gene_name')\n",
    "    \n",
    "    \n",
    "    # # Merge\n",
    "    # df_feat_res = df_feat_mean_dist.merge(df_feat_max_dist, left_on='gene_name', right_on = 'gene_name', suffixes=(\".mean\", \"\"))\n",
    "    # df_feat_res = df_feat_res.merge(df_feat_min_dist, left_on='gene_name', right_on = 'gene_name', suffixes=(\".max\", \".min\"))\n",
    "    # # return df_feat_res"
   ]
  }
 ],
 "metadata": {
  "kernelspec": {
   "display_name": "Python 3 (ipykernel)",
   "language": "python",
   "name": "python3"
  },
  "language_info": {
   "codemirror_mode": {
    "name": "ipython",
    "version": 3
   },
   "file_extension": ".py",
   "mimetype": "text/x-python",
   "name": "python",
   "nbconvert_exporter": "python",
   "pygments_lexer": "ipython3",
   "version": "3.10.15"
  }
 },
 "nbformat": 4,
 "nbformat_minor": 5
}
