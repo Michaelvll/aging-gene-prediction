{
 "cells": [
  {
   "cell_type": "code",
   "execution_count": 74,
   "id": "a6567a4d-7951-4187-a116-f8876cba197b",
   "metadata": {},
   "outputs": [],
   "source": [
    "import os\n",
    "from pathlib import Path\n",
    "\n",
    "import pandas as pd\n",
    "import numpy as np\n",
    "\n",
    "import matplotlib.pyplot as plt\n",
    "from matplotlib.backends.backend_pdf import PdfPages\n",
    "import seaborn as sns"
   ]
  },
  {
   "cell_type": "code",
   "execution_count": 2,
   "id": "131ff55a-bc9c-4cfb-9769-a2b234afe06d",
   "metadata": {},
   "outputs": [
    {
     "name": "stdout",
     "output_type": "stream",
     "text": [
      "L23_IT_CTX_Glut\n",
      "DG_Glut\n",
      "CA1-ProS_Glut\n",
      "Astro-TE_NN\n",
      "Oligo_NN\n",
      "L6_IT_CTX_Glut\n",
      "L5_ET_CTX_Glut\n",
      "CA3_Glut\n",
      "Pvalb_Gaba\n",
      "L6_CT_CTX_Glut\n",
      "OPC_NN\n"
     ]
    }
   ],
   "source": [
    "cell_types = os.listdir('../ml_input/')\n",
    "for c in cell_types: \n",
    "    print(c)"
   ]
  },
  {
   "cell_type": "code",
   "execution_count": 106,
   "id": "9c563753-12db-43b9-bfa9-9829e4b7b0d2",
   "metadata": {},
   "outputs": [],
   "source": [
    "ct = \"L23_IT_CTX_Glut\"\n",
    "datapath = Path(f\"/gale/ddn/aging/aklein/240903_aging_mice/aging_gene_prediction/aging_gene_prediction/ak_workspace/data/v1/{ct}/\")"
   ]
  },
  {
   "cell_type": "code",
   "execution_count": 107,
   "id": "9772533b-e06f-4a66-a0dd-cec3b3da1252",
   "metadata": {},
   "outputs": [],
   "source": [
    "FEATURES = ['meta', 'atac', 'loops', 'DAR', 'DMR', 'mcg_genebody', 'mch_genebody', 'enhancer_DMR', 'enhancer_peak']"
   ]
  },
  {
   "cell_type": "code",
   "execution_count": 108,
   "id": "5cae565c-c16a-4995-8585-d32a0de3e149",
   "metadata": {},
   "outputs": [],
   "source": [
    "df_rna = pd.read_csv(f'{datapath}/{ct}.rna.csv', index_col=0)\n",
    "gene_order = df_rna.index"
   ]
  },
  {
   "cell_type": "code",
   "execution_count": 109,
   "id": "7552ef05-0e2e-4d0e-8194-812fe7baac38",
   "metadata": {},
   "outputs": [],
   "source": [
    "def label_missing(rects, ax): \n",
    "    for rect in rects: \n",
    "        height = rect.get_height()\n",
    "        ax.text(rect.get_x() + rect.get_width() / 2, height, f'{height:.3f}%', ha='center', va='bottom',)"
   ]
  },
  {
   "cell_type": "code",
   "execution_count": 92,
   "id": "7903546c-e4d6-45ca-ac53-3ada37e5c4c2",
   "metadata": {},
   "outputs": [],
   "source": [
    "with PdfPages(f\"{datapath}/missing_plot.pdf\") as pdf:\n",
    "    for _feat in FEATURES: \n",
    "        inpath = Path(f'{datapath}/{ct}.{_feat}.csv')\n",
    "        if inpath.exists(): \n",
    "            df_feat = pd.read_csv(inpath, index_col=0).reindex(gene_order)\n",
    "    \n",
    "            missing = pd.isna(df_feat).sum() / df_feat.shape[0] * 100\n",
    "    \n",
    "            num_feats = df_feat.shape[1]\n",
    "            num_cols = min(5, int(num_feats / 10) + 1)\n",
    "            num_rows = int(num_feats / 50) + 1\n",
    "    \n",
    "            # print(num_cols, num_rows)\n",
    "            fig, axes = plt.subplots(num_rows, num_cols, figsize=(num_cols * 10, num_rows * 8), constrained_layout=True)\n",
    "            if num_cols  * num_rows == 1:\n",
    "                sns.barplot(missing, color='teal', ax=axes)\n",
    "                label_missing(axes.patches, axes)\n",
    "                axes.set_ylim((0, 100))\n",
    "                axes.set_ylabel(\"Percent Missing\")\n",
    "                axes.set_xlabel(\"Feature\")\n",
    "                for label in axes.get_xticklabels(): \n",
    "                        label.set_rotation(45)\n",
    "                        label.set_ha('right')\n",
    "                plt.suptitle(f\"Missing Values in {_feat}\")\n",
    "                # plt.show()\n",
    "                pdf.savefig(fig)\n",
    "                plt.close()\n",
    "                \n",
    "            else: \n",
    "                for i, idx in enumerate(range(0, num_feats, 10)): \n",
    "                    ax = axes.flatten()[i]\n",
    "                    \n",
    "                    missing_curr = missing[idx:idx+10]\n",
    "                    sns.barplot(missing_curr, color='teal', ax=ax)\n",
    "                    label_missing(ax.patches, ax)\n",
    "                \n",
    "                    ax.set_ylim((0, 100))\n",
    "                    ax.set_ylabel(\"Percent Missing\")\n",
    "                    ax.set_xlabel(\"Feature\")\n",
    "                    for label in ax.get_xticklabels(): \n",
    "                        label.set_rotation(45)\n",
    "                        label.set_ha('right')\n",
    "                        \n",
    "                plt.suptitle(f\"Missing Values in {_feat}\")\n",
    "                # plt.show()\n",
    "                pdf.savefig(fig)\n",
    "                plt.close()\n",
    "            \n",
    "            # display(df_feat)\n",
    "        else: \n",
    "            print(f\"{_feat} does not exist for {ct}\")"
   ]
  },
  {
   "cell_type": "code",
   "execution_count": 124,
   "id": "6f69f5f6-92b1-4833-8258-dbbe2c7cb749",
   "metadata": {},
   "outputs": [
    {
     "name": "stdout",
     "output_type": "stream",
     "text": [
      "9mo.2mo.contact.log_ratio.skew.10kb-20kb in enhancer_DMR does not plot\n",
      "18mo.2mo.contact.log_ratio.skew.10kb-20kb in enhancer_DMR does not plot\n",
      "18mo.9mo.contact.log_ratio.skew.10kb-20kb in enhancer_DMR does not plot\n"
     ]
    }
   ],
   "source": [
    "with PdfPages(f\"{datapath}/distribution_plot.pdf\") as pdf:\n",
    "    for _feat in FEATURES: \n",
    "        inpath = Path(f'{datapath}/{ct}.{_feat}.csv')\n",
    "        if inpath.exists(): \n",
    "            df_feat = pd.read_csv(inpath, index_col=0).reindex(gene_order)\n",
    "        \n",
    "            num_feats = df_feat.shape[1]\n",
    "            num_cols = min(5, int(num_feats) + 1)\n",
    "            num_rows = int(num_feats / 5) + 1\n",
    "    \n",
    "            # print(num_cols, num_rows)\n",
    "            fig, axes = plt.subplots(num_rows, num_cols, figsize=(num_cols * 10, num_rows * 8), constrained_layout=True)\n",
    "            for i in range(num_feats): \n",
    "                ax = axes.flatten()[i]\n",
    "                feat = pd.DataFrame(df_feat.iloc[:, i])\n",
    "                feat['deg'] = df_rna['DEG']\n",
    "                cc = feat.columns[0]\n",
    "                try: \n",
    "                    sns.histplot(feat, x=cc, hue='deg', stat='density', element='step', palette='bright', ax=ax)        \n",
    "                except: \n",
    "                    print(f\"{cc} in {_feat} does not plot\")\n",
    "                    \n",
    "            plt.suptitle(f\"Feature Distributions Values in {_feat}\")\n",
    "            # plt.show()\n",
    "            pdf.savefig(fig)\n",
    "            plt.close()\n",
    "            \n",
    "        else: \n",
    "            print(f\"{_feat} does not exist for {ct}\")\n",
    "        # break"
   ]
  },
  {
   "cell_type": "code",
   "execution_count": 131,
   "id": "61076b49-26dc-454f-9f24-3d335f1d5341",
   "metadata": {},
   "outputs": [],
   "source": [
    "feat['logfc'] = df_rna['avg_log2FC']"
   ]
  },
  {
   "cell_type": "code",
   "execution_count": 190,
   "id": "d08d1d77-b794-437f-b7b4-dfa6065610e2",
   "metadata": {},
   "outputs": [
    {
     "data": {
      "image/png": "[encoded data removed]",
      "text/plain": [
       "<Figure size 640x480 with 1 Axes>"
      ]
     },
     "metadata": {},
     "output_type": "display_data"
    }
   ],
   "source": [
    "fig, ax = plt.subplots()\n",
    "x = feat[~feat[cc].isna()][cc].values\n",
    "y = feat[~feat[cc].isna()]['logfc'].values\n",
    "ax.scatter(x, y, s=5, marker='.', c='k') \n",
    "\n",
    "b, a = np.polyfit(x, y, deg=1)\n",
    "xseq = np.linspace(min(x), max(x), 100)\n",
    "ax.plot(xseq, a+b*xseq, color='r', lw=1)\n",
    "\n",
    "plt.show()"
   ]
  },
  {
   "cell_type": "code",
   "execution_count": 196,
   "id": "0f6246a3-07ec-4ccf-a06d-2566d718afd6",
   "metadata": {},
   "outputs": [
    {
     "name": "stdout",
     "output_type": "stream",
     "text": [
      "gene_type in meta is non integer / some other problem arose\n",
      "gene_chr in meta is non integer / some other problem arose\n"
     ]
    },
    {
     "name": "stderr",
     "output_type": "stream",
     "text": [
      "/gale/ddn/aging/aklein/240903_aging_mice/aging_gene_prediction/aging_gene_prediction/ak_workspace/data/generate_features/ipykernel_97545/4183545282.py:25: RankWarning: Polyfit may be poorly conditioned\n",
      "  b, a = np.polyfit(x, y, deg=1)\n",
      "/gale/ddn/aging/aklein/240903_aging_mice/aging_gene_prediction/aging_gene_prediction/ak_workspace/data/generate_features/ipykernel_97545/4183545282.py:25: RankWarning: Polyfit may be poorly conditioned\n",
      "  b, a = np.polyfit(x, y, deg=1)\n",
      "/gale/ddn/aging/aklein/240903_aging_mice/aging_gene_prediction/aging_gene_prediction/ak_workspace/data/generate_features/ipykernel_97545/4183545282.py:25: RankWarning: Polyfit may be poorly conditioned\n",
      "  b, a = np.polyfit(x, y, deg=1)\n",
      "/gale/ddn/aging/aklein/240903_aging_mice/aging_gene_prediction/aging_gene_prediction/ak_workspace/data/generate_features/ipykernel_97545/4183545282.py:25: RankWarning: Polyfit may be poorly conditioned\n",
      "  b, a = np.polyfit(x, y, deg=1)\n",
      "/gale/netapp/home2/aklein/miniconda3/envs/agp/lib/python3.10/site-packages/numpy/lib/polynomial.py:668: RuntimeWarning: invalid value encountered in divide\n",
      "  lhs /= scale\n",
      "/gale/ddn/aging/aklein/240903_aging_mice/aging_gene_prediction/aging_gene_prediction/ak_workspace/data/generate_features/ipykernel_97545/4183545282.py:25: RankWarning: Polyfit may be poorly conditioned\n",
      "  b, a = np.polyfit(x, y, deg=1)\n",
      "/gale/ddn/aging/aklein/240903_aging_mice/aging_gene_prediction/aging_gene_prediction/ak_workspace/data/generate_features/ipykernel_97545/4183545282.py:25: RankWarning: Polyfit may be poorly conditioned\n",
      "  b, a = np.polyfit(x, y, deg=1)\n",
      "/gale/netapp/home2/aklein/miniconda3/envs/agp/lib/python3.10/site-packages/numpy/lib/polynomial.py:668: RuntimeWarning: invalid value encountered in divide\n",
      "  lhs /= scale\n",
      "/gale/ddn/aging/aklein/240903_aging_mice/aging_gene_prediction/aging_gene_prediction/ak_workspace/data/generate_features/ipykernel_97545/4183545282.py:25: RankWarning: Polyfit may be poorly conditioned\n",
      "  b, a = np.polyfit(x, y, deg=1)\n",
      "/gale/ddn/aging/aklein/240903_aging_mice/aging_gene_prediction/aging_gene_prediction/ak_workspace/data/generate_features/ipykernel_97545/4183545282.py:25: RankWarning: Polyfit may be poorly conditioned\n",
      "  b, a = np.polyfit(x, y, deg=1)\n",
      "/gale/ddn/aging/aklein/240903_aging_mice/aging_gene_prediction/aging_gene_prediction/ak_workspace/data/generate_features/ipykernel_97545/4183545282.py:25: RankWarning: Polyfit may be poorly conditioned\n",
      "  b, a = np.polyfit(x, y, deg=1)\n",
      "/gale/ddn/aging/aklein/240903_aging_mice/aging_gene_prediction/aging_gene_prediction/ak_workspace/data/generate_features/ipykernel_97545/4183545282.py:25: RankWarning: Polyfit may be poorly conditioned\n",
      "  b, a = np.polyfit(x, y, deg=1)\n"
     ]
    },
    {
     "name": "stdout",
     "output_type": "stream",
     "text": [
      "9mo.2mo.activity.log_ratio.skew.1Mb-5Mb in enhancer_DMR is non integer / some other problem arose\n",
      "18mo.9mo.activity.log_ratio.skew.1Mb-5Mb in enhancer_DMR is non integer / some other problem arose\n",
      "9mo.2mo.contact.log_ratio.std.1Mb-5Mb in enhancer_DMR is non integer / some other problem arose\n",
      "\n",
      "Intel MKL ERROR: Parameter 4 was incorrect on entry to DGELSD.\n",
      "9mo.2mo.contact.log_ratio.skew.1Mb-5Mb in enhancer_DMR is non integer / some other problem arose\n",
      "18mo.9mo.contact.log_ratio.std.1Mb-5Mb in enhancer_DMR is non integer / some other problem arose\n",
      "\n",
      "Intel MKL ERROR: Parameter 4 was incorrect on entry to DGELSD.\n",
      "18mo.9mo.contact.log_ratio.skew.1Mb-5Mb in enhancer_DMR is non integer / some other problem arose\n",
      "9mo.2mo.abc_score.log_ratio.skew.1Mb-5Mb in enhancer_DMR is non integer / some other problem arose\n",
      "18mo.9mo.abc_score.log_ratio.skew.1Mb-5Mb in enhancer_DMR is non integer / some other problem arose\n"
     ]
    }
   ],
   "source": [
    "with PdfPages(f\"{datapath}/correlation_plot.pdf\") as pdf:\n",
    "    for _feat in FEATURES: \n",
    "        inpath = Path(f'{datapath}/{ct}.{_feat}.csv')\n",
    "        if inpath.exists(): \n",
    "            df_feat = pd.read_csv(inpath, index_col=0).reindex(gene_order)\n",
    "    \n",
    "            missing = pd.isna(df_feat).sum() / df_feat.shape[0] * 100\n",
    "    \n",
    "            num_feats = df_feat.shape[1]\n",
    "            num_cols = min(5, int(num_feats) + 1)\n",
    "            num_rows = int(num_feats / 5) + 1\n",
    "    \n",
    "            # print(num_cols, num_rows)\n",
    "            fig, axes = plt.subplots(num_rows, num_cols, figsize=(num_cols * 10, num_rows * 8), constrained_layout=True)\n",
    "            for i in range(num_feats): \n",
    "                ax = axes.flatten()[i]\n",
    "                feat = pd.DataFrame(df_feat.iloc[:, i])\n",
    "                feat['logfc'] = df_rna['avg_log2FC']\n",
    "                cc = feat.columns[0]\n",
    "    \n",
    "                try: \n",
    "                    x = feat[~feat[cc].isna()][cc].values\n",
    "                    y = feat[~feat[cc].isna()]['logfc'].values\n",
    "                    ax.scatter(x, y, s=10, marker='.', c='k') \n",
    "                    b, a = np.polyfit(x, y, deg=1)\n",
    "                    xseq = np.linspace(min(x), max(x), 100)\n",
    "                    ax.plot(xseq, a+b*xseq, color='r', lw=2)\n",
    "                    ax.set_xlabel(f\"{cc}\")\n",
    "                    ax.set_ylabel(f\"avg_log2FC\")\n",
    "                    ax.set_title(f\"Correlation for {cc}\")\n",
    "                    \n",
    "                except: \n",
    "                    print(f\"{cc} in {_feat} is non integer / some other problem arose\")\n",
    "                    \n",
    "            plt.suptitle(f\"Feature Correlation Values in {_feat}\")\n",
    "            # plt.show()\n",
    "            pdf.savefig(fig)\n",
    "            plt.close()\n",
    "            \n",
    "        else: \n",
    "            print(f\"{_feat} does not exist for {ct}\")\n",
    "        # break"
   ]
  },
  {
   "cell_type": "code",
   "execution_count": null,
   "id": "ca8ff738-7f95-4022-8782-cffe03587c7d",
   "metadata": {},
   "outputs": [],
   "source": []
  }
 ],
 "metadata": {
  "kernelspec": {
   "display_name": "Python 3 (ipykernel)",
   "language": "python",
   "name": "python3"
  },
  "language_info": {
   "codemirror_mode": {
    "name": "ipython",
    "version": 3
   },
   "file_extension": ".py",
   "mimetype": "text/x-python",
   "name": "python",
   "nbconvert_exporter": "python",
   "pygments_lexer": "ipython3",
   "version": "3.10.15"
  }
 },
 "nbformat": 4,
 "nbformat_minor": 5
}
