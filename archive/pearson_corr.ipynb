{
 "cells": [
  {
   "cell_type": "code",
   "execution_count": 28,
   "metadata": {},
   "outputs": [],
   "source": [
    "import pandas as pd\n",
    "import seaborn as sns\n",
    "from matplotlib import pyplot as plt\n",
    "from scipy.stats import pearsonr"
   ]
  },
  {
   "cell_type": "code",
   "execution_count": 5,
   "metadata": {},
   "outputs": [
    {
     "data": {
      "text/html": [
       "<div>\n",
       "<style scoped>\n",
       "    .dataframe tbody tr th:only-of-type {\n",
       "        vertical-align: middle;\n",
       "    }\n",
       "\n",
       "    .dataframe tbody tr th {\n",
       "        vertical-align: top;\n",
       "    }\n",
       "\n",
       "    .dataframe thead th {\n",
       "        text-align: right;\n",
       "    }\n",
       "</style>\n",
       "<table border=\"1\" class=\"dataframe\">\n",
       "  <thead>\n",
       "    <tr style=\"text-align: right;\">\n",
       "      <th></th>\n",
       "      <th>stats</th>\n",
       "      <th>fdr</th>\n",
       "      <th>log2(old/young)</th>\n",
       "      <th>DEG</th>\n",
       "    </tr>\n",
       "    <tr>\n",
       "      <th>gene</th>\n",
       "      <th></th>\n",
       "      <th></th>\n",
       "      <th></th>\n",
       "      <th></th>\n",
       "    </tr>\n",
       "  </thead>\n",
       "  <tbody>\n",
       "    <tr>\n",
       "      <th>Xkr4</th>\n",
       "      <td>43.672122</td>\n",
       "      <td>2.106014e-09</td>\n",
       "      <td>0.054779</td>\n",
       "      <td>0</td>\n",
       "    </tr>\n",
       "    <tr>\n",
       "      <th>Gm1992</th>\n",
       "      <td>9.656087</td>\n",
       "      <td>1.843535e-02</td>\n",
       "      <td>-0.461790</td>\n",
       "      <td>0</td>\n",
       "    </tr>\n",
       "    <tr>\n",
       "      <th>Gm19938</th>\n",
       "      <td>25.863788</td>\n",
       "      <td>1.032846e-05</td>\n",
       "      <td>0.179678</td>\n",
       "      <td>0</td>\n",
       "    </tr>\n",
       "    <tr>\n",
       "      <th>Mrpl15</th>\n",
       "      <td>1.435565</td>\n",
       "      <td>5.860782e-01</td>\n",
       "      <td>0.021702</td>\n",
       "      <td>0</td>\n",
       "    </tr>\n",
       "    <tr>\n",
       "      <th>Lypla1</th>\n",
       "      <td>11.053947</td>\n",
       "      <td>9.864865e-03</td>\n",
       "      <td>0.114144</td>\n",
       "      <td>0</td>\n",
       "    </tr>\n",
       "  </tbody>\n",
       "</table>\n",
       "</div>"
      ],
      "text/plain": [
       "             stats           fdr  log2(old/young)  DEG\n",
       "gene                                                  \n",
       "Xkr4     43.672122  2.106014e-09         0.054779    0\n",
       "Gm1992    9.656087  1.843535e-02        -0.461790    0\n",
       "Gm19938  25.863788  1.032846e-05         0.179678    0\n",
       "Mrpl15    1.435565  5.860782e-01         0.021702    0\n",
       "Lypla1   11.053947  9.864865e-03         0.114144    0"
      ]
     },
     "execution_count": 5,
     "metadata": {},
     "output_type": "execute_result"
    }
   ],
   "source": [
    "rna = pd.read_csv(f\"{ct}.RNA_DEG.csv\", index_col=0)\n",
    "rna.head()"
   ]
  },
  {
   "cell_type": "code",
   "execution_count": 6,
   "metadata": {},
   "outputs": [
    {
     "data": {
      "text/html": [
       "<div>\n",
       "<style scoped>\n",
       "    .dataframe tbody tr th:only-of-type {\n",
       "        vertical-align: middle;\n",
       "    }\n",
       "\n",
       "    .dataframe tbody tr th {\n",
       "        vertical-align: top;\n",
       "    }\n",
       "\n",
       "    .dataframe thead th {\n",
       "        text-align: right;\n",
       "    }\n",
       "</style>\n",
       "<table border=\"1\" class=\"dataframe\">\n",
       "  <thead>\n",
       "    <tr style=\"text-align: right;\">\n",
       "      <th></th>\n",
       "      <th>start</th>\n",
       "      <th>end</th>\n",
       "      <th>dmr_id</th>\n",
       "      <th>2mo</th>\n",
       "      <th>9mo</th>\n",
       "      <th>18mo</th>\n",
       "      <th>gene_chr</th>\n",
       "      <th>gene_start</th>\n",
       "      <th>gene_end</th>\n",
       "      <th>gene_id</th>\n",
       "      <th>gene_strand</th>\n",
       "      <th>gene_name</th>\n",
       "      <th>gene_type</th>\n",
       "      <th>old-young</th>\n",
       "    </tr>\n",
       "    <tr>\n",
       "      <th>chr</th>\n",
       "      <th></th>\n",
       "      <th></th>\n",
       "      <th></th>\n",
       "      <th></th>\n",
       "      <th></th>\n",
       "      <th></th>\n",
       "      <th></th>\n",
       "      <th></th>\n",
       "      <th></th>\n",
       "      <th></th>\n",
       "      <th></th>\n",
       "      <th></th>\n",
       "      <th></th>\n",
       "      <th></th>\n",
       "    </tr>\n",
       "  </thead>\n",
       "  <tbody>\n",
       "    <tr>\n",
       "      <th>chr1</th>\n",
       "      <td>5058817</td>\n",
       "      <td>5058849</td>\n",
       "      <td>chr1-5058817-5058849</td>\n",
       "      <td>0.65</td>\n",
       "      <td>0.60</td>\n",
       "      <td>0.90</td>\n",
       "      <td>chr1</td>\n",
       "      <td>4907576</td>\n",
       "      <td>5072285</td>\n",
       "      <td>ENSMUSG00000002459.13</td>\n",
       "      <td>-</td>\n",
       "      <td>Rgs20</td>\n",
       "      <td>protein_coding</td>\n",
       "      <td>0.25</td>\n",
       "    </tr>\n",
       "    <tr>\n",
       "      <th>chr1</th>\n",
       "      <td>12811482</td>\n",
       "      <td>12811725</td>\n",
       "      <td>chr1-12811482-12811725</td>\n",
       "      <td>0.36</td>\n",
       "      <td>0.52</td>\n",
       "      <td>0.56</td>\n",
       "      <td>chr1</td>\n",
       "      <td>12690277</td>\n",
       "      <td>12863192</td>\n",
       "      <td>ENSMUSG00000016918.11</td>\n",
       "      <td>+</td>\n",
       "      <td>Sulf1</td>\n",
       "      <td>protein_coding</td>\n",
       "      <td>0.20</td>\n",
       "    </tr>\n",
       "    <tr>\n",
       "      <th>chr1</th>\n",
       "      <td>12860419</td>\n",
       "      <td>12860477</td>\n",
       "      <td>chr1-12860419-12860477</td>\n",
       "      <td>0.43</td>\n",
       "      <td>0.59</td>\n",
       "      <td>0.64</td>\n",
       "      <td>chr1</td>\n",
       "      <td>12690277</td>\n",
       "      <td>12863192</td>\n",
       "      <td>ENSMUSG00000016918.11</td>\n",
       "      <td>+</td>\n",
       "      <td>Sulf1</td>\n",
       "      <td>protein_coding</td>\n",
       "      <td>0.21</td>\n",
       "    </tr>\n",
       "    <tr>\n",
       "      <th>chr1</th>\n",
       "      <td>14304934</td>\n",
       "      <td>14304939</td>\n",
       "      <td>chr1-14304934-14304939</td>\n",
       "      <td>0.68</td>\n",
       "      <td>0.62</td>\n",
       "      <td>0.47</td>\n",
       "      <td>chr1</td>\n",
       "      <td>14166954</td>\n",
       "      <td>14312235</td>\n",
       "      <td>ENSMUSG00000025932.10</td>\n",
       "      <td>-</td>\n",
       "      <td>Eya1</td>\n",
       "      <td>protein_coding</td>\n",
       "      <td>-0.21</td>\n",
       "    </tr>\n",
       "    <tr>\n",
       "      <th>chr1</th>\n",
       "      <td>14305208</td>\n",
       "      <td>14305213</td>\n",
       "      <td>chr1-14305208-14305213</td>\n",
       "      <td>0.61</td>\n",
       "      <td>0.37</td>\n",
       "      <td>0.45</td>\n",
       "      <td>chr1</td>\n",
       "      <td>14166954</td>\n",
       "      <td>14312235</td>\n",
       "      <td>ENSMUSG00000025932.10</td>\n",
       "      <td>-</td>\n",
       "      <td>Eya1</td>\n",
       "      <td>protein_coding</td>\n",
       "      <td>-0.16</td>\n",
       "    </tr>\n",
       "  </tbody>\n",
       "</table>\n",
       "</div>"
      ],
      "text/plain": [
       "         start       end                  dmr_id   2mo   9mo  18mo gene_chr  \\\n",
       "chr                                                                           \n",
       "chr1   5058817   5058849    chr1-5058817-5058849  0.65  0.60  0.90     chr1   \n",
       "chr1  12811482  12811725  chr1-12811482-12811725  0.36  0.52  0.56     chr1   \n",
       "chr1  12860419  12860477  chr1-12860419-12860477  0.43  0.59  0.64     chr1   \n",
       "chr1  14304934  14304939  chr1-14304934-14304939  0.68  0.62  0.47     chr1   \n",
       "chr1  14305208  14305213  chr1-14305208-14305213  0.61  0.37  0.45     chr1   \n",
       "\n",
       "      gene_start  gene_end                gene_id gene_strand gene_name  \\\n",
       "chr                                                                       \n",
       "chr1     4907576   5072285  ENSMUSG00000002459.13           -     Rgs20   \n",
       "chr1    12690277  12863192  ENSMUSG00000016918.11           +     Sulf1   \n",
       "chr1    12690277  12863192  ENSMUSG00000016918.11           +     Sulf1   \n",
       "chr1    14166954  14312235  ENSMUSG00000025932.10           -      Eya1   \n",
       "chr1    14166954  14312235  ENSMUSG00000025932.10           -      Eya1   \n",
       "\n",
       "           gene_type  old-young  \n",
       "chr                              \n",
       "chr1  protein_coding       0.25  \n",
       "chr1  protein_coding       0.20  \n",
       "chr1  protein_coding       0.21  \n",
       "chr1  protein_coding      -0.21  \n",
       "chr1  protein_coding      -0.16  "
      ]
     },
     "execution_count": 6,
     "metadata": {},
     "output_type": "execute_result"
    }
   ],
   "source": [
    "mcg = pd.read_csv(f\"{ct}.aDMR_gene.csv\", index_col=0)\n",
    "mcg.head()"
   ]
  },
  {
   "cell_type": "code",
   "execution_count": 8,
   "metadata": {},
   "outputs": [],
   "source": [
    "# mcg groupby gene_name and get the mean value of old-young\n",
    "dmr_mean = mcg.groupby('gene_name')['old-young'].mean()"
   ]
  },
  {
   "cell_type": "code",
   "execution_count": 29,
   "metadata": {},
   "outputs": [],
   "source": [
    "toplot = pd.concat([dmr_mean, rna['log2(old/young)']], axis = 1).fillna(0)\n",
    "toplot = toplot.loc[toplot.index.isin(rna[rna['DEG'] != 0].index)]"
   ]
  },
  {
   "cell_type": "code",
   "execution_count": 27,
   "metadata": {},
   "outputs": [
    {
     "data": {
      "text/plain": [
       "PearsonRResult(statistic=-0.19163993855633274, pvalue=2.159064662705798e-10)"
      ]
     },
     "execution_count": 27,
     "metadata": {},
     "output_type": "execute_result"
    }
   ],
   "source": [
    "# use scipy to perform pearson correlation of old-young\tlog2(old/young)\n",
    "\n",
    "\n",
    "pearsonr(toplot['old-young'], toplot['log2(old/young)'])\n"
   ]
  },
  {
   "cell_type": "code",
   "execution_count": 31,
   "metadata": {},
   "outputs": [
    {
     "data": {
      "text/plain": [
       "Text(0.5, 1.0, 'Oligo_NN aDMR vs RNA')"
      ]
     },
     "execution_count": 31,
     "metadata": {},
     "output_type": "execute_result"
    },
    {
     "data": {
      "image/png": "[encoded data removed]",
      "text/plain": [
       "<Figure size 800x800 with 1 Axes>"
      ]
     },
     "metadata": {},
     "output_type": "display_data"
    }
   ],
   "source": [
    "# scatterplot using toplot\n",
    "plt.figure(figsize=(8, 8))\n",
    "sns.scatterplot(data=toplot, x='old-young', y='log2(old/young)')\n",
    "plt.xlabel('aDMR old-young')\n",
    "plt.ylabel('RNA log2(old/young)')\n",
    "plt.title(f\"{ct} aDMR vs RNA\")"
   ]
  },
  {
   "cell_type": "code",
   "execution_count": null,
   "metadata": {},
   "outputs": [],
   "source": []
  },
  {
   "cell_type": "code",
   "execution_count": null,
   "metadata": {},
   "outputs": [],
   "source": []
  },
  {
   "cell_type": "code",
   "execution_count": null,
   "metadata": {},
   "outputs": [],
   "source": []
  },
  {
   "cell_type": "code",
   "execution_count": null,
   "metadata": {},
   "outputs": [],
   "source": []
  },
  {
   "cell_type": "code",
   "execution_count": null,
   "metadata": {},
   "outputs": [],
   "source": []
  },
  {
   "cell_type": "code",
   "execution_count": null,
   "metadata": {},
   "outputs": [],
   "source": []
  }
 ],
 "metadata": {
  "kernelspec": {
   "display_name": "base",
   "language": "python",
   "name": "python3"
  },
  "language_info": {
   "codemirror_mode": {
    "name": "ipython",
    "version": 3
   },
   "file_extension": ".py",
   "mimetype": "text/x-python",
   "name": "python",
   "nbconvert_exporter": "python",
   "pygments_lexer": "ipython3",
   "version": "3.10.12"
  }
 },
 "nbformat": 4,
 "nbformat_minor": 2
}
