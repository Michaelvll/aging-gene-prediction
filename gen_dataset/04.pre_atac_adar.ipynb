{
 "cells": [
  {
   "cell_type": "code",
   "execution_count": 1,
   "id": "ff76a4b1",
   "metadata": {
    "execution": {
     "iopub.execute_input": "2024-12-08T03:35:34.851051Z",
     "iopub.status.busy": "2024-12-08T03:35:34.850399Z",
     "iopub.status.idle": "2024-12-08T03:35:34.856102Z",
     "shell.execute_reply": "2024-12-08T03:35:34.855554Z"
    },
    "papermill": {
     "duration": 0.011519,
     "end_time": "2024-12-08T03:35:34.857236",
     "exception": false,
     "start_time": "2024-12-08T03:35:34.845717",
     "status": "completed"
    },
    "tags": [
     "injected-parameters"
    ]
   },
   "outputs": [],
   "source": [
    "# Parameters\n",
    "cpu = 8\n",
    "group_name = \"DG_Glut\"\n",
    "mem_gb = 10\n"
   ]
  },
  {
   "cell_type": "code",
   "execution_count": 2,
   "id": "125740ac",
   "metadata": {
    "execution": {
     "iopub.execute_input": "2024-12-08T03:35:34.864084Z",
     "iopub.status.busy": "2024-12-08T03:35:34.863743Z",
     "iopub.status.idle": "2024-12-08T03:35:35.632800Z",
     "shell.execute_reply": "2024-12-08T03:35:35.632178Z"
    },
    "papermill": {
     "duration": 0.773955,
     "end_time": "2024-12-08T03:35:35.634294",
     "exception": false,
     "start_time": "2024-12-08T03:35:34.860339",
     "status": "completed"
    },
    "tags": []
   },
   "outputs": [],
   "source": [
    "import pandas as pd\n",
    "import subprocess\n",
    "import numpy as np\n",
    "import pyBigWig\n",
    "from tqdm import tqdm\n",
    "import seaborn as sns\n",
    "import matplotlib.pyplot as plt"
   ]
  },
  {
   "cell_type": "code",
   "execution_count": 3,
   "id": "0e81b439",
   "metadata": {
    "execution": {
     "iopub.execute_input": "2024-12-08T03:35:35.640705Z",
     "iopub.status.busy": "2024-12-08T03:35:35.640484Z",
     "iopub.status.idle": "2024-12-08T03:35:35.643338Z",
     "shell.execute_reply": "2024-12-08T03:35:35.642752Z"
    },
    "papermill": {
     "duration": 0.007197,
     "end_time": "2024-12-08T03:35:35.644375",
     "exception": false,
     "start_time": "2024-12-08T03:35:35.637178",
     "status": "completed"
    },
    "tags": []
   },
   "outputs": [],
   "source": [
    "#group_name = 'DG_Glut'"
   ]
  },
  {
   "cell_type": "code",
   "execution_count": 4,
   "id": "30a60dfb",
   "metadata": {
    "execution": {
     "iopub.execute_input": "2024-12-08T03:35:35.651069Z",
     "iopub.status.busy": "2024-12-08T03:35:35.650884Z",
     "iopub.status.idle": "2024-12-08T03:35:35.653832Z",
     "shell.execute_reply": "2024-12-08T03:35:35.653247Z"
    },
    "papermill": {
     "duration": 0.007595,
     "end_time": "2024-12-08T03:35:35.654977",
     "exception": false,
     "start_time": "2024-12-08T03:35:35.647382",
     "status": "completed"
    },
    "tags": []
   },
   "outputs": [],
   "source": [
    "home_dir = '/home/qzeng_salk_edu/project/241018_pre_ml'\n",
    "ct = group_name\n",
    "dar_dir = '/data/combined_DARs_redo'\n",
    "abc_dir = '/data/celltype_age_RPM_files'\n",
    "_type = 'up_peaks'"
   ]
  },
  {
   "cell_type": "code",
   "execution_count": 5,
   "id": "7c2f7d3d",
   "metadata": {
    "execution": {
     "iopub.execute_input": "2024-12-08T03:35:35.660883Z",
     "iopub.status.busy": "2024-12-08T03:35:35.660630Z",
     "iopub.status.idle": "2024-12-08T03:35:35.663968Z",
     "shell.execute_reply": "2024-12-08T03:35:35.663396Z"
    },
    "papermill": {
     "duration": 0.007559,
     "end_time": "2024-12-08T03:35:35.665071",
     "exception": false,
     "start_time": "2024-12-08T03:35:35.657512",
     "status": "completed"
    },
    "tags": []
   },
   "outputs": [],
   "source": [
    "dar_ct_dict = {'L23_IT_CTX_Glut':'L2-3_IT_CTX_Glut'}\n",
    "bw_ct_dict = {'L23_IT_CTX_Glut':'L2_3_IT_CTX_Glut'}\n",
    "if ct in bw_ct_dict.keys():\n",
    "    dar_ct = dar_ct_dict[ct]\n",
    "    bw_ct = bw_ct_dict[ct]\n",
    "else:\n",
    "    dar_ct = ct\n",
    "    bw_ct = ct"
   ]
  },
  {
   "cell_type": "code",
   "execution_count": 6,
   "id": "c2d1a291",
   "metadata": {
    "execution": {
     "iopub.execute_input": "2024-12-08T03:35:35.671135Z",
     "iopub.status.busy": "2024-12-08T03:35:35.670713Z",
     "iopub.status.idle": "2024-12-08T03:35:35.861238Z",
     "shell.execute_reply": "2024-12-08T03:35:35.860554Z"
    },
    "papermill": {
     "duration": 0.195161,
     "end_time": "2024-12-08T03:35:35.862794",
     "exception": false,
     "start_time": "2024-12-08T03:35:35.667633",
     "status": "completed"
    },
    "tags": []
   },
   "outputs": [],
   "source": [
    "atac_df  = pd.read_csv(f'{dar_dir}/diff_peaks_{dar_ct}_2vs18.csv', sep=',', index_col=0)"
   ]
  },
  {
   "cell_type": "code",
   "execution_count": 7,
   "id": "71dc6ba1",
   "metadata": {
    "execution": {
     "iopub.execute_input": "2024-12-08T03:35:35.869172Z",
     "iopub.status.busy": "2024-12-08T03:35:35.868984Z",
     "iopub.status.idle": "2024-12-08T03:35:36.180767Z",
     "shell.execute_reply": "2024-12-08T03:35:36.180276Z"
    },
    "papermill": {
     "duration": 0.316253,
     "end_time": "2024-12-08T03:35:36.181884",
     "exception": false,
     "start_time": "2024-12-08T03:35:35.865631",
     "status": "completed"
    },
    "tags": []
   },
   "outputs": [
    {
     "data": {
      "text/html": [
       "<div>\n",
       "<style scoped>\n",
       "    .dataframe tbody tr th:only-of-type {\n",
       "        vertical-align: middle;\n",
       "    }\n",
       "\n",
       "    .dataframe tbody tr th {\n",
       "        vertical-align: top;\n",
       "    }\n",
       "\n",
       "    .dataframe thead th {\n",
       "        text-align: right;\n",
       "    }\n",
       "</style>\n",
       "<table border=\"1\" class=\"dataframe\">\n",
       "  <thead>\n",
       "    <tr style=\"text-align: right;\">\n",
       "      <th></th>\n",
       "      <th>log2(fold_change)</th>\n",
       "      <th>p-value</th>\n",
       "      <th>adjusted p-value</th>\n",
       "      <th>chrom</th>\n",
       "      <th>start</th>\n",
       "      <th>end</th>\n",
       "    </tr>\n",
       "    <tr>\n",
       "      <th>feature name</th>\n",
       "      <th></th>\n",
       "      <th></th>\n",
       "      <th></th>\n",
       "      <th></th>\n",
       "      <th></th>\n",
       "      <th></th>\n",
       "    </tr>\n",
       "  </thead>\n",
       "  <tbody>\n",
       "    <tr>\n",
       "      <th>chr13:3343561-3344062</th>\n",
       "      <td>2.850578</td>\n",
       "      <td>0.0</td>\n",
       "      <td>0.0</td>\n",
       "      <td>chr13</td>\n",
       "      <td>3343561</td>\n",
       "      <td>3344062</td>\n",
       "    </tr>\n",
       "    <tr>\n",
       "      <th>chr13:68173417-68173918</th>\n",
       "      <td>4.809919</td>\n",
       "      <td>0.0</td>\n",
       "      <td>0.0</td>\n",
       "      <td>chr13</td>\n",
       "      <td>68173417</td>\n",
       "      <td>68173918</td>\n",
       "    </tr>\n",
       "    <tr>\n",
       "      <th>chr13:68258227-68258728</th>\n",
       "      <td>6.678465</td>\n",
       "      <td>0.0</td>\n",
       "      <td>0.0</td>\n",
       "      <td>chr13</td>\n",
       "      <td>68258227</td>\n",
       "      <td>68258728</td>\n",
       "    </tr>\n",
       "    <tr>\n",
       "      <th>chr4:122566918-122567419</th>\n",
       "      <td>5.096911</td>\n",
       "      <td>0.0</td>\n",
       "      <td>0.0</td>\n",
       "      <td>chr4</td>\n",
       "      <td>122566918</td>\n",
       "      <td>122567419</td>\n",
       "    </tr>\n",
       "    <tr>\n",
       "      <th>chr4:144455014-144455515</th>\n",
       "      <td>6.832115</td>\n",
       "      <td>0.0</td>\n",
       "      <td>0.0</td>\n",
       "      <td>chr4</td>\n",
       "      <td>144455014</td>\n",
       "      <td>144455515</td>\n",
       "    </tr>\n",
       "    <tr>\n",
       "      <th>...</th>\n",
       "      <td>...</td>\n",
       "      <td>...</td>\n",
       "      <td>...</td>\n",
       "      <td>...</td>\n",
       "      <td>...</td>\n",
       "      <td>...</td>\n",
       "    </tr>\n",
       "    <tr>\n",
       "      <th>chrX:131567988-131568489</th>\n",
       "      <td>-0.361925</td>\n",
       "      <td>1.0</td>\n",
       "      <td>1.0</td>\n",
       "      <td>chrX</td>\n",
       "      <td>131567988</td>\n",
       "      <td>131568489</td>\n",
       "    </tr>\n",
       "    <tr>\n",
       "      <th>chrX:132897971-132898472</th>\n",
       "      <td>-0.301542</td>\n",
       "      <td>1.0</td>\n",
       "      <td>1.0</td>\n",
       "      <td>chrX</td>\n",
       "      <td>132897971</td>\n",
       "      <td>132898472</td>\n",
       "    </tr>\n",
       "    <tr>\n",
       "      <th>chrX:147543922-147544423</th>\n",
       "      <td>-0.250100</td>\n",
       "      <td>1.0</td>\n",
       "      <td>1.0</td>\n",
       "      <td>chrX</td>\n",
       "      <td>147543922</td>\n",
       "      <td>147544423</td>\n",
       "    </tr>\n",
       "    <tr>\n",
       "      <th>chrX:158675734-158676235</th>\n",
       "      <td>-0.267989</td>\n",
       "      <td>1.0</td>\n",
       "      <td>1.0</td>\n",
       "      <td>chrX</td>\n",
       "      <td>158675734</td>\n",
       "      <td>158676235</td>\n",
       "    </tr>\n",
       "    <tr>\n",
       "      <th>chrX:164396553-164397054</th>\n",
       "      <td>-0.336950</td>\n",
       "      <td>1.0</td>\n",
       "      <td>1.0</td>\n",
       "      <td>chrX</td>\n",
       "      <td>164396553</td>\n",
       "      <td>164397054</td>\n",
       "    </tr>\n",
       "  </tbody>\n",
       "</table>\n",
       "<p>47369 rows × 6 columns</p>\n",
       "</div>"
      ],
      "text/plain": [
       "                          log2(fold_change)  p-value  adjusted p-value  chrom  \\\n",
       "feature name                                                                    \n",
       "chr13:3343561-3344062              2.850578      0.0               0.0  chr13   \n",
       "chr13:68173417-68173918            4.809919      0.0               0.0  chr13   \n",
       "chr13:68258227-68258728            6.678465      0.0               0.0  chr13   \n",
       "chr4:122566918-122567419           5.096911      0.0               0.0   chr4   \n",
       "chr4:144455014-144455515           6.832115      0.0               0.0   chr4   \n",
       "...                                     ...      ...               ...    ...   \n",
       "chrX:131567988-131568489          -0.361925      1.0               1.0   chrX   \n",
       "chrX:132897971-132898472          -0.301542      1.0               1.0   chrX   \n",
       "chrX:147543922-147544423          -0.250100      1.0               1.0   chrX   \n",
       "chrX:158675734-158676235          -0.267989      1.0               1.0   chrX   \n",
       "chrX:164396553-164397054          -0.336950      1.0               1.0   chrX   \n",
       "\n",
       "                              start        end  \n",
       "feature name                                    \n",
       "chr13:3343561-3344062       3343561    3344062  \n",
       "chr13:68173417-68173918    68173417   68173918  \n",
       "chr13:68258227-68258728    68258227   68258728  \n",
       "chr4:122566918-122567419  122566918  122567419  \n",
       "chr4:144455014-144455515  144455014  144455515  \n",
       "...                             ...        ...  \n",
       "chrX:131567988-131568489  131567988  131568489  \n",
       "chrX:132897971-132898472  132897971  132898472  \n",
       "chrX:147543922-147544423  147543922  147544423  \n",
       "chrX:158675734-158676235  158675734  158676235  \n",
       "chrX:164396553-164397054  164396553  164397054  \n",
       "\n",
       "[47369 rows x 6 columns]"
      ]
     },
     "execution_count": 7,
     "metadata": {},
     "output_type": "execute_result"
    }
   ],
   "source": [
    "# add a chrom, start, end based on the index \n",
    "atac_df['chrom'] = atac_df.index.str.split(':').str[0]\n",
    "atac_df['start'] = atac_df.index.str.split(':').str[1].str.split('-').str[0].astype(int)\n",
    "atac_df['end'] = atac_df.index.str.split(':').str[1].str.split('-').str[1].astype(int)\n",
    "atac_df"
   ]
  },
  {
   "cell_type": "code",
   "execution_count": 8,
   "id": "8c2dc582",
   "metadata": {
    "execution": {
     "iopub.execute_input": "2024-12-08T03:35:36.188942Z",
     "iopub.status.busy": "2024-12-08T03:35:36.188500Z",
     "iopub.status.idle": "2024-12-08T03:35:36.292100Z",
     "shell.execute_reply": "2024-12-08T03:35:36.291579Z"
    },
    "papermill": {
     "duration": 0.108229,
     "end_time": "2024-12-08T03:35:36.293250",
     "exception": false,
     "start_time": "2024-12-08T03:35:36.185021",
     "status": "completed"
    },
    "tags": []
   },
   "outputs": [
    {
     "data": {
      "text/html": [
       "<div>\n",
       "<style scoped>\n",
       "    .dataframe tbody tr th:only-of-type {\n",
       "        vertical-align: middle;\n",
       "    }\n",
       "\n",
       "    .dataframe tbody tr th {\n",
       "        vertical-align: top;\n",
       "    }\n",
       "\n",
       "    .dataframe thead th {\n",
       "        text-align: right;\n",
       "    }\n",
       "</style>\n",
       "<table border=\"1\" class=\"dataframe\">\n",
       "  <thead>\n",
       "    <tr style=\"text-align: right;\">\n",
       "      <th></th>\n",
       "      <th>0</th>\n",
       "      <th>1</th>\n",
       "      <th>2</th>\n",
       "      <th>log2FoldChange</th>\n",
       "    </tr>\n",
       "  </thead>\n",
       "  <tbody>\n",
       "    <tr>\n",
       "      <th>chr13:3343561-3344062</th>\n",
       "      <td>chr13</td>\n",
       "      <td>3343561</td>\n",
       "      <td>3344062</td>\n",
       "      <td>2.850578</td>\n",
       "    </tr>\n",
       "    <tr>\n",
       "      <th>chr13:68173417-68173918</th>\n",
       "      <td>chr13</td>\n",
       "      <td>68173417</td>\n",
       "      <td>68173918</td>\n",
       "      <td>4.809919</td>\n",
       "    </tr>\n",
       "    <tr>\n",
       "      <th>chr13:68258227-68258728</th>\n",
       "      <td>chr13</td>\n",
       "      <td>68258227</td>\n",
       "      <td>68258728</td>\n",
       "      <td>6.678465</td>\n",
       "    </tr>\n",
       "    <tr>\n",
       "      <th>chr4:122566918-122567419</th>\n",
       "      <td>chr4</td>\n",
       "      <td>122566918</td>\n",
       "      <td>122567419</td>\n",
       "      <td>5.096911</td>\n",
       "    </tr>\n",
       "    <tr>\n",
       "      <th>chr4:144455014-144455515</th>\n",
       "      <td>chr4</td>\n",
       "      <td>144455014</td>\n",
       "      <td>144455515</td>\n",
       "      <td>6.832115</td>\n",
       "    </tr>\n",
       "  </tbody>\n",
       "</table>\n",
       "</div>"
      ],
      "text/plain": [
       "                              0          1          2  log2FoldChange\n",
       "chr13:3343561-3344062     chr13    3343561    3344062        2.850578\n",
       "chr13:68173417-68173918   chr13   68173417   68173918        4.809919\n",
       "chr13:68258227-68258728   chr13   68258227   68258728        6.678465\n",
       "chr4:122566918-122567419   chr4  122566918  122567419        5.096911\n",
       "chr4:144455014-144455515   chr4  144455014  144455515        6.832115"
      ]
     },
     "execution_count": 8,
     "metadata": {},
     "output_type": "execute_result"
    }
   ],
   "source": [
    "up_atac_df = pd.read_csv(f'{dar_dir}/up_peaks_{dar_ct}.bed', sep='\\t', header = None)\n",
    "#add index like in the atac_df\n",
    "up_atac_df.index = up_atac_df[0] + ':' + up_atac_df[1].astype(str) + '-' + up_atac_df[2].astype(str)\n",
    "# add the log(fold_change) baes on the info in atac_df\n",
    "up_atac_df['log2FoldChange'] = atac_df['log2(fold_change)']\n",
    "up_atac_df.head()"
   ]
  },
  {
   "cell_type": "code",
   "execution_count": 9,
   "id": "7ff6ea82",
   "metadata": {
    "execution": {
     "iopub.execute_input": "2024-12-08T03:35:36.300371Z",
     "iopub.status.busy": "2024-12-08T03:35:36.300189Z",
     "iopub.status.idle": "2024-12-08T03:35:36.417452Z",
     "shell.execute_reply": "2024-12-08T03:35:36.416975Z"
    },
    "papermill": {
     "duration": 0.122078,
     "end_time": "2024-12-08T03:35:36.418576",
     "exception": false,
     "start_time": "2024-12-08T03:35:36.296498",
     "status": "completed"
    },
    "tags": []
   },
   "outputs": [
    {
     "data": {
      "text/html": [
       "<div>\n",
       "<style scoped>\n",
       "    .dataframe tbody tr th:only-of-type {\n",
       "        vertical-align: middle;\n",
       "    }\n",
       "\n",
       "    .dataframe tbody tr th {\n",
       "        vertical-align: top;\n",
       "    }\n",
       "\n",
       "    .dataframe thead th {\n",
       "        text-align: right;\n",
       "    }\n",
       "</style>\n",
       "<table border=\"1\" class=\"dataframe\">\n",
       "  <thead>\n",
       "    <tr style=\"text-align: right;\">\n",
       "      <th></th>\n",
       "      <th>0</th>\n",
       "      <th>1</th>\n",
       "      <th>2</th>\n",
       "      <th>log2FoldChange</th>\n",
       "    </tr>\n",
       "  </thead>\n",
       "  <tbody>\n",
       "    <tr>\n",
       "      <th>chr9:123461806-123462307</th>\n",
       "      <td>chr9</td>\n",
       "      <td>123461806</td>\n",
       "      <td>123462307</td>\n",
       "      <td>-0.885548</td>\n",
       "    </tr>\n",
       "    <tr>\n",
       "      <th>chr6:55680898-55681399</th>\n",
       "      <td>chr6</td>\n",
       "      <td>55680898</td>\n",
       "      <td>55681399</td>\n",
       "      <td>-3.092511</td>\n",
       "    </tr>\n",
       "    <tr>\n",
       "      <th>chr3:96557574-96558075</th>\n",
       "      <td>chr3</td>\n",
       "      <td>96557574</td>\n",
       "      <td>96558075</td>\n",
       "      <td>-1.550956</td>\n",
       "    </tr>\n",
       "    <tr>\n",
       "      <th>chr2:116045011-116045512</th>\n",
       "      <td>chr2</td>\n",
       "      <td>116045011</td>\n",
       "      <td>116045512</td>\n",
       "      <td>-2.121747</td>\n",
       "    </tr>\n",
       "    <tr>\n",
       "      <th>chr5:17574375-17574876</th>\n",
       "      <td>chr5</td>\n",
       "      <td>17574375</td>\n",
       "      <td>17574876</td>\n",
       "      <td>-1.345688</td>\n",
       "    </tr>\n",
       "  </tbody>\n",
       "</table>\n",
       "</div>"
      ],
      "text/plain": [
       "                             0          1          2  log2FoldChange\n",
       "chr9:123461806-123462307  chr9  123461806  123462307       -0.885548\n",
       "chr6:55680898-55681399    chr6   55680898   55681399       -3.092511\n",
       "chr3:96557574-96558075    chr3   96557574   96558075       -1.550956\n",
       "chr2:116045011-116045512  chr2  116045011  116045512       -2.121747\n",
       "chr5:17574375-17574876    chr5   17574375   17574876       -1.345688"
      ]
     },
     "execution_count": 9,
     "metadata": {},
     "output_type": "execute_result"
    }
   ],
   "source": [
    "# write the same for down_peaks\n",
    "down_atac_df = pd.read_csv(f'{dar_dir}/down_peaks_{dar_ct}.bed', sep='\\t', header = None)\n",
    "down_atac_df.index = down_atac_df[0] + ':' + down_atac_df[1].astype(str) + '-' + down_atac_df[2].astype(str)\n",
    "down_atac_df['log2FoldChange'] = atac_df['log2(fold_change)']\n",
    "down_atac_df.head()"
   ]
  },
  {
   "cell_type": "code",
   "execution_count": 10,
   "id": "a18bb401",
   "metadata": {
    "execution": {
     "iopub.execute_input": "2024-12-08T03:35:36.426391Z",
     "iopub.status.busy": "2024-12-08T03:35:36.426213Z",
     "iopub.status.idle": "2024-12-08T03:35:36.472626Z",
     "shell.execute_reply": "2024-12-08T03:35:36.471960Z"
    },
    "papermill": {
     "duration": 0.052088,
     "end_time": "2024-12-08T03:35:36.473985",
     "exception": false,
     "start_time": "2024-12-08T03:35:36.421897",
     "status": "completed"
    },
    "tags": []
   },
   "outputs": [],
   "source": [
    "# combina the down and up\n",
    "atac_df = pd.concat([up_atac_df, down_atac_df])\n",
    "# save atac_df to bed\n",
    "atac_df.to_csv(f'{ct}.aDAR.bed', sep='\\t', header=False, index=False)"
   ]
  },
  {
   "cell_type": "code",
   "execution_count": 11,
   "id": "849f0fa1",
   "metadata": {
    "execution": {
     "iopub.execute_input": "2024-12-08T03:35:36.481091Z",
     "iopub.status.busy": "2024-12-08T03:35:36.480901Z",
     "iopub.status.idle": "2024-12-08T03:35:36.572406Z",
     "shell.execute_reply": "2024-12-08T03:35:36.571905Z"
    },
    "papermill": {
     "duration": 0.096371,
     "end_time": "2024-12-08T03:35:36.573521",
     "exception": false,
     "start_time": "2024-12-08T03:35:36.477150",
     "status": "completed"
    },
    "tags": []
   },
   "outputs": [
    {
     "data": {
      "text/plain": [
       "CompletedProcess(args='bedtools intersect -a DG_Glut.aDAR.bed -b /home/qzeng_salk_edu/project/241018_pre_ml/mm10_gene_2kb.bed -wa -wb > DG_Glut.aDAR_gene.bed', returncode=0)"
      ]
     },
     "execution_count": 11,
     "metadata": {},
     "output_type": "execute_result"
    }
   ],
   "source": [
    "# use bedtools intersect to find the genes that overlap with the DMRs\n",
    "command = f\"bedtools intersect -a {ct}.aDAR.bed -b {home_dir}/mm10_gene_2kb.bed -wa -wb > {ct}.aDAR_gene.bed\"\n",
    "subprocess.run(command, shell=True)"
   ]
  },
  {
   "cell_type": "code",
   "execution_count": 12,
   "id": "c0cf399a",
   "metadata": {
    "execution": {
     "iopub.execute_input": "2024-12-08T03:35:36.581001Z",
     "iopub.status.busy": "2024-12-08T03:35:36.580681Z",
     "iopub.status.idle": "2024-12-08T03:35:36.585568Z",
     "shell.execute_reply": "2024-12-08T03:35:36.585132Z"
    },
    "papermill": {
     "duration": 0.009633,
     "end_time": "2024-12-08T03:35:36.586541",
     "exception": false,
     "start_time": "2024-12-08T03:35:36.576908",
     "status": "completed"
    },
    "tags": []
   },
   "outputs": [
    {
     "data": {
      "text/plain": [
       "CompletedProcess(args='rm DG_Glut.aDAR.bed', returncode=0)"
      ]
     },
     "execution_count": 12,
     "metadata": {},
     "output_type": "execute_result"
    }
   ],
   "source": [
    "subprocess.run(f\"rm {ct}.aDAR.bed\", shell=True)"
   ]
  },
  {
   "cell_type": "code",
   "execution_count": 13,
   "id": "45966956",
   "metadata": {
    "execution": {
     "iopub.execute_input": "2024-12-08T03:35:36.594031Z",
     "iopub.status.busy": "2024-12-08T03:35:36.593611Z",
     "iopub.status.idle": "2024-12-08T03:35:36.628079Z",
     "shell.execute_reply": "2024-12-08T03:35:36.627459Z"
    },
    "papermill": {
     "duration": 0.039353,
     "end_time": "2024-12-08T03:35:36.629287",
     "exception": false,
     "start_time": "2024-12-08T03:35:36.589934",
     "status": "completed"
    },
    "tags": []
   },
   "outputs": [
    {
     "data": {
      "text/html": [
       "<div>\n",
       "<style scoped>\n",
       "    .dataframe tbody tr th:only-of-type {\n",
       "        vertical-align: middle;\n",
       "    }\n",
       "\n",
       "    .dataframe tbody tr th {\n",
       "        vertical-align: top;\n",
       "    }\n",
       "\n",
       "    .dataframe thead th {\n",
       "        text-align: right;\n",
       "    }\n",
       "</style>\n",
       "<table border=\"1\" class=\"dataframe\">\n",
       "  <thead>\n",
       "    <tr style=\"text-align: right;\">\n",
       "      <th></th>\n",
       "      <th>chr</th>\n",
       "      <th>start</th>\n",
       "      <th>end</th>\n",
       "      <th>log2(old/young)</th>\n",
       "      <th>gene_chr</th>\n",
       "      <th>gene_start</th>\n",
       "      <th>gene_end</th>\n",
       "      <th>gene_id</th>\n",
       "      <th>gene_strand</th>\n",
       "      <th>gene_name</th>\n",
       "      <th>gene_type</th>\n",
       "    </tr>\n",
       "  </thead>\n",
       "  <tbody>\n",
       "    <tr>\n",
       "      <th>0</th>\n",
       "      <td>chr4</td>\n",
       "      <td>144455014</td>\n",
       "      <td>144455515</td>\n",
       "      <td>6.832115</td>\n",
       "      <td>chr4</td>\n",
       "      <td>144451009</td>\n",
       "      <td>144455317</td>\n",
       "      <td>ENSMUSG00000095213.1</td>\n",
       "      <td>-</td>\n",
       "      <td>Gm9944</td>\n",
       "      <td>protein_coding</td>\n",
       "    </tr>\n",
       "    <tr>\n",
       "      <th>1</th>\n",
       "      <td>chr4</td>\n",
       "      <td>144455014</td>\n",
       "      <td>144455515</td>\n",
       "      <td>6.832115</td>\n",
       "      <td>chr4</td>\n",
       "      <td>144451771</td>\n",
       "      <td>144465756</td>\n",
       "      <td>ENSMUSG00000078507.1</td>\n",
       "      <td>-</td>\n",
       "      <td>Aadacl3</td>\n",
       "      <td>protein_coding</td>\n",
       "    </tr>\n",
       "    <tr>\n",
       "      <th>2</th>\n",
       "      <td>chr4</td>\n",
       "      <td>144465321</td>\n",
       "      <td>144465822</td>\n",
       "      <td>6.667610</td>\n",
       "      <td>chr4</td>\n",
       "      <td>144451771</td>\n",
       "      <td>144465756</td>\n",
       "      <td>ENSMUSG00000078507.1</td>\n",
       "      <td>-</td>\n",
       "      <td>Aadacl3</td>\n",
       "      <td>protein_coding</td>\n",
       "    </tr>\n",
       "    <tr>\n",
       "      <th>3</th>\n",
       "      <td>chr7</td>\n",
       "      <td>15749286</td>\n",
       "      <td>15749787</td>\n",
       "      <td>6.467640</td>\n",
       "      <td>chr7</td>\n",
       "      <td>15748131</td>\n",
       "      <td>15761800</td>\n",
       "      <td>ENSMUSG00000074366.5</td>\n",
       "      <td>+</td>\n",
       "      <td>Obox5</td>\n",
       "      <td>protein_coding</td>\n",
       "    </tr>\n",
       "    <tr>\n",
       "      <th>4</th>\n",
       "      <td>chr17</td>\n",
       "      <td>13546492</td>\n",
       "      <td>13546993</td>\n",
       "      <td>1.172727</td>\n",
       "      <td>chr17</td>\n",
       "      <td>13480553</td>\n",
       "      <td>13763825</td>\n",
       "      <td>ENSMUSG00000038347.10</td>\n",
       "      <td>-</td>\n",
       "      <td>Tcte2</td>\n",
       "      <td>protein_coding</td>\n",
       "    </tr>\n",
       "  </tbody>\n",
       "</table>\n",
       "</div>"
      ],
      "text/plain": [
       "     chr      start        end  log2(old/young) gene_chr  gene_start  \\\n",
       "0   chr4  144455014  144455515         6.832115     chr4   144451009   \n",
       "1   chr4  144455014  144455515         6.832115     chr4   144451771   \n",
       "2   chr4  144465321  144465822         6.667610     chr4   144451771   \n",
       "3   chr7   15749286   15749787         6.467640     chr7    15748131   \n",
       "4  chr17   13546492   13546993         1.172727    chr17    13480553   \n",
       "\n",
       "    gene_end                gene_id gene_strand gene_name       gene_type  \n",
       "0  144455317   ENSMUSG00000095213.1           -    Gm9944  protein_coding  \n",
       "1  144465756   ENSMUSG00000078507.1           -   Aadacl3  protein_coding  \n",
       "2  144465756   ENSMUSG00000078507.1           -   Aadacl3  protein_coding  \n",
       "3   15761800   ENSMUSG00000074366.5           +     Obox5  protein_coding  \n",
       "4   13763825  ENSMUSG00000038347.10           -     Tcte2  protein_coding  "
      ]
     },
     "execution_count": 13,
     "metadata": {},
     "output_type": "execute_result"
    }
   ],
   "source": [
    "dar_gene_df = pd.read_csv(f'{ct}.aDAR_gene.bed', sep='\\t', header=None)\n",
    "dar_gene_df.columns = ['chr','start','end','log2(old/young)','gene_chr','gene_start','gene_end','gene_id','gene_strand','gene_name','gene_type']\n",
    "dar_gene_df.head()"
   ]
  },
  {
   "cell_type": "code",
   "execution_count": 14,
   "id": "3a04590e",
   "metadata": {
    "execution": {
     "iopub.execute_input": "2024-12-08T03:35:36.637296Z",
     "iopub.status.busy": "2024-12-08T03:35:36.637093Z",
     "iopub.status.idle": "2024-12-08T03:35:38.612936Z",
     "shell.execute_reply": "2024-12-08T03:35:38.612344Z"
    },
    "papermill": {
     "duration": 1.981242,
     "end_time": "2024-12-08T03:35:38.614197",
     "exception": false,
     "start_time": "2024-12-08T03:35:36.632955",
     "status": "completed"
    },
    "tags": []
   },
   "outputs": [
    {
     "data": {
      "text/html": [
       "<div>\n",
       "<style scoped>\n",
       "    .dataframe tbody tr th:only-of-type {\n",
       "        vertical-align: middle;\n",
       "    }\n",
       "\n",
       "    .dataframe tbody tr th {\n",
       "        vertical-align: top;\n",
       "    }\n",
       "\n",
       "    .dataframe thead th {\n",
       "        text-align: right;\n",
       "    }\n",
       "</style>\n",
       "<table border=\"1\" class=\"dataframe\">\n",
       "  <thead>\n",
       "    <tr style=\"text-align: right;\">\n",
       "      <th></th>\n",
       "      <th>DG Glut:2mo</th>\n",
       "      <th>DG Glut:9mo</th>\n",
       "      <th>DG Glut:18mo</th>\n",
       "      <th>chr</th>\n",
       "      <th>start</th>\n",
       "      <th>end</th>\n",
       "    </tr>\n",
       "  </thead>\n",
       "  <tbody>\n",
       "    <tr>\n",
       "      <th>chr1:3012480-3012981</th>\n",
       "      <td>2.535191</td>\n",
       "      <td>2.240782</td>\n",
       "      <td>2.096444</td>\n",
       "      <td>chr1</td>\n",
       "      <td>3012480</td>\n",
       "      <td>3012981</td>\n",
       "    </tr>\n",
       "    <tr>\n",
       "      <th>chr1:3060761-3061262</th>\n",
       "      <td>1.626886</td>\n",
       "      <td>1.176787</td>\n",
       "      <td>1.150766</td>\n",
       "      <td>chr1</td>\n",
       "      <td>3060761</td>\n",
       "      <td>3061262</td>\n",
       "    </tr>\n",
       "    <tr>\n",
       "      <th>chr1:3113502-3114003</th>\n",
       "      <td>5.274336</td>\n",
       "      <td>4.421410</td>\n",
       "      <td>4.154910</td>\n",
       "      <td>chr1</td>\n",
       "      <td>3113502</td>\n",
       "      <td>3114003</td>\n",
       "    </tr>\n",
       "    <tr>\n",
       "      <th>chr1:3112919-3113420</th>\n",
       "      <td>2.165229</td>\n",
       "      <td>1.654269</td>\n",
       "      <td>1.648291</td>\n",
       "      <td>chr1</td>\n",
       "      <td>3112919</td>\n",
       "      <td>3113420</td>\n",
       "    </tr>\n",
       "    <tr>\n",
       "      <th>chr1:3120282-3120783</th>\n",
       "      <td>2.359696</td>\n",
       "      <td>2.229503</td>\n",
       "      <td>2.111636</td>\n",
       "      <td>chr1</td>\n",
       "      <td>3120282</td>\n",
       "      <td>3120783</td>\n",
       "    </tr>\n",
       "    <tr>\n",
       "      <th>...</th>\n",
       "      <td>...</td>\n",
       "      <td>...</td>\n",
       "      <td>...</td>\n",
       "      <td>...</td>\n",
       "      <td>...</td>\n",
       "      <td>...</td>\n",
       "    </tr>\n",
       "    <tr>\n",
       "      <th>chrY:90807492-90807993</th>\n",
       "      <td>8.243522</td>\n",
       "      <td>10.700112</td>\n",
       "      <td>9.339052</td>\n",
       "      <td>chrY</td>\n",
       "      <td>90807492</td>\n",
       "      <td>90807993</td>\n",
       "    </tr>\n",
       "    <tr>\n",
       "      <th>chrY:90806986-90807487</th>\n",
       "      <td>2.630053</td>\n",
       "      <td>3.086715</td>\n",
       "      <td>2.255957</td>\n",
       "      <td>chrY</td>\n",
       "      <td>90806986</td>\n",
       "      <td>90807487</td>\n",
       "    </tr>\n",
       "    <tr>\n",
       "      <th>chrY:90808570-90809071</th>\n",
       "      <td>13.942366</td>\n",
       "      <td>21.106967</td>\n",
       "      <td>20.147894</td>\n",
       "      <td>chrY</td>\n",
       "      <td>90808570</td>\n",
       "      <td>90809071</td>\n",
       "    </tr>\n",
       "    <tr>\n",
       "      <th>chrY:90810721-90811222</th>\n",
       "      <td>2.589737</td>\n",
       "      <td>3.834896</td>\n",
       "      <td>3.023134</td>\n",
       "      <td>chrY</td>\n",
       "      <td>90810721</td>\n",
       "      <td>90811222</td>\n",
       "    </tr>\n",
       "    <tr>\n",
       "      <th>chrY:90812691-90813192</th>\n",
       "      <td>1.591313</td>\n",
       "      <td>2.109193</td>\n",
       "      <td>1.519163</td>\n",
       "      <td>chrY</td>\n",
       "      <td>90812691</td>\n",
       "      <td>90813192</td>\n",
       "    </tr>\n",
       "  </tbody>\n",
       "</table>\n",
       "<p>261228 rows × 6 columns</p>\n",
       "</div>"
      ],
      "text/plain": [
       "                        DG Glut:2mo  DG Glut:9mo  DG Glut:18mo   chr  \\\n",
       "chr1:3012480-3012981       2.535191     2.240782      2.096444  chr1   \n",
       "chr1:3060761-3061262       1.626886     1.176787      1.150766  chr1   \n",
       "chr1:3113502-3114003       5.274336     4.421410      4.154910  chr1   \n",
       "chr1:3112919-3113420       2.165229     1.654269      1.648291  chr1   \n",
       "chr1:3120282-3120783       2.359696     2.229503      2.111636  chr1   \n",
       "...                             ...          ...           ...   ...   \n",
       "chrY:90807492-90807993     8.243522    10.700112      9.339052  chrY   \n",
       "chrY:90806986-90807487     2.630053     3.086715      2.255957  chrY   \n",
       "chrY:90808570-90809071    13.942366    21.106967     20.147894  chrY   \n",
       "chrY:90810721-90811222     2.589737     3.834896      3.023134  chrY   \n",
       "chrY:90812691-90813192     1.591313     2.109193      1.519163  chrY   \n",
       "\n",
       "                           start       end  \n",
       "chr1:3012480-3012981     3012480   3012981  \n",
       "chr1:3060761-3061262     3060761   3061262  \n",
       "chr1:3113502-3114003     3113502   3114003  \n",
       "chr1:3112919-3113420     3112919   3113420  \n",
       "chr1:3120282-3120783     3120282   3120783  \n",
       "...                          ...       ...  \n",
       "chrY:90807492-90807993  90807492  90807993  \n",
       "chrY:90806986-90807487  90806986  90807487  \n",
       "chrY:90808570-90809071  90808570  90809071  \n",
       "chrY:90810721-90811222  90810721  90811222  \n",
       "chrY:90812691-90813192  90812691  90813192  \n",
       "\n",
       "[261228 rows x 6 columns]"
      ]
     },
     "execution_count": 14,
     "metadata": {},
     "output_type": "execute_result"
    }
   ],
   "source": [
    "atac_rmp = pd.read_csv(f\"{abc_dir}/{ct}_RPM.txt\", sep = '\\t')\n",
    "# add three coolumns chr, start and end based on ethe index \n",
    "atac_rmp['chr'] = atac_rmp.index.str.split(':').str[0]\n",
    "atac_rmp['start'] = atac_rmp.index.str.split(':').str[1].str.split('-').str[0].astype(int)\n",
    "atac_rmp['end'] = atac_rmp.index.str.split(':').str[1].str.split('-').str[1].astype(int)\n",
    "atac_rmp"
   ]
  },
  {
   "cell_type": "code",
   "execution_count": 15,
   "id": "8ad13d00",
   "metadata": {
    "execution": {
     "iopub.execute_input": "2024-12-08T03:35:38.624308Z",
     "iopub.status.busy": "2024-12-08T03:35:38.623840Z",
     "iopub.status.idle": "2024-12-08T03:35:38.642204Z",
     "shell.execute_reply": "2024-12-08T03:35:38.641655Z"
    },
    "papermill": {
     "duration": 0.024234,
     "end_time": "2024-12-08T03:35:38.643256",
     "exception": false,
     "start_time": "2024-12-08T03:35:38.619022",
     "status": "completed"
    },
    "tags": []
   },
   "outputs": [],
   "source": [
    "dar_gene_df.index = dar_gene_df['chr'] + ':' + dar_gene_df['start'].astype(str) + '-' + dar_gene_df['end'].astype(str)"
   ]
  },
  {
   "cell_type": "code",
   "execution_count": 16,
   "id": "8c7ff5da",
   "metadata": {
    "execution": {
     "iopub.execute_input": "2024-12-08T03:35:38.652245Z",
     "iopub.status.busy": "2024-12-08T03:35:38.652066Z",
     "iopub.status.idle": "2024-12-08T03:35:38.714740Z",
     "shell.execute_reply": "2024-12-08T03:35:38.714121Z"
    },
    "papermill": {
     "duration": 0.068849,
     "end_time": "2024-12-08T03:35:38.715921",
     "exception": false,
     "start_time": "2024-12-08T03:35:38.647072",
     "status": "completed"
    },
    "tags": []
   },
   "outputs": [
    {
     "data": {
      "text/plain": [
       "16617"
      ]
     },
     "execution_count": 16,
     "metadata": {},
     "output_type": "execute_result"
    }
   ],
   "source": [
    "shared_index = dar_gene_df.index.intersection(atac_rmp.index)\n",
    "len(shared_index)"
   ]
  },
  {
   "cell_type": "code",
   "execution_count": 17,
   "id": "a8c16cb7",
   "metadata": {
    "execution": {
     "iopub.execute_input": "2024-12-08T03:35:38.724866Z",
     "iopub.status.busy": "2024-12-08T03:35:38.724258Z",
     "iopub.status.idle": "2024-12-08T03:35:38.991656Z",
     "shell.execute_reply": "2024-12-08T03:35:38.990971Z"
    },
    "papermill": {
     "duration": 0.273374,
     "end_time": "2024-12-08T03:35:38.993215",
     "exception": false,
     "start_time": "2024-12-08T03:35:38.719841",
     "status": "completed"
    },
    "tags": []
   },
   "outputs": [],
   "source": [
    "dar_gene_df['2mo'] = atac_rmp.iloc[:,0].to_dict()\n",
    "dar_gene_df['9mo'] = atac_rmp.iloc[:,1].to_dict()\n",
    "dar_gene_df['18mo'] = atac_rmp.iloc[:,2].to_dict()"
   ]
  },
  {
   "cell_type": "code",
   "execution_count": 18,
   "id": "fa8fb6cd",
   "metadata": {
    "execution": {
     "iopub.execute_input": "2024-12-08T03:35:39.002228Z",
     "iopub.status.busy": "2024-12-08T03:35:39.002019Z",
     "iopub.status.idle": "2024-12-08T03:35:39.017545Z",
     "shell.execute_reply": "2024-12-08T03:35:39.016991Z"
    },
    "papermill": {
     "duration": 0.021272,
     "end_time": "2024-12-08T03:35:39.018699",
     "exception": false,
     "start_time": "2024-12-08T03:35:38.997427",
     "status": "completed"
    },
    "tags": []
   },
   "outputs": [],
   "source": [
    "non_na_dar_gene_df = dar_gene_df[~dar_gene_df.isna().any(axis=1)]\n",
    "with_na_dar_gene_df =  dar_gene_df[dar_gene_df.isna().any(axis=1)]"
   ]
  },
  {
   "cell_type": "code",
   "execution_count": 19,
   "id": "6fbb69a0",
   "metadata": {
    "execution": {
     "iopub.execute_input": "2024-12-08T03:35:39.027213Z",
     "iopub.status.busy": "2024-12-08T03:35:39.027048Z",
     "iopub.status.idle": "2024-12-08T03:37:16.804348Z",
     "shell.execute_reply": "2024-12-08T03:37:16.803834Z"
    },
    "papermill": {
     "duration": 97.782929,
     "end_time": "2024-12-08T03:37:16.805467",
     "exception": false,
     "start_time": "2024-12-08T03:35:39.022538",
     "status": "completed"
    },
    "tags": []
   },
   "outputs": [
    {
     "name": "stderr",
     "output_type": "stream",
     "text": [
      "\r",
      "  0%|          | 0/983 [00:00<?, ?it/s]"
     ]
    },
    {
     "name": "stderr",
     "output_type": "stream",
     "text": [
      "\r",
      "  0%|          | 1/983 [00:00<02:01,  8.11it/s]"
     ]
    },
    {
     "name": "stderr",
     "output_type": "stream",
     "text": [
      "\r",
      "  0%|          | 2/983 [00:00<02:49,  5.79it/s]"
     ]
    },
    {
     "name": "stderr",
     "output_type": "stream",
     "text": [
      "\r",
      "  0%|          | 3/983 [00:00<02:48,  5.83it/s]"
     ]
    },
    {
     "name": "stderr",
     "output_type": "stream",
     "text": [
      "\r",
      "  0%|          | 4/983 [00:00<02:21,  6.94it/s]"
     ]
    },
    {
     "name": "stderr",
     "output_type": "stream",
     "text": [
      "\r",
      "  1%|          | 5/983 [00:00<02:31,  6.47it/s]"
     ]
    },
    {
     "name": "stderr",
     "output_type": "stream",
     "text": [
      "\r",
      "  1%|          | 7/983 [00:00<01:47,  9.10it/s]"
     ]
    },
    {
     "name": "stderr",
     "output_type": "stream",
     "text": [
      "\r",
      "  1%|          | 9/983 [00:01<01:44,  9.30it/s]"
     ]
    },
    {
     "name": "stderr",
     "output_type": "stream",
     "text": [
      "\r",
      "  1%|          | 10/983 [00:01<01:47,  9.01it/s]"
     ]
    },
    {
     "name": "stderr",
     "output_type": "stream",
     "text": [
      "\r",
      "  1%|          | 11/983 [00:01<02:02,  7.97it/s]"
     ]
    },
    {
     "name": "stderr",
     "output_type": "stream",
     "text": [
      "\r",
      "  1%|          | 12/983 [00:01<01:59,  8.11it/s]"
     ]
    },
    {
     "name": "stderr",
     "output_type": "stream",
     "text": [
      "\r",
      "  1%|▏         | 14/983 [00:01<01:48,  8.96it/s]"
     ]
    },
    {
     "name": "stderr",
     "output_type": "stream",
     "text": [
      "\r",
      "  2%|▏         | 15/983 [00:01<01:52,  8.61it/s]"
     ]
    },
    {
     "name": "stderr",
     "output_type": "stream",
     "text": [
      "\r",
      "  2%|▏         | 16/983 [00:02<02:11,  7.35it/s]"
     ]
    },
    {
     "name": "stderr",
     "output_type": "stream",
     "text": [
      "\r",
      "  2%|▏         | 17/983 [00:02<02:15,  7.12it/s]"
     ]
    },
    {
     "name": "stderr",
     "output_type": "stream",
     "text": [
      "\r",
      "  2%|▏         | 19/983 [00:02<01:44,  9.20it/s]"
     ]
    },
    {
     "name": "stderr",
     "output_type": "stream",
     "text": [
      "\r",
      "  2%|▏         | 21/983 [00:02<01:29, 10.76it/s]"
     ]
    },
    {
     "name": "stderr",
     "output_type": "stream",
     "text": [
      "\r",
      "  2%|▏         | 23/983 [00:02<01:46,  9.04it/s]"
     ]
    },
    {
     "name": "stderr",
     "output_type": "stream",
     "text": [
      "\r",
      "  2%|▏         | 24/983 [00:02<01:48,  8.81it/s]"
     ]
    },
    {
     "name": "stderr",
     "output_type": "stream",
     "text": [
      "\r",
      "  3%|▎         | 25/983 [00:02<01:49,  8.73it/s]"
     ]
    },
    {
     "name": "stderr",
     "output_type": "stream",
     "text": [
      "\r",
      "  3%|▎         | 26/983 [00:03<01:50,  8.70it/s]"
     ]
    },
    {
     "name": "stderr",
     "output_type": "stream",
     "text": [
      "\r",
      "  3%|▎         | 27/983 [00:03<01:55,  8.26it/s]"
     ]
    },
    {
     "name": "stderr",
     "output_type": "stream",
     "text": [
      "\r",
      "  3%|▎         | 30/983 [00:03<01:44,  9.14it/s]"
     ]
    },
    {
     "name": "stderr",
     "output_type": "stream",
     "text": [
      "\r",
      "  3%|▎         | 33/983 [00:03<01:14, 12.81it/s]"
     ]
    },
    {
     "name": "stderr",
     "output_type": "stream",
     "text": [
      "\r",
      "  4%|▎         | 35/983 [00:03<01:12, 13.00it/s]"
     ]
    },
    {
     "name": "stderr",
     "output_type": "stream",
     "text": [
      "\r",
      "  4%|▍         | 37/983 [00:04<01:30, 10.41it/s]"
     ]
    },
    {
     "name": "stderr",
     "output_type": "stream",
     "text": [
      "\r",
      "  4%|▍         | 39/983 [00:04<01:29, 10.60it/s]"
     ]
    },
    {
     "name": "stderr",
     "output_type": "stream",
     "text": [
      "\r",
      "  4%|▍         | 41/983 [00:04<01:27, 10.76it/s]"
     ]
    },
    {
     "name": "stderr",
     "output_type": "stream",
     "text": [
      "\r",
      "  4%|▍         | 43/983 [00:04<01:27, 10.69it/s]"
     ]
    },
    {
     "name": "stderr",
     "output_type": "stream",
     "text": [
      "\r",
      "  5%|▍         | 45/983 [00:04<01:17, 12.13it/s]"
     ]
    },
    {
     "name": "stderr",
     "output_type": "stream",
     "text": [
      "\r",
      "  5%|▍         | 48/983 [00:04<01:00, 15.48it/s]"
     ]
    },
    {
     "name": "stderr",
     "output_type": "stream",
     "text": [
      "\r",
      "  5%|▌         | 51/983 [00:05<00:59, 15.68it/s]"
     ]
    },
    {
     "name": "stderr",
     "output_type": "stream",
     "text": [
      "\r",
      "  5%|▌         | 53/983 [00:05<00:58, 15.84it/s]"
     ]
    },
    {
     "name": "stderr",
     "output_type": "stream",
     "text": [
      "\r",
      "  6%|▌         | 58/983 [00:05<00:41, 22.45it/s]"
     ]
    },
    {
     "name": "stderr",
     "output_type": "stream",
     "text": [
      "\r",
      "  6%|▌         | 61/983 [00:05<00:45, 20.44it/s]"
     ]
    },
    {
     "name": "stderr",
     "output_type": "stream",
     "text": [
      "\r",
      "  7%|▋         | 64/983 [00:05<00:51, 17.98it/s]"
     ]
    },
    {
     "name": "stderr",
     "output_type": "stream",
     "text": [
      "\r",
      "  7%|▋         | 66/983 [00:05<00:58, 15.81it/s]"
     ]
    },
    {
     "name": "stderr",
     "output_type": "stream",
     "text": [
      "\r",
      "  7%|▋         | 68/983 [00:06<01:00, 15.24it/s]"
     ]
    },
    {
     "name": "stderr",
     "output_type": "stream",
     "text": [
      "\r",
      "  7%|▋         | 70/983 [00:06<01:14, 12.23it/s]"
     ]
    },
    {
     "name": "stderr",
     "output_type": "stream",
     "text": [
      "\r",
      "  7%|▋         | 73/983 [00:06<01:00, 15.00it/s]"
     ]
    },
    {
     "name": "stderr",
     "output_type": "stream",
     "text": [
      "\r",
      "  8%|▊         | 75/983 [00:06<01:06, 13.72it/s]"
     ]
    },
    {
     "name": "stderr",
     "output_type": "stream",
     "text": [
      "\r",
      "  8%|▊         | 77/983 [00:06<01:01, 14.64it/s]"
     ]
    },
    {
     "name": "stderr",
     "output_type": "stream",
     "text": [
      "\r",
      "  8%|▊         | 83/983 [00:06<00:37, 24.30it/s]"
     ]
    },
    {
     "name": "stderr",
     "output_type": "stream",
     "text": [
      "\r",
      "  9%|▊         | 86/983 [00:07<00:49, 18.27it/s]"
     ]
    },
    {
     "name": "stderr",
     "output_type": "stream",
     "text": [
      "\r",
      "  9%|▉         | 89/983 [00:07<00:58, 15.32it/s]"
     ]
    },
    {
     "name": "stderr",
     "output_type": "stream",
     "text": [
      "\r",
      "  9%|▉         | 92/983 [00:07<00:52, 17.05it/s]"
     ]
    },
    {
     "name": "stderr",
     "output_type": "stream",
     "text": [
      "\r",
      " 10%|▉         | 95/983 [00:07<00:52, 16.86it/s]"
     ]
    },
    {
     "name": "stderr",
     "output_type": "stream",
     "text": [
      "\r",
      " 10%|▉         | 97/983 [00:07<00:52, 16.99it/s]"
     ]
    },
    {
     "name": "stderr",
     "output_type": "stream",
     "text": [
      "\r",
      " 10%|█         | 99/983 [00:07<00:58, 15.05it/s]"
     ]
    },
    {
     "name": "stderr",
     "output_type": "stream",
     "text": [
      "\r",
      " 10%|█         | 102/983 [00:08<00:55, 15.78it/s]"
     ]
    },
    {
     "name": "stderr",
     "output_type": "stream",
     "text": [
      "\r",
      " 11%|█         | 106/983 [00:08<00:47, 18.47it/s]"
     ]
    },
    {
     "name": "stderr",
     "output_type": "stream",
     "text": [
      "\r",
      " 11%|█         | 110/983 [00:08<00:39, 22.33it/s]"
     ]
    },
    {
     "name": "stderr",
     "output_type": "stream",
     "text": [
      "\r",
      " 11%|█▏        | 113/983 [00:08<00:38, 22.57it/s]"
     ]
    },
    {
     "name": "stderr",
     "output_type": "stream",
     "text": [
      "\r",
      " 12%|█▏        | 118/983 [00:08<00:33, 26.07it/s]"
     ]
    },
    {
     "name": "stderr",
     "output_type": "stream",
     "text": [
      "\r",
      " 12%|█▏        | 121/983 [00:08<00:42, 20.30it/s]"
     ]
    },
    {
     "name": "stderr",
     "output_type": "stream",
     "text": [
      "\r",
      " 13%|█▎        | 124/983 [00:09<00:44, 19.27it/s]"
     ]
    },
    {
     "name": "stderr",
     "output_type": "stream",
     "text": [
      "\r",
      " 13%|█▎        | 127/983 [00:09<00:41, 20.88it/s]"
     ]
    },
    {
     "name": "stderr",
     "output_type": "stream",
     "text": [
      "\r",
      " 13%|█▎        | 131/983 [00:09<00:36, 23.34it/s]"
     ]
    },
    {
     "name": "stderr",
     "output_type": "stream",
     "text": [
      "\r",
      " 14%|█▍        | 137/983 [00:09<00:27, 31.33it/s]"
     ]
    },
    {
     "name": "stderr",
     "output_type": "stream",
     "text": [
      "\r",
      " 14%|█▍        | 142/983 [00:09<00:29, 28.04it/s]"
     ]
    },
    {
     "name": "stderr",
     "output_type": "stream",
     "text": [
      "\r",
      " 15%|█▍        | 146/983 [00:09<00:35, 23.26it/s]"
     ]
    },
    {
     "name": "stderr",
     "output_type": "stream",
     "text": [
      "\r",
      " 15%|█▌        | 149/983 [00:09<00:34, 24.16it/s]"
     ]
    },
    {
     "name": "stderr",
     "output_type": "stream",
     "text": [
      "\r",
      " 16%|█▌        | 155/983 [00:10<00:31, 26.56it/s]"
     ]
    },
    {
     "name": "stderr",
     "output_type": "stream",
     "text": [
      "\r",
      " 16%|█▌        | 158/983 [00:10<00:31, 25.84it/s]"
     ]
    },
    {
     "name": "stderr",
     "output_type": "stream",
     "text": [
      "\r",
      " 16%|█▋        | 162/983 [00:10<00:30, 27.23it/s]"
     ]
    },
    {
     "name": "stderr",
     "output_type": "stream",
     "text": [
      "\r",
      " 17%|█▋        | 165/983 [00:10<00:29, 27.78it/s]"
     ]
    },
    {
     "name": "stderr",
     "output_type": "stream",
     "text": [
      "\r",
      " 17%|█▋        | 168/983 [00:10<00:38, 21.09it/s]"
     ]
    },
    {
     "name": "stderr",
     "output_type": "stream",
     "text": [
      "\r",
      " 18%|█▊        | 173/983 [00:10<00:30, 26.65it/s]"
     ]
    },
    {
     "name": "stderr",
     "output_type": "stream",
     "text": [
      "\r",
      " 18%|█▊        | 177/983 [00:11<00:28, 27.80it/s]"
     ]
    },
    {
     "name": "stderr",
     "output_type": "stream",
     "text": [
      "\r",
      " 18%|█▊        | 181/983 [00:11<00:30, 26.33it/s]"
     ]
    },
    {
     "name": "stderr",
     "output_type": "stream",
     "text": [
      "\r",
      " 19%|█▊        | 184/983 [00:11<00:31, 25.67it/s]"
     ]
    },
    {
     "name": "stderr",
     "output_type": "stream",
     "text": [
      "\r",
      " 19%|█▉        | 187/983 [00:11<00:46, 17.03it/s]"
     ]
    },
    {
     "name": "stderr",
     "output_type": "stream",
     "text": [
      "\r",
      " 20%|█▉        | 193/983 [00:11<00:34, 22.74it/s]"
     ]
    },
    {
     "name": "stderr",
     "output_type": "stream",
     "text": [
      "\r",
      " 20%|██        | 199/983 [00:11<00:27, 28.27it/s]"
     ]
    },
    {
     "name": "stderr",
     "output_type": "stream",
     "text": [
      "\r",
      " 21%|██        | 203/983 [00:12<00:27, 28.35it/s]"
     ]
    },
    {
     "name": "stderr",
     "output_type": "stream",
     "text": [
      "\r",
      " 21%|██        | 207/983 [00:12<00:28, 27.48it/s]"
     ]
    },
    {
     "name": "stderr",
     "output_type": "stream",
     "text": [
      "\r",
      " 21%|██▏       | 211/983 [00:12<00:30, 25.35it/s]"
     ]
    },
    {
     "name": "stderr",
     "output_type": "stream",
     "text": [
      "\r",
      " 22%|██▏       | 215/983 [00:12<00:29, 26.43it/s]"
     ]
    },
    {
     "name": "stderr",
     "output_type": "stream",
     "text": [
      "\r",
      " 22%|██▏       | 218/983 [00:12<00:31, 24.42it/s]"
     ]
    },
    {
     "name": "stderr",
     "output_type": "stream",
     "text": [
      "\r",
      " 22%|██▏       | 221/983 [00:12<00:31, 24.07it/s]"
     ]
    },
    {
     "name": "stderr",
     "output_type": "stream",
     "text": [
      "\r",
      " 23%|██▎       | 225/983 [00:12<00:27, 27.62it/s]"
     ]
    },
    {
     "name": "stderr",
     "output_type": "stream",
     "text": [
      "\r",
      " 23%|██▎       | 228/983 [00:13<00:29, 25.52it/s]"
     ]
    },
    {
     "name": "stderr",
     "output_type": "stream",
     "text": [
      "\r",
      " 24%|██▎       | 233/983 [00:13<00:25, 29.81it/s]"
     ]
    },
    {
     "name": "stderr",
     "output_type": "stream",
     "text": [
      "\r",
      " 24%|██▍       | 240/983 [00:13<00:19, 37.44it/s]"
     ]
    },
    {
     "name": "stderr",
     "output_type": "stream",
     "text": [
      "\r",
      " 25%|██▍       | 244/983 [00:13<00:20, 35.90it/s]"
     ]
    },
    {
     "name": "stderr",
     "output_type": "stream",
     "text": [
      "\r",
      " 25%|██▌       | 248/983 [00:13<00:21, 33.51it/s]"
     ]
    },
    {
     "name": "stderr",
     "output_type": "stream",
     "text": [
      "\r",
      " 26%|██▌       | 253/983 [00:13<00:20, 36.43it/s]"
     ]
    },
    {
     "name": "stderr",
     "output_type": "stream",
     "text": [
      "\r",
      " 26%|██▌       | 257/983 [00:13<00:21, 33.77it/s]"
     ]
    },
    {
     "name": "stderr",
     "output_type": "stream",
     "text": [
      "\r",
      " 27%|██▋       | 261/983 [00:13<00:21, 33.66it/s]"
     ]
    },
    {
     "name": "stderr",
     "output_type": "stream",
     "text": [
      "\r",
      " 27%|██▋       | 267/983 [00:14<00:19, 37.66it/s]"
     ]
    },
    {
     "name": "stderr",
     "output_type": "stream",
     "text": [
      "\r",
      " 28%|██▊       | 271/983 [00:14<00:20, 34.02it/s]"
     ]
    },
    {
     "name": "stderr",
     "output_type": "stream",
     "text": [
      "\r",
      " 28%|██▊       | 275/983 [00:14<00:21, 32.66it/s]"
     ]
    },
    {
     "name": "stderr",
     "output_type": "stream",
     "text": [
      "\r",
      " 28%|██▊       | 279/983 [00:14<00:21, 32.45it/s]"
     ]
    },
    {
     "name": "stderr",
     "output_type": "stream",
     "text": [
      "\r",
      " 29%|██▉       | 284/983 [00:14<00:20, 34.15it/s]"
     ]
    },
    {
     "name": "stderr",
     "output_type": "stream",
     "text": [
      "\r",
      " 30%|██▉       | 290/983 [00:14<00:18, 38.44it/s]"
     ]
    },
    {
     "name": "stderr",
     "output_type": "stream",
     "text": [
      "\r",
      " 30%|██▉       | 294/983 [00:14<00:18, 37.33it/s]"
     ]
    },
    {
     "name": "stderr",
     "output_type": "stream",
     "text": [
      "\r",
      " 31%|███       | 300/983 [00:15<00:16, 40.50it/s]"
     ]
    },
    {
     "name": "stderr",
     "output_type": "stream",
     "text": [
      "\r",
      " 31%|███       | 305/983 [00:15<00:16, 40.42it/s]"
     ]
    },
    {
     "name": "stderr",
     "output_type": "stream",
     "text": [
      "\r",
      " 32%|███▏      | 310/983 [00:15<00:17, 39.22it/s]"
     ]
    },
    {
     "name": "stderr",
     "output_type": "stream",
     "text": [
      "\r",
      " 32%|███▏      | 314/983 [00:15<00:18, 37.05it/s]"
     ]
    },
    {
     "name": "stderr",
     "output_type": "stream",
     "text": [
      "\r",
      " 33%|███▎      | 323/983 [00:15<00:14, 46.99it/s]"
     ]
    },
    {
     "name": "stderr",
     "output_type": "stream",
     "text": [
      "\r",
      " 33%|███▎      | 328/983 [00:15<00:14, 44.71it/s]"
     ]
    },
    {
     "name": "stderr",
     "output_type": "stream",
     "text": [
      "\r",
      " 34%|███▍      | 333/983 [00:15<00:16, 40.36it/s]"
     ]
    },
    {
     "name": "stderr",
     "output_type": "stream",
     "text": [
      "\r",
      " 34%|███▍      | 338/983 [00:16<00:20, 31.88it/s]"
     ]
    },
    {
     "name": "stderr",
     "output_type": "stream",
     "text": [
      "\r",
      " 35%|███▍      | 344/983 [00:16<00:17, 36.99it/s]"
     ]
    },
    {
     "name": "stderr",
     "output_type": "stream",
     "text": [
      "\r",
      " 36%|███▌      | 349/983 [00:16<00:17, 36.90it/s]"
     ]
    },
    {
     "name": "stderr",
     "output_type": "stream",
     "text": [
      "\r",
      " 36%|███▌      | 353/983 [00:16<00:17, 35.94it/s]"
     ]
    },
    {
     "name": "stderr",
     "output_type": "stream",
     "text": [
      "\r",
      " 37%|███▋      | 359/983 [00:16<00:15, 39.33it/s]"
     ]
    },
    {
     "name": "stderr",
     "output_type": "stream",
     "text": [
      "\r",
      " 37%|███▋      | 367/983 [00:16<00:14, 43.46it/s]"
     ]
    },
    {
     "name": "stderr",
     "output_type": "stream",
     "text": [
      "\r",
      " 38%|███▊      | 373/983 [00:16<00:13, 45.91it/s]"
     ]
    },
    {
     "name": "stderr",
     "output_type": "stream",
     "text": [
      "\r",
      " 39%|███▊      | 380/983 [00:16<00:11, 51.14it/s]"
     ]
    },
    {
     "name": "stderr",
     "output_type": "stream",
     "text": [
      "\r",
      " 39%|███▉      | 387/983 [00:17<00:10, 55.15it/s]"
     ]
    },
    {
     "name": "stderr",
     "output_type": "stream",
     "text": [
      "\r",
      " 40%|████      | 394/983 [00:17<00:10, 54.93it/s]"
     ]
    },
    {
     "name": "stderr",
     "output_type": "stream",
     "text": [
      "\r",
      " 41%|████      | 401/983 [00:17<00:10, 57.75it/s]"
     ]
    },
    {
     "name": "stderr",
     "output_type": "stream",
     "text": [
      "\r",
      " 41%|████▏     | 407/983 [00:17<00:11, 52.21it/s]"
     ]
    },
    {
     "name": "stderr",
     "output_type": "stream",
     "text": [
      "\r",
      " 42%|████▏     | 414/983 [00:17<00:10, 53.63it/s]"
     ]
    },
    {
     "name": "stderr",
     "output_type": "stream",
     "text": [
      "\r",
      " 43%|████▎     | 421/983 [00:17<00:10, 54.51it/s]"
     ]
    },
    {
     "name": "stderr",
     "output_type": "stream",
     "text": [
      "\r",
      " 44%|████▎     | 428/983 [00:17<00:10, 54.29it/s]"
     ]
    },
    {
     "name": "stderr",
     "output_type": "stream",
     "text": [
      "\r",
      " 44%|████▍     | 434/983 [00:17<00:12, 45.61it/s]"
     ]
    },
    {
     "name": "stderr",
     "output_type": "stream",
     "text": [
      "\r",
      " 45%|████▍     | 439/983 [00:18<00:12, 41.90it/s]"
     ]
    },
    {
     "name": "stderr",
     "output_type": "stream",
     "text": [
      "\r",
      " 45%|████▌     | 444/983 [00:18<00:13, 39.27it/s]"
     ]
    },
    {
     "name": "stderr",
     "output_type": "stream",
     "text": [
      "\r",
      " 46%|████▌     | 449/983 [00:18<00:12, 41.50it/s]"
     ]
    },
    {
     "name": "stderr",
     "output_type": "stream",
     "text": [
      "\r",
      " 46%|████▌     | 454/983 [00:18<00:13, 39.95it/s]"
     ]
    },
    {
     "name": "stderr",
     "output_type": "stream",
     "text": [
      "\r",
      " 47%|████▋     | 462/983 [00:18<00:10, 49.62it/s]"
     ]
    },
    {
     "name": "stderr",
     "output_type": "stream",
     "text": [
      "\r",
      " 48%|████▊     | 468/983 [00:18<00:11, 45.96it/s]"
     ]
    },
    {
     "name": "stderr",
     "output_type": "stream",
     "text": [
      "\r",
      " 48%|████▊     | 473/983 [00:18<00:11, 44.33it/s]"
     ]
    },
    {
     "name": "stderr",
     "output_type": "stream",
     "text": [
      "\r",
      " 49%|████▊     | 478/983 [00:19<00:12, 39.44it/s]"
     ]
    },
    {
     "name": "stderr",
     "output_type": "stream",
     "text": [
      "\r",
      " 49%|████▉     | 483/983 [00:19<00:12, 38.72it/s]"
     ]
    },
    {
     "name": "stderr",
     "output_type": "stream",
     "text": [
      "\r",
      " 50%|████▉     | 488/983 [00:19<00:12, 40.00it/s]"
     ]
    },
    {
     "name": "stderr",
     "output_type": "stream",
     "text": [
      "\r",
      " 51%|█████     | 499/983 [00:19<00:08, 54.69it/s]"
     ]
    },
    {
     "name": "stderr",
     "output_type": "stream",
     "text": [
      "\r",
      " 51%|█████▏    | 505/983 [00:19<00:09, 53.00it/s]"
     ]
    },
    {
     "name": "stderr",
     "output_type": "stream",
     "text": [
      "\r",
      " 52%|█████▏    | 513/983 [00:19<00:08, 55.99it/s]"
     ]
    },
    {
     "name": "stderr",
     "output_type": "stream",
     "text": [
      "\r",
      " 53%|█████▎    | 524/983 [00:19<00:06, 69.39it/s]"
     ]
    },
    {
     "name": "stderr",
     "output_type": "stream",
     "text": [
      "\r",
      " 54%|█████▍    | 532/983 [00:19<00:08, 56.35it/s]"
     ]
    },
    {
     "name": "stderr",
     "output_type": "stream",
     "text": [
      "\r",
      " 55%|█████▍    | 540/983 [00:20<00:07, 59.44it/s]"
     ]
    },
    {
     "name": "stderr",
     "output_type": "stream",
     "text": [
      "\r",
      " 56%|█████▌    | 549/983 [00:20<00:06, 64.27it/s]"
     ]
    },
    {
     "name": "stderr",
     "output_type": "stream",
     "text": [
      "\r",
      " 57%|█████▋    | 556/983 [00:20<00:06, 61.87it/s]"
     ]
    },
    {
     "name": "stderr",
     "output_type": "stream",
     "text": [
      "\r",
      " 57%|█████▋    | 563/983 [00:20<00:06, 61.79it/s]"
     ]
    },
    {
     "name": "stderr",
     "output_type": "stream",
     "text": [
      "\r",
      " 58%|█████▊    | 573/983 [00:20<00:06, 67.38it/s]"
     ]
    },
    {
     "name": "stderr",
     "output_type": "stream",
     "text": [
      "\r",
      " 59%|█████▉    | 580/983 [00:20<00:06, 62.55it/s]"
     ]
    },
    {
     "name": "stderr",
     "output_type": "stream",
     "text": [
      "\r",
      " 60%|█████▉    | 587/983 [00:20<00:06, 59.74it/s]"
     ]
    },
    {
     "name": "stderr",
     "output_type": "stream",
     "text": [
      "\r",
      " 60%|██████    | 594/983 [00:20<00:06, 58.19it/s]"
     ]
    },
    {
     "name": "stderr",
     "output_type": "stream",
     "text": [
      "\r",
      " 61%|██████    | 600/983 [00:21<00:06, 56.58it/s]"
     ]
    },
    {
     "name": "stderr",
     "output_type": "stream",
     "text": [
      "\r",
      " 62%|██████▏   | 606/983 [00:21<00:07, 53.11it/s]"
     ]
    },
    {
     "name": "stderr",
     "output_type": "stream",
     "text": [
      "\r",
      " 62%|██████▏   | 612/983 [00:21<00:07, 48.88it/s]"
     ]
    },
    {
     "name": "stderr",
     "output_type": "stream",
     "text": [
      "\r",
      " 63%|██████▎   | 618/983 [00:21<00:07, 50.08it/s]"
     ]
    },
    {
     "name": "stderr",
     "output_type": "stream",
     "text": [
      "\r",
      " 64%|██████▍   | 629/983 [00:21<00:05, 64.15it/s]"
     ]
    },
    {
     "name": "stderr",
     "output_type": "stream",
     "text": [
      "\r",
      " 65%|██████▍   | 636/983 [00:21<00:06, 57.36it/s]"
     ]
    },
    {
     "name": "stderr",
     "output_type": "stream",
     "text": [
      "\r",
      " 65%|██████▌   | 643/983 [00:21<00:07, 47.67it/s]"
     ]
    },
    {
     "name": "stderr",
     "output_type": "stream",
     "text": [
      "\r",
      " 66%|██████▌   | 649/983 [00:22<00:07, 46.33it/s]"
     ]
    },
    {
     "name": "stderr",
     "output_type": "stream",
     "text": [
      "\r",
      " 67%|██████▋   | 654/983 [00:22<00:08, 38.72it/s]"
     ]
    },
    {
     "name": "stderr",
     "output_type": "stream",
     "text": [
      "\r",
      " 67%|██████▋   | 660/983 [00:22<00:07, 41.93it/s]"
     ]
    },
    {
     "name": "stderr",
     "output_type": "stream",
     "text": [
      "\r",
      " 68%|██████▊   | 665/983 [00:22<00:07, 40.06it/s]"
     ]
    },
    {
     "name": "stderr",
     "output_type": "stream",
     "text": [
      "\r",
      " 68%|██████▊   | 670/983 [00:22<00:07, 40.20it/s]"
     ]
    },
    {
     "name": "stderr",
     "output_type": "stream",
     "text": [
      "\r",
      " 69%|██████▉   | 678/983 [00:22<00:06, 47.87it/s]"
     ]
    },
    {
     "name": "stderr",
     "output_type": "stream",
     "text": [
      "\r",
      " 70%|██████▉   | 685/983 [00:22<00:05, 51.00it/s]"
     ]
    },
    {
     "name": "stderr",
     "output_type": "stream",
     "text": [
      "\r",
      " 70%|███████   | 691/983 [00:23<00:06, 48.00it/s]"
     ]
    },
    {
     "name": "stderr",
     "output_type": "stream",
     "text": [
      "\r",
      " 71%|███████   | 696/983 [00:23<00:06, 47.33it/s]"
     ]
    },
    {
     "name": "stderr",
     "output_type": "stream",
     "text": [
      "\r",
      " 71%|███████▏  | 701/983 [00:23<00:06, 43.61it/s]"
     ]
    },
    {
     "name": "stderr",
     "output_type": "stream",
     "text": [
      "\r",
      " 72%|███████▏  | 706/983 [00:23<00:06, 45.07it/s]"
     ]
    },
    {
     "name": "stderr",
     "output_type": "stream",
     "text": [
      "\r",
      " 72%|███████▏  | 711/983 [00:23<00:06, 43.76it/s]"
     ]
    },
    {
     "name": "stderr",
     "output_type": "stream",
     "text": [
      "\r",
      " 73%|███████▎  | 716/983 [00:23<00:06, 44.35it/s]"
     ]
    },
    {
     "name": "stderr",
     "output_type": "stream",
     "text": [
      "\r",
      " 73%|███████▎  | 721/983 [00:23<00:06, 38.74it/s]"
     ]
    },
    {
     "name": "stderr",
     "output_type": "stream",
     "text": [
      "\r",
      " 74%|███████▍  | 726/983 [00:23<00:06, 38.45it/s]"
     ]
    },
    {
     "name": "stderr",
     "output_type": "stream",
     "text": [
      "\r",
      " 74%|███████▍  | 730/983 [00:24<00:07, 31.79it/s]"
     ]
    },
    {
     "name": "stderr",
     "output_type": "stream",
     "text": [
      "\r",
      " 75%|███████▍  | 737/983 [00:24<00:06, 38.49it/s]"
     ]
    },
    {
     "name": "stderr",
     "output_type": "stream",
     "text": [
      "\r",
      " 76%|███████▌  | 743/983 [00:24<00:05, 41.75it/s]"
     ]
    },
    {
     "name": "stderr",
     "output_type": "stream",
     "text": [
      "\r",
      " 76%|███████▌  | 748/983 [00:24<00:06, 38.80it/s]"
     ]
    },
    {
     "name": "stderr",
     "output_type": "stream",
     "text": [
      "\r",
      " 79%|███████▉  | 777/983 [00:24<00:02, 93.18it/s]"
     ]
    },
    {
     "name": "stderr",
     "output_type": "stream",
     "text": [
      "\r",
      " 80%|████████  | 788/983 [00:24<00:02, 74.17it/s]"
     ]
    },
    {
     "name": "stderr",
     "output_type": "stream",
     "text": [
      "\r",
      " 81%|████████  | 797/983 [00:25<00:03, 61.13it/s]"
     ]
    },
    {
     "name": "stderr",
     "output_type": "stream",
     "text": [
      "\r",
      " 82%|████████▏ | 805/983 [00:25<00:03, 48.92it/s]"
     ]
    },
    {
     "name": "stderr",
     "output_type": "stream",
     "text": [
      "\r",
      " 83%|████████▎ | 811/983 [00:25<00:03, 45.75it/s]"
     ]
    },
    {
     "name": "stderr",
     "output_type": "stream",
     "text": [
      "\r",
      " 83%|████████▎ | 818/983 [00:25<00:03, 47.79it/s]"
     ]
    },
    {
     "name": "stderr",
     "output_type": "stream",
     "text": [
      "\r",
      " 84%|████████▍ | 824/983 [00:25<00:03, 45.67it/s]"
     ]
    },
    {
     "name": "stderr",
     "output_type": "stream",
     "text": [
      "\r",
      " 84%|████████▍ | 830/983 [00:25<00:03, 42.98it/s]"
     ]
    },
    {
     "name": "stderr",
     "output_type": "stream",
     "text": [
      "\r",
      " 85%|████████▍ | 835/983 [00:26<00:03, 41.82it/s]"
     ]
    },
    {
     "name": "stderr",
     "output_type": "stream",
     "text": [
      "\r",
      " 85%|████████▌ | 840/983 [00:26<00:03, 42.09it/s]"
     ]
    },
    {
     "name": "stderr",
     "output_type": "stream",
     "text": [
      "\r",
      " 86%|████████▌ | 845/983 [00:26<00:03, 39.51it/s]"
     ]
    },
    {
     "name": "stderr",
     "output_type": "stream",
     "text": [
      "\r",
      " 86%|████████▋ | 850/983 [00:26<00:03, 36.04it/s]"
     ]
    },
    {
     "name": "stderr",
     "output_type": "stream",
     "text": [
      "\r",
      " 87%|████████▋ | 855/983 [00:26<00:03, 37.60it/s]"
     ]
    },
    {
     "name": "stderr",
     "output_type": "stream",
     "text": [
      "\r",
      " 87%|████████▋ | 859/983 [00:26<00:03, 37.60it/s]"
     ]
    },
    {
     "name": "stderr",
     "output_type": "stream",
     "text": [
      "\r",
      " 89%|████████▉ | 873/983 [00:26<00:01, 59.00it/s]"
     ]
    },
    {
     "name": "stderr",
     "output_type": "stream",
     "text": [
      "\r",
      " 90%|████████▉ | 880/983 [00:27<00:02, 49.33it/s]"
     ]
    },
    {
     "name": "stderr",
     "output_type": "stream",
     "text": [
      "\r",
      " 90%|█████████ | 888/983 [00:27<00:01, 53.82it/s]"
     ]
    },
    {
     "name": "stderr",
     "output_type": "stream",
     "text": [
      "\r",
      " 91%|█████████ | 894/983 [00:27<00:01, 53.81it/s]"
     ]
    },
    {
     "name": "stderr",
     "output_type": "stream",
     "text": [
      "\r",
      " 92%|█████████▏| 900/983 [00:27<00:01, 50.49it/s]"
     ]
    },
    {
     "name": "stderr",
     "output_type": "stream",
     "text": [
      "\r",
      " 92%|█████████▏| 906/983 [00:27<00:01, 51.52it/s]"
     ]
    },
    {
     "name": "stderr",
     "output_type": "stream",
     "text": [
      "\r",
      " 93%|█████████▎| 912/983 [00:27<00:01, 46.08it/s]"
     ]
    },
    {
     "name": "stderr",
     "output_type": "stream",
     "text": [
      "\r",
      " 94%|█████████▍| 924/983 [00:27<00:00, 61.09it/s]"
     ]
    },
    {
     "name": "stderr",
     "output_type": "stream",
     "text": [
      "\r",
      " 95%|█████████▍| 931/983 [00:28<00:01, 50.55it/s]"
     ]
    },
    {
     "name": "stderr",
     "output_type": "stream",
     "text": [
      "\r",
      " 95%|█████████▌| 937/983 [00:28<00:01, 45.81it/s]"
     ]
    },
    {
     "name": "stderr",
     "output_type": "stream",
     "text": [
      "\r",
      " 96%|█████████▌| 942/983 [00:28<00:01, 40.63it/s]"
     ]
    },
    {
     "name": "stderr",
     "output_type": "stream",
     "text": [
      "\r",
      " 96%|█████████▋| 948/983 [00:28<00:00, 42.73it/s]"
     ]
    },
    {
     "name": "stderr",
     "output_type": "stream",
     "text": [
      "\r",
      " 98%|█████████▊| 962/983 [00:28<00:00, 61.31it/s]"
     ]
    },
    {
     "name": "stderr",
     "output_type": "stream",
     "text": [
      "\r",
      " 99%|█████████▉| 973/983 [00:28<00:00, 66.00it/s]"
     ]
    },
    {
     "name": "stderr",
     "output_type": "stream",
     "text": [
      "\r",
      "100%|█████████▉| 981/983 [00:28<00:00, 67.18it/s]"
     ]
    },
    {
     "name": "stderr",
     "output_type": "stream",
     "text": [
      "\r",
      "100%|██████████| 983/983 [00:28<00:00, 34.02it/s]"
     ]
    },
    {
     "name": "stderr",
     "output_type": "stream",
     "text": [
      "\n"
     ]
    },
    {
     "name": "stderr",
     "output_type": "stream",
     "text": [
      "\r",
      "  0%|          | 0/983 [00:00<?, ?it/s]"
     ]
    },
    {
     "name": "stderr",
     "output_type": "stream",
     "text": [
      "\r",
      "  0%|          | 1/983 [00:00<02:32,  6.42it/s]"
     ]
    },
    {
     "name": "stderr",
     "output_type": "stream",
     "text": [
      "\r",
      "  0%|          | 2/983 [00:00<02:10,  7.49it/s]"
     ]
    },
    {
     "name": "stderr",
     "output_type": "stream",
     "text": [
      "\r",
      "  0%|          | 3/983 [00:00<02:20,  6.98it/s]"
     ]
    },
    {
     "name": "stderr",
     "output_type": "stream",
     "text": [
      "\r",
      "  0%|          | 4/983 [00:00<03:06,  5.25it/s]"
     ]
    },
    {
     "name": "stderr",
     "output_type": "stream",
     "text": [
      "\r",
      "  1%|          | 5/983 [00:00<02:46,  5.88it/s]"
     ]
    },
    {
     "name": "stderr",
     "output_type": "stream",
     "text": [
      "\r",
      "  1%|          | 7/983 [00:00<01:57,  8.30it/s]"
     ]
    },
    {
     "name": "stderr",
     "output_type": "stream",
     "text": [
      "\r",
      "  1%|          | 9/983 [00:01<01:33, 10.41it/s]"
     ]
    },
    {
     "name": "stderr",
     "output_type": "stream",
     "text": [
      "\r",
      "  1%|          | 11/983 [00:01<02:04,  7.81it/s]"
     ]
    },
    {
     "name": "stderr",
     "output_type": "stream",
     "text": [
      "\r",
      "  1%|          | 12/983 [00:01<02:02,  7.91it/s]"
     ]
    },
    {
     "name": "stderr",
     "output_type": "stream",
     "text": [
      "\r",
      "  1%|▏         | 14/983 [00:01<02:20,  6.87it/s]"
     ]
    },
    {
     "name": "stderr",
     "output_type": "stream",
     "text": [
      "\r",
      "  2%|▏         | 15/983 [00:02<02:21,  6.86it/s]"
     ]
    },
    {
     "name": "stderr",
     "output_type": "stream",
     "text": [
      "\r",
      "  2%|▏         | 16/983 [00:02<02:20,  6.90it/s]"
     ]
    },
    {
     "name": "stderr",
     "output_type": "stream",
     "text": [
      "\r",
      "  2%|▏         | 17/983 [00:02<02:16,  7.08it/s]"
     ]
    },
    {
     "name": "stderr",
     "output_type": "stream",
     "text": [
      "\r",
      "  2%|▏         | 21/983 [00:02<01:17, 12.47it/s]"
     ]
    },
    {
     "name": "stderr",
     "output_type": "stream",
     "text": [
      "\r",
      "  2%|▏         | 23/983 [00:02<01:10, 13.66it/s]"
     ]
    },
    {
     "name": "stderr",
     "output_type": "stream",
     "text": [
      "\r",
      "  3%|▎         | 25/983 [00:02<01:28, 10.80it/s]"
     ]
    },
    {
     "name": "stderr",
     "output_type": "stream",
     "text": [
      "\r",
      "  3%|▎         | 27/983 [00:03<01:41,  9.45it/s]"
     ]
    },
    {
     "name": "stderr",
     "output_type": "stream",
     "text": [
      "\r",
      "  3%|▎         | 31/983 [00:03<01:20, 11.89it/s]"
     ]
    },
    {
     "name": "stderr",
     "output_type": "stream",
     "text": [
      "\r",
      "  3%|▎         | 34/983 [00:03<01:11, 13.33it/s]"
     ]
    },
    {
     "name": "stderr",
     "output_type": "stream",
     "text": [
      "\r",
      "  4%|▎         | 36/983 [00:03<01:27, 10.79it/s]"
     ]
    },
    {
     "name": "stderr",
     "output_type": "stream",
     "text": [
      "\r",
      "  4%|▍         | 38/983 [00:04<01:22, 11.40it/s]"
     ]
    },
    {
     "name": "stderr",
     "output_type": "stream",
     "text": [
      "\r",
      "  4%|▍         | 41/983 [00:04<01:19, 11.83it/s]"
     ]
    },
    {
     "name": "stderr",
     "output_type": "stream",
     "text": [
      "\r",
      "  4%|▍         | 44/983 [00:04<01:15, 12.44it/s]"
     ]
    },
    {
     "name": "stderr",
     "output_type": "stream",
     "text": [
      "\r",
      "  5%|▍         | 47/983 [00:04<01:01, 15.32it/s]"
     ]
    },
    {
     "name": "stderr",
     "output_type": "stream",
     "text": [
      "\r",
      "  5%|▌         | 50/983 [00:04<00:53, 17.52it/s]"
     ]
    },
    {
     "name": "stderr",
     "output_type": "stream",
     "text": [
      "\r",
      "  5%|▌         | 53/983 [00:04<01:05, 14.16it/s]"
     ]
    },
    {
     "name": "stderr",
     "output_type": "stream",
     "text": [
      "\r",
      "  6%|▌         | 55/983 [00:05<01:05, 14.23it/s]"
     ]
    },
    {
     "name": "stderr",
     "output_type": "stream",
     "text": [
      "\r",
      "  6%|▌         | 59/983 [00:05<00:53, 17.27it/s]"
     ]
    },
    {
     "name": "stderr",
     "output_type": "stream",
     "text": [
      "\r",
      "  6%|▌         | 61/983 [00:05<00:53, 17.18it/s]"
     ]
    },
    {
     "name": "stderr",
     "output_type": "stream",
     "text": [
      "\r",
      "  6%|▋         | 63/983 [00:05<01:34,  9.71it/s]"
     ]
    },
    {
     "name": "stderr",
     "output_type": "stream",
     "text": [
      "\r",
      "  7%|▋         | 65/983 [00:06<01:43,  8.87it/s]"
     ]
    },
    {
     "name": "stderr",
     "output_type": "stream",
     "text": [
      "\r",
      "  7%|▋         | 67/983 [00:06<01:31,  9.99it/s]"
     ]
    },
    {
     "name": "stderr",
     "output_type": "stream",
     "text": [
      "\r",
      "  7%|▋         | 69/983 [00:06<01:46,  8.61it/s]"
     ]
    },
    {
     "name": "stderr",
     "output_type": "stream",
     "text": [
      "\r",
      "  7%|▋         | 71/983 [00:06<01:41,  9.02it/s]"
     ]
    },
    {
     "name": "stderr",
     "output_type": "stream",
     "text": [
      "\r",
      "  7%|▋         | 73/983 [00:06<01:27, 10.37it/s]"
     ]
    },
    {
     "name": "stderr",
     "output_type": "stream",
     "text": [
      "\r",
      "  8%|▊         | 75/983 [00:07<01:36,  9.43it/s]"
     ]
    },
    {
     "name": "stderr",
     "output_type": "stream",
     "text": [
      "\r",
      "  8%|▊         | 77/983 [00:07<01:25, 10.54it/s]"
     ]
    },
    {
     "name": "stderr",
     "output_type": "stream",
     "text": [
      "\r",
      "  8%|▊         | 83/983 [00:07<00:47, 19.08it/s]"
     ]
    },
    {
     "name": "stderr",
     "output_type": "stream",
     "text": [
      "\r",
      "  9%|▊         | 86/983 [00:07<00:46, 19.33it/s]"
     ]
    },
    {
     "name": "stderr",
     "output_type": "stream",
     "text": [
      "\r",
      "  9%|▉         | 89/983 [00:07<00:53, 16.56it/s]"
     ]
    },
    {
     "name": "stderr",
     "output_type": "stream",
     "text": [
      "\r",
      "  9%|▉         | 92/983 [00:08<00:56, 15.71it/s]"
     ]
    },
    {
     "name": "stderr",
     "output_type": "stream",
     "text": [
      "\r",
      " 10%|▉         | 95/983 [00:08<00:48, 18.27it/s]"
     ]
    },
    {
     "name": "stderr",
     "output_type": "stream",
     "text": [
      "\r",
      " 10%|▉         | 98/983 [00:08<00:45, 19.38it/s]"
     ]
    },
    {
     "name": "stderr",
     "output_type": "stream",
     "text": [
      "\r",
      " 10%|█         | 101/983 [00:08<00:50, 17.52it/s]"
     ]
    },
    {
     "name": "stderr",
     "output_type": "stream",
     "text": [
      "\r",
      " 11%|█         | 105/983 [00:08<00:43, 20.34it/s]"
     ]
    },
    {
     "name": "stderr",
     "output_type": "stream",
     "text": [
      "\r",
      " 11%|█         | 109/983 [00:08<00:36, 24.18it/s]"
     ]
    },
    {
     "name": "stderr",
     "output_type": "stream",
     "text": [
      "\r",
      " 11%|█▏        | 112/983 [00:08<00:40, 21.56it/s]"
     ]
    },
    {
     "name": "stderr",
     "output_type": "stream",
     "text": [
      "\r",
      " 12%|█▏        | 118/983 [00:09<00:31, 27.04it/s]"
     ]
    },
    {
     "name": "stderr",
     "output_type": "stream",
     "text": [
      "\r",
      " 12%|█▏        | 121/983 [00:09<00:33, 25.85it/s]"
     ]
    },
    {
     "name": "stderr",
     "output_type": "stream",
     "text": [
      "\r",
      " 13%|█▎        | 124/983 [00:09<00:33, 26.01it/s]"
     ]
    },
    {
     "name": "stderr",
     "output_type": "stream",
     "text": [
      "\r",
      " 13%|█▎        | 128/983 [00:09<00:30, 28.01it/s]"
     ]
    },
    {
     "name": "stderr",
     "output_type": "stream",
     "text": [
      "\r",
      " 13%|█▎        | 131/983 [00:09<00:37, 22.46it/s]"
     ]
    },
    {
     "name": "stderr",
     "output_type": "stream",
     "text": [
      "\r",
      " 14%|█▍        | 139/983 [00:09<00:25, 32.91it/s]"
     ]
    },
    {
     "name": "stderr",
     "output_type": "stream",
     "text": [
      "\r",
      " 15%|█▍        | 143/983 [00:10<00:39, 21.17it/s]"
     ]
    },
    {
     "name": "stderr",
     "output_type": "stream",
     "text": [
      "\r",
      " 15%|█▍        | 146/983 [00:10<00:42, 19.86it/s]"
     ]
    },
    {
     "name": "stderr",
     "output_type": "stream",
     "text": [
      "\r",
      " 15%|█▌        | 149/983 [00:10<00:39, 21.38it/s]"
     ]
    },
    {
     "name": "stderr",
     "output_type": "stream",
     "text": [
      "\r",
      " 16%|█▌        | 153/983 [00:10<00:35, 23.65it/s]"
     ]
    },
    {
     "name": "stderr",
     "output_type": "stream",
     "text": [
      "\r",
      " 16%|█▌        | 156/983 [00:10<00:39, 20.87it/s]"
     ]
    },
    {
     "name": "stderr",
     "output_type": "stream",
     "text": [
      "\r",
      " 16%|█▌        | 159/983 [00:10<00:36, 22.48it/s]"
     ]
    },
    {
     "name": "stderr",
     "output_type": "stream",
     "text": [
      "\r",
      " 17%|█▋        | 164/983 [00:11<00:39, 20.75it/s]"
     ]
    },
    {
     "name": "stderr",
     "output_type": "stream",
     "text": [
      "\r",
      " 17%|█▋        | 167/983 [00:11<00:42, 19.15it/s]"
     ]
    },
    {
     "name": "stderr",
     "output_type": "stream",
     "text": [
      "\r",
      " 18%|█▊        | 173/983 [00:11<00:32, 25.00it/s]"
     ]
    },
    {
     "name": "stderr",
     "output_type": "stream",
     "text": [
      "\r",
      " 18%|█▊        | 177/983 [00:11<00:30, 26.07it/s]"
     ]
    },
    {
     "name": "stderr",
     "output_type": "stream",
     "text": [
      "\r",
      " 18%|█▊        | 180/983 [00:11<00:37, 21.20it/s]"
     ]
    },
    {
     "name": "stderr",
     "output_type": "stream",
     "text": [
      "\r",
      " 19%|█▊        | 183/983 [00:12<00:42, 18.80it/s]"
     ]
    },
    {
     "name": "stderr",
     "output_type": "stream",
     "text": [
      "\r",
      " 19%|█▉        | 186/983 [00:12<00:44, 18.02it/s]"
     ]
    },
    {
     "name": "stderr",
     "output_type": "stream",
     "text": [
      "\r",
      " 20%|█▉        | 193/983 [00:12<00:33, 23.46it/s]"
     ]
    },
    {
     "name": "stderr",
     "output_type": "stream",
     "text": [
      "\r",
      " 20%|██        | 199/983 [00:12<00:27, 28.54it/s]"
     ]
    },
    {
     "name": "stderr",
     "output_type": "stream",
     "text": [
      "\r",
      " 21%|██        | 203/983 [00:12<00:26, 29.17it/s]"
     ]
    },
    {
     "name": "stderr",
     "output_type": "stream",
     "text": [
      "\r",
      " 21%|██        | 207/983 [00:12<00:31, 24.98it/s]"
     ]
    },
    {
     "name": "stderr",
     "output_type": "stream",
     "text": [
      "\r",
      " 21%|██▏       | 210/983 [00:13<00:31, 24.39it/s]"
     ]
    },
    {
     "name": "stderr",
     "output_type": "stream",
     "text": [
      "\r",
      " 22%|██▏       | 213/983 [00:13<00:32, 23.84it/s]"
     ]
    },
    {
     "name": "stderr",
     "output_type": "stream",
     "text": [
      "\r",
      " 22%|██▏       | 216/983 [00:13<00:33, 22.72it/s]"
     ]
    },
    {
     "name": "stderr",
     "output_type": "stream",
     "text": [
      "\r",
      " 22%|██▏       | 220/983 [00:13<00:34, 22.28it/s]"
     ]
    },
    {
     "name": "stderr",
     "output_type": "stream",
     "text": [
      "\r",
      " 23%|██▎       | 224/983 [00:13<00:35, 21.68it/s]"
     ]
    },
    {
     "name": "stderr",
     "output_type": "stream",
     "text": [
      "\r",
      " 23%|██▎       | 227/983 [00:13<00:33, 22.84it/s]"
     ]
    },
    {
     "name": "stderr",
     "output_type": "stream",
     "text": [
      "\r",
      " 23%|██▎       | 230/983 [00:13<00:32, 23.32it/s]"
     ]
    },
    {
     "name": "stderr",
     "output_type": "stream",
     "text": [
      "\r",
      " 24%|██▍       | 236/983 [00:14<00:25, 29.77it/s]"
     ]
    },
    {
     "name": "stderr",
     "output_type": "stream",
     "text": [
      "\r",
      " 24%|██▍       | 240/983 [00:14<00:25, 29.60it/s]"
     ]
    },
    {
     "name": "stderr",
     "output_type": "stream",
     "text": [
      "\r",
      " 25%|██▍       | 244/983 [00:14<00:28, 25.51it/s]"
     ]
    },
    {
     "name": "stderr",
     "output_type": "stream",
     "text": [
      "\r",
      " 25%|██▌       | 248/983 [00:14<00:27, 27.14it/s]"
     ]
    },
    {
     "name": "stderr",
     "output_type": "stream",
     "text": [
      "\r",
      " 26%|██▌       | 254/983 [00:14<00:22, 32.56it/s]"
     ]
    },
    {
     "name": "stderr",
     "output_type": "stream",
     "text": [
      "\r",
      " 26%|██▋       | 260/983 [00:14<00:19, 36.76it/s]"
     ]
    },
    {
     "name": "stderr",
     "output_type": "stream",
     "text": [
      "\r",
      " 27%|██▋       | 264/983 [00:14<00:22, 31.46it/s]"
     ]
    },
    {
     "name": "stderr",
     "output_type": "stream",
     "text": [
      "\r",
      " 27%|██▋       | 268/983 [00:15<00:21, 32.92it/s]"
     ]
    },
    {
     "name": "stderr",
     "output_type": "stream",
     "text": [
      "\r",
      " 28%|██▊       | 273/983 [00:15<00:20, 35.08it/s]"
     ]
    },
    {
     "name": "stderr",
     "output_type": "stream",
     "text": [
      "\r",
      " 28%|██▊       | 277/983 [00:15<00:20, 34.09it/s]"
     ]
    },
    {
     "name": "stderr",
     "output_type": "stream",
     "text": [
      "\r",
      " 29%|██▊       | 281/983 [00:15<00:20, 33.73it/s]"
     ]
    },
    {
     "name": "stderr",
     "output_type": "stream",
     "text": [
      "\r",
      " 29%|██▉       | 287/983 [00:15<00:18, 38.37it/s]"
     ]
    },
    {
     "name": "stderr",
     "output_type": "stream",
     "text": [
      "\r",
      " 30%|██▉       | 291/983 [00:15<00:17, 38.48it/s]"
     ]
    },
    {
     "name": "stderr",
     "output_type": "stream",
     "text": [
      "\r",
      " 30%|███       | 296/983 [00:15<00:18, 36.83it/s]"
     ]
    },
    {
     "name": "stderr",
     "output_type": "stream",
     "text": [
      "\r",
      " 31%|███       | 300/983 [00:15<00:18, 37.59it/s]"
     ]
    },
    {
     "name": "stderr",
     "output_type": "stream",
     "text": [
      "\r",
      " 31%|███       | 305/983 [00:16<00:18, 37.55it/s]"
     ]
    },
    {
     "name": "stderr",
     "output_type": "stream",
     "text": [
      "\r",
      " 31%|███▏      | 309/983 [00:16<00:18, 35.75it/s]"
     ]
    },
    {
     "name": "stderr",
     "output_type": "stream",
     "text": [
      "\r",
      " 32%|███▏      | 319/983 [00:16<00:13, 49.49it/s]"
     ]
    },
    {
     "name": "stderr",
     "output_type": "stream",
     "text": [
      "\r",
      " 33%|███▎      | 324/983 [00:16<00:13, 49.45it/s]"
     ]
    },
    {
     "name": "stderr",
     "output_type": "stream",
     "text": [
      "\r",
      " 33%|███▎      | 329/983 [00:16<00:15, 41.54it/s]"
     ]
    },
    {
     "name": "stderr",
     "output_type": "stream",
     "text": [
      "\r",
      " 34%|███▍      | 335/983 [00:16<00:18, 34.70it/s]"
     ]
    },
    {
     "name": "stderr",
     "output_type": "stream",
     "text": [
      "\r",
      " 35%|███▍      | 341/983 [00:16<00:16, 38.43it/s]"
     ]
    },
    {
     "name": "stderr",
     "output_type": "stream",
     "text": [
      "\r",
      " 35%|███▌      | 347/983 [00:17<00:15, 40.83it/s]"
     ]
    },
    {
     "name": "stderr",
     "output_type": "stream",
     "text": [
      "\r",
      " 36%|███▌      | 352/983 [00:17<00:16, 37.86it/s]"
     ]
    },
    {
     "name": "stderr",
     "output_type": "stream",
     "text": [
      "\r",
      " 36%|███▋      | 358/983 [00:17<00:14, 42.37it/s]"
     ]
    },
    {
     "name": "stderr",
     "output_type": "stream",
     "text": [
      "\r",
      " 37%|███▋      | 364/983 [00:17<00:13, 44.99it/s]"
     ]
    },
    {
     "name": "stderr",
     "output_type": "stream",
     "text": [
      "\r",
      " 38%|███▊      | 369/983 [00:17<00:13, 45.00it/s]"
     ]
    },
    {
     "name": "stderr",
     "output_type": "stream",
     "text": [
      "\r",
      " 39%|███▊      | 379/983 [00:17<00:10, 56.61it/s]"
     ]
    },
    {
     "name": "stderr",
     "output_type": "stream",
     "text": [
      "\r",
      " 39%|███▉      | 385/983 [00:17<00:11, 54.07it/s]"
     ]
    },
    {
     "name": "stderr",
     "output_type": "stream",
     "text": [
      "\r",
      " 40%|███▉      | 392/983 [00:17<00:10, 54.93it/s]"
     ]
    },
    {
     "name": "stderr",
     "output_type": "stream",
     "text": [
      "\r",
      " 41%|████      | 399/983 [00:18<00:10, 54.36it/s]"
     ]
    },
    {
     "name": "stderr",
     "output_type": "stream",
     "text": [
      "\r",
      " 41%|████      | 405/983 [00:18<00:11, 49.54it/s]"
     ]
    },
    {
     "name": "stderr",
     "output_type": "stream",
     "text": [
      "\r",
      " 42%|████▏     | 411/983 [00:18<00:11, 51.38it/s]"
     ]
    },
    {
     "name": "stderr",
     "output_type": "stream",
     "text": [
      "\r",
      " 43%|████▎     | 418/983 [00:18<00:10, 52.45it/s]"
     ]
    },
    {
     "name": "stderr",
     "output_type": "stream",
     "text": [
      "\r",
      " 43%|████▎     | 424/983 [00:18<00:11, 50.73it/s]"
     ]
    },
    {
     "name": "stderr",
     "output_type": "stream",
     "text": [
      "\r",
      " 44%|████▎     | 430/983 [00:18<00:11, 46.57it/s]"
     ]
    },
    {
     "name": "stderr",
     "output_type": "stream",
     "text": [
      "\r",
      " 44%|████▍     | 435/983 [00:18<00:13, 41.36it/s]"
     ]
    },
    {
     "name": "stderr",
     "output_type": "stream",
     "text": [
      "\r",
      " 45%|████▍     | 440/983 [00:19<00:14, 37.40it/s]"
     ]
    },
    {
     "name": "stderr",
     "output_type": "stream",
     "text": [
      "\r",
      " 45%|████▌     | 445/983 [00:19<00:14, 38.40it/s]"
     ]
    },
    {
     "name": "stderr",
     "output_type": "stream",
     "text": [
      "\r",
      " 46%|████▌     | 450/983 [00:19<00:13, 40.08it/s]"
     ]
    },
    {
     "name": "stderr",
     "output_type": "stream",
     "text": [
      "\r",
      " 46%|████▋     | 455/983 [00:19<00:13, 37.84it/s]"
     ]
    },
    {
     "name": "stderr",
     "output_type": "stream",
     "text": [
      "\r",
      " 47%|████▋     | 464/983 [00:19<00:10, 47.23it/s]"
     ]
    },
    {
     "name": "stderr",
     "output_type": "stream",
     "text": [
      "\r",
      " 48%|████▊     | 470/983 [00:19<00:10, 48.03it/s]"
     ]
    },
    {
     "name": "stderr",
     "output_type": "stream",
     "text": [
      "\r",
      " 49%|████▊     | 478/983 [00:19<00:09, 52.85it/s]"
     ]
    },
    {
     "name": "stderr",
     "output_type": "stream",
     "text": [
      "\r",
      " 49%|████▉     | 484/983 [00:20<00:11, 42.21it/s]"
     ]
    },
    {
     "name": "stderr",
     "output_type": "stream",
     "text": [
      "\r",
      " 50%|████▉     | 491/983 [00:20<00:10, 48.18it/s]"
     ]
    },
    {
     "name": "stderr",
     "output_type": "stream",
     "text": [
      "\r",
      " 51%|█████     | 498/983 [00:20<00:09, 51.28it/s]"
     ]
    },
    {
     "name": "stderr",
     "output_type": "stream",
     "text": [
      "\r",
      " 51%|█████▏    | 504/983 [00:20<00:09, 48.48it/s]"
     ]
    },
    {
     "name": "stderr",
     "output_type": "stream",
     "text": [
      "\r",
      " 52%|█████▏    | 510/983 [00:20<00:10, 43.46it/s]"
     ]
    },
    {
     "name": "stderr",
     "output_type": "stream",
     "text": [
      "\r",
      " 52%|█████▏    | 515/983 [00:20<00:11, 40.51it/s]"
     ]
    },
    {
     "name": "stderr",
     "output_type": "stream",
     "text": [
      "\r",
      " 53%|█████▎    | 524/983 [00:20<00:09, 50.36it/s]"
     ]
    },
    {
     "name": "stderr",
     "output_type": "stream",
     "text": [
      "\r",
      " 54%|█████▍    | 530/983 [00:20<00:09, 46.81it/s]"
     ]
    },
    {
     "name": "stderr",
     "output_type": "stream",
     "text": [
      "\r",
      " 54%|█████▍    | 535/983 [00:21<00:09, 46.31it/s]"
     ]
    },
    {
     "name": "stderr",
     "output_type": "stream",
     "text": [
      "\r",
      " 55%|█████▍    | 540/983 [00:21<00:12, 36.66it/s]"
     ]
    },
    {
     "name": "stderr",
     "output_type": "stream",
     "text": [
      "\r",
      " 55%|█████▌    | 545/983 [00:21<00:15, 27.42it/s]"
     ]
    },
    {
     "name": "stderr",
     "output_type": "stream",
     "text": [
      "\r",
      " 56%|█████▌    | 552/983 [00:21<00:13, 32.56it/s]"
     ]
    },
    {
     "name": "stderr",
     "output_type": "stream",
     "text": [
      "\r",
      " 57%|█████▋    | 557/983 [00:21<00:12, 33.96it/s]"
     ]
    },
    {
     "name": "stderr",
     "output_type": "stream",
     "text": [
      "\r",
      " 58%|█████▊    | 567/983 [00:21<00:09, 45.01it/s]"
     ]
    },
    {
     "name": "stderr",
     "output_type": "stream",
     "text": [
      "\r",
      " 58%|█████▊    | 574/983 [00:22<00:08, 49.57it/s]"
     ]
    },
    {
     "name": "stderr",
     "output_type": "stream",
     "text": [
      "\r",
      " 59%|█████▉    | 580/983 [00:22<00:07, 51.20it/s]"
     ]
    },
    {
     "name": "stderr",
     "output_type": "stream",
     "text": [
      "\r",
      " 60%|█████▉    | 586/983 [00:22<00:07, 52.75it/s]"
     ]
    },
    {
     "name": "stderr",
     "output_type": "stream",
     "text": [
      "\r",
      " 60%|██████    | 592/983 [00:22<00:09, 42.19it/s]"
     ]
    },
    {
     "name": "stderr",
     "output_type": "stream",
     "text": [
      "\r",
      " 61%|██████▏   | 603/983 [00:22<00:06, 55.05it/s]"
     ]
    },
    {
     "name": "stderr",
     "output_type": "stream",
     "text": [
      "\r",
      " 62%|██████▏   | 610/983 [00:22<00:06, 58.29it/s]"
     ]
    },
    {
     "name": "stderr",
     "output_type": "stream",
     "text": [
      "\r",
      " 63%|██████▎   | 617/983 [00:22<00:07, 47.33it/s]"
     ]
    },
    {
     "name": "stderr",
     "output_type": "stream",
     "text": [
      "\r",
      " 64%|██████▍   | 628/983 [00:23<00:06, 57.12it/s]"
     ]
    },
    {
     "name": "stderr",
     "output_type": "stream",
     "text": [
      "\r",
      " 65%|██████▍   | 635/983 [00:23<00:06, 56.87it/s]"
     ]
    },
    {
     "name": "stderr",
     "output_type": "stream",
     "text": [
      "\r",
      " 65%|██████▌   | 642/983 [00:23<00:08, 40.39it/s]"
     ]
    },
    {
     "name": "stderr",
     "output_type": "stream",
     "text": [
      "\r",
      " 66%|██████▌   | 647/983 [00:23<00:08, 40.25it/s]"
     ]
    },
    {
     "name": "stderr",
     "output_type": "stream",
     "text": [
      "\r",
      " 66%|██████▋   | 652/983 [00:23<00:09, 35.23it/s]"
     ]
    },
    {
     "name": "stderr",
     "output_type": "stream",
     "text": [
      "\r",
      " 67%|██████▋   | 657/983 [00:24<00:09, 34.43it/s]"
     ]
    },
    {
     "name": "stderr",
     "output_type": "stream",
     "text": [
      "\r",
      " 67%|██████▋   | 663/983 [00:24<00:08, 39.30it/s]"
     ]
    },
    {
     "name": "stderr",
     "output_type": "stream",
     "text": [
      "\r",
      " 68%|██████▊   | 668/983 [00:24<00:08, 37.46it/s]"
     ]
    },
    {
     "name": "stderr",
     "output_type": "stream",
     "text": [
      "\r",
      " 68%|██████▊   | 673/983 [00:24<00:07, 38.88it/s]"
     ]
    },
    {
     "name": "stderr",
     "output_type": "stream",
     "text": [
      "\r",
      " 69%|██████▉   | 680/983 [00:24<00:07, 42.60it/s]"
     ]
    },
    {
     "name": "stderr",
     "output_type": "stream",
     "text": [
      "\r",
      " 70%|██████▉   | 685/983 [00:24<00:06, 44.25it/s]"
     ]
    },
    {
     "name": "stderr",
     "output_type": "stream",
     "text": [
      "\r",
      " 70%|███████   | 692/983 [00:24<00:06, 48.19it/s]"
     ]
    },
    {
     "name": "stderr",
     "output_type": "stream",
     "text": [
      "\r",
      " 71%|███████   | 697/983 [00:24<00:06, 45.76it/s]"
     ]
    },
    {
     "name": "stderr",
     "output_type": "stream",
     "text": [
      "\r",
      " 71%|███████▏  | 702/983 [00:24<00:06, 45.79it/s]"
     ]
    },
    {
     "name": "stderr",
     "output_type": "stream",
     "text": [
      "\r",
      " 72%|███████▏  | 710/983 [00:25<00:05, 50.73it/s]"
     ]
    },
    {
     "name": "stderr",
     "output_type": "stream",
     "text": [
      "\r",
      " 73%|███████▎  | 716/983 [00:25<00:05, 52.82it/s]"
     ]
    },
    {
     "name": "stderr",
     "output_type": "stream",
     "text": [
      "\r",
      " 73%|███████▎  | 722/983 [00:25<00:06, 43.41it/s]"
     ]
    },
    {
     "name": "stderr",
     "output_type": "stream",
     "text": [
      "\r",
      " 74%|███████▍  | 727/983 [00:25<00:06, 42.07it/s]"
     ]
    },
    {
     "name": "stderr",
     "output_type": "stream",
     "text": [
      "\r",
      " 74%|███████▍  | 732/983 [00:25<00:07, 33.74it/s]"
     ]
    },
    {
     "name": "stderr",
     "output_type": "stream",
     "text": [
      "\r",
      " 75%|███████▍  | 736/983 [00:25<00:07, 34.96it/s]"
     ]
    },
    {
     "name": "stderr",
     "output_type": "stream",
     "text": [
      "\r",
      " 75%|███████▌  | 741/983 [00:25<00:06, 36.34it/s]"
     ]
    },
    {
     "name": "stderr",
     "output_type": "stream",
     "text": [
      "\r",
      " 76%|███████▌  | 745/983 [00:26<00:07, 30.98it/s]"
     ]
    },
    {
     "name": "stderr",
     "output_type": "stream",
     "text": [
      "\r",
      " 76%|███████▋  | 750/983 [00:26<00:06, 34.83it/s]"
     ]
    },
    {
     "name": "stderr",
     "output_type": "stream",
     "text": [
      "\r",
      " 79%|███████▉  | 778/983 [00:26<00:02, 92.48it/s]"
     ]
    },
    {
     "name": "stderr",
     "output_type": "stream",
     "text": [
      "\r",
      " 80%|████████  | 789/983 [00:26<00:02, 72.18it/s]"
     ]
    },
    {
     "name": "stderr",
     "output_type": "stream",
     "text": [
      "\r",
      " 81%|████████▏ | 799/983 [00:26<00:03, 59.74it/s]"
     ]
    },
    {
     "name": "stderr",
     "output_type": "stream",
     "text": [
      "\r",
      " 82%|████████▏ | 807/983 [00:27<00:04, 37.86it/s]"
     ]
    },
    {
     "name": "stderr",
     "output_type": "stream",
     "text": [
      "\r",
      " 83%|████████▎ | 813/983 [00:27<00:04, 40.80it/s]"
     ]
    },
    {
     "name": "stderr",
     "output_type": "stream",
     "text": [
      "\r",
      " 83%|████████▎ | 819/983 [00:27<00:03, 43.29it/s]"
     ]
    },
    {
     "name": "stderr",
     "output_type": "stream",
     "text": [
      "\r",
      " 84%|████████▍ | 827/983 [00:27<00:03, 47.32it/s]"
     ]
    },
    {
     "name": "stderr",
     "output_type": "stream",
     "text": [
      "\r",
      " 85%|████████▍ | 833/983 [00:27<00:03, 41.31it/s]"
     ]
    },
    {
     "name": "stderr",
     "output_type": "stream",
     "text": [
      "\r",
      " 85%|████████▌ | 838/983 [00:27<00:03, 41.70it/s]"
     ]
    },
    {
     "name": "stderr",
     "output_type": "stream",
     "text": [
      "\r",
      " 86%|████████▌ | 843/983 [00:28<00:03, 41.12it/s]"
     ]
    },
    {
     "name": "stderr",
     "output_type": "stream",
     "text": [
      "\r",
      " 86%|████████▋ | 848/983 [00:28<00:03, 39.12it/s]"
     ]
    },
    {
     "name": "stderr",
     "output_type": "stream",
     "text": [
      "\r",
      " 87%|████████▋ | 853/983 [00:28<00:04, 31.82it/s]"
     ]
    },
    {
     "name": "stderr",
     "output_type": "stream",
     "text": [
      "\r",
      " 87%|████████▋ | 857/983 [00:28<00:04, 31.11it/s]"
     ]
    },
    {
     "name": "stderr",
     "output_type": "stream",
     "text": [
      "\r",
      " 88%|████████▊ | 863/983 [00:28<00:03, 37.02it/s]"
     ]
    },
    {
     "name": "stderr",
     "output_type": "stream",
     "text": [
      "\r",
      " 89%|████████▊ | 871/983 [00:28<00:02, 43.78it/s]"
     ]
    },
    {
     "name": "stderr",
     "output_type": "stream",
     "text": [
      "\r",
      " 89%|████████▉ | 876/983 [00:28<00:02, 42.46it/s]"
     ]
    },
    {
     "name": "stderr",
     "output_type": "stream",
     "text": [
      "\r",
      " 90%|████████▉ | 881/983 [00:29<00:02, 42.87it/s]"
     ]
    },
    {
     "name": "stderr",
     "output_type": "stream",
     "text": [
      "\r",
      " 90%|█████████ | 888/983 [00:29<00:02, 46.10it/s]"
     ]
    },
    {
     "name": "stderr",
     "output_type": "stream",
     "text": [
      "\r",
      " 91%|█████████ | 893/983 [00:29<00:02, 43.26it/s]"
     ]
    },
    {
     "name": "stderr",
     "output_type": "stream",
     "text": [
      "\r",
      " 91%|█████████▏| 898/983 [00:29<00:02, 39.12it/s]"
     ]
    },
    {
     "name": "stderr",
     "output_type": "stream",
     "text": [
      "\r",
      " 92%|█████████▏| 904/983 [00:29<00:01, 41.20it/s]"
     ]
    },
    {
     "name": "stderr",
     "output_type": "stream",
     "text": [
      "\r",
      " 93%|█████████▎| 911/983 [00:29<00:01, 47.48it/s]"
     ]
    },
    {
     "name": "stderr",
     "output_type": "stream",
     "text": [
      "\r",
      " 94%|█████████▎| 920/983 [00:29<00:01, 51.77it/s]"
     ]
    },
    {
     "name": "stderr",
     "output_type": "stream",
     "text": [
      "\r",
      " 94%|█████████▍| 928/983 [00:30<00:00, 58.35it/s]"
     ]
    },
    {
     "name": "stderr",
     "output_type": "stream",
     "text": [
      "\r",
      " 95%|█████████▌| 935/983 [00:30<00:01, 44.01it/s]"
     ]
    },
    {
     "name": "stderr",
     "output_type": "stream",
     "text": [
      "\r",
      " 96%|█████████▌| 941/983 [00:30<00:00, 45.32it/s]"
     ]
    },
    {
     "name": "stderr",
     "output_type": "stream",
     "text": [
      "\r",
      " 96%|█████████▋| 947/983 [00:30<00:00, 45.19it/s]"
     ]
    },
    {
     "name": "stderr",
     "output_type": "stream",
     "text": [
      "\r",
      " 98%|█████████▊| 961/983 [00:30<00:00, 62.85it/s]"
     ]
    },
    {
     "name": "stderr",
     "output_type": "stream",
     "text": [
      "\r",
      " 98%|█████████▊| 968/983 [00:30<00:00, 63.77it/s]"
     ]
    },
    {
     "name": "stderr",
     "output_type": "stream",
     "text": [
      "\r",
      "100%|█████████▉| 979/983 [00:30<00:00, 71.45it/s]"
     ]
    },
    {
     "name": "stderr",
     "output_type": "stream",
     "text": [
      "\r",
      "100%|██████████| 983/983 [00:30<00:00, 31.71it/s]"
     ]
    },
    {
     "name": "stderr",
     "output_type": "stream",
     "text": [
      "\n"
     ]
    },
    {
     "name": "stderr",
     "output_type": "stream",
     "text": [
      "\r",
      "  0%|          | 0/983 [00:00<?, ?it/s]"
     ]
    },
    {
     "name": "stderr",
     "output_type": "stream",
     "text": [
      "\r",
      "  0%|          | 1/983 [00:00<01:44,  9.38it/s]"
     ]
    },
    {
     "name": "stderr",
     "output_type": "stream",
     "text": [
      "\r",
      "  0%|          | 2/983 [00:00<02:05,  7.82it/s]"
     ]
    },
    {
     "name": "stderr",
     "output_type": "stream",
     "text": [
      "\r",
      "  0%|          | 3/983 [00:00<02:11,  7.47it/s]"
     ]
    },
    {
     "name": "stderr",
     "output_type": "stream",
     "text": [
      "\r",
      "  0%|          | 4/983 [00:00<02:08,  7.59it/s]"
     ]
    },
    {
     "name": "stderr",
     "output_type": "stream",
     "text": [
      "\r",
      "  1%|          | 5/983 [00:00<02:18,  7.07it/s]"
     ]
    },
    {
     "name": "stderr",
     "output_type": "stream",
     "text": [
      "\r",
      "  1%|          | 7/983 [00:00<01:33, 10.42it/s]"
     ]
    },
    {
     "name": "stderr",
     "output_type": "stream",
     "text": [
      "\r",
      "  1%|          | 9/983 [00:00<01:20, 12.10it/s]"
     ]
    },
    {
     "name": "stderr",
     "output_type": "stream",
     "text": [
      "\r",
      "  1%|          | 11/983 [00:01<01:31, 10.57it/s]"
     ]
    },
    {
     "name": "stderr",
     "output_type": "stream",
     "text": [
      "\r",
      "  1%|▏         | 13/983 [00:01<01:32, 10.53it/s]"
     ]
    },
    {
     "name": "stderr",
     "output_type": "stream",
     "text": [
      "\r",
      "  2%|▏         | 15/983 [00:01<01:34, 10.23it/s]"
     ]
    },
    {
     "name": "stderr",
     "output_type": "stream",
     "text": [
      "\r",
      "  2%|▏         | 17/983 [00:01<01:51,  8.68it/s]"
     ]
    },
    {
     "name": "stderr",
     "output_type": "stream",
     "text": [
      "\r",
      "  2%|▏         | 19/983 [00:02<01:50,  8.73it/s]"
     ]
    },
    {
     "name": "stderr",
     "output_type": "stream",
     "text": [
      "\r",
      "  2%|▏         | 21/983 [00:02<01:31, 10.52it/s]"
     ]
    },
    {
     "name": "stderr",
     "output_type": "stream",
     "text": [
      "\r",
      "  2%|▏         | 23/983 [00:02<01:23, 11.53it/s]"
     ]
    },
    {
     "name": "stderr",
     "output_type": "stream",
     "text": [
      "\r",
      "  3%|▎         | 25/983 [00:02<01:38,  9.68it/s]"
     ]
    },
    {
     "name": "stderr",
     "output_type": "stream",
     "text": [
      "\r",
      "  3%|▎         | 27/983 [00:02<02:00,  7.91it/s]"
     ]
    },
    {
     "name": "stderr",
     "output_type": "stream",
     "text": [
      "\r",
      "  3%|▎         | 30/983 [00:03<01:25, 11.12it/s]"
     ]
    },
    {
     "name": "stderr",
     "output_type": "stream",
     "text": [
      "\r",
      "  3%|▎         | 32/983 [00:03<01:36,  9.82it/s]"
     ]
    },
    {
     "name": "stderr",
     "output_type": "stream",
     "text": [
      "\r",
      "  3%|▎         | 34/983 [00:03<01:35,  9.89it/s]"
     ]
    },
    {
     "name": "stderr",
     "output_type": "stream",
     "text": [
      "\r",
      "  4%|▎         | 36/983 [00:03<01:40,  9.43it/s]"
     ]
    },
    {
     "name": "stderr",
     "output_type": "stream",
     "text": [
      "\r",
      "  4%|▍         | 38/983 [00:04<01:55,  8.16it/s]"
     ]
    },
    {
     "name": "stderr",
     "output_type": "stream",
     "text": [
      "\r",
      "  4%|▍         | 41/983 [00:04<01:26, 10.92it/s]"
     ]
    },
    {
     "name": "stderr",
     "output_type": "stream",
     "text": [
      "\r",
      "  4%|▍         | 43/983 [00:04<01:44,  9.01it/s]"
     ]
    },
    {
     "name": "stderr",
     "output_type": "stream",
     "text": [
      "\r",
      "  5%|▍         | 45/983 [00:04<01:34,  9.90it/s]"
     ]
    },
    {
     "name": "stderr",
     "output_type": "stream",
     "text": [
      "\r",
      "  5%|▍         | 48/983 [00:04<01:14, 12.48it/s]"
     ]
    },
    {
     "name": "stderr",
     "output_type": "stream",
     "text": [
      "\r",
      "  5%|▌         | 50/983 [00:04<01:08, 13.62it/s]"
     ]
    },
    {
     "name": "stderr",
     "output_type": "stream",
     "text": [
      "\r",
      "  5%|▌         | 52/983 [00:05<01:13, 12.66it/s]"
     ]
    },
    {
     "name": "stderr",
     "output_type": "stream",
     "text": [
      "\r",
      "  6%|▌         | 55/983 [00:05<00:59, 15.65it/s]"
     ]
    },
    {
     "name": "stderr",
     "output_type": "stream",
     "text": [
      "\r",
      "  6%|▌         | 59/983 [00:05<00:49, 18.80it/s]"
     ]
    },
    {
     "name": "stderr",
     "output_type": "stream",
     "text": [
      "\r",
      "  6%|▋         | 62/983 [00:05<00:56, 16.25it/s]"
     ]
    },
    {
     "name": "stderr",
     "output_type": "stream",
     "text": [
      "\r",
      "  7%|▋         | 65/983 [00:05<00:56, 16.36it/s]"
     ]
    },
    {
     "name": "stderr",
     "output_type": "stream",
     "text": [
      "\r",
      "  7%|▋         | 67/983 [00:05<01:00, 15.20it/s]"
     ]
    },
    {
     "name": "stderr",
     "output_type": "stream",
     "text": [
      "\r",
      "  7%|▋         | 69/983 [00:06<01:26, 10.59it/s]"
     ]
    },
    {
     "name": "stderr",
     "output_type": "stream",
     "text": [
      "\r",
      "  7%|▋         | 71/983 [00:06<01:15, 12.04it/s]"
     ]
    },
    {
     "name": "stderr",
     "output_type": "stream",
     "text": [
      "\r",
      "  7%|▋         | 73/983 [00:06<01:07, 13.38it/s]"
     ]
    },
    {
     "name": "stderr",
     "output_type": "stream",
     "text": [
      "\r",
      "  8%|▊         | 75/983 [00:06<01:15, 12.03it/s]"
     ]
    },
    {
     "name": "stderr",
     "output_type": "stream",
     "text": [
      "\r",
      "  8%|▊         | 77/983 [00:07<01:39,  9.12it/s]"
     ]
    },
    {
     "name": "stderr",
     "output_type": "stream",
     "text": [
      "\r",
      "  8%|▊         | 81/983 [00:07<01:11, 12.63it/s]"
     ]
    },
    {
     "name": "stderr",
     "output_type": "stream",
     "text": [
      "\r",
      "  9%|▊         | 84/983 [00:07<01:01, 14.53it/s]"
     ]
    },
    {
     "name": "stderr",
     "output_type": "stream",
     "text": [
      "\r",
      "  9%|▉         | 87/983 [00:07<00:55, 16.12it/s]"
     ]
    },
    {
     "name": "stderr",
     "output_type": "stream",
     "text": [
      "\r",
      "  9%|▉         | 89/983 [00:07<00:55, 16.01it/s]"
     ]
    },
    {
     "name": "stderr",
     "output_type": "stream",
     "text": [
      "\r",
      "  9%|▉         | 91/983 [00:07<00:53, 16.53it/s]"
     ]
    },
    {
     "name": "stderr",
     "output_type": "stream",
     "text": [
      "\r",
      "  9%|▉         | 93/983 [00:07<01:01, 14.58it/s]"
     ]
    },
    {
     "name": "stderr",
     "output_type": "stream",
     "text": [
      "\r",
      " 10%|▉         | 95/983 [00:08<00:58, 15.31it/s]"
     ]
    },
    {
     "name": "stderr",
     "output_type": "stream",
     "text": [
      "\r",
      " 10%|▉         | 97/983 [00:08<00:59, 14.81it/s]"
     ]
    },
    {
     "name": "stderr",
     "output_type": "stream",
     "text": [
      "\r",
      " 10%|█         | 99/983 [00:08<01:09, 12.79it/s]"
     ]
    },
    {
     "name": "stderr",
     "output_type": "stream",
     "text": [
      "\r",
      " 10%|█         | 101/983 [00:08<01:03, 13.91it/s]"
     ]
    },
    {
     "name": "stderr",
     "output_type": "stream",
     "text": [
      "\r",
      " 10%|█         | 103/983 [00:08<01:13, 11.94it/s]"
     ]
    },
    {
     "name": "stderr",
     "output_type": "stream",
     "text": [
      "\r",
      " 11%|█         | 105/983 [00:09<01:21, 10.73it/s]"
     ]
    },
    {
     "name": "stderr",
     "output_type": "stream",
     "text": [
      "\r",
      " 11%|█         | 109/983 [00:09<00:54, 15.97it/s]"
     ]
    },
    {
     "name": "stderr",
     "output_type": "stream",
     "text": [
      "\r",
      " 11%|█▏        | 111/983 [00:09<01:07, 12.98it/s]"
     ]
    },
    {
     "name": "stderr",
     "output_type": "stream",
     "text": [
      "\r",
      " 12%|█▏        | 115/983 [00:09<00:49, 17.71it/s]"
     ]
    },
    {
     "name": "stderr",
     "output_type": "stream",
     "text": [
      "\r",
      " 12%|█▏        | 118/983 [00:09<00:43, 20.01it/s]"
     ]
    },
    {
     "name": "stderr",
     "output_type": "stream",
     "text": [
      "\r",
      " 12%|█▏        | 121/983 [00:09<00:43, 19.75it/s]"
     ]
    },
    {
     "name": "stderr",
     "output_type": "stream",
     "text": [
      "\r",
      " 13%|█▎        | 124/983 [00:09<00:52, 16.24it/s]"
     ]
    },
    {
     "name": "stderr",
     "output_type": "stream",
     "text": [
      "\r",
      " 13%|█▎        | 128/983 [00:10<00:47, 18.17it/s]"
     ]
    },
    {
     "name": "stderr",
     "output_type": "stream",
     "text": [
      "\r",
      " 13%|█▎        | 131/983 [00:10<00:44, 19.15it/s]"
     ]
    },
    {
     "name": "stderr",
     "output_type": "stream",
     "text": [
      "\r",
      " 14%|█▍        | 136/983 [00:10<00:34, 24.82it/s]"
     ]
    },
    {
     "name": "stderr",
     "output_type": "stream",
     "text": [
      "\r",
      " 14%|█▍        | 142/983 [00:10<00:29, 28.55it/s]"
     ]
    },
    {
     "name": "stderr",
     "output_type": "stream",
     "text": [
      "\r",
      " 15%|█▍        | 146/983 [00:11<00:52, 16.05it/s]"
     ]
    },
    {
     "name": "stderr",
     "output_type": "stream",
     "text": [
      "\r",
      " 15%|█▌        | 149/983 [00:11<00:47, 17.46it/s]"
     ]
    },
    {
     "name": "stderr",
     "output_type": "stream",
     "text": [
      "\r",
      " 15%|█▌        | 152/983 [00:11<00:45, 18.33it/s]"
     ]
    },
    {
     "name": "stderr",
     "output_type": "stream",
     "text": [
      "\r",
      " 16%|█▌        | 155/983 [00:11<00:51, 16.19it/s]"
     ]
    },
    {
     "name": "stderr",
     "output_type": "stream",
     "text": [
      "\r",
      " 16%|█▌        | 157/983 [00:11<01:00, 13.58it/s]"
     ]
    },
    {
     "name": "stderr",
     "output_type": "stream",
     "text": [
      "\r",
      " 16%|█▌        | 159/983 [00:11<01:00, 13.73it/s]"
     ]
    },
    {
     "name": "stderr",
     "output_type": "stream",
     "text": [
      "\r",
      " 16%|█▋        | 162/983 [00:12<00:52, 15.61it/s]"
     ]
    },
    {
     "name": "stderr",
     "output_type": "stream",
     "text": [
      "\r",
      " 17%|█▋        | 165/983 [00:12<00:56, 14.60it/s]"
     ]
    },
    {
     "name": "stderr",
     "output_type": "stream",
     "text": [
      "\r",
      " 17%|█▋        | 167/983 [00:12<01:07, 12.15it/s]"
     ]
    },
    {
     "name": "stderr",
     "output_type": "stream",
     "text": [
      "\r",
      " 17%|█▋        | 169/983 [00:12<01:03, 12.75it/s]"
     ]
    },
    {
     "name": "stderr",
     "output_type": "stream",
     "text": [
      "\r",
      " 18%|█▊        | 173/983 [00:12<00:46, 17.36it/s]"
     ]
    },
    {
     "name": "stderr",
     "output_type": "stream",
     "text": [
      "\r",
      " 18%|█▊        | 176/983 [00:13<00:46, 17.27it/s]"
     ]
    },
    {
     "name": "stderr",
     "output_type": "stream",
     "text": [
      "\r",
      " 18%|█▊        | 179/983 [00:13<00:41, 19.41it/s]"
     ]
    },
    {
     "name": "stderr",
     "output_type": "stream",
     "text": [
      "\r",
      " 19%|█▊        | 182/983 [00:13<00:37, 21.23it/s]"
     ]
    },
    {
     "name": "stderr",
     "output_type": "stream",
     "text": [
      "\r",
      " 19%|█▉        | 185/983 [00:13<00:48, 16.60it/s]"
     ]
    },
    {
     "name": "stderr",
     "output_type": "stream",
     "text": [
      "\r",
      " 19%|█▉        | 187/983 [00:13<00:47, 16.60it/s]"
     ]
    },
    {
     "name": "stderr",
     "output_type": "stream",
     "text": [
      "\r",
      " 20%|█▉        | 193/983 [00:13<00:34, 22.74it/s]"
     ]
    },
    {
     "name": "stderr",
     "output_type": "stream",
     "text": [
      "\r",
      " 20%|██        | 199/983 [00:13<00:28, 27.47it/s]"
     ]
    },
    {
     "name": "stderr",
     "output_type": "stream",
     "text": [
      "\r",
      " 21%|██        | 202/983 [00:14<00:30, 25.54it/s]"
     ]
    },
    {
     "name": "stderr",
     "output_type": "stream",
     "text": [
      "\r",
      " 21%|██        | 205/983 [00:14<00:38, 19.98it/s]"
     ]
    },
    {
     "name": "stderr",
     "output_type": "stream",
     "text": [
      "\r",
      " 21%|██        | 208/983 [00:14<00:38, 20.24it/s]"
     ]
    },
    {
     "name": "stderr",
     "output_type": "stream",
     "text": [
      "\r",
      " 21%|██▏       | 211/983 [00:14<00:39, 19.68it/s]"
     ]
    },
    {
     "name": "stderr",
     "output_type": "stream",
     "text": [
      "\r",
      " 22%|██▏       | 214/983 [00:14<00:36, 21.05it/s]"
     ]
    },
    {
     "name": "stderr",
     "output_type": "stream",
     "text": [
      "\r",
      " 22%|██▏       | 217/983 [00:15<00:41, 18.32it/s]"
     ]
    },
    {
     "name": "stderr",
     "output_type": "stream",
     "text": [
      "\r",
      " 22%|██▏       | 219/983 [00:15<00:41, 18.46it/s]"
     ]
    },
    {
     "name": "stderr",
     "output_type": "stream",
     "text": [
      "\r",
      " 23%|██▎       | 223/983 [00:15<00:32, 23.10it/s]"
     ]
    },
    {
     "name": "stderr",
     "output_type": "stream",
     "text": [
      "\r",
      " 23%|██▎       | 226/983 [00:15<00:43, 17.41it/s]"
     ]
    },
    {
     "name": "stderr",
     "output_type": "stream",
     "text": [
      "\r",
      " 23%|██▎       | 229/983 [00:15<00:48, 15.62it/s]"
     ]
    },
    {
     "name": "stderr",
     "output_type": "stream",
     "text": [
      "\r",
      " 24%|██▍       | 236/983 [00:15<00:30, 24.77it/s]"
     ]
    },
    {
     "name": "stderr",
     "output_type": "stream",
     "text": [
      "\r",
      " 24%|██▍       | 240/983 [00:15<00:27, 27.27it/s]"
     ]
    },
    {
     "name": "stderr",
     "output_type": "stream",
     "text": [
      "\r",
      " 25%|██▍       | 244/983 [00:16<00:27, 26.68it/s]"
     ]
    },
    {
     "name": "stderr",
     "output_type": "stream",
     "text": [
      "\r",
      " 25%|██▌       | 248/983 [00:16<00:30, 23.88it/s]"
     ]
    },
    {
     "name": "stderr",
     "output_type": "stream",
     "text": [
      "\r",
      " 26%|██▌       | 251/983 [00:16<00:30, 23.85it/s]"
     ]
    },
    {
     "name": "stderr",
     "output_type": "stream",
     "text": [
      "\r",
      " 26%|██▌       | 255/983 [00:16<00:35, 20.47it/s]"
     ]
    },
    {
     "name": "stderr",
     "output_type": "stream",
     "text": [
      "\r",
      " 26%|██▌       | 258/983 [00:16<00:35, 20.48it/s]"
     ]
    },
    {
     "name": "stderr",
     "output_type": "stream",
     "text": [
      "\r",
      " 27%|██▋       | 261/983 [00:16<00:34, 21.04it/s]"
     ]
    },
    {
     "name": "stderr",
     "output_type": "stream",
     "text": [
      "\r",
      " 27%|██▋       | 265/983 [00:17<00:32, 22.30it/s]"
     ]
    },
    {
     "name": "stderr",
     "output_type": "stream",
     "text": [
      "\r",
      " 27%|██▋       | 268/983 [00:17<00:40, 17.70it/s]"
     ]
    },
    {
     "name": "stderr",
     "output_type": "stream",
     "text": [
      "\r",
      " 28%|██▊       | 272/983 [00:17<00:34, 20.87it/s]"
     ]
    },
    {
     "name": "stderr",
     "output_type": "stream",
     "text": [
      "\r",
      " 28%|██▊       | 275/983 [00:17<00:31, 22.33it/s]"
     ]
    },
    {
     "name": "stderr",
     "output_type": "stream",
     "text": [
      "\r",
      " 28%|██▊       | 279/983 [00:17<00:27, 25.89it/s]"
     ]
    },
    {
     "name": "stderr",
     "output_type": "stream",
     "text": [
      "\r",
      " 29%|██▊       | 282/983 [00:17<00:32, 21.74it/s]"
     ]
    },
    {
     "name": "stderr",
     "output_type": "stream",
     "text": [
      "\r",
      " 29%|██▉       | 286/983 [00:18<00:30, 22.66it/s]"
     ]
    },
    {
     "name": "stderr",
     "output_type": "stream",
     "text": [
      "\r",
      " 30%|██▉       | 290/983 [00:18<00:26, 26.31it/s]"
     ]
    },
    {
     "name": "stderr",
     "output_type": "stream",
     "text": [
      "\r",
      " 30%|██▉       | 294/983 [00:18<00:24, 28.70it/s]"
     ]
    },
    {
     "name": "stderr",
     "output_type": "stream",
     "text": [
      "\r",
      " 30%|███       | 298/983 [00:18<00:22, 30.67it/s]"
     ]
    },
    {
     "name": "stderr",
     "output_type": "stream",
     "text": [
      "\r",
      " 31%|███       | 303/983 [00:18<00:19, 34.04it/s]"
     ]
    },
    {
     "name": "stderr",
     "output_type": "stream",
     "text": [
      "\r",
      " 31%|███▏      | 308/983 [00:18<00:17, 38.04it/s]"
     ]
    },
    {
     "name": "stderr",
     "output_type": "stream",
     "text": [
      "\r",
      " 32%|███▏      | 314/983 [00:18<00:16, 41.41it/s]"
     ]
    },
    {
     "name": "stderr",
     "output_type": "stream",
     "text": [
      "\r",
      " 33%|███▎      | 321/983 [00:18<00:15, 43.86it/s]"
     ]
    },
    {
     "name": "stderr",
     "output_type": "stream",
     "text": [
      "\r",
      " 33%|███▎      | 326/983 [00:19<00:16, 40.75it/s]"
     ]
    },
    {
     "name": "stderr",
     "output_type": "stream",
     "text": [
      "\r",
      " 34%|███▎      | 331/983 [00:19<00:16, 39.85it/s]"
     ]
    },
    {
     "name": "stderr",
     "output_type": "stream",
     "text": [
      "\r",
      " 34%|███▍      | 336/983 [00:19<00:16, 38.67it/s]"
     ]
    },
    {
     "name": "stderr",
     "output_type": "stream",
     "text": [
      "\r",
      " 35%|███▍      | 343/983 [00:19<00:14, 43.51it/s]"
     ]
    },
    {
     "name": "stderr",
     "output_type": "stream",
     "text": [
      "\r",
      " 35%|███▌      | 348/983 [00:19<00:21, 30.15it/s]"
     ]
    },
    {
     "name": "stderr",
     "output_type": "stream",
     "text": [
      "\r",
      " 36%|███▌      | 352/983 [00:19<00:24, 26.25it/s]"
     ]
    },
    {
     "name": "stderr",
     "output_type": "stream",
     "text": [
      "\r",
      " 36%|███▌      | 356/983 [00:20<00:25, 24.47it/s]"
     ]
    },
    {
     "name": "stderr",
     "output_type": "stream",
     "text": [
      "\r",
      " 37%|███▋      | 363/983 [00:20<00:20, 29.62it/s]"
     ]
    },
    {
     "name": "stderr",
     "output_type": "stream",
     "text": [
      "\r",
      " 37%|███▋      | 367/983 [00:20<00:22, 27.55it/s]"
     ]
    },
    {
     "name": "stderr",
     "output_type": "stream",
     "text": [
      "\r",
      " 38%|███▊      | 372/983 [00:20<00:20, 29.68it/s]"
     ]
    },
    {
     "name": "stderr",
     "output_type": "stream",
     "text": [
      "\r",
      " 39%|███▊      | 379/983 [00:20<00:16, 37.50it/s]"
     ]
    },
    {
     "name": "stderr",
     "output_type": "stream",
     "text": [
      "\r",
      " 39%|███▉      | 385/983 [00:20<00:14, 42.48it/s]"
     ]
    },
    {
     "name": "stderr",
     "output_type": "stream",
     "text": [
      "\r",
      " 40%|███▉      | 392/983 [00:21<00:13, 42.60it/s]"
     ]
    },
    {
     "name": "stderr",
     "output_type": "stream",
     "text": [
      "\r",
      " 40%|████      | 397/983 [00:21<00:14, 40.67it/s]"
     ]
    },
    {
     "name": "stderr",
     "output_type": "stream",
     "text": [
      "\r",
      " 41%|████      | 402/983 [00:21<00:19, 30.47it/s]"
     ]
    },
    {
     "name": "stderr",
     "output_type": "stream",
     "text": [
      "\r",
      " 41%|████▏     | 407/983 [00:21<00:19, 30.19it/s]"
     ]
    },
    {
     "name": "stderr",
     "output_type": "stream",
     "text": [
      "\r",
      " 42%|████▏     | 411/983 [00:21<00:18, 30.38it/s]"
     ]
    },
    {
     "name": "stderr",
     "output_type": "stream",
     "text": [
      "\r",
      " 42%|████▏     | 417/983 [00:21<00:15, 36.48it/s]"
     ]
    },
    {
     "name": "stderr",
     "output_type": "stream",
     "text": [
      "\r",
      " 43%|████▎     | 422/983 [00:22<00:16, 33.80it/s]"
     ]
    },
    {
     "name": "stderr",
     "output_type": "stream",
     "text": [
      "\r",
      " 43%|████▎     | 426/983 [00:22<00:16, 34.54it/s]"
     ]
    },
    {
     "name": "stderr",
     "output_type": "stream",
     "text": [
      "\r",
      " 44%|████▍     | 432/983 [00:22<00:14, 38.16it/s]"
     ]
    },
    {
     "name": "stderr",
     "output_type": "stream",
     "text": [
      "\r",
      " 44%|████▍     | 437/983 [00:22<00:15, 35.55it/s]"
     ]
    },
    {
     "name": "stderr",
     "output_type": "stream",
     "text": [
      "\r",
      " 45%|████▍     | 441/983 [00:22<00:18, 30.00it/s]"
     ]
    },
    {
     "name": "stderr",
     "output_type": "stream",
     "text": [
      "\r",
      " 45%|████▌     | 445/983 [00:22<00:16, 32.11it/s]"
     ]
    },
    {
     "name": "stderr",
     "output_type": "stream",
     "text": [
      "\r",
      " 46%|████▌     | 452/983 [00:22<00:13, 39.57it/s]"
     ]
    },
    {
     "name": "stderr",
     "output_type": "stream",
     "text": [
      "\r",
      " 46%|████▋     | 457/983 [00:22<00:12, 40.65it/s]"
     ]
    },
    {
     "name": "stderr",
     "output_type": "stream",
     "text": [
      "\r",
      " 47%|████▋     | 465/983 [00:23<00:10, 48.30it/s]"
     ]
    },
    {
     "name": "stderr",
     "output_type": "stream",
     "text": [
      "\r",
      " 48%|████▊     | 471/983 [00:23<00:10, 47.39it/s]"
     ]
    },
    {
     "name": "stderr",
     "output_type": "stream",
     "text": [
      "\r",
      " 49%|████▊     | 478/983 [00:23<00:10, 49.57it/s]"
     ]
    },
    {
     "name": "stderr",
     "output_type": "stream",
     "text": [
      "\r",
      " 49%|████▉     | 484/983 [00:23<00:15, 32.86it/s]"
     ]
    },
    {
     "name": "stderr",
     "output_type": "stream",
     "text": [
      "\r",
      " 50%|████▉     | 491/983 [00:23<00:12, 39.02it/s]"
     ]
    },
    {
     "name": "stderr",
     "output_type": "stream",
     "text": [
      "\r",
      " 51%|█████     | 498/983 [00:23<00:10, 44.24it/s]"
     ]
    },
    {
     "name": "stderr",
     "output_type": "stream",
     "text": [
      "\r",
      " 51%|█████▏    | 504/983 [00:23<00:10, 44.78it/s]"
     ]
    },
    {
     "name": "stderr",
     "output_type": "stream",
     "text": [
      "\r",
      " 52%|█████▏    | 511/983 [00:24<00:09, 47.81it/s]"
     ]
    },
    {
     "name": "stderr",
     "output_type": "stream",
     "text": [
      "\r",
      " 53%|█████▎    | 519/983 [00:24<00:08, 55.17it/s]"
     ]
    },
    {
     "name": "stderr",
     "output_type": "stream",
     "text": [
      "\r",
      " 53%|█████▎    | 525/983 [00:24<00:10, 42.94it/s]"
     ]
    },
    {
     "name": "stderr",
     "output_type": "stream",
     "text": [
      "\r",
      " 54%|█████▍    | 530/983 [00:24<00:10, 43.04it/s]"
     ]
    },
    {
     "name": "stderr",
     "output_type": "stream",
     "text": [
      "\r",
      " 54%|█████▍    | 535/983 [00:24<00:10, 44.30it/s]"
     ]
    },
    {
     "name": "stderr",
     "output_type": "stream",
     "text": [
      "\r",
      " 55%|█████▍    | 540/983 [00:24<00:11, 40.08it/s]"
     ]
    },
    {
     "name": "stderr",
     "output_type": "stream",
     "text": [
      "\r",
      " 56%|█████▌    | 549/983 [00:24<00:08, 51.69it/s]"
     ]
    },
    {
     "name": "stderr",
     "output_type": "stream",
     "text": [
      "\r",
      " 56%|█████▋    | 555/983 [00:25<00:12, 34.80it/s]"
     ]
    },
    {
     "name": "stderr",
     "output_type": "stream",
     "text": [
      "\r",
      " 57%|█████▋    | 560/983 [00:25<00:11, 35.45it/s]"
     ]
    },
    {
     "name": "stderr",
     "output_type": "stream",
     "text": [
      "\r",
      " 57%|█████▋    | 565/983 [00:25<00:13, 31.67it/s]"
     ]
    },
    {
     "name": "stderr",
     "output_type": "stream",
     "text": [
      "\r",
      " 58%|█████▊    | 569/983 [00:25<00:12, 32.84it/s]"
     ]
    },
    {
     "name": "stderr",
     "output_type": "stream",
     "text": [
      "\r",
      " 58%|█████▊    | 575/983 [00:25<00:10, 37.97it/s]"
     ]
    },
    {
     "name": "stderr",
     "output_type": "stream",
     "text": [
      "\r",
      " 59%|█████▉    | 580/983 [00:25<00:10, 39.50it/s]"
     ]
    },
    {
     "name": "stderr",
     "output_type": "stream",
     "text": [
      "\r",
      " 60%|█████▉    | 586/983 [00:26<00:09, 41.50it/s]"
     ]
    },
    {
     "name": "stderr",
     "output_type": "stream",
     "text": [
      "\r",
      " 60%|██████    | 591/983 [00:26<00:10, 35.85it/s]"
     ]
    },
    {
     "name": "stderr",
     "output_type": "stream",
     "text": [
      "\r",
      " 61%|██████    | 595/983 [00:26<00:11, 34.57it/s]"
     ]
    },
    {
     "name": "stderr",
     "output_type": "stream",
     "text": [
      "\r",
      " 61%|██████    | 599/983 [00:26<00:11, 33.56it/s]"
     ]
    },
    {
     "name": "stderr",
     "output_type": "stream",
     "text": [
      "\r",
      " 61%|██████▏   | 603/983 [00:26<00:12, 29.36it/s]"
     ]
    },
    {
     "name": "stderr",
     "output_type": "stream",
     "text": [
      "\r",
      " 62%|██████▏   | 609/983 [00:26<00:11, 33.77it/s]"
     ]
    },
    {
     "name": "stderr",
     "output_type": "stream",
     "text": [
      "\r",
      " 62%|██████▏   | 614/983 [00:26<00:10, 34.28it/s]"
     ]
    },
    {
     "name": "stderr",
     "output_type": "stream",
     "text": [
      "\r",
      " 63%|██████▎   | 618/983 [00:27<00:13, 27.15it/s]"
     ]
    },
    {
     "name": "stderr",
     "output_type": "stream",
     "text": [
      "\r",
      " 64%|██████▍   | 628/983 [00:27<00:08, 41.65it/s]"
     ]
    },
    {
     "name": "stderr",
     "output_type": "stream",
     "text": [
      "\r",
      " 64%|██████▍   | 634/983 [00:27<00:08, 40.52it/s]"
     ]
    },
    {
     "name": "stderr",
     "output_type": "stream",
     "text": [
      "\r",
      " 65%|██████▌   | 639/983 [00:27<00:10, 32.46it/s]"
     ]
    },
    {
     "name": "stderr",
     "output_type": "stream",
     "text": [
      "\r",
      " 65%|██████▌   | 643/983 [00:27<00:11, 29.62it/s]"
     ]
    },
    {
     "name": "stderr",
     "output_type": "stream",
     "text": [
      "\r",
      " 66%|██████▌   | 647/983 [00:28<00:12, 27.57it/s]"
     ]
    },
    {
     "name": "stderr",
     "output_type": "stream",
     "text": [
      "\r",
      " 66%|██████▌   | 651/983 [00:28<00:11, 28.97it/s]"
     ]
    },
    {
     "name": "stderr",
     "output_type": "stream",
     "text": [
      "\r",
      " 67%|██████▋   | 655/983 [00:28<00:11, 28.51it/s]"
     ]
    },
    {
     "name": "stderr",
     "output_type": "stream",
     "text": [
      "\r",
      " 67%|██████▋   | 659/983 [00:28<00:13, 23.66it/s]"
     ]
    },
    {
     "name": "stderr",
     "output_type": "stream",
     "text": [
      "\r",
      " 67%|██████▋   | 662/983 [00:28<00:12, 24.72it/s]"
     ]
    },
    {
     "name": "stderr",
     "output_type": "stream",
     "text": [
      "\r",
      " 68%|██████▊   | 665/983 [00:28<00:12, 24.62it/s]"
     ]
    },
    {
     "name": "stderr",
     "output_type": "stream",
     "text": [
      "\r",
      " 68%|██████▊   | 672/983 [00:28<00:09, 32.88it/s]"
     ]
    },
    {
     "name": "stderr",
     "output_type": "stream",
     "text": [
      "\r",
      " 69%|██████▉   | 679/983 [00:29<00:07, 39.30it/s]"
     ]
    },
    {
     "name": "stderr",
     "output_type": "stream",
     "text": [
      "\r",
      " 70%|███████   | 689/983 [00:29<00:05, 49.06it/s]"
     ]
    },
    {
     "name": "stderr",
     "output_type": "stream",
     "text": [
      "\r",
      " 71%|███████   | 695/983 [00:29<00:05, 48.79it/s]"
     ]
    },
    {
     "name": "stderr",
     "output_type": "stream",
     "text": [
      "\r",
      " 71%|███████   | 700/983 [00:29<00:08, 33.50it/s]"
     ]
    },
    {
     "name": "stderr",
     "output_type": "stream",
     "text": [
      "\r",
      " 72%|███████▏  | 704/983 [00:29<00:08, 33.80it/s]"
     ]
    },
    {
     "name": "stderr",
     "output_type": "stream",
     "text": [
      "\r",
      " 72%|███████▏  | 710/983 [00:29<00:07, 38.77it/s]"
     ]
    },
    {
     "name": "stderr",
     "output_type": "stream",
     "text": [
      "\r",
      " 73%|███████▎  | 715/983 [00:30<00:08, 32.48it/s]"
     ]
    },
    {
     "name": "stderr",
     "output_type": "stream",
     "text": [
      "\r",
      " 73%|███████▎  | 719/983 [00:30<00:10, 24.02it/s]"
     ]
    },
    {
     "name": "stderr",
     "output_type": "stream",
     "text": [
      "\r",
      " 74%|███████▎  | 723/983 [00:30<00:10, 25.41it/s]"
     ]
    },
    {
     "name": "stderr",
     "output_type": "stream",
     "text": [
      "\r",
      " 74%|███████▍  | 727/983 [00:30<00:09, 27.44it/s]"
     ]
    },
    {
     "name": "stderr",
     "output_type": "stream",
     "text": [
      "\r",
      " 74%|███████▍  | 731/983 [00:30<00:09, 25.56it/s]"
     ]
    },
    {
     "name": "stderr",
     "output_type": "stream",
     "text": [
      "\r",
      " 75%|███████▍  | 736/983 [00:30<00:09, 26.24it/s]"
     ]
    },
    {
     "name": "stderr",
     "output_type": "stream",
     "text": [
      "\r",
      " 75%|███████▌  | 739/983 [00:31<00:09, 26.91it/s]"
     ]
    },
    {
     "name": "stderr",
     "output_type": "stream",
     "text": [
      "\r",
      " 76%|███████▌  | 744/983 [00:31<00:07, 30.32it/s]"
     ]
    },
    {
     "name": "stderr",
     "output_type": "stream",
     "text": [
      "\r",
      " 76%|███████▌  | 748/983 [00:31<00:08, 27.91it/s]"
     ]
    },
    {
     "name": "stderr",
     "output_type": "stream",
     "text": [
      "\r",
      " 79%|███████▉  | 775/983 [00:31<00:02, 76.40it/s]"
     ]
    },
    {
     "name": "stderr",
     "output_type": "stream",
     "text": [
      "\r",
      " 80%|███████▉  | 784/983 [00:31<00:02, 71.60it/s]"
     ]
    },
    {
     "name": "stderr",
     "output_type": "stream",
     "text": [
      "\r",
      " 81%|████████  | 792/983 [00:31<00:03, 55.64it/s]"
     ]
    },
    {
     "name": "stderr",
     "output_type": "stream",
     "text": [
      "\r",
      " 81%|████████▏ | 799/983 [00:32<00:03, 48.97it/s]"
     ]
    },
    {
     "name": "stderr",
     "output_type": "stream",
     "text": [
      "\r",
      " 82%|████████▏ | 805/983 [00:32<00:04, 36.62it/s]"
     ]
    },
    {
     "name": "stderr",
     "output_type": "stream",
     "text": [
      "\r",
      " 83%|████████▎ | 811/983 [00:32<00:04, 39.70it/s]"
     ]
    },
    {
     "name": "stderr",
     "output_type": "stream",
     "text": [
      "\r",
      " 83%|████████▎ | 819/983 [00:32<00:03, 47.00it/s]"
     ]
    },
    {
     "name": "stderr",
     "output_type": "stream",
     "text": [
      "\r",
      " 84%|████████▍ | 828/983 [00:32<00:02, 52.28it/s]"
     ]
    },
    {
     "name": "stderr",
     "output_type": "stream",
     "text": [
      "\r",
      " 85%|████████▍ | 834/983 [00:32<00:03, 42.86it/s]"
     ]
    },
    {
     "name": "stderr",
     "output_type": "stream",
     "text": [
      "\r",
      " 85%|████████▌ | 840/983 [00:33<00:04, 34.99it/s]"
     ]
    },
    {
     "name": "stderr",
     "output_type": "stream",
     "text": [
      "\r",
      " 86%|████████▌ | 846/983 [00:33<00:03, 37.76it/s]"
     ]
    },
    {
     "name": "stderr",
     "output_type": "stream",
     "text": [
      "\r",
      " 87%|████████▋ | 851/983 [00:33<00:04, 29.43it/s]"
     ]
    },
    {
     "name": "stderr",
     "output_type": "stream",
     "text": [
      "\r",
      " 87%|████████▋ | 855/983 [00:33<00:04, 31.18it/s]"
     ]
    },
    {
     "name": "stderr",
     "output_type": "stream",
     "text": [
      "\r",
      " 87%|████████▋ | 859/983 [00:33<00:04, 25.73it/s]"
     ]
    },
    {
     "name": "stderr",
     "output_type": "stream",
     "text": [
      "\r",
      " 88%|████████▊ | 865/983 [00:34<00:03, 31.27it/s]"
     ]
    },
    {
     "name": "stderr",
     "output_type": "stream",
     "text": [
      "\r",
      " 88%|████████▊ | 869/983 [00:34<00:04, 28.41it/s]"
     ]
    },
    {
     "name": "stderr",
     "output_type": "stream",
     "text": [
      "\r",
      " 89%|████████▉ | 875/983 [00:34<00:03, 34.30it/s]"
     ]
    },
    {
     "name": "stderr",
     "output_type": "stream",
     "text": [
      "\r",
      " 90%|████████▉ | 880/983 [00:34<00:03, 32.87it/s]"
     ]
    },
    {
     "name": "stderr",
     "output_type": "stream",
     "text": [
      "\r",
      " 90%|█████████ | 885/983 [00:34<00:02, 36.51it/s]"
     ]
    },
    {
     "name": "stderr",
     "output_type": "stream",
     "text": [
      "\r",
      " 91%|█████████ | 890/983 [00:34<00:03, 30.60it/s]"
     ]
    },
    {
     "name": "stderr",
     "output_type": "stream",
     "text": [
      "\r",
      " 91%|█████████ | 894/983 [00:34<00:02, 32.12it/s]"
     ]
    },
    {
     "name": "stderr",
     "output_type": "stream",
     "text": [
      "\r",
      " 91%|█████████▏| 898/983 [00:35<00:02, 30.01it/s]"
     ]
    },
    {
     "name": "stderr",
     "output_type": "stream",
     "text": [
      "\r",
      " 92%|█████████▏| 905/983 [00:35<00:02, 36.82it/s]"
     ]
    },
    {
     "name": "stderr",
     "output_type": "stream",
     "text": [
      "\r",
      " 93%|█████████▎| 911/983 [00:35<00:01, 40.99it/s]"
     ]
    },
    {
     "name": "stderr",
     "output_type": "stream",
     "text": [
      "\r",
      " 94%|█████████▍| 924/983 [00:35<00:01, 58.19it/s]"
     ]
    },
    {
     "name": "stderr",
     "output_type": "stream",
     "text": [
      "\r",
      " 95%|█████████▍| 931/983 [00:35<00:00, 52.65it/s]"
     ]
    },
    {
     "name": "stderr",
     "output_type": "stream",
     "text": [
      "\r",
      " 95%|█████████▌| 937/983 [00:35<00:00, 53.83it/s]"
     ]
    },
    {
     "name": "stderr",
     "output_type": "stream",
     "text": [
      "\r",
      " 96%|█████████▌| 943/983 [00:36<00:01, 35.66it/s]"
     ]
    },
    {
     "name": "stderr",
     "output_type": "stream",
     "text": [
      "\r",
      " 96%|█████████▋| 948/983 [00:36<00:00, 35.30it/s]"
     ]
    },
    {
     "name": "stderr",
     "output_type": "stream",
     "text": [
      "\r",
      " 98%|█████████▊| 961/983 [00:36<00:00, 49.93it/s]"
     ]
    },
    {
     "name": "stderr",
     "output_type": "stream",
     "text": [
      "\r",
      " 98%|█████████▊| 967/983 [00:36<00:00, 47.79it/s]"
     ]
    },
    {
     "name": "stderr",
     "output_type": "stream",
     "text": [
      "\r",
      " 99%|█████████▉| 975/983 [00:36<00:00, 42.12it/s]"
     ]
    },
    {
     "name": "stderr",
     "output_type": "stream",
     "text": [
      "\r",
      "100%|██████████| 983/983 [00:36<00:00, 26.71it/s]"
     ]
    },
    {
     "name": "stderr",
     "output_type": "stream",
     "text": [
      "\n"
     ]
    }
   ],
   "source": [
    "# use PyBigwig to get the atac information for the bw files\n",
    "bw_dir = \"/data/from_luisa/female_atac\"\n",
    "age_list = ['2mo', '9mo', '18mo']\n",
    "total_counts_df = {}\n",
    "for age in age_list:\n",
    "    bw = pyBigWig.open(f\"{bw_dir}/Female_{bw_ct}_{age}_merge.bw\")\n",
    "    total_counts = []\n",
    "    for dmr_id in tqdm(with_na_dar_gene_df.index):\n",
    "        _chr, start, end = dmr_id.split(':')[0], dmr_id.split(':')[1].split('-')[0], dmr_id.split(':')[1].split('-')[1]\n",
    "        start, end = int(start), int(end)\n",
    "        _count = bw.stats(_chr, start, end, type=\"mean\")\n",
    "        total_counts.append(_count[0])\n",
    "        \n",
    "    total_counts_df[age] = total_counts\n",
    "total_counts_df = pd.DataFrame(total_counts_df)\n",
    "    "
   ]
  },
  {
   "cell_type": "code",
   "execution_count": 20,
   "id": "c30578e3",
   "metadata": {
    "execution": {
     "iopub.execute_input": "2024-12-08T03:37:16.854247Z",
     "iopub.status.busy": "2024-12-08T03:37:16.854032Z",
     "iopub.status.idle": "2024-12-08T03:37:16.857843Z",
     "shell.execute_reply": "2024-12-08T03:37:16.857367Z"
    },
    "papermill": {
     "duration": 0.029476,
     "end_time": "2024-12-08T03:37:16.858961",
     "exception": false,
     "start_time": "2024-12-08T03:37:16.829485",
     "status": "completed"
    },
    "tags": []
   },
   "outputs": [
    {
     "name": "stderr",
     "output_type": "stream",
     "text": [
      "/var/tmp/ipykernel_77952/436241227.py:2: SettingWithCopyWarning: \n",
      "A value is trying to be set on a copy of a slice from a DataFrame.\n",
      "Try using .loc[row_indexer,col_indexer] = value instead\n",
      "\n",
      "See the caveats in the documentation: https://pandas.pydata.org/pandas-docs/stable/user_guide/indexing.html#returning-a-view-versus-a-copy\n",
      "  with_na_dar_gene_df[age] = total_counts_df[age].values\n"
     ]
    }
   ],
   "source": [
    "for age in age_list:\n",
    "    with_na_dar_gene_df[age] = total_counts_df[age].values"
   ]
  },
  {
   "cell_type": "code",
   "execution_count": 21,
   "id": "77803fef",
   "metadata": {
    "execution": {
     "iopub.execute_input": "2024-12-08T03:37:16.909425Z",
     "iopub.status.busy": "2024-12-08T03:37:16.909190Z",
     "iopub.status.idle": "2024-12-08T03:37:16.913335Z",
     "shell.execute_reply": "2024-12-08T03:37:16.912870Z"
    },
    "papermill": {
     "duration": 0.03105,
     "end_time": "2024-12-08T03:37:16.914403",
     "exception": false,
     "start_time": "2024-12-08T03:37:16.883353",
     "status": "completed"
    },
    "tags": []
   },
   "outputs": [
    {
     "name": "stderr",
     "output_type": "stream",
     "text": [
      "/var/tmp/ipykernel_77952/2204217185.py:1: SettingWithCopyWarning: \n",
      "A value is trying to be set on a copy of a slice from a DataFrame.\n",
      "Try using .loc[row_indexer,col_indexer] = value instead\n",
      "\n",
      "See the caveats in the documentation: https://pandas.pydata.org/pandas-docs/stable/user_guide/indexing.html#returning-a-view-versus-a-copy\n",
      "  with_na_dar_gene_df['log2(18mo/2mo)'] = np.log2(with_na_dar_gene_df['18mo']/with_na_dar_gene_df['2mo'])\n"
     ]
    }
   ],
   "source": [
    "with_na_dar_gene_df['log2(18mo/2mo)'] = np.log2(with_na_dar_gene_df['18mo']/with_na_dar_gene_df['2mo'])"
   ]
  },
  {
   "cell_type": "code",
   "execution_count": 22,
   "id": "bf8990a7",
   "metadata": {
    "execution": {
     "iopub.execute_input": "2024-12-08T03:37:17.002073Z",
     "iopub.status.busy": "2024-12-08T03:37:17.001853Z",
     "iopub.status.idle": "2024-12-08T03:37:17.012759Z",
     "shell.execute_reply": "2024-12-08T03:37:17.012045Z"
    },
    "papermill": {
     "duration": 0.037027,
     "end_time": "2024-12-08T03:37:17.014067",
     "exception": false,
     "start_time": "2024-12-08T03:37:16.977040",
     "status": "completed"
    },
    "tags": []
   },
   "outputs": [],
   "source": [
    "# map rows in dar_gene_df that is in with_na_dar_gene_df.index, give 2mo column values based on with_na_dar_gene_df['2mo'].to_dict()\n",
    "dar_gene_df.loc[with_na_dar_gene_df.index, '2mo'] = with_na_dar_gene_df['2mo'].to_dict()\n",
    "dar_gene_df.loc[with_na_dar_gene_df.index, '9mo'] = with_na_dar_gene_df['9mo'].to_dict()\n",
    "dar_gene_df.loc[with_na_dar_gene_df.index, '18mo'] = with_na_dar_gene_df['18mo'].to_dict()"
   ]
  },
  {
   "cell_type": "code",
   "execution_count": 23,
   "id": "91586f30",
   "metadata": {
    "execution": {
     "iopub.execute_input": "2024-12-08T03:37:17.063039Z",
     "iopub.status.busy": "2024-12-08T03:37:17.062561Z",
     "iopub.status.idle": "2024-12-08T03:37:17.188121Z",
     "shell.execute_reply": "2024-12-08T03:37:17.187547Z"
    },
    "papermill": {
     "duration": 0.151088,
     "end_time": "2024-12-08T03:37:17.189352",
     "exception": false,
     "start_time": "2024-12-08T03:37:17.038264",
     "status": "completed"
    },
    "tags": []
   },
   "outputs": [],
   "source": [
    "dar_gene_df.to_csv(f'{home_dir}/ml_input/{ct}/{ct}.aDAR_gene.csv',  index=False)"
   ]
  },
  {
   "cell_type": "code",
   "execution_count": 24,
   "id": "90335aa2",
   "metadata": {
    "execution": {
     "iopub.execute_input": "2024-12-08T03:37:17.238749Z",
     "iopub.status.busy": "2024-12-08T03:37:17.237965Z",
     "iopub.status.idle": "2024-12-08T03:37:17.244483Z",
     "shell.execute_reply": "2024-12-08T03:37:17.244021Z"
    },
    "papermill": {
     "duration": 0.032282,
     "end_time": "2024-12-08T03:37:17.245549",
     "exception": false,
     "start_time": "2024-12-08T03:37:17.213267",
     "status": "completed"
    },
    "tags": []
   },
   "outputs": [
    {
     "data": {
      "text/plain": [
       "CompletedProcess(args='rm DG_Glut.aDAR_gene.bed', returncode=0)"
      ]
     },
     "execution_count": 24,
     "metadata": {},
     "output_type": "execute_result"
    }
   ],
   "source": [
    "subprocess.run(f\"rm {ct}.aDAR_gene.bed\", shell=True)"
   ]
  },
  {
   "cell_type": "code",
   "execution_count": null,
   "id": "26df2f89",
   "metadata": {
    "papermill": {
     "duration": 0.023822,
     "end_time": "2024-12-08T03:37:17.294059",
     "exception": false,
     "start_time": "2024-12-08T03:37:17.270237",
     "status": "completed"
    },
    "tags": []
   },
   "outputs": [],
   "source": []
  }
 ],
 "metadata": {
  "kernelspec": {
   "display_name": "base",
   "language": "python",
   "name": "python3"
  },
  "language_info": {
   "codemirror_mode": {
    "name": "ipython",
    "version": 3
   },
   "file_extension": ".py",
   "mimetype": "text/x-python",
   "name": "python",
   "nbconvert_exporter": "python",
   "pygments_lexer": "ipython3",
   "version": "3.10.12"
  },
  "papermill": {
   "default_parameters": {},
   "duration": 103.840974,
   "end_time": "2024-12-08T03:37:17.734347",
   "environment_variables": {},
   "exception": null,
   "input_path": "/home/qzeng_salk_edu/project/241018_pre_ml/gen_ml_input/notebooks/04.pre_atac_adar.ipynb",
   "output_path": "DG_Glut/04.pre_atac_adar.ipynb",
   "parameters": {
    "cpu": 8,
    "group_name": "DG_Glut",
    "mem_gb": 10
   },
   "start_time": "2024-12-08T03:35:33.893373",
   "version": "2.4.0"
  }
 },
 "nbformat": 4,
 "nbformat_minor": 5
}