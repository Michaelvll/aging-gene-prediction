{
 "cells": [
  {
   "cell_type": "code",
   "execution_count": 1,
   "id": "2bd8f37e",
   "metadata": {
    "execution": {
     "iopub.execute_input": "2024-12-08T03:35:15.975559Z",
     "iopub.status.busy": "2024-12-08T03:35:15.975307Z",
     "iopub.status.idle": "2024-12-08T03:35:15.981290Z",
     "shell.execute_reply": "2024-12-08T03:35:15.980688Z"
    },
    "papermill": {
     "duration": 0.010953,
     "end_time": "2024-12-08T03:35:15.982370",
     "exception": false,
     "start_time": "2024-12-08T03:35:15.971417",
     "status": "completed"
    },
    "tags": [
     "injected-parameters"
    ]
   },
   "outputs": [],
   "source": [
    "# Parameters\n",
    "cpu = 8\n",
    "group_name = \"DG_Glut\"\n",
    "mem_gb = 10\n"
   ]
  },
  {
   "cell_type": "code",
   "execution_count": 2,
   "id": "66132047",
   "metadata": {
    "execution": {
     "iopub.execute_input": "2024-12-08T03:35:15.987957Z",
     "iopub.status.busy": "2024-12-08T03:35:15.987625Z",
     "iopub.status.idle": "2024-12-08T03:35:16.261764Z",
     "shell.execute_reply": "2024-12-08T03:35:16.261137Z"
    },
    "papermill": {
     "duration": 0.278814,
     "end_time": "2024-12-08T03:35:16.263556",
     "exception": false,
     "start_time": "2024-12-08T03:35:15.984742",
     "status": "completed"
    },
    "tags": []
   },
   "outputs": [],
   "source": [
    "import pandas as pd\n",
    "import subprocess\n",
    "import numpy as np"
   ]
  },
  {
   "cell_type": "code",
   "execution_count": 3,
   "id": "0c1e6a13",
   "metadata": {
    "execution": {
     "iopub.execute_input": "2024-12-08T03:35:16.269379Z",
     "iopub.status.busy": "2024-12-08T03:35:16.269093Z",
     "iopub.status.idle": "2024-12-08T03:35:16.272131Z",
     "shell.execute_reply": "2024-12-08T03:35:16.271614Z"
    },
    "papermill": {
     "duration": 0.007159,
     "end_time": "2024-12-08T03:35:16.273212",
     "exception": false,
     "start_time": "2024-12-08T03:35:16.266053",
     "status": "completed"
    },
    "tags": []
   },
   "outputs": [],
   "source": [
    "#group_name = 'DG_Glut'"
   ]
  },
  {
   "cell_type": "code",
   "execution_count": 4,
   "id": "b476886a",
   "metadata": {
    "execution": {
     "iopub.execute_input": "2024-12-08T03:35:16.278317Z",
     "iopub.status.busy": "2024-12-08T03:35:16.278141Z",
     "iopub.status.idle": "2024-12-08T03:35:16.281120Z",
     "shell.execute_reply": "2024-12-08T03:35:16.280593Z"
    },
    "papermill": {
     "duration": 0.006756,
     "end_time": "2024-12-08T03:35:16.282163",
     "exception": false,
     "start_time": "2024-12-08T03:35:16.275407",
     "status": "completed"
    },
    "tags": []
   },
   "outputs": [],
   "source": [
    "home_dir = '/home/qzeng_salk_edu/project/241018_pre_ml'\n",
    "ct = group_name\n",
    "\n",
    "dmr_dir = '/data/mC_FILTER_DMR_BED'\n",
    "_type = 'Total'"
   ]
  },
  {
   "cell_type": "code",
   "execution_count": 5,
   "id": "72d523d7",
   "metadata": {
    "execution": {
     "iopub.execute_input": "2024-12-08T03:35:16.287497Z",
     "iopub.status.busy": "2024-12-08T03:35:16.287328Z",
     "iopub.status.idle": "2024-12-08T03:35:16.356545Z",
     "shell.execute_reply": "2024-12-08T03:35:16.355978Z"
    },
    "papermill": {
     "duration": 0.073233,
     "end_time": "2024-12-08T03:35:16.357722",
     "exception": false,
     "start_time": "2024-12-08T03:35:16.284489",
     "status": "completed"
    },
    "tags": []
   },
   "outputs": [
    {
     "data": {
      "text/html": [
       "<div>\n",
       "<style scoped>\n",
       "    .dataframe tbody tr th:only-of-type {\n",
       "        vertical-align: middle;\n",
       "    }\n",
       "\n",
       "    .dataframe tbody tr th {\n",
       "        vertical-align: top;\n",
       "    }\n",
       "\n",
       "    .dataframe thead th {\n",
       "        text-align: right;\n",
       "    }\n",
       "</style>\n",
       "<table border=\"1\" class=\"dataframe\">\n",
       "  <thead>\n",
       "    <tr style=\"text-align: right;\">\n",
       "      <th></th>\n",
       "      <th>0</th>\n",
       "      <th>1</th>\n",
       "      <th>2</th>\n",
       "      <th>3</th>\n",
       "      <th>4</th>\n",
       "      <th>5</th>\n",
       "      <th>6</th>\n",
       "    </tr>\n",
       "  </thead>\n",
       "  <tbody>\n",
       "    <tr>\n",
       "      <th>0</th>\n",
       "      <td>chr1</td>\n",
       "      <td>6846251</td>\n",
       "      <td>6846299</td>\n",
       "      <td>chr1-6846251-6846299</td>\n",
       "      <td>0.81</td>\n",
       "      <td>0.68</td>\n",
       "      <td>0.56</td>\n",
       "    </tr>\n",
       "    <tr>\n",
       "      <th>1</th>\n",
       "      <td>chr1</td>\n",
       "      <td>9169723</td>\n",
       "      <td>9169728</td>\n",
       "      <td>chr1-9169723-9169728</td>\n",
       "      <td>0.76</td>\n",
       "      <td>0.60</td>\n",
       "      <td>0.51</td>\n",
       "    </tr>\n",
       "    <tr>\n",
       "      <th>2</th>\n",
       "      <td>chr1</td>\n",
       "      <td>10148905</td>\n",
       "      <td>10148983</td>\n",
       "      <td>chr1-10148905-10148983</td>\n",
       "      <td>0.73</td>\n",
       "      <td>0.58</td>\n",
       "      <td>0.53</td>\n",
       "    </tr>\n",
       "    <tr>\n",
       "      <th>3</th>\n",
       "      <td>chr1</td>\n",
       "      <td>10164948</td>\n",
       "      <td>10165945</td>\n",
       "      <td>chr1-10164948-10165945</td>\n",
       "      <td>0.53</td>\n",
       "      <td>0.35</td>\n",
       "      <td>0.20</td>\n",
       "    </tr>\n",
       "    <tr>\n",
       "      <th>4</th>\n",
       "      <td>chr1</td>\n",
       "      <td>12806641</td>\n",
       "      <td>12806697</td>\n",
       "      <td>chr1-12806641-12806697</td>\n",
       "      <td>0.26</td>\n",
       "      <td>0.41</td>\n",
       "      <td>0.48</td>\n",
       "    </tr>\n",
       "  </tbody>\n",
       "</table>\n",
       "</div>"
      ],
      "text/plain": [
       "      0         1         2                       3     4     5     6\n",
       "0  chr1   6846251   6846299    chr1-6846251-6846299  0.81  0.68  0.56\n",
       "1  chr1   9169723   9169728    chr1-9169723-9169728  0.76  0.60  0.51\n",
       "2  chr1  10148905  10148983  chr1-10148905-10148983  0.73  0.58  0.53\n",
       "3  chr1  10164948  10165945  chr1-10164948-10165945  0.53  0.35  0.20\n",
       "4  chr1  12806641  12806697  chr1-12806641-12806697  0.26  0.41  0.48"
      ]
     },
     "execution_count": 5,
     "metadata": {},
     "output_type": "execute_result"
    }
   ],
   "source": [
    "dmr_bf = pd.read_csv(f'{dmr_dir}/{ct}.{_type}.aDMR.bed', sep='\\t', header=None)\n",
    "dmr_bf.head()"
   ]
  },
  {
   "cell_type": "code",
   "execution_count": 6,
   "id": "968a7bb8",
   "metadata": {
    "execution": {
     "iopub.execute_input": "2024-12-08T03:35:16.363905Z",
     "iopub.status.busy": "2024-12-08T03:35:16.363583Z",
     "iopub.status.idle": "2024-12-08T03:35:16.366260Z",
     "shell.execute_reply": "2024-12-08T03:35:16.365679Z"
    },
    "papermill": {
     "duration": 0.006957,
     "end_time": "2024-12-08T03:35:16.367277",
     "exception": false,
     "start_time": "2024-12-08T03:35:16.360320",
     "status": "completed"
    },
    "tags": []
   },
   "outputs": [],
   "source": [
    "# gene_df=  pd.read_csv('/data/ref/mouse/genome_anno/mm10_gene.bed', sep='\\t', header=None)\n",
    "# # extend 1 and 2 2000kb\n",
    "# gene_df[1] = gene_df[1] - 2000\n",
    "# gene_df[2] = gene_df[2] + 2000\n",
    "# #gene_df.to_csv('mm10_gene_2kb.bed', sep='\\t', header=None, index=None) \n",
    "# gene_df.head()"
   ]
  },
  {
   "cell_type": "code",
   "execution_count": 7,
   "id": "76274a6f",
   "metadata": {
    "execution": {
     "iopub.execute_input": "2024-12-08T03:35:16.374668Z",
     "iopub.status.busy": "2024-12-08T03:35:16.374167Z",
     "iopub.status.idle": "2024-12-08T03:35:16.435646Z",
     "shell.execute_reply": "2024-12-08T03:35:16.435069Z"
    },
    "papermill": {
     "duration": 0.065856,
     "end_time": "2024-12-08T03:35:16.436919",
     "exception": false,
     "start_time": "2024-12-08T03:35:16.371063",
     "status": "completed"
    },
    "tags": []
   },
   "outputs": [
    {
     "data": {
      "text/plain": [
       "CompletedProcess(args='bedtools intersect -a /data/mC_FILTER_DMR_BED/DG_Glut.Total.aDMR.bed -b /home/qzeng_salk_edu/project/241018_pre_ml/mm10_gene_2kb.bed -wa -wb > DG_Glut.aDMR_gene.bed', returncode=0)"
      ]
     },
     "execution_count": 7,
     "metadata": {},
     "output_type": "execute_result"
    }
   ],
   "source": [
    "# use bedtools intersect to find the genes that overlap with the DMRs\n",
    "command = f\"bedtools intersect -a {dmr_dir}/{ct}.{_type}.aDMR.bed -b {home_dir}/mm10_gene_2kb.bed -wa -wb > {ct}.aDMR_gene.bed\"\n",
    "subprocess.run(command, shell=True)"
   ]
  },
  {
   "cell_type": "code",
   "execution_count": 8,
   "id": "c927d2b8",
   "metadata": {
    "execution": {
     "iopub.execute_input": "2024-12-08T03:35:16.443319Z",
     "iopub.status.busy": "2024-12-08T03:35:16.443064Z",
     "iopub.status.idle": "2024-12-08T03:35:16.464863Z",
     "shell.execute_reply": "2024-12-08T03:35:16.464058Z"
    },
    "papermill": {
     "duration": 0.026459,
     "end_time": "2024-12-08T03:35:16.466106",
     "exception": false,
     "start_time": "2024-12-08T03:35:16.439647",
     "status": "completed"
    },
    "tags": []
   },
   "outputs": [
    {
     "data": {
      "text/html": [
       "<div>\n",
       "<style scoped>\n",
       "    .dataframe tbody tr th:only-of-type {\n",
       "        vertical-align: middle;\n",
       "    }\n",
       "\n",
       "    .dataframe tbody tr th {\n",
       "        vertical-align: top;\n",
       "    }\n",
       "\n",
       "    .dataframe thead th {\n",
       "        text-align: right;\n",
       "    }\n",
       "</style>\n",
       "<table border=\"1\" class=\"dataframe\">\n",
       "  <thead>\n",
       "    <tr style=\"text-align: right;\">\n",
       "      <th></th>\n",
       "      <th>chr</th>\n",
       "      <th>start</th>\n",
       "      <th>end</th>\n",
       "      <th>dmr_id</th>\n",
       "      <th>2mo</th>\n",
       "      <th>9mo</th>\n",
       "      <th>18mo</th>\n",
       "      <th>gene_chr</th>\n",
       "      <th>gene_start</th>\n",
       "      <th>gene_end</th>\n",
       "      <th>gene_id</th>\n",
       "      <th>gene_strand</th>\n",
       "      <th>gene_name</th>\n",
       "      <th>gene_type</th>\n",
       "      <th>old-young</th>\n",
       "    </tr>\n",
       "  </thead>\n",
       "  <tbody>\n",
       "    <tr>\n",
       "      <th>0</th>\n",
       "      <td>chr1</td>\n",
       "      <td>6846251</td>\n",
       "      <td>6846299</td>\n",
       "      <td>chr1-6846251-6846299</td>\n",
       "      <td>0.81</td>\n",
       "      <td>0.68</td>\n",
       "      <td>0.56</td>\n",
       "      <td>chr1</td>\n",
       "      <td>6485231</td>\n",
       "      <td>6862940</td>\n",
       "      <td>ENSMUSG00000033740.13</td>\n",
       "      <td>+</td>\n",
       "      <td>St18</td>\n",
       "      <td>protein_coding</td>\n",
       "      <td>-0.25</td>\n",
       "    </tr>\n",
       "    <tr>\n",
       "      <th>1</th>\n",
       "      <td>chr1</td>\n",
       "      <td>9169723</td>\n",
       "      <td>9169728</td>\n",
       "      <td>chr1-9169723-9169728</td>\n",
       "      <td>0.76</td>\n",
       "      <td>0.60</td>\n",
       "      <td>0.51</td>\n",
       "      <td>chr1</td>\n",
       "      <td>8359475</td>\n",
       "      <td>9301878</td>\n",
       "      <td>ENSMUSG00000025909.12</td>\n",
       "      <td>-</td>\n",
       "      <td>Sntg1</td>\n",
       "      <td>protein_coding</td>\n",
       "      <td>-0.25</td>\n",
       "    </tr>\n",
       "    <tr>\n",
       "      <th>2</th>\n",
       "      <td>chr1</td>\n",
       "      <td>10148905</td>\n",
       "      <td>10148983</td>\n",
       "      <td>chr1-10148905-10148983</td>\n",
       "      <td>0.73</td>\n",
       "      <td>0.58</td>\n",
       "      <td>0.53</td>\n",
       "      <td>chr1</td>\n",
       "      <td>10135571</td>\n",
       "      <td>10234670</td>\n",
       "      <td>ENSMUSG00000067851.7</td>\n",
       "      <td>-</td>\n",
       "      <td>Arfgef1</td>\n",
       "      <td>protein_coding</td>\n",
       "      <td>-0.20</td>\n",
       "    </tr>\n",
       "    <tr>\n",
       "      <th>3</th>\n",
       "      <td>chr1</td>\n",
       "      <td>10164948</td>\n",
       "      <td>10165945</td>\n",
       "      <td>chr1-10164948-10165945</td>\n",
       "      <td>0.53</td>\n",
       "      <td>0.35</td>\n",
       "      <td>0.20</td>\n",
       "      <td>chr1</td>\n",
       "      <td>10164539</td>\n",
       "      <td>10168778</td>\n",
       "      <td>ENSMUSG00000088153.1</td>\n",
       "      <td>+</td>\n",
       "      <td>Gm26348</td>\n",
       "      <td>misc_RNA</td>\n",
       "      <td>-0.33</td>\n",
       "    </tr>\n",
       "    <tr>\n",
       "      <th>4</th>\n",
       "      <td>chr1</td>\n",
       "      <td>10164948</td>\n",
       "      <td>10165945</td>\n",
       "      <td>chr1-10164948-10165945</td>\n",
       "      <td>0.53</td>\n",
       "      <td>0.35</td>\n",
       "      <td>0.20</td>\n",
       "      <td>chr1</td>\n",
       "      <td>10135571</td>\n",
       "      <td>10234670</td>\n",
       "      <td>ENSMUSG00000067851.7</td>\n",
       "      <td>-</td>\n",
       "      <td>Arfgef1</td>\n",
       "      <td>protein_coding</td>\n",
       "      <td>-0.33</td>\n",
       "    </tr>\n",
       "  </tbody>\n",
       "</table>\n",
       "</div>"
      ],
      "text/plain": [
       "    chr     start       end                  dmr_id   2mo   9mo  18mo  \\\n",
       "0  chr1   6846251   6846299    chr1-6846251-6846299  0.81  0.68  0.56   \n",
       "1  chr1   9169723   9169728    chr1-9169723-9169728  0.76  0.60  0.51   \n",
       "2  chr1  10148905  10148983  chr1-10148905-10148983  0.73  0.58  0.53   \n",
       "3  chr1  10164948  10165945  chr1-10164948-10165945  0.53  0.35  0.20   \n",
       "4  chr1  10164948  10165945  chr1-10164948-10165945  0.53  0.35  0.20   \n",
       "\n",
       "  gene_chr  gene_start  gene_end                gene_id gene_strand gene_name  \\\n",
       "0     chr1     6485231   6862940  ENSMUSG00000033740.13           +      St18   \n",
       "1     chr1     8359475   9301878  ENSMUSG00000025909.12           -     Sntg1   \n",
       "2     chr1    10135571  10234670   ENSMUSG00000067851.7           -   Arfgef1   \n",
       "3     chr1    10164539  10168778   ENSMUSG00000088153.1           +   Gm26348   \n",
       "4     chr1    10135571  10234670   ENSMUSG00000067851.7           -   Arfgef1   \n",
       "\n",
       "        gene_type  old-young  \n",
       "0  protein_coding      -0.25  \n",
       "1  protein_coding      -0.25  \n",
       "2  protein_coding      -0.20  \n",
       "3        misc_RNA      -0.33  \n",
       "4  protein_coding      -0.33  "
      ]
     },
     "execution_count": 8,
     "metadata": {},
     "output_type": "execute_result"
    }
   ],
   "source": [
    "dmr_gene_df = pd.read_csv(f'{ct}.aDMR_gene.bed', sep='\\t', header=None)\n",
    "# add a columns that is np.log2([6] - [4])\n",
    "dmr_gene_df.columns = ['chr','start','end','dmr_id','2mo','9mo','18mo', \n",
    "                        'gene_chr','gene_start','gene_end','gene_id','gene_strand','gene_name','gene_type']\n",
    "dmr_gene_df['old-young'] = dmr_gene_df['18mo'] -dmr_gene_df['2mo']\n",
    "dmr_gene_df.head()"
   ]
  },
  {
   "cell_type": "code",
   "execution_count": 9,
   "id": "b080aec1",
   "metadata": {
    "execution": {
     "iopub.execute_input": "2024-12-08T03:35:16.473603Z",
     "iopub.status.busy": "2024-12-08T03:35:16.472872Z",
     "iopub.status.idle": "2024-12-08T03:35:16.479024Z",
     "shell.execute_reply": "2024-12-08T03:35:16.478438Z"
    },
    "papermill": {
     "duration": 0.011218,
     "end_time": "2024-12-08T03:35:16.480246",
     "exception": false,
     "start_time": "2024-12-08T03:35:16.469028",
     "status": "completed"
    },
    "tags": []
   },
   "outputs": [
    {
     "data": {
      "text/plain": [
       "CompletedProcess(args='rm DG_Glut.aDMR_gene.bed', returncode=0)"
      ]
     },
     "execution_count": 9,
     "metadata": {},
     "output_type": "execute_result"
    }
   ],
   "source": [
    "\n",
    "subprocess.run(f\"rm {ct}.aDMR_gene.bed\", shell=True)"
   ]
  },
  {
   "cell_type": "code",
   "execution_count": 10,
   "id": "1d5c050b",
   "metadata": {
    "execution": {
     "iopub.execute_input": "2024-12-08T03:35:16.487210Z",
     "iopub.status.busy": "2024-12-08T03:35:16.486960Z",
     "iopub.status.idle": "2024-12-08T03:35:16.498006Z",
     "shell.execute_reply": "2024-12-08T03:35:16.497513Z"
    },
    "papermill": {
     "duration": 0.015916,
     "end_time": "2024-12-08T03:35:16.499174",
     "exception": false,
     "start_time": "2024-12-08T03:35:16.483258",
     "status": "completed"
    },
    "tags": []
   },
   "outputs": [
    {
     "data": {
      "text/html": [
       "<div>\n",
       "<style scoped>\n",
       "    .dataframe tbody tr th:only-of-type {\n",
       "        vertical-align: middle;\n",
       "    }\n",
       "\n",
       "    .dataframe tbody tr th {\n",
       "        vertical-align: top;\n",
       "    }\n",
       "\n",
       "    .dataframe thead th {\n",
       "        text-align: right;\n",
       "    }\n",
       "</style>\n",
       "<table border=\"1\" class=\"dataframe\">\n",
       "  <thead>\n",
       "    <tr style=\"text-align: right;\">\n",
       "      <th></th>\n",
       "      <th>start</th>\n",
       "      <th>end</th>\n",
       "      <th>2mo</th>\n",
       "      <th>9mo</th>\n",
       "      <th>18mo</th>\n",
       "      <th>gene_start</th>\n",
       "      <th>gene_end</th>\n",
       "      <th>gene_name</th>\n",
       "      <th>distance</th>\n",
       "    </tr>\n",
       "  </thead>\n",
       "  <tbody>\n",
       "    <tr>\n",
       "      <th>0</th>\n",
       "      <td>6846251</td>\n",
       "      <td>6846299</td>\n",
       "      <td>0.81</td>\n",
       "      <td>0.68</td>\n",
       "      <td>0.56</td>\n",
       "      <td>6485231</td>\n",
       "      <td>6862940</td>\n",
       "      <td>St18</td>\n",
       "      <td>16689</td>\n",
       "    </tr>\n",
       "    <tr>\n",
       "      <th>1</th>\n",
       "      <td>9169723</td>\n",
       "      <td>9169728</td>\n",
       "      <td>0.76</td>\n",
       "      <td>0.60</td>\n",
       "      <td>0.51</td>\n",
       "      <td>8359475</td>\n",
       "      <td>9301878</td>\n",
       "      <td>Sntg1</td>\n",
       "      <td>132155</td>\n",
       "    </tr>\n",
       "    <tr>\n",
       "      <th>2</th>\n",
       "      <td>10148905</td>\n",
       "      <td>10148983</td>\n",
       "      <td>0.73</td>\n",
       "      <td>0.58</td>\n",
       "      <td>0.53</td>\n",
       "      <td>10135571</td>\n",
       "      <td>10234670</td>\n",
       "      <td>Arfgef1</td>\n",
       "      <td>13334</td>\n",
       "    </tr>\n",
       "    <tr>\n",
       "      <th>3</th>\n",
       "      <td>10164948</td>\n",
       "      <td>10165945</td>\n",
       "      <td>0.53</td>\n",
       "      <td>0.35</td>\n",
       "      <td>0.20</td>\n",
       "      <td>10164539</td>\n",
       "      <td>10168778</td>\n",
       "      <td>Gm26348</td>\n",
       "      <td>409</td>\n",
       "    </tr>\n",
       "    <tr>\n",
       "      <th>4</th>\n",
       "      <td>10164948</td>\n",
       "      <td>10165945</td>\n",
       "      <td>0.53</td>\n",
       "      <td>0.35</td>\n",
       "      <td>0.20</td>\n",
       "      <td>10135571</td>\n",
       "      <td>10234670</td>\n",
       "      <td>Arfgef1</td>\n",
       "      <td>29377</td>\n",
       "    </tr>\n",
       "  </tbody>\n",
       "</table>\n",
       "</div>"
      ],
      "text/plain": [
       "      start       end   2mo   9mo  18mo  gene_start  gene_end gene_name  \\\n",
       "0   6846251   6846299  0.81  0.68  0.56     6485231   6862940      St18   \n",
       "1   9169723   9169728  0.76  0.60  0.51     8359475   9301878     Sntg1   \n",
       "2  10148905  10148983  0.73  0.58  0.53    10135571  10234670   Arfgef1   \n",
       "3  10164948  10165945  0.53  0.35  0.20    10164539  10168778   Gm26348   \n",
       "4  10164948  10165945  0.53  0.35  0.20    10135571  10234670   Arfgef1   \n",
       "\n",
       "   distance  \n",
       "0     16689  \n",
       "1    132155  \n",
       "2     13334  \n",
       "3       409  \n",
       "4     29377  "
      ]
     },
     "execution_count": 10,
     "metadata": {},
     "output_type": "execute_result"
    }
   ],
   "source": [
    "# drop dmr_id, gen_id, gene_strand, old-young\n",
    "dmr_gene_df['distance'] = np.minimum(abs(dmr_gene_df['start'] - dmr_gene_df['gene_start']), abs(dmr_gene_df['start'] - dmr_gene_df['gene_end']))\n",
    "dmr_gene_df = dmr_gene_df.drop(columns=['chr','gene_chr','dmr_id','gene_id','gene_strand','old-young','gene_type'])\n",
    "dmr_gene_df.head()"
   ]
  },
  {
   "cell_type": "code",
   "execution_count": 11,
   "id": "21cf8a71",
   "metadata": {
    "execution": {
     "iopub.execute_input": "2024-12-08T03:35:16.506260Z",
     "iopub.status.busy": "2024-12-08T03:35:16.506004Z",
     "iopub.status.idle": "2024-12-08T03:35:16.527920Z",
     "shell.execute_reply": "2024-12-08T03:35:16.527313Z"
    },
    "papermill": {
     "duration": 0.027419,
     "end_time": "2024-12-08T03:35:16.529677",
     "exception": false,
     "start_time": "2024-12-08T03:35:16.502258",
     "status": "completed"
    },
    "tags": []
   },
   "outputs": [],
   "source": [
    "dmr_gene_df.to_csv(f'{home_dir}/ml_input/{ct}/{ct}.aDMR_gene.csv', index=None)"
   ]
  },
  {
   "cell_type": "markdown",
   "id": "9efbb107",
   "metadata": {
    "papermill": {
     "duration": 0.002927,
     "end_time": "2024-12-08T03:35:16.536601",
     "exception": false,
     "start_time": "2024-12-08T03:35:16.533674",
     "status": "completed"
    },
    "tags": []
   },
   "source": [
    "## load enhancer"
   ]
  },
  {
   "cell_type": "code",
   "execution_count": 12,
   "id": "03c83cfd",
   "metadata": {
    "execution": {
     "iopub.execute_input": "2024-12-08T03:35:16.543891Z",
     "iopub.status.busy": "2024-12-08T03:35:16.543328Z",
     "iopub.status.idle": "2024-12-08T03:35:16.546301Z",
     "shell.execute_reply": "2024-12-08T03:35:16.545720Z"
    },
    "papermill": {
     "duration": 0.00791,
     "end_time": "2024-12-08T03:35:16.547405",
     "exception": false,
     "start_time": "2024-12-08T03:35:16.539495",
     "status": "completed"
    },
    "tags": []
   },
   "outputs": [],
   "source": [
    "mc_abc_dir = '/data/female-amb/ABC.Enhancer/Re.ABC.By.Methylation'"
   ]
  },
  {
   "cell_type": "code",
   "execution_count": 13,
   "id": "8a41bc66",
   "metadata": {
    "execution": {
     "iopub.execute_input": "2024-12-08T03:35:16.554511Z",
     "iopub.status.busy": "2024-12-08T03:35:16.554254Z",
     "iopub.status.idle": "2024-12-08T03:35:16.624768Z",
     "shell.execute_reply": "2024-12-08T03:35:16.624101Z"
    },
    "papermill": {
     "duration": 0.07597,
     "end_time": "2024-12-08T03:35:16.626405",
     "exception": false,
     "start_time": "2024-12-08T03:35:16.550435",
     "status": "completed"
    },
    "tags": []
   },
   "outputs": [],
   "source": [
    "mouse_genes = pd.read_csv(f\"/home/qzeng_salk_edu/project/240321_abc_score/use.mouse_genes.csv\", index_col =0)"
   ]
  },
  {
   "cell_type": "code",
   "execution_count": 14,
   "id": "3039f833",
   "metadata": {
    "execution": {
     "iopub.execute_input": "2024-12-08T03:35:16.634444Z",
     "iopub.status.busy": "2024-12-08T03:35:16.633854Z",
     "iopub.status.idle": "2024-12-08T03:35:16.637600Z",
     "shell.execute_reply": "2024-12-08T03:35:16.637037Z"
    },
    "papermill": {
     "duration": 0.00882,
     "end_time": "2024-12-08T03:35:16.638655",
     "exception": false,
     "start_time": "2024-12-08T03:35:16.629835",
     "status": "completed"
    },
    "tags": []
   },
   "outputs": [],
   "source": [
    "def load_abc_df(ct, age):\n",
    "    df = pd.read_csv(f'{mc_abc_dir}/{ct}/filtered.{ct}.{age}.abc_score.csv', index_col =0)\n",
    "    if age == '8wk':\n",
    "        age = '2mo'\n",
    "    df.columns =  [f'{age}.activity',f'{age}.contact',f'{age}.abc_score']\n",
    "    return df"
   ]
  },
  {
   "cell_type": "code",
   "execution_count": 15,
   "id": "c86c90cd",
   "metadata": {
    "execution": {
     "iopub.execute_input": "2024-12-08T03:35:16.645634Z",
     "iopub.status.busy": "2024-12-08T03:35:16.645449Z",
     "iopub.status.idle": "2024-12-08T03:35:17.024487Z",
     "shell.execute_reply": "2024-12-08T03:35:17.023683Z"
    },
    "papermill": {
     "duration": 0.384773,
     "end_time": "2024-12-08T03:35:17.026471",
     "exception": false,
     "start_time": "2024-12-08T03:35:16.641698",
     "status": "completed"
    },
    "tags": []
   },
   "outputs": [],
   "source": [
    "young_abc_df = load_abc_df(ct, '8wk')\n",
    "middle_abc_df = load_abc_df(ct, '9mo')\n",
    "old_abc_df = load_abc_df(ct, '18mo')"
   ]
  },
  {
   "cell_type": "code",
   "execution_count": 16,
   "id": "f9203369",
   "metadata": {
    "execution": {
     "iopub.execute_input": "2024-12-08T03:35:17.038020Z",
     "iopub.status.busy": "2024-12-08T03:35:17.037409Z",
     "iopub.status.idle": "2024-12-08T03:35:17.135024Z",
     "shell.execute_reply": "2024-12-08T03:35:17.134447Z"
    },
    "papermill": {
     "duration": 0.105025,
     "end_time": "2024-12-08T03:35:17.136631",
     "exception": false,
     "start_time": "2024-12-08T03:35:17.031606",
     "status": "completed"
    },
    "tags": []
   },
   "outputs": [],
   "source": [
    "# concat the three age groups\n",
    "abc_df = pd.concat([young_abc_df, middle_abc_df, old_abc_df], axis=1)\n",
    "#abc_df = abc_df.dropna()#\n",
    "#abc_df = abc_df.fillna(0)"
   ]
  },
  {
   "cell_type": "code",
   "execution_count": 17,
   "id": "2c17fdbf",
   "metadata": {
    "execution": {
     "iopub.execute_input": "2024-12-08T03:35:17.144279Z",
     "iopub.status.busy": "2024-12-08T03:35:17.144116Z",
     "iopub.status.idle": "2024-12-08T03:35:19.756560Z",
     "shell.execute_reply": "2024-12-08T03:35:19.755991Z"
    },
    "papermill": {
     "duration": 2.617536,
     "end_time": "2024-12-08T03:35:19.757782",
     "exception": false,
     "start_time": "2024-12-08T03:35:17.140246",
     "status": "completed"
    },
    "tags": []
   },
   "outputs": [
    {
     "data": {
      "text/html": [
       "<div>\n",
       "<style scoped>\n",
       "    .dataframe tbody tr th:only-of-type {\n",
       "        vertical-align: middle;\n",
       "    }\n",
       "\n",
       "    .dataframe tbody tr th {\n",
       "        vertical-align: top;\n",
       "    }\n",
       "\n",
       "    .dataframe thead th {\n",
       "        text-align: right;\n",
       "    }\n",
       "</style>\n",
       "<table border=\"1\" class=\"dataframe\">\n",
       "  <thead>\n",
       "    <tr style=\"text-align: right;\">\n",
       "      <th></th>\n",
       "      <th>2mo.activity</th>\n",
       "      <th>2mo.contact</th>\n",
       "      <th>2mo.abc_score</th>\n",
       "      <th>9mo.activity</th>\n",
       "      <th>9mo.contact</th>\n",
       "      <th>9mo.abc_score</th>\n",
       "      <th>18mo.activity</th>\n",
       "      <th>18mo.contact</th>\n",
       "      <th>18mo.abc_score</th>\n",
       "      <th>chr</th>\n",
       "      <th>start</th>\n",
       "      <th>end</th>\n",
       "      <th>gene_id</th>\n",
       "      <th>gene_name</th>\n",
       "      <th>gene_start</th>\n",
       "      <th>gene_end</th>\n",
       "    </tr>\n",
       "  </thead>\n",
       "  <tbody>\n",
       "    <tr>\n",
       "      <th>chr1-3681290-3681410-ENSMUSG00000051951</th>\n",
       "      <td>0.807107</td>\n",
       "      <td>65.0</td>\n",
       "      <td>0.069262</td>\n",
       "      <td>0.775056</td>\n",
       "      <td>51.0</td>\n",
       "      <td>0.055937</td>\n",
       "      <td>0.831209</td>\n",
       "      <td>109.0</td>\n",
       "      <td>0.088025</td>\n",
       "      <td>chr1</td>\n",
       "      <td>3681290</td>\n",
       "      <td>3681410</td>\n",
       "      <td>ENSMUSG00000051951</td>\n",
       "      <td>Xkr4</td>\n",
       "      <td>3205901</td>\n",
       "      <td>3671498</td>\n",
       "    </tr>\n",
       "    <tr>\n",
       "      <th>chr1-3703215-3703791-ENSMUSG00000051951</th>\n",
       "      <td>0.637767</td>\n",
       "      <td>33.0</td>\n",
       "      <td>0.027786</td>\n",
       "      <td>0.615269</td>\n",
       "      <td>31.0</td>\n",
       "      <td>0.026991</td>\n",
       "      <td>0.598799</td>\n",
       "      <td>35.0</td>\n",
       "      <td>0.020362</td>\n",
       "      <td>chr1</td>\n",
       "      <td>3703215</td>\n",
       "      <td>3703791</td>\n",
       "      <td>ENSMUSG00000051951</td>\n",
       "      <td>Xkr4</td>\n",
       "      <td>3205901</td>\n",
       "      <td>3671498</td>\n",
       "    </tr>\n",
       "    <tr>\n",
       "      <th>chr1-3524163-3524482-ENSMUSG00000089699</th>\n",
       "      <td>0.676796</td>\n",
       "      <td>35.0</td>\n",
       "      <td>0.040300</td>\n",
       "      <td>0.706448</td>\n",
       "      <td>57.0</td>\n",
       "      <td>0.065909</td>\n",
       "      <td>0.658778</td>\n",
       "      <td>88.0</td>\n",
       "      <td>0.074832</td>\n",
       "      <td>chr1</td>\n",
       "      <td>3524163</td>\n",
       "      <td>3524482</td>\n",
       "      <td>ENSMUSG00000089699</td>\n",
       "      <td>Gm1992</td>\n",
       "      <td>3466587</td>\n",
       "      <td>3513553</td>\n",
       "    </tr>\n",
       "    <tr>\n",
       "      <th>chr1-3540806-3540973-ENSMUSG00000089699</th>\n",
       "      <td>0.736671</td>\n",
       "      <td>36.0</td>\n",
       "      <td>0.045118</td>\n",
       "      <td>0.705843</td>\n",
       "      <td>43.0</td>\n",
       "      <td>0.049678</td>\n",
       "      <td>0.720259</td>\n",
       "      <td>63.0</td>\n",
       "      <td>0.058573</td>\n",
       "      <td>chr1</td>\n",
       "      <td>3540806</td>\n",
       "      <td>3540973</td>\n",
       "      <td>ENSMUSG00000089699</td>\n",
       "      <td>Gm1992</td>\n",
       "      <td>3466587</td>\n",
       "      <td>3513553</td>\n",
       "    </tr>\n",
       "    <tr>\n",
       "      <th>chr1-3668112-3668782-ENSMUSG00000089699</th>\n",
       "      <td>0.846691</td>\n",
       "      <td>22.0</td>\n",
       "      <td>0.031690</td>\n",
       "      <td>NaN</td>\n",
       "      <td>NaN</td>\n",
       "      <td>NaN</td>\n",
       "      <td>NaN</td>\n",
       "      <td>NaN</td>\n",
       "      <td>NaN</td>\n",
       "      <td>chr1</td>\n",
       "      <td>3668112</td>\n",
       "      <td>3668782</td>\n",
       "      <td>ENSMUSG00000089699</td>\n",
       "      <td>Gm1992</td>\n",
       "      <td>3466587</td>\n",
       "      <td>3513553</td>\n",
       "    </tr>\n",
       "    <tr>\n",
       "      <th>...</th>\n",
       "      <td>...</td>\n",
       "      <td>...</td>\n",
       "      <td>...</td>\n",
       "      <td>...</td>\n",
       "      <td>...</td>\n",
       "      <td>...</td>\n",
       "      <td>...</td>\n",
       "      <td>...</td>\n",
       "      <td>...</td>\n",
       "      <td>...</td>\n",
       "      <td>...</td>\n",
       "      <td>...</td>\n",
       "      <td>...</td>\n",
       "      <td>...</td>\n",
       "      <td>...</td>\n",
       "      <td>...</td>\n",
       "    </tr>\n",
       "    <tr>\n",
       "      <th>chr7-6903472-6903796-ENSMUSG00000108113</th>\n",
       "      <td>NaN</td>\n",
       "      <td>NaN</td>\n",
       "      <td>NaN</td>\n",
       "      <td>NaN</td>\n",
       "      <td>NaN</td>\n",
       "      <td>NaN</td>\n",
       "      <td>0.912230</td>\n",
       "      <td>32.0</td>\n",
       "      <td>0.021937</td>\n",
       "      <td>chr7</td>\n",
       "      <td>6903472</td>\n",
       "      <td>6903796</td>\n",
       "      <td>ENSMUSG00000108113</td>\n",
       "      <td>Zim2</td>\n",
       "      <td>6651748</td>\n",
       "      <td>6662368</td>\n",
       "    </tr>\n",
       "    <tr>\n",
       "      <th>chrX-42399128-42399257-ENSMUSG00000105993</th>\n",
       "      <td>NaN</td>\n",
       "      <td>NaN</td>\n",
       "      <td>NaN</td>\n",
       "      <td>NaN</td>\n",
       "      <td>NaN</td>\n",
       "      <td>NaN</td>\n",
       "      <td>0.799740</td>\n",
       "      <td>22.0</td>\n",
       "      <td>0.020807</td>\n",
       "      <td>chrX</td>\n",
       "      <td>42399128</td>\n",
       "      <td>42399257</td>\n",
       "      <td>ENSMUSG00000105993</td>\n",
       "      <td>Tex13c2</td>\n",
       "      <td>42489691</td>\n",
       "      <td>42491524</td>\n",
       "    </tr>\n",
       "    <tr>\n",
       "      <th>chrX-100530005-100530277-ENSMUSG00000044359</th>\n",
       "      <td>NaN</td>\n",
       "      <td>NaN</td>\n",
       "      <td>NaN</td>\n",
       "      <td>NaN</td>\n",
       "      <td>NaN</td>\n",
       "      <td>NaN</td>\n",
       "      <td>0.567922</td>\n",
       "      <td>66.0</td>\n",
       "      <td>0.025216</td>\n",
       "      <td>chrX</td>\n",
       "      <td>100530005</td>\n",
       "      <td>100530277</td>\n",
       "      <td>ENSMUSG00000044359</td>\n",
       "      <td>P2ry4</td>\n",
       "      <td>100590154</td>\n",
       "      <td>100594869</td>\n",
       "    </tr>\n",
       "    <tr>\n",
       "      <th>chrX-100531982-100532386-ENSMUSG00000044359</th>\n",
       "      <td>NaN</td>\n",
       "      <td>NaN</td>\n",
       "      <td>NaN</td>\n",
       "      <td>NaN</td>\n",
       "      <td>NaN</td>\n",
       "      <td>NaN</td>\n",
       "      <td>0.535110</td>\n",
       "      <td>66.0</td>\n",
       "      <td>0.023759</td>\n",
       "      <td>chrX</td>\n",
       "      <td>100531982</td>\n",
       "      <td>100532386</td>\n",
       "      <td>ENSMUSG00000044359</td>\n",
       "      <td>P2ry4</td>\n",
       "      <td>100590154</td>\n",
       "      <td>100594869</td>\n",
       "    </tr>\n",
       "    <tr>\n",
       "      <th>chrX-100573165-100573225-ENSMUSG00000044359</th>\n",
       "      <td>NaN</td>\n",
       "      <td>NaN</td>\n",
       "      <td>NaN</td>\n",
       "      <td>NaN</td>\n",
       "      <td>NaN</td>\n",
       "      <td>NaN</td>\n",
       "      <td>0.405135</td>\n",
       "      <td>85.0</td>\n",
       "      <td>0.023167</td>\n",
       "      <td>chrX</td>\n",
       "      <td>100573165</td>\n",
       "      <td>100573225</td>\n",
       "      <td>ENSMUSG00000044359</td>\n",
       "      <td>P2ry4</td>\n",
       "      <td>100590154</td>\n",
       "      <td>100594869</td>\n",
       "    </tr>\n",
       "  </tbody>\n",
       "</table>\n",
       "<p>118245 rows × 16 columns</p>\n",
       "</div>"
      ],
      "text/plain": [
       "                                             2mo.activity  2mo.contact  \\\n",
       "chr1-3681290-3681410-ENSMUSG00000051951          0.807107         65.0   \n",
       "chr1-3703215-3703791-ENSMUSG00000051951          0.637767         33.0   \n",
       "chr1-3524163-3524482-ENSMUSG00000089699          0.676796         35.0   \n",
       "chr1-3540806-3540973-ENSMUSG00000089699          0.736671         36.0   \n",
       "chr1-3668112-3668782-ENSMUSG00000089699          0.846691         22.0   \n",
       "...                                                   ...          ...   \n",
       "chr7-6903472-6903796-ENSMUSG00000108113               NaN          NaN   \n",
       "chrX-42399128-42399257-ENSMUSG00000105993             NaN          NaN   \n",
       "chrX-100530005-100530277-ENSMUSG00000044359           NaN          NaN   \n",
       "chrX-100531982-100532386-ENSMUSG00000044359           NaN          NaN   \n",
       "chrX-100573165-100573225-ENSMUSG00000044359           NaN          NaN   \n",
       "\n",
       "                                             2mo.abc_score  9mo.activity  \\\n",
       "chr1-3681290-3681410-ENSMUSG00000051951           0.069262      0.775056   \n",
       "chr1-3703215-3703791-ENSMUSG00000051951           0.027786      0.615269   \n",
       "chr1-3524163-3524482-ENSMUSG00000089699           0.040300      0.706448   \n",
       "chr1-3540806-3540973-ENSMUSG00000089699           0.045118      0.705843   \n",
       "chr1-3668112-3668782-ENSMUSG00000089699           0.031690           NaN   \n",
       "...                                                    ...           ...   \n",
       "chr7-6903472-6903796-ENSMUSG00000108113                NaN           NaN   \n",
       "chrX-42399128-42399257-ENSMUSG00000105993              NaN           NaN   \n",
       "chrX-100530005-100530277-ENSMUSG00000044359            NaN           NaN   \n",
       "chrX-100531982-100532386-ENSMUSG00000044359            NaN           NaN   \n",
       "chrX-100573165-100573225-ENSMUSG00000044359            NaN           NaN   \n",
       "\n",
       "                                             9mo.contact  9mo.abc_score  \\\n",
       "chr1-3681290-3681410-ENSMUSG00000051951             51.0       0.055937   \n",
       "chr1-3703215-3703791-ENSMUSG00000051951             31.0       0.026991   \n",
       "chr1-3524163-3524482-ENSMUSG00000089699             57.0       0.065909   \n",
       "chr1-3540806-3540973-ENSMUSG00000089699             43.0       0.049678   \n",
       "chr1-3668112-3668782-ENSMUSG00000089699              NaN            NaN   \n",
       "...                                                  ...            ...   \n",
       "chr7-6903472-6903796-ENSMUSG00000108113              NaN            NaN   \n",
       "chrX-42399128-42399257-ENSMUSG00000105993            NaN            NaN   \n",
       "chrX-100530005-100530277-ENSMUSG00000044359          NaN            NaN   \n",
       "chrX-100531982-100532386-ENSMUSG00000044359          NaN            NaN   \n",
       "chrX-100573165-100573225-ENSMUSG00000044359          NaN            NaN   \n",
       "\n",
       "                                             18mo.activity  18mo.contact  \\\n",
       "chr1-3681290-3681410-ENSMUSG00000051951           0.831209         109.0   \n",
       "chr1-3703215-3703791-ENSMUSG00000051951           0.598799          35.0   \n",
       "chr1-3524163-3524482-ENSMUSG00000089699           0.658778          88.0   \n",
       "chr1-3540806-3540973-ENSMUSG00000089699           0.720259          63.0   \n",
       "chr1-3668112-3668782-ENSMUSG00000089699                NaN           NaN   \n",
       "...                                                    ...           ...   \n",
       "chr7-6903472-6903796-ENSMUSG00000108113           0.912230          32.0   \n",
       "chrX-42399128-42399257-ENSMUSG00000105993         0.799740          22.0   \n",
       "chrX-100530005-100530277-ENSMUSG00000044359       0.567922          66.0   \n",
       "chrX-100531982-100532386-ENSMUSG00000044359       0.535110          66.0   \n",
       "chrX-100573165-100573225-ENSMUSG00000044359       0.405135          85.0   \n",
       "\n",
       "                                             18mo.abc_score   chr      start  \\\n",
       "chr1-3681290-3681410-ENSMUSG00000051951            0.088025  chr1    3681290   \n",
       "chr1-3703215-3703791-ENSMUSG00000051951            0.020362  chr1    3703215   \n",
       "chr1-3524163-3524482-ENSMUSG00000089699            0.074832  chr1    3524163   \n",
       "chr1-3540806-3540973-ENSMUSG00000089699            0.058573  chr1    3540806   \n",
       "chr1-3668112-3668782-ENSMUSG00000089699                 NaN  chr1    3668112   \n",
       "...                                                     ...   ...        ...   \n",
       "chr7-6903472-6903796-ENSMUSG00000108113            0.021937  chr7    6903472   \n",
       "chrX-42399128-42399257-ENSMUSG00000105993          0.020807  chrX   42399128   \n",
       "chrX-100530005-100530277-ENSMUSG00000044359        0.025216  chrX  100530005   \n",
       "chrX-100531982-100532386-ENSMUSG00000044359        0.023759  chrX  100531982   \n",
       "chrX-100573165-100573225-ENSMUSG00000044359        0.023167  chrX  100573165   \n",
       "\n",
       "                                                   end             gene_id  \\\n",
       "chr1-3681290-3681410-ENSMUSG00000051951        3681410  ENSMUSG00000051951   \n",
       "chr1-3703215-3703791-ENSMUSG00000051951        3703791  ENSMUSG00000051951   \n",
       "chr1-3524163-3524482-ENSMUSG00000089699        3524482  ENSMUSG00000089699   \n",
       "chr1-3540806-3540973-ENSMUSG00000089699        3540973  ENSMUSG00000089699   \n",
       "chr1-3668112-3668782-ENSMUSG00000089699        3668782  ENSMUSG00000089699   \n",
       "...                                                ...                 ...   \n",
       "chr7-6903472-6903796-ENSMUSG00000108113        6903796  ENSMUSG00000108113   \n",
       "chrX-42399128-42399257-ENSMUSG00000105993     42399257  ENSMUSG00000105993   \n",
       "chrX-100530005-100530277-ENSMUSG00000044359  100530277  ENSMUSG00000044359   \n",
       "chrX-100531982-100532386-ENSMUSG00000044359  100532386  ENSMUSG00000044359   \n",
       "chrX-100573165-100573225-ENSMUSG00000044359  100573225  ENSMUSG00000044359   \n",
       "\n",
       "                                            gene_name  gene_start   gene_end  \n",
       "chr1-3681290-3681410-ENSMUSG00000051951          Xkr4     3205901    3671498  \n",
       "chr1-3703215-3703791-ENSMUSG00000051951          Xkr4     3205901    3671498  \n",
       "chr1-3524163-3524482-ENSMUSG00000089699        Gm1992     3466587    3513553  \n",
       "chr1-3540806-3540973-ENSMUSG00000089699        Gm1992     3466587    3513553  \n",
       "chr1-3668112-3668782-ENSMUSG00000089699        Gm1992     3466587    3513553  \n",
       "...                                               ...         ...        ...  \n",
       "chr7-6903472-6903796-ENSMUSG00000108113          Zim2     6651748    6662368  \n",
       "chrX-42399128-42399257-ENSMUSG00000105993     Tex13c2    42489691   42491524  \n",
       "chrX-100530005-100530277-ENSMUSG00000044359     P2ry4   100590154  100594869  \n",
       "chrX-100531982-100532386-ENSMUSG00000044359     P2ry4   100590154  100594869  \n",
       "chrX-100573165-100573225-ENSMUSG00000044359     P2ry4   100590154  100594869  \n",
       "\n",
       "[118245 rows x 16 columns]"
      ]
     },
     "execution_count": 17,
     "metadata": {},
     "output_type": "execute_result"
    }
   ],
   "source": [
    "abc_df['chr'] = abc_df.index.map(lambda x: x.split('-')[0])\n",
    "abc_df['start'] = abc_df.index.map(lambda x: int(x.split('-')[1]))\n",
    "abc_df['end'] = abc_df.index.map(lambda x: int(x.split('-')[2]))\n",
    "abc_df['gene_id'] = abc_df.index.map(lambda x: x.split('-')[3])\n",
    "abc_df['gene_name'] = abc_df['gene_id'].map(lambda x: mouse_genes.loc[x,'gene_name'])\n",
    "\n",
    "abc_df['gene_start'] = abc_df['gene_id'].map(lambda x: mouse_genes.loc[x,'start'])\n",
    "abc_df['gene_end'] = abc_df['gene_id'].map(lambda x: mouse_genes.loc[x,'end'])\n",
    "#abc_df['gene_length'] = abc_df['gene_end'] - abc_df['gene_start']\n",
    "#abc_df['contact_distance'] = abs(abc_df['end'] - abc_df['start'])\n",
    "# add eg_distance, based on the start is more close to gene_start ot gene_end; use the smaller absolute value\n",
    "#abc_df['eg_distance'] = np.minimum(abs(abc_df['start'] - abc_df['gene_start']), abs(abc_df['start'] - abc_df['gene_end']))\n",
    "#abc_df drop chr, start, end, gene_start, gene_end\n",
    "#abc_df = abc_df.drop(columns=['chr','start','end','gene_start','gene_end'])\n",
    "abc_df\n"
   ]
  },
  {
   "cell_type": "code",
   "execution_count": 18,
   "id": "99463f9b",
   "metadata": {
    "execution": {
     "iopub.execute_input": "2024-12-08T03:35:19.765790Z",
     "iopub.status.busy": "2024-12-08T03:35:19.765614Z",
     "iopub.status.idle": "2024-12-08T03:35:20.580100Z",
     "shell.execute_reply": "2024-12-08T03:35:20.579448Z"
    },
    "papermill": {
     "duration": 0.820215,
     "end_time": "2024-12-08T03:35:20.581630",
     "exception": false,
     "start_time": "2024-12-08T03:35:19.761415",
     "status": "completed"
    },
    "tags": []
   },
   "outputs": [],
   "source": [
    "abc_df.to_csv(f'{home_dir}/ml_input/{ct}/{ct}.abc_enhancer.DMR_gene.csv', index=None)"
   ]
  },
  {
   "cell_type": "code",
   "execution_count": null,
   "id": "f2ed78e7",
   "metadata": {
    "papermill": {
     "duration": 0.003434,
     "end_time": "2024-12-08T03:35:20.588898",
     "exception": false,
     "start_time": "2024-12-08T03:35:20.585464",
     "status": "completed"
    },
    "tags": []
   },
   "outputs": [],
   "source": []
  },
  {
   "cell_type": "code",
   "execution_count": null,
   "id": "9da86de0",
   "metadata": {
    "papermill": {
     "duration": 0.003398,
     "end_time": "2024-12-08T03:35:20.595659",
     "exception": false,
     "start_time": "2024-12-08T03:35:20.592261",
     "status": "completed"
    },
    "tags": []
   },
   "outputs": [],
   "source": []
  }
 ],
 "metadata": {
  "kernelspec": {
   "display_name": "base",
   "language": "python",
   "name": "python3"
  },
  "language_info": {
   "codemirror_mode": {
    "name": "ipython",
    "version": 3
   },
   "file_extension": ".py",
   "mimetype": "text/x-python",
   "name": "python",
   "nbconvert_exporter": "python",
   "pygments_lexer": "ipython3",
   "version": "3.10.12"
  },
  "papermill": {
   "default_parameters": {},
   "duration": 5.798957,
   "end_time": "2024-12-08T03:35:20.814589",
   "environment_variables": {},
   "exception": null,
   "input_path": "/home/qzeng_salk_edu/project/241018_pre_ml/gen_ml_input/notebooks/01.pre_dmr.ipynb",
   "output_path": "DG_Glut/01.pre_dmr.ipynb",
   "parameters": {
    "cpu": 8,
    "group_name": "DG_Glut",
    "mem_gb": 10
   },
   "start_time": "2024-12-08T03:35:15.015632",
   "version": "2.4.0"
  }
 },
 "nbformat": 4,
 "nbformat_minor": 5
}