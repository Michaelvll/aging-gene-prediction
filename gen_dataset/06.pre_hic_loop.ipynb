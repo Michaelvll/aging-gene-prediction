{
 "cells": [
  {
   "cell_type": "code",
   "execution_count": 1,
   "id": "30b180b2",
   "metadata": {
    "execution": {
     "iopub.execute_input": "2024-12-08T03:37:39.514554Z",
     "iopub.status.busy": "2024-12-08T03:37:39.514336Z",
     "iopub.status.idle": "2024-12-08T03:37:39.519698Z",
     "shell.execute_reply": "2024-12-08T03:37:39.519242Z"
    },
    "papermill": {
     "duration": 0.010275,
     "end_time": "2024-12-08T03:37:39.520755",
     "exception": false,
     "start_time": "2024-12-08T03:37:39.510480",
     "status": "completed"
    },
    "tags": [
     "injected-parameters"
    ]
   },
   "outputs": [],
   "source": [
    "# Parameters\n",
    "cpu = 8\n",
    "group_name = \"DG_Glut\"\n",
    "mem_gb = 10\n"
   ]
  },
  {
   "cell_type": "code",
   "execution_count": 2,
   "id": "0bad5012",
   "metadata": {
    "execution": {
     "iopub.execute_input": "2024-12-08T03:37:39.526067Z",
     "iopub.status.busy": "2024-12-08T03:37:39.525868Z",
     "iopub.status.idle": "2024-12-08T03:37:40.308466Z",
     "shell.execute_reply": "2024-12-08T03:37:40.307788Z"
    },
    "papermill": {
     "duration": 0.786955,
     "end_time": "2024-12-08T03:37:40.310061",
     "exception": false,
     "start_time": "2024-12-08T03:37:39.523106",
     "status": "completed"
    },
    "tags": []
   },
   "outputs": [],
   "source": [
    "import pandas as pd\n",
    "from scipy.stats import norm, zscore\n",
    "import numpy as np\n",
    "import seaborn as sns\n",
    "import subprocess\n",
    "import matplotlib.pyplot as plt "
   ]
  },
  {
   "cell_type": "code",
   "execution_count": 3,
   "id": "7c3fb055",
   "metadata": {
    "execution": {
     "iopub.execute_input": "2024-12-08T03:37:40.316400Z",
     "iopub.status.busy": "2024-12-08T03:37:40.315733Z",
     "iopub.status.idle": "2024-12-08T03:37:40.318624Z",
     "shell.execute_reply": "2024-12-08T03:37:40.318125Z"
    },
    "papermill": {
     "duration": 0.007024,
     "end_time": "2024-12-08T03:37:40.319680",
     "exception": false,
     "start_time": "2024-12-08T03:37:40.312656",
     "status": "completed"
    },
    "tags": []
   },
   "outputs": [],
   "source": [
    "#group_name = 'DG_Glut'"
   ]
  },
  {
   "cell_type": "code",
   "execution_count": 4,
   "id": "7d34a02b",
   "metadata": {
    "execution": {
     "iopub.execute_input": "2024-12-08T03:37:40.324800Z",
     "iopub.status.busy": "2024-12-08T03:37:40.324635Z",
     "iopub.status.idle": "2024-12-08T03:37:40.327299Z",
     "shell.execute_reply": "2024-12-08T03:37:40.326767Z"
    },
    "papermill": {
     "duration": 0.006467,
     "end_time": "2024-12-08T03:37:40.328331",
     "exception": false,
     "start_time": "2024-12-08T03:37:40.321864",
     "status": "completed"
    },
    "tags": []
   },
   "outputs": [],
   "source": [
    "home_dir = '/home/qzeng_salk_edu/project/241018_pre_ml'\n",
    "ct = group_name"
   ]
  },
  {
   "cell_type": "code",
   "execution_count": 5,
   "id": "9a6148fb",
   "metadata": {
    "execution": {
     "iopub.execute_input": "2024-12-08T03:37:40.333477Z",
     "iopub.status.busy": "2024-12-08T03:37:40.333313Z",
     "iopub.status.idle": "2024-12-08T03:37:40.335678Z",
     "shell.execute_reply": "2024-12-08T03:37:40.335246Z"
    },
    "papermill": {
     "duration": 0.006118,
     "end_time": "2024-12-08T03:37:40.336698",
     "exception": false,
     "start_time": "2024-12-08T03:37:40.330580",
     "status": "completed"
    },
    "tags": []
   },
   "outputs": [],
   "source": [
    "loop_dir = '/data/female-amb/Diff.Result/loop_ct_age/diff'"
   ]
  },
  {
   "cell_type": "code",
   "execution_count": 6,
   "id": "27e0896f",
   "metadata": {
    "execution": {
     "iopub.execute_input": "2024-12-08T03:37:40.341882Z",
     "iopub.status.busy": "2024-12-08T03:37:40.341715Z",
     "iopub.status.idle": "2024-12-08T03:37:41.063773Z",
     "shell.execute_reply": "2024-12-08T03:37:41.063203Z"
    },
    "papermill": {
     "duration": 0.726343,
     "end_time": "2024-12-08T03:37:41.065273",
     "exception": false,
     "start_time": "2024-12-08T03:37:40.338930",
     "status": "completed"
    },
    "tags": []
   },
   "outputs": [],
   "source": [
    "loopq = pd.read_hdf(f'{loop_dir}/{ct}/loop_Q.hdf', key='data')\n",
    "loopt = pd.read_hdf(f'{loop_dir}/{ct}/loop_T.hdf', key='data')\n",
    "\n",
    "loopq.columns = [f\"{ct}.2mo.Q\", f\"{ct}.9mo.Q\", f\"{ct}.18mo.Q\"]\n",
    "loopt.columns = [f\"{ct}.2mo.T\", f\"{ct}.9mo.T\", f\"{ct}.18mo.T\"]"
   ]
  },
  {
   "cell_type": "code",
   "execution_count": 7,
   "id": "5efbdf2e",
   "metadata": {
    "execution": {
     "iopub.execute_input": "2024-12-08T03:37:41.071450Z",
     "iopub.status.busy": "2024-12-08T03:37:41.071273Z",
     "iopub.status.idle": "2024-12-08T03:37:43.704536Z",
     "shell.execute_reply": "2024-12-08T03:37:43.703811Z"
    },
    "papermill": {
     "duration": 2.637499,
     "end_time": "2024-12-08T03:37:43.705749",
     "exception": false,
     "start_time": "2024-12-08T03:37:41.068250",
     "status": "completed"
    },
    "tags": []
   },
   "outputs": [
    {
     "data": {
      "text/html": [
       "<div>\n",
       "<style scoped>\n",
       "    .dataframe tbody tr th:only-of-type {\n",
       "        vertical-align: middle;\n",
       "    }\n",
       "\n",
       "    .dataframe tbody tr th {\n",
       "        vertical-align: top;\n",
       "    }\n",
       "\n",
       "    .dataframe thead th {\n",
       "        text-align: right;\n",
       "    }\n",
       "</style>\n",
       "<table border=\"1\" class=\"dataframe\">\n",
       "  <thead>\n",
       "    <tr style=\"text-align: right;\">\n",
       "      <th></th>\n",
       "      <th>0</th>\n",
       "      <th>1</th>\n",
       "      <th>2</th>\n",
       "      <th>3</th>\n",
       "      <th>4</th>\n",
       "      <th>5</th>\n",
       "      <th>Qanova</th>\n",
       "      <th>Eanova</th>\n",
       "      <th>Tanova</th>\n",
       "      <th>DG_Glut.2mo.Q</th>\n",
       "      <th>DG_Glut.9mo.Q</th>\n",
       "      <th>DG_Glut.18mo.Q</th>\n",
       "      <th>DG_Glut.2mo.T</th>\n",
       "      <th>DG_Glut.9mo.T</th>\n",
       "      <th>DG_Glut.18mo.T</th>\n",
       "    </tr>\n",
       "  </thead>\n",
       "  <tbody>\n",
       "    <tr>\n",
       "      <th>0</th>\n",
       "      <td>chr1</td>\n",
       "      <td>3080000</td>\n",
       "      <td>3090000</td>\n",
       "      <td>chr1</td>\n",
       "      <td>3660000</td>\n",
       "      <td>3670000</td>\n",
       "      <td>4.272670</td>\n",
       "      <td>22.574261</td>\n",
       "      <td>2.617610</td>\n",
       "      <td>0.002639</td>\n",
       "      <td>0.001774</td>\n",
       "      <td>0.002675</td>\n",
       "      <td>0.122697</td>\n",
       "      <td>0.037139</td>\n",
       "      <td>0.106146</td>\n",
       "    </tr>\n",
       "    <tr>\n",
       "      <th>1</th>\n",
       "      <td>chr1</td>\n",
       "      <td>3080000</td>\n",
       "      <td>3090000</td>\n",
       "      <td>chr1</td>\n",
       "      <td>3670000</td>\n",
       "      <td>3680000</td>\n",
       "      <td>4.306555</td>\n",
       "      <td>22.650797</td>\n",
       "      <td>2.116224</td>\n",
       "      <td>0.002834</td>\n",
       "      <td>0.001820</td>\n",
       "      <td>0.002545</td>\n",
       "      <td>0.122018</td>\n",
       "      <td>0.048540</td>\n",
       "      <td>0.117363</td>\n",
       "    </tr>\n",
       "    <tr>\n",
       "      <th>2</th>\n",
       "      <td>chr1</td>\n",
       "      <td>3080000</td>\n",
       "      <td>3090000</td>\n",
       "      <td>chr1</td>\n",
       "      <td>4130000</td>\n",
       "      <td>4140000</td>\n",
       "      <td>2.975958</td>\n",
       "      <td>14.647219</td>\n",
       "      <td>2.281174</td>\n",
       "      <td>0.002234</td>\n",
       "      <td>0.002000</td>\n",
       "      <td>0.002914</td>\n",
       "      <td>0.147600</td>\n",
       "      <td>0.061390</td>\n",
       "      <td>0.086619</td>\n",
       "    </tr>\n",
       "    <tr>\n",
       "      <th>3</th>\n",
       "      <td>chr1</td>\n",
       "      <td>3090000</td>\n",
       "      <td>3100000</td>\n",
       "      <td>chr1</td>\n",
       "      <td>3650000</td>\n",
       "      <td>3660000</td>\n",
       "      <td>3.583169</td>\n",
       "      <td>31.817041</td>\n",
       "      <td>5.230794</td>\n",
       "      <td>0.002580</td>\n",
       "      <td>0.001863</td>\n",
       "      <td>0.002793</td>\n",
       "      <td>0.101614</td>\n",
       "      <td>0.016242</td>\n",
       "      <td>0.138994</td>\n",
       "    </tr>\n",
       "    <tr>\n",
       "      <th>4</th>\n",
       "      <td>chr1</td>\n",
       "      <td>3090000</td>\n",
       "      <td>3100000</td>\n",
       "      <td>chr1</td>\n",
       "      <td>3660000</td>\n",
       "      <td>3670000</td>\n",
       "      <td>2.078557</td>\n",
       "      <td>30.985931</td>\n",
       "      <td>3.964074</td>\n",
       "      <td>0.002834</td>\n",
       "      <td>0.002098</td>\n",
       "      <td>0.002659</td>\n",
       "      <td>0.127612</td>\n",
       "      <td>0.064369</td>\n",
       "      <td>0.175700</td>\n",
       "    </tr>\n",
       "  </tbody>\n",
       "</table>\n",
       "</div>"
      ],
      "text/plain": [
       "      0        1        2     3        4        5    Qanova     Eanova  \\\n",
       "0  chr1  3080000  3090000  chr1  3660000  3670000  4.272670  22.574261   \n",
       "1  chr1  3080000  3090000  chr1  3670000  3680000  4.306555  22.650797   \n",
       "2  chr1  3080000  3090000  chr1  4130000  4140000  2.975958  14.647219   \n",
       "3  chr1  3090000  3100000  chr1  3650000  3660000  3.583169  31.817041   \n",
       "4  chr1  3090000  3100000  chr1  3660000  3670000  2.078557  30.985931   \n",
       "\n",
       "     Tanova  DG_Glut.2mo.Q  DG_Glut.9mo.Q  DG_Glut.18mo.Q  DG_Glut.2mo.T  \\\n",
       "0  2.617610       0.002639       0.001774        0.002675       0.122697   \n",
       "1  2.116224       0.002834       0.001820        0.002545       0.122018   \n",
       "2  2.281174       0.002234       0.002000        0.002914       0.147600   \n",
       "3  5.230794       0.002580       0.001863        0.002793       0.101614   \n",
       "4  3.964074       0.002834       0.002098        0.002659       0.127612   \n",
       "\n",
       "   DG_Glut.9mo.T  DG_Glut.18mo.T  \n",
       "0       0.037139        0.106146  \n",
       "1       0.048540        0.117363  \n",
       "2       0.061390        0.086619  \n",
       "3       0.016242        0.138994  \n",
       "4       0.064369        0.175700  "
      ]
     },
     "execution_count": 7,
     "metadata": {},
     "output_type": "execute_result"
    }
   ],
   "source": [
    "loopall = pd.read_hdf(f\"{loop_dir}/{ct}/merged_loop.hdf\")\n",
    "loopall = pd.concat([loopall, loopq, loopt], axis = 1)\n",
    "loopall.head()"
   ]
  },
  {
   "cell_type": "code",
   "execution_count": 8,
   "id": "20537988",
   "metadata": {
    "execution": {
     "iopub.execute_input": "2024-12-08T03:37:43.712318Z",
     "iopub.status.busy": "2024-12-08T03:37:43.712089Z",
     "iopub.status.idle": "2024-12-08T03:37:43.726411Z",
     "shell.execute_reply": "2024-12-08T03:37:43.725844Z"
    },
    "papermill": {
     "duration": 0.018894,
     "end_time": "2024-12-08T03:37:43.727517",
     "exception": false,
     "start_time": "2024-12-08T03:37:43.708623",
     "status": "completed"
    },
    "tags": []
   },
   "outputs": [
    {
     "data": {
      "text/plain": [
       "60145"
      ]
     },
     "execution_count": 8,
     "metadata": {},
     "output_type": "execute_result"
    }
   ],
   "source": [
    "sell = ((zscore(np.log(loopall['Qanova']))>norm.isf(0.2)) & \n",
    "        (zscore(np.log(loopall['Tanova']))>norm.isf(0.2)) )\n",
    "sell.sum()"
   ]
  },
  {
   "cell_type": "code",
   "execution_count": 9,
   "id": "db98b011",
   "metadata": {
    "execution": {
     "iopub.execute_input": "2024-12-08T03:37:43.733577Z",
     "iopub.status.busy": "2024-12-08T03:37:43.733395Z",
     "iopub.status.idle": "2024-12-08T03:37:49.098857Z",
     "shell.execute_reply": "2024-12-08T03:37:49.098173Z"
    },
    "papermill": {
     "duration": 5.370385,
     "end_time": "2024-12-08T03:37:49.100435",
     "exception": false,
     "start_time": "2024-12-08T03:37:43.730050",
     "status": "completed"
    },
    "tags": []
   },
   "outputs": [],
   "source": [
    "loopall['Diff_Loop'] = 0\n",
    "loopall.loc[sell, 'Diff_Loop'] = 1\n",
    "loopall.to_csv(f\"{ct}.anchor1_loop.bed\", sep = '\\t', header = False, index = False)"
   ]
  },
  {
   "cell_type": "code",
   "execution_count": 10,
   "id": "d43ab3db",
   "metadata": {
    "execution": {
     "iopub.execute_input": "2024-12-08T03:37:49.107222Z",
     "iopub.status.busy": "2024-12-08T03:37:49.107001Z",
     "iopub.status.idle": "2024-12-08T03:37:54.530931Z",
     "shell.execute_reply": "2024-12-08T03:37:54.530213Z"
    },
    "papermill": {
     "duration": 5.429105,
     "end_time": "2024-12-08T03:37:54.532580",
     "exception": false,
     "start_time": "2024-12-08T03:37:49.103475",
     "status": "completed"
    },
    "tags": []
   },
   "outputs": [],
   "source": [
    "# move columns 3 4 5 in to the first three\n",
    "cols = loopall.columns.tolist()\n",
    "cols = cols[3:6] + cols[:3] + cols[6:] \n",
    "loopall = loopall[cols]\n",
    "loopall.to_csv(f\"{ct}.anchor2_loop.bed\", sep = '\\t', header = False, index = False)"
   ]
  },
  {
   "cell_type": "code",
   "execution_count": 11,
   "id": "37c22dd8",
   "metadata": {
    "execution": {
     "iopub.execute_input": "2024-12-08T03:37:54.540337Z",
     "iopub.status.busy": "2024-12-08T03:37:54.540062Z",
     "iopub.status.idle": "2024-12-08T03:37:57.237917Z",
     "shell.execute_reply": "2024-12-08T03:37:57.237304Z"
    },
    "papermill": {
     "duration": 2.703582,
     "end_time": "2024-12-08T03:37:57.239192",
     "exception": false,
     "start_time": "2024-12-08T03:37:54.535610",
     "status": "completed"
    },
    "tags": []
   },
   "outputs": [
    {
     "data": {
      "text/plain": [
       "CompletedProcess(args='bedtools intersect -a DG_Glut.anchor2_loop.bed -b /home/qzeng_salk_edu/project/241018_pre_ml/mm10_gene_2kb.bed -wa -wb > DG_Glut.anchor2_loop_gene.bed', returncode=0)"
      ]
     },
     "execution_count": 11,
     "metadata": {},
     "output_type": "execute_result"
    }
   ],
   "source": [
    "# so diff loop as two anchors, so two chro:start-end region, i want to get the intersection with another bed file as long as it intersect with eithe ranhocr\n",
    "command = f\"bedtools intersect -a {ct}.anchor1_loop.bed -b {home_dir}/mm10_gene_2kb.bed -wa -wb > {ct}.anchor1_loop_gene.bed\"\n",
    "subprocess.run(command, shell=True)\n",
    "\n",
    "command = f\"bedtools intersect -a {ct}.anchor2_loop.bed -b {home_dir}/mm10_gene_2kb.bed -wa -wb > {ct}.anchor2_loop_gene.bed\"\n",
    "subprocess.run(command, shell=True)"
   ]
  },
  {
   "cell_type": "code",
   "execution_count": 12,
   "id": "d724e81b",
   "metadata": {
    "execution": {
     "iopub.execute_input": "2024-12-08T03:37:57.246071Z",
     "iopub.status.busy": "2024-12-08T03:37:57.245679Z",
     "iopub.status.idle": "2024-12-08T03:37:57.274367Z",
     "shell.execute_reply": "2024-12-08T03:37:57.273836Z"
    },
    "papermill": {
     "duration": 0.033501,
     "end_time": "2024-12-08T03:37:57.275655",
     "exception": false,
     "start_time": "2024-12-08T03:37:57.242154",
     "status": "completed"
    },
    "tags": []
   },
   "outputs": [
    {
     "data": {
      "text/plain": [
       "CompletedProcess(args='rm DG_Glut.anchor2_loop.bed', returncode=0)"
      ]
     },
     "execution_count": 12,
     "metadata": {},
     "output_type": "execute_result"
    }
   ],
   "source": [
    "subprocess.run(f\"rm {ct}.anchor1_loop.bed\", shell=True)\n",
    "subprocess.run(f\"rm {ct}.anchor2_loop.bed\", shell=True)"
   ]
  },
  {
   "cell_type": "code",
   "execution_count": 13,
   "id": "8131c566",
   "metadata": {
    "execution": {
     "iopub.execute_input": "2024-12-08T03:37:57.282786Z",
     "iopub.status.busy": "2024-12-08T03:37:57.282452Z",
     "iopub.status.idle": "2024-12-08T03:37:59.096127Z",
     "shell.execute_reply": "2024-12-08T03:37:59.095391Z"
    },
    "papermill": {
     "duration": 1.818825,
     "end_time": "2024-12-08T03:37:59.097709",
     "exception": false,
     "start_time": "2024-12-08T03:37:57.278884",
     "status": "completed"
    },
    "tags": []
   },
   "outputs": [],
   "source": [
    "# load the output files and concat\n",
    "anchor1 = pd.read_csv(f\"{ct}.anchor1_loop_gene.bed\", sep = '\\t', header = None)\n",
    "anchor2 = pd.read_csv(f\"{ct}.anchor2_loop_gene.bed\", sep = '\\t', header = None)\n",
    "# concat\n",
    "anchor = pd.concat([anchor1, anchor2], axis = 0)"
   ]
  },
  {
   "cell_type": "code",
   "execution_count": 14,
   "id": "fcdfa39a",
   "metadata": {
    "execution": {
     "iopub.execute_input": "2024-12-08T03:37:59.104903Z",
     "iopub.status.busy": "2024-12-08T03:37:59.104722Z",
     "iopub.status.idle": "2024-12-08T03:37:59.550010Z",
     "shell.execute_reply": "2024-12-08T03:37:59.549226Z"
    },
    "papermill": {
     "duration": 0.450391,
     "end_time": "2024-12-08T03:37:59.551448",
     "exception": false,
     "start_time": "2024-12-08T03:37:59.101057",
     "status": "completed"
    },
    "tags": []
   },
   "outputs": [
    {
     "data": {
      "text/html": [
       "<div>\n",
       "<style scoped>\n",
       "    .dataframe tbody tr th:only-of-type {\n",
       "        vertical-align: middle;\n",
       "    }\n",
       "\n",
       "    .dataframe tbody tr th {\n",
       "        vertical-align: top;\n",
       "    }\n",
       "\n",
       "    .dataframe thead th {\n",
       "        text-align: right;\n",
       "    }\n",
       "</style>\n",
       "<table border=\"1\" class=\"dataframe\">\n",
       "  <thead>\n",
       "    <tr style=\"text-align: right;\">\n",
       "      <th></th>\n",
       "      <th>chrom</th>\n",
       "      <th>anchor1_start</th>\n",
       "      <th>anchor1_end</th>\n",
       "      <th>chrom</th>\n",
       "      <th>anchor2_start</th>\n",
       "      <th>anchor2_end</th>\n",
       "      <th>Qanova</th>\n",
       "      <th>Eanova</th>\n",
       "      <th>Tanova</th>\n",
       "      <th>2mo.Q</th>\n",
       "      <th>...</th>\n",
       "      <th>9mo.T</th>\n",
       "      <th>18mo.T</th>\n",
       "      <th>Diff_Loop</th>\n",
       "      <th>gene_chrom</th>\n",
       "      <th>gene_start</th>\n",
       "      <th>gene_end</th>\n",
       "      <th>gene_id</th>\n",
       "      <th>strand</th>\n",
       "      <th>gene_name</th>\n",
       "      <th>gene_type</th>\n",
       "    </tr>\n",
       "  </thead>\n",
       "  <tbody>\n",
       "    <tr>\n",
       "      <th>0</th>\n",
       "      <td>chr1</td>\n",
       "      <td>3100000</td>\n",
       "      <td>3110000</td>\n",
       "      <td>chr1</td>\n",
       "      <td>3400000</td>\n",
       "      <td>3410000</td>\n",
       "      <td>0.635926</td>\n",
       "      <td>34.182580</td>\n",
       "      <td>2.416174</td>\n",
       "      <td>0.002807</td>\n",
       "      <td>...</td>\n",
       "      <td>0.044727</td>\n",
       "      <td>0.119007</td>\n",
       "      <td>0</td>\n",
       "      <td>chr1</td>\n",
       "      <td>3100016</td>\n",
       "      <td>3104125</td>\n",
       "      <td>ENSMUSG00000064842.1</td>\n",
       "      <td>+</td>\n",
       "      <td>Gm26206</td>\n",
       "      <td>snRNA</td>\n",
       "    </tr>\n",
       "    <tr>\n",
       "      <th>1</th>\n",
       "      <td>chr1</td>\n",
       "      <td>3100000</td>\n",
       "      <td>3110000</td>\n",
       "      <td>chr1</td>\n",
       "      <td>3420000</td>\n",
       "      <td>3430000</td>\n",
       "      <td>2.407307</td>\n",
       "      <td>27.711254</td>\n",
       "      <td>1.082402</td>\n",
       "      <td>0.003030</td>\n",
       "      <td>...</td>\n",
       "      <td>0.059812</td>\n",
       "      <td>0.111905</td>\n",
       "      <td>0</td>\n",
       "      <td>chr1</td>\n",
       "      <td>3100016</td>\n",
       "      <td>3104125</td>\n",
       "      <td>ENSMUSG00000064842.1</td>\n",
       "      <td>+</td>\n",
       "      <td>Gm26206</td>\n",
       "      <td>snRNA</td>\n",
       "    </tr>\n",
       "    <tr>\n",
       "      <th>2</th>\n",
       "      <td>chr1</td>\n",
       "      <td>3100000</td>\n",
       "      <td>3110000</td>\n",
       "      <td>chr1</td>\n",
       "      <td>3430000</td>\n",
       "      <td>3440000</td>\n",
       "      <td>3.186451</td>\n",
       "      <td>31.353325</td>\n",
       "      <td>2.305675</td>\n",
       "      <td>0.002938</td>\n",
       "      <td>...</td>\n",
       "      <td>0.051179</td>\n",
       "      <td>0.127769</td>\n",
       "      <td>0</td>\n",
       "      <td>chr1</td>\n",
       "      <td>3100016</td>\n",
       "      <td>3104125</td>\n",
       "      <td>ENSMUSG00000064842.1</td>\n",
       "      <td>+</td>\n",
       "      <td>Gm26206</td>\n",
       "      <td>snRNA</td>\n",
       "    </tr>\n",
       "    <tr>\n",
       "      <th>3</th>\n",
       "      <td>chr1</td>\n",
       "      <td>3100000</td>\n",
       "      <td>3110000</td>\n",
       "      <td>chr1</td>\n",
       "      <td>3440000</td>\n",
       "      <td>3450000</td>\n",
       "      <td>5.206938</td>\n",
       "      <td>29.662554</td>\n",
       "      <td>1.694190</td>\n",
       "      <td>0.002779</td>\n",
       "      <td>...</td>\n",
       "      <td>0.075505</td>\n",
       "      <td>0.144651</td>\n",
       "      <td>0</td>\n",
       "      <td>chr1</td>\n",
       "      <td>3100016</td>\n",
       "      <td>3104125</td>\n",
       "      <td>ENSMUSG00000064842.1</td>\n",
       "      <td>+</td>\n",
       "      <td>Gm26206</td>\n",
       "      <td>snRNA</td>\n",
       "    </tr>\n",
       "    <tr>\n",
       "      <th>4</th>\n",
       "      <td>chr1</td>\n",
       "      <td>3100000</td>\n",
       "      <td>3110000</td>\n",
       "      <td>chr1</td>\n",
       "      <td>3450000</td>\n",
       "      <td>3460000</td>\n",
       "      <td>3.630835</td>\n",
       "      <td>28.548758</td>\n",
       "      <td>0.993784</td>\n",
       "      <td>0.002604</td>\n",
       "      <td>...</td>\n",
       "      <td>0.102928</td>\n",
       "      <td>0.143655</td>\n",
       "      <td>0</td>\n",
       "      <td>chr1</td>\n",
       "      <td>3100016</td>\n",
       "      <td>3104125</td>\n",
       "      <td>ENSMUSG00000064842.1</td>\n",
       "      <td>+</td>\n",
       "      <td>Gm26206</td>\n",
       "      <td>snRNA</td>\n",
       "    </tr>\n",
       "    <tr>\n",
       "      <th>...</th>\n",
       "      <td>...</td>\n",
       "      <td>...</td>\n",
       "      <td>...</td>\n",
       "      <td>...</td>\n",
       "      <td>...</td>\n",
       "      <td>...</td>\n",
       "      <td>...</td>\n",
       "      <td>...</td>\n",
       "      <td>...</td>\n",
       "      <td>...</td>\n",
       "      <td>...</td>\n",
       "      <td>...</td>\n",
       "      <td>...</td>\n",
       "      <td>...</td>\n",
       "      <td>...</td>\n",
       "      <td>...</td>\n",
       "      <td>...</td>\n",
       "      <td>...</td>\n",
       "      <td>...</td>\n",
       "      <td>...</td>\n",
       "      <td>...</td>\n",
       "    </tr>\n",
       "    <tr>\n",
       "      <th>606505</th>\n",
       "      <td>chr19</td>\n",
       "      <td>60550000</td>\n",
       "      <td>60560000</td>\n",
       "      <td>chr19</td>\n",
       "      <td>60480000</td>\n",
       "      <td>60490000</td>\n",
       "      <td>3.364248</td>\n",
       "      <td>9.657704</td>\n",
       "      <td>1.076062</td>\n",
       "      <td>0.008261</td>\n",
       "      <td>...</td>\n",
       "      <td>0.050714</td>\n",
       "      <td>0.099452</td>\n",
       "      <td>0</td>\n",
       "      <td>chr19</td>\n",
       "      <td>60522696</td>\n",
       "      <td>60583023</td>\n",
       "      <td>ENSMUSG00000033417.11</td>\n",
       "      <td>-</td>\n",
       "      <td>Cacul1</td>\n",
       "      <td>protein_coding</td>\n",
       "    </tr>\n",
       "    <tr>\n",
       "      <th>606506</th>\n",
       "      <td>chr19</td>\n",
       "      <td>60750000</td>\n",
       "      <td>60760000</td>\n",
       "      <td>chr19</td>\n",
       "      <td>60580000</td>\n",
       "      <td>60590000</td>\n",
       "      <td>6.412291</td>\n",
       "      <td>22.808350</td>\n",
       "      <td>4.730181</td>\n",
       "      <td>0.006420</td>\n",
       "      <td>...</td>\n",
       "      <td>0.109658</td>\n",
       "      <td>0.220566</td>\n",
       "      <td>1</td>\n",
       "      <td>chr19</td>\n",
       "      <td>60753987</td>\n",
       "      <td>60761913</td>\n",
       "      <td>ENSMUSG00000072437.3</td>\n",
       "      <td>+</td>\n",
       "      <td>Nanos1</td>\n",
       "      <td>protein_coding</td>\n",
       "    </tr>\n",
       "    <tr>\n",
       "      <th>606507</th>\n",
       "      <td>chr19</td>\n",
       "      <td>60750000</td>\n",
       "      <td>60760000</td>\n",
       "      <td>chr19</td>\n",
       "      <td>60580000</td>\n",
       "      <td>60590000</td>\n",
       "      <td>6.412291</td>\n",
       "      <td>22.808350</td>\n",
       "      <td>4.730181</td>\n",
       "      <td>0.006420</td>\n",
       "      <td>...</td>\n",
       "      <td>0.109658</td>\n",
       "      <td>0.220566</td>\n",
       "      <td>1</td>\n",
       "      <td>chr19</td>\n",
       "      <td>60759116</td>\n",
       "      <td>60792693</td>\n",
       "      <td>ENSMUSG00000024991.7</td>\n",
       "      <td>-</td>\n",
       "      <td>Eif3a</td>\n",
       "      <td>protein_coding</td>\n",
       "    </tr>\n",
       "    <tr>\n",
       "      <th>606508</th>\n",
       "      <td>chr19</td>\n",
       "      <td>61070000</td>\n",
       "      <td>61080000</td>\n",
       "      <td>chr19</td>\n",
       "      <td>61010000</td>\n",
       "      <td>61020000</td>\n",
       "      <td>2.321018</td>\n",
       "      <td>7.665514</td>\n",
       "      <td>2.223011</td>\n",
       "      <td>0.010920</td>\n",
       "      <td>...</td>\n",
       "      <td>0.137818</td>\n",
       "      <td>0.151214</td>\n",
       "      <td>0</td>\n",
       "      <td>chr19</td>\n",
       "      <td>60887749</td>\n",
       "      <td>61094553</td>\n",
       "      <td>ENSMUSG00000003228.8</td>\n",
       "      <td>+</td>\n",
       "      <td>Grk5</td>\n",
       "      <td>protein_coding</td>\n",
       "    </tr>\n",
       "    <tr>\n",
       "      <th>606509</th>\n",
       "      <td>chr19</td>\n",
       "      <td>61070000</td>\n",
       "      <td>61080000</td>\n",
       "      <td>chr19</td>\n",
       "      <td>61010000</td>\n",
       "      <td>61020000</td>\n",
       "      <td>2.321018</td>\n",
       "      <td>7.665514</td>\n",
       "      <td>2.223011</td>\n",
       "      <td>0.010920</td>\n",
       "      <td>...</td>\n",
       "      <td>0.137818</td>\n",
       "      <td>0.151214</td>\n",
       "      <td>0</td>\n",
       "      <td>chr19</td>\n",
       "      <td>61051840</td>\n",
       "      <td>61142840</td>\n",
       "      <td>ENSMUSG00000074733.10</td>\n",
       "      <td>-</td>\n",
       "      <td>5830428H23Rik</td>\n",
       "      <td>processed_transcript</td>\n",
       "    </tr>\n",
       "  </tbody>\n",
       "</table>\n",
       "<p>1206443 rows × 23 columns</p>\n",
       "</div>"
      ],
      "text/plain": [
       "        chrom  anchor1_start  anchor1_end  chrom  anchor2_start  anchor2_end  \\\n",
       "0        chr1        3100000      3110000   chr1        3400000      3410000   \n",
       "1        chr1        3100000      3110000   chr1        3420000      3430000   \n",
       "2        chr1        3100000      3110000   chr1        3430000      3440000   \n",
       "3        chr1        3100000      3110000   chr1        3440000      3450000   \n",
       "4        chr1        3100000      3110000   chr1        3450000      3460000   \n",
       "...       ...            ...          ...    ...            ...          ...   \n",
       "606505  chr19       60550000     60560000  chr19       60480000     60490000   \n",
       "606506  chr19       60750000     60760000  chr19       60580000     60590000   \n",
       "606507  chr19       60750000     60760000  chr19       60580000     60590000   \n",
       "606508  chr19       61070000     61080000  chr19       61010000     61020000   \n",
       "606509  chr19       61070000     61080000  chr19       61010000     61020000   \n",
       "\n",
       "          Qanova     Eanova    Tanova     2mo.Q  ...     9mo.T    18mo.T  \\\n",
       "0       0.635926  34.182580  2.416174  0.002807  ...  0.044727  0.119007   \n",
       "1       2.407307  27.711254  1.082402  0.003030  ...  0.059812  0.111905   \n",
       "2       3.186451  31.353325  2.305675  0.002938  ...  0.051179  0.127769   \n",
       "3       5.206938  29.662554  1.694190  0.002779  ...  0.075505  0.144651   \n",
       "4       3.630835  28.548758  0.993784  0.002604  ...  0.102928  0.143655   \n",
       "...          ...        ...       ...       ...  ...       ...       ...   \n",
       "606505  3.364248   9.657704  1.076062  0.008261  ...  0.050714  0.099452   \n",
       "606506  6.412291  22.808350  4.730181  0.006420  ...  0.109658  0.220566   \n",
       "606507  6.412291  22.808350  4.730181  0.006420  ...  0.109658  0.220566   \n",
       "606508  2.321018   7.665514  2.223011  0.010920  ...  0.137818  0.151214   \n",
       "606509  2.321018   7.665514  2.223011  0.010920  ...  0.137818  0.151214   \n",
       "\n",
       "        Diff_Loop  gene_chrom  gene_start  gene_end                gene_id  \\\n",
       "0               0        chr1     3100016   3104125   ENSMUSG00000064842.1   \n",
       "1               0        chr1     3100016   3104125   ENSMUSG00000064842.1   \n",
       "2               0        chr1     3100016   3104125   ENSMUSG00000064842.1   \n",
       "3               0        chr1     3100016   3104125   ENSMUSG00000064842.1   \n",
       "4               0        chr1     3100016   3104125   ENSMUSG00000064842.1   \n",
       "...           ...         ...         ...       ...                    ...   \n",
       "606505          0       chr19    60522696  60583023  ENSMUSG00000033417.11   \n",
       "606506          1       chr19    60753987  60761913   ENSMUSG00000072437.3   \n",
       "606507          1       chr19    60759116  60792693   ENSMUSG00000024991.7   \n",
       "606508          0       chr19    60887749  61094553   ENSMUSG00000003228.8   \n",
       "606509          0       chr19    61051840  61142840  ENSMUSG00000074733.10   \n",
       "\n",
       "        strand      gene_name             gene_type  \n",
       "0            +        Gm26206                 snRNA  \n",
       "1            +        Gm26206                 snRNA  \n",
       "2            +        Gm26206                 snRNA  \n",
       "3            +        Gm26206                 snRNA  \n",
       "4            +        Gm26206                 snRNA  \n",
       "...        ...            ...                   ...  \n",
       "606505       -         Cacul1        protein_coding  \n",
       "606506       +         Nanos1        protein_coding  \n",
       "606507       -          Eif3a        protein_coding  \n",
       "606508       +           Grk5        protein_coding  \n",
       "606509       -  5830428H23Rik  processed_transcript  \n",
       "\n",
       "[1206443 rows x 23 columns]"
      ]
     },
     "execution_count": 14,
     "metadata": {},
     "output_type": "execute_result"
    }
   ],
   "source": [
    "anchor.columns = ['chrom','anchor1_start','anchor1_end','chrom','anchor2_start','anchor2_end',\n",
    "                'Qanova','Eanova','Tanova','2mo.Q','9mo.Q','18mo.Q','2mo.T','9mo.T','18mo.T','Diff_Loop',\n",
    "                'gene_chrom','gene_start','gene_end','gene_id','strand','gene_name','gene_type']\n",
    "anchor"
   ]
  },
  {
   "cell_type": "code",
   "execution_count": 15,
   "id": "fb9e200c",
   "metadata": {
    "execution": {
     "iopub.execute_input": "2024-12-08T03:37:59.560185Z",
     "iopub.status.busy": "2024-12-08T03:37:59.560017Z",
     "iopub.status.idle": "2024-12-08T03:37:59.593307Z",
     "shell.execute_reply": "2024-12-08T03:37:59.592644Z"
    },
    "papermill": {
     "duration": 0.039435,
     "end_time": "2024-12-08T03:37:59.594806",
     "exception": false,
     "start_time": "2024-12-08T03:37:59.555371",
     "status": "completed"
    },
    "tags": []
   },
   "outputs": [
    {
     "data": {
      "text/plain": [
       "CompletedProcess(args='rm DG_Glut.anchor2_loop_gene.bed', returncode=0)"
      ]
     },
     "execution_count": 15,
     "metadata": {},
     "output_type": "execute_result"
    }
   ],
   "source": [
    "subprocess.run(f\"rm {ct}.anchor1_loop_gene.bed\", shell=True)\n",
    "subprocess.run(f\"rm {ct}.anchor2_loop_gene.bed\", shell=True)"
   ]
  },
  {
   "cell_type": "code",
   "execution_count": 16,
   "id": "abdc284e",
   "metadata": {
    "execution": {
     "iopub.execute_input": "2024-12-08T03:37:59.602867Z",
     "iopub.status.busy": "2024-12-08T03:37:59.602558Z",
     "iopub.status.idle": "2024-12-08T03:37:59.670150Z",
     "shell.execute_reply": "2024-12-08T03:37:59.669607Z"
    },
    "papermill": {
     "duration": 0.073092,
     "end_time": "2024-12-08T03:37:59.671491",
     "exception": false,
     "start_time": "2024-12-08T03:37:59.598399",
     "status": "completed"
    },
    "tags": []
   },
   "outputs": [
    {
     "data": {
      "text/html": [
       "<div>\n",
       "<style scoped>\n",
       "    .dataframe tbody tr th:only-of-type {\n",
       "        vertical-align: middle;\n",
       "    }\n",
       "\n",
       "    .dataframe tbody tr th {\n",
       "        vertical-align: top;\n",
       "    }\n",
       "\n",
       "    .dataframe thead th {\n",
       "        text-align: right;\n",
       "    }\n",
       "</style>\n",
       "<table border=\"1\" class=\"dataframe\">\n",
       "  <thead>\n",
       "    <tr style=\"text-align: right;\">\n",
       "      <th></th>\n",
       "      <th>Qanova</th>\n",
       "      <th>Eanova</th>\n",
       "      <th>Tanova</th>\n",
       "      <th>2mo.Q</th>\n",
       "      <th>9mo.Q</th>\n",
       "      <th>18mo.Q</th>\n",
       "      <th>2mo.T</th>\n",
       "      <th>9mo.T</th>\n",
       "      <th>18mo.T</th>\n",
       "      <th>Diff_Loop</th>\n",
       "      <th>gene_id</th>\n",
       "      <th>gene_name</th>\n",
       "      <th>anchor1_distance</th>\n",
       "      <th>anchor2_distance</th>\n",
       "      <th>gene_length</th>\n",
       "    </tr>\n",
       "  </thead>\n",
       "  <tbody>\n",
       "    <tr>\n",
       "      <th>0</th>\n",
       "      <td>0.635926</td>\n",
       "      <td>34.182580</td>\n",
       "      <td>2.416174</td>\n",
       "      <td>0.002807</td>\n",
       "      <td>0.002384</td>\n",
       "      <td>0.002618</td>\n",
       "      <td>0.053451</td>\n",
       "      <td>0.044727</td>\n",
       "      <td>0.119007</td>\n",
       "      <td>0</td>\n",
       "      <td>ENSMUSG00000064842.1</td>\n",
       "      <td>Gm26206</td>\n",
       "      <td>16</td>\n",
       "      <td>295875</td>\n",
       "      <td>4109</td>\n",
       "    </tr>\n",
       "    <tr>\n",
       "      <th>1</th>\n",
       "      <td>2.407307</td>\n",
       "      <td>27.711254</td>\n",
       "      <td>1.082402</td>\n",
       "      <td>0.003030</td>\n",
       "      <td>0.002189</td>\n",
       "      <td>0.002847</td>\n",
       "      <td>0.097521</td>\n",
       "      <td>0.059812</td>\n",
       "      <td>0.111905</td>\n",
       "      <td>0</td>\n",
       "      <td>ENSMUSG00000064842.1</td>\n",
       "      <td>Gm26206</td>\n",
       "      <td>16</td>\n",
       "      <td>315875</td>\n",
       "      <td>4109</td>\n",
       "    </tr>\n",
       "    <tr>\n",
       "      <th>2</th>\n",
       "      <td>3.186451</td>\n",
       "      <td>31.353325</td>\n",
       "      <td>2.305675</td>\n",
       "      <td>0.002938</td>\n",
       "      <td>0.002243</td>\n",
       "      <td>0.003327</td>\n",
       "      <td>0.105777</td>\n",
       "      <td>0.051179</td>\n",
       "      <td>0.127769</td>\n",
       "      <td>0</td>\n",
       "      <td>ENSMUSG00000064842.1</td>\n",
       "      <td>Gm26206</td>\n",
       "      <td>16</td>\n",
       "      <td>325875</td>\n",
       "      <td>4109</td>\n",
       "    </tr>\n",
       "    <tr>\n",
       "      <th>3</th>\n",
       "      <td>5.206938</td>\n",
       "      <td>29.662554</td>\n",
       "      <td>1.694190</td>\n",
       "      <td>0.002779</td>\n",
       "      <td>0.002293</td>\n",
       "      <td>0.003597</td>\n",
       "      <td>0.115799</td>\n",
       "      <td>0.075505</td>\n",
       "      <td>0.144651</td>\n",
       "      <td>0</td>\n",
       "      <td>ENSMUSG00000064842.1</td>\n",
       "      <td>Gm26206</td>\n",
       "      <td>16</td>\n",
       "      <td>335875</td>\n",
       "      <td>4109</td>\n",
       "    </tr>\n",
       "    <tr>\n",
       "      <th>4</th>\n",
       "      <td>3.630835</td>\n",
       "      <td>28.548758</td>\n",
       "      <td>0.993784</td>\n",
       "      <td>0.002604</td>\n",
       "      <td>0.002375</td>\n",
       "      <td>0.003405</td>\n",
       "      <td>0.093010</td>\n",
       "      <td>0.102928</td>\n",
       "      <td>0.143655</td>\n",
       "      <td>0</td>\n",
       "      <td>ENSMUSG00000064842.1</td>\n",
       "      <td>Gm26206</td>\n",
       "      <td>16</td>\n",
       "      <td>345875</td>\n",
       "      <td>4109</td>\n",
       "    </tr>\n",
       "    <tr>\n",
       "      <th>...</th>\n",
       "      <td>...</td>\n",
       "      <td>...</td>\n",
       "      <td>...</td>\n",
       "      <td>...</td>\n",
       "      <td>...</td>\n",
       "      <td>...</td>\n",
       "      <td>...</td>\n",
       "      <td>...</td>\n",
       "      <td>...</td>\n",
       "      <td>...</td>\n",
       "      <td>...</td>\n",
       "      <td>...</td>\n",
       "      <td>...</td>\n",
       "      <td>...</td>\n",
       "      <td>...</td>\n",
       "    </tr>\n",
       "    <tr>\n",
       "      <th>606505</th>\n",
       "      <td>3.364248</td>\n",
       "      <td>9.657704</td>\n",
       "      <td>1.076062</td>\n",
       "      <td>0.008261</td>\n",
       "      <td>0.006708</td>\n",
       "      <td>0.008343</td>\n",
       "      <td>0.097121</td>\n",
       "      <td>0.050714</td>\n",
       "      <td>0.099452</td>\n",
       "      <td>0</td>\n",
       "      <td>ENSMUSG00000033417.11</td>\n",
       "      <td>Cacul1</td>\n",
       "      <td>27304</td>\n",
       "      <td>42696</td>\n",
       "      <td>60327</td>\n",
       "    </tr>\n",
       "    <tr>\n",
       "      <th>606506</th>\n",
       "      <td>6.412291</td>\n",
       "      <td>22.808350</td>\n",
       "      <td>4.730181</td>\n",
       "      <td>0.006420</td>\n",
       "      <td>0.004742</td>\n",
       "      <td>0.007094</td>\n",
       "      <td>0.128506</td>\n",
       "      <td>0.109658</td>\n",
       "      <td>0.220566</td>\n",
       "      <td>1</td>\n",
       "      <td>ENSMUSG00000072437.3</td>\n",
       "      <td>Nanos1</td>\n",
       "      <td>3987</td>\n",
       "      <td>173987</td>\n",
       "      <td>7926</td>\n",
       "    </tr>\n",
       "    <tr>\n",
       "      <th>606507</th>\n",
       "      <td>6.412291</td>\n",
       "      <td>22.808350</td>\n",
       "      <td>4.730181</td>\n",
       "      <td>0.006420</td>\n",
       "      <td>0.004742</td>\n",
       "      <td>0.007094</td>\n",
       "      <td>0.128506</td>\n",
       "      <td>0.109658</td>\n",
       "      <td>0.220566</td>\n",
       "      <td>1</td>\n",
       "      <td>ENSMUSG00000024991.7</td>\n",
       "      <td>Eif3a</td>\n",
       "      <td>9116</td>\n",
       "      <td>179116</td>\n",
       "      <td>33577</td>\n",
       "    </tr>\n",
       "    <tr>\n",
       "      <th>606508</th>\n",
       "      <td>2.321018</td>\n",
       "      <td>7.665514</td>\n",
       "      <td>2.223011</td>\n",
       "      <td>0.010920</td>\n",
       "      <td>0.009670</td>\n",
       "      <td>0.011467</td>\n",
       "      <td>0.216247</td>\n",
       "      <td>0.137818</td>\n",
       "      <td>0.151214</td>\n",
       "      <td>0</td>\n",
       "      <td>ENSMUSG00000003228.8</td>\n",
       "      <td>Grk5</td>\n",
       "      <td>24553</td>\n",
       "      <td>84553</td>\n",
       "      <td>206804</td>\n",
       "    </tr>\n",
       "    <tr>\n",
       "      <th>606509</th>\n",
       "      <td>2.321018</td>\n",
       "      <td>7.665514</td>\n",
       "      <td>2.223011</td>\n",
       "      <td>0.010920</td>\n",
       "      <td>0.009670</td>\n",
       "      <td>0.011467</td>\n",
       "      <td>0.216247</td>\n",
       "      <td>0.137818</td>\n",
       "      <td>0.151214</td>\n",
       "      <td>0</td>\n",
       "      <td>ENSMUSG00000074733.10</td>\n",
       "      <td>5830428H23Rik</td>\n",
       "      <td>18160</td>\n",
       "      <td>41840</td>\n",
       "      <td>91000</td>\n",
       "    </tr>\n",
       "  </tbody>\n",
       "</table>\n",
       "<p>1206443 rows × 15 columns</p>\n",
       "</div>"
      ],
      "text/plain": [
       "          Qanova     Eanova    Tanova     2mo.Q     9mo.Q    18mo.Q     2mo.T  \\\n",
       "0       0.635926  34.182580  2.416174  0.002807  0.002384  0.002618  0.053451   \n",
       "1       2.407307  27.711254  1.082402  0.003030  0.002189  0.002847  0.097521   \n",
       "2       3.186451  31.353325  2.305675  0.002938  0.002243  0.003327  0.105777   \n",
       "3       5.206938  29.662554  1.694190  0.002779  0.002293  0.003597  0.115799   \n",
       "4       3.630835  28.548758  0.993784  0.002604  0.002375  0.003405  0.093010   \n",
       "...          ...        ...       ...       ...       ...       ...       ...   \n",
       "606505  3.364248   9.657704  1.076062  0.008261  0.006708  0.008343  0.097121   \n",
       "606506  6.412291  22.808350  4.730181  0.006420  0.004742  0.007094  0.128506   \n",
       "606507  6.412291  22.808350  4.730181  0.006420  0.004742  0.007094  0.128506   \n",
       "606508  2.321018   7.665514  2.223011  0.010920  0.009670  0.011467  0.216247   \n",
       "606509  2.321018   7.665514  2.223011  0.010920  0.009670  0.011467  0.216247   \n",
       "\n",
       "           9mo.T    18mo.T  Diff_Loop                gene_id      gene_name  \\\n",
       "0       0.044727  0.119007          0   ENSMUSG00000064842.1        Gm26206   \n",
       "1       0.059812  0.111905          0   ENSMUSG00000064842.1        Gm26206   \n",
       "2       0.051179  0.127769          0   ENSMUSG00000064842.1        Gm26206   \n",
       "3       0.075505  0.144651          0   ENSMUSG00000064842.1        Gm26206   \n",
       "4       0.102928  0.143655          0   ENSMUSG00000064842.1        Gm26206   \n",
       "...          ...       ...        ...                    ...            ...   \n",
       "606505  0.050714  0.099452          0  ENSMUSG00000033417.11         Cacul1   \n",
       "606506  0.109658  0.220566          1   ENSMUSG00000072437.3         Nanos1   \n",
       "606507  0.109658  0.220566          1   ENSMUSG00000024991.7          Eif3a   \n",
       "606508  0.137818  0.151214          0   ENSMUSG00000003228.8           Grk5   \n",
       "606509  0.137818  0.151214          0  ENSMUSG00000074733.10  5830428H23Rik   \n",
       "\n",
       "        anchor1_distance  anchor2_distance  gene_length  \n",
       "0                     16            295875         4109  \n",
       "1                     16            315875         4109  \n",
       "2                     16            325875         4109  \n",
       "3                     16            335875         4109  \n",
       "4                     16            345875         4109  \n",
       "...                  ...               ...          ...  \n",
       "606505             27304             42696        60327  \n",
       "606506              3987            173987         7926  \n",
       "606507              9116            179116        33577  \n",
       "606508             24553             84553       206804  \n",
       "606509             18160             41840        91000  \n",
       "\n",
       "[1206443 rows x 15 columns]"
      ]
     },
     "execution_count": 16,
     "metadata": {},
     "output_type": "execute_result"
    }
   ],
   "source": [
    "# add a distance columns, anchor1_start to gene_start and gene end, use which ever is closer\n",
    "anchor['anchor1_distance'] = np.minimum(abs(anchor['anchor1_start'] - anchor['gene_start']), abs(anchor['anchor1_start'] - anchor['gene_end']))\n",
    "anchor['anchor2_distance'] = np.minimum(abs(anchor['anchor2_start'] - anchor['gene_start']), abs(anchor['anchor2_start'] - anchor['gene_end']))\n",
    "anchor['gene_length'] = anchor['gene_end'] - anchor['gene_start']\n",
    "# drop chrom\tanchor1_start\tanchor1_end\tchrom\tanchor2_start\tanchor2_end\t, 'gene_chrom', 'gene_start','gene_end', 'strand', 'gene_type'\n",
    "anchor = anchor.drop(columns = ['chrom','anchor1_start','anchor1_end','chrom','anchor2_start','anchor2_end','gene_chrom', 'gene_start','gene_end', 'strand', 'gene_type'])\n",
    "anchor"
   ]
  },
  {
   "cell_type": "code",
   "execution_count": 17,
   "id": "8542b52b",
   "metadata": {
    "execution": {
     "iopub.execute_input": "2024-12-08T03:37:59.679905Z",
     "iopub.status.busy": "2024-12-08T03:37:59.679683Z",
     "iopub.status.idle": "2024-12-08T03:38:08.034008Z",
     "shell.execute_reply": "2024-12-08T03:38:08.033360Z"
    },
    "papermill": {
     "duration": 8.360337,
     "end_time": "2024-12-08T03:38:08.035795",
     "exception": false,
     "start_time": "2024-12-08T03:37:59.675458",
     "status": "completed"
    },
    "tags": []
   },
   "outputs": [],
   "source": [
    "anchor.to_csv(f\"{home_dir}/ml_input/{ct}/{ct}.Loop_gene.csv\",  header = True, index = False)"
   ]
  },
  {
   "cell_type": "code",
   "execution_count": 18,
   "id": "2196469c",
   "metadata": {
    "execution": {
     "iopub.execute_input": "2024-12-08T03:38:08.044632Z",
     "iopub.status.busy": "2024-12-08T03:38:08.044374Z",
     "iopub.status.idle": "2024-12-08T03:38:16.878467Z",
     "shell.execute_reply": "2024-12-08T03:38:16.877775Z"
    },
    "papermill": {
     "duration": 8.840211,
     "end_time": "2024-12-08T03:38:16.880075",
     "exception": false,
     "start_time": "2024-12-08T03:38:08.039864",
     "status": "completed"
    },
    "tags": []
   },
   "outputs": [
    {
     "data": {
      "text/plain": [
       "CompletedProcess(args='gzip -k /home/qzeng_salk_edu/project/241018_pre_ml/ml_input/DG_Glut/DG_Glut.Loop_gene.csv', returncode=0)"
      ]
     },
     "execution_count": 18,
     "metadata": {},
     "output_type": "execute_result"
    }
   ],
   "source": [
    "import subprocess\n",
    "#ct = 'L6_IT_CTX_Glut'\n",
    "#subprocess.run(f\"tar -cjvf ml_input/{ct}/{ct}.Loop_gene.csv.gz ml_input/{ct}/{ct}.Loop_gene.csv\", shell=True)\n",
    "subprocess.run(f\"gzip -k {home_dir}/ml_input/{ct}/{ct}.Loop_gene.csv\", shell=True)"
   ]
  },
  {
   "cell_type": "code",
   "execution_count": 19,
   "id": "a6e41c63",
   "metadata": {
    "execution": {
     "iopub.execute_input": "2024-12-08T03:38:16.889672Z",
     "iopub.status.busy": "2024-12-08T03:38:16.889460Z",
     "iopub.status.idle": "2024-12-08T03:38:16.912688Z",
     "shell.execute_reply": "2024-12-08T03:38:16.912026Z"
    },
    "papermill": {
     "duration": 0.029839,
     "end_time": "2024-12-08T03:38:16.913994",
     "exception": false,
     "start_time": "2024-12-08T03:38:16.884155",
     "status": "completed"
    },
    "tags": []
   },
   "outputs": [
    {
     "data": {
      "text/plain": [
       "CompletedProcess(args='rm /home/qzeng_salk_edu/project/241018_pre_ml/ml_input/DG_Glut/DG_Glut.Loop_gene.csv', returncode=0)"
      ]
     },
     "execution_count": 19,
     "metadata": {},
     "output_type": "execute_result"
    }
   ],
   "source": [
    "subprocess.run(f\"rm {home_dir}/ml_input/{ct}/{ct}.Loop_gene.csv\", shell=True)"
   ]
  },
  {
   "cell_type": "code",
   "execution_count": null,
   "id": "8d2731e3",
   "metadata": {
    "papermill": {
     "duration": 0.00372,
     "end_time": "2024-12-08T03:38:16.921771",
     "exception": false,
     "start_time": "2024-12-08T03:38:16.918051",
     "status": "completed"
    },
    "tags": []
   },
   "outputs": [],
   "source": []
  },
  {
   "cell_type": "code",
   "execution_count": 20,
   "id": "4912c275",
   "metadata": {
    "execution": {
     "iopub.execute_input": "2024-12-08T03:38:16.930560Z",
     "iopub.status.busy": "2024-12-08T03:38:16.930301Z",
     "iopub.status.idle": "2024-12-08T03:38:16.933313Z",
     "shell.execute_reply": "2024-12-08T03:38:16.932755Z"
    },
    "papermill": {
     "duration": 0.008886,
     "end_time": "2024-12-08T03:38:16.934421",
     "exception": false,
     "start_time": "2024-12-08T03:38:16.925535",
     "status": "completed"
    },
    "tags": []
   },
   "outputs": [],
   "source": [
    "#anchor.to_csv(f\"ml_input/{ct}.diff_loop_gene.csv\",  header = True, index = False)"
   ]
  },
  {
   "cell_type": "code",
   "execution_count": null,
   "id": "063b6fa4",
   "metadata": {
    "papermill": {
     "duration": 0.003633,
     "end_time": "2024-12-08T03:38:16.941766",
     "exception": false,
     "start_time": "2024-12-08T03:38:16.938133",
     "status": "completed"
    },
    "tags": []
   },
   "outputs": [],
   "source": []
  }
 ],
 "metadata": {
  "kernelspec": {
   "display_name": "base",
   "language": "python",
   "name": "python3"
  },
  "language_info": {
   "codemirror_mode": {
    "name": "ipython",
    "version": 3
   },
   "file_extension": ".py",
   "mimetype": "text/x-python",
   "name": "python",
   "nbconvert_exporter": "python",
   "pygments_lexer": "ipython3",
   "version": "3.10.12"
  },
  "papermill": {
   "default_parameters": {},
   "duration": 38.804141,
   "end_time": "2024-12-08T03:38:17.362375",
   "environment_variables": {},
   "exception": null,
   "input_path": "/home/qzeng_salk_edu/project/241018_pre_ml/gen_ml_input/notebooks/06.pre_hic_loop.ipynb",
   "output_path": "DG_Glut/06.pre_hic_loop.ipynb",
   "parameters": {
    "cpu": 8,
    "group_name": "DG_Glut",
    "mem_gb": 10
   },
   "start_time": "2024-12-08T03:37:38.558234",
   "version": "2.4.0"
  }
 },
 "nbformat": 4,
 "nbformat_minor": 5
}