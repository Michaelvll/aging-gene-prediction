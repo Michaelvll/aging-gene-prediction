{
 "cells": [
  {
   "cell_type": "code",
   "execution_count": 1,
   "id": "1812faf6",
   "metadata": {
    "execution": {
     "iopub.execute_input": "2024-12-08T03:35:23.250473Z",
     "iopub.status.busy": "2024-12-08T03:35:23.250214Z",
     "iopub.status.idle": "2024-12-08T03:35:23.256846Z",
     "shell.execute_reply": "2024-12-08T03:35:23.256067Z"
    },
    "papermill": {
     "duration": 0.010562,
     "end_time": "2024-12-08T03:35:23.257941",
     "exception": false,
     "start_time": "2024-12-08T03:35:23.247379",
     "status": "completed"
    },
    "tags": [
     "injected-parameters"
    ]
   },
   "outputs": [],
   "source": [
    "# Parameters\n",
    "cpu = 8\n",
    "group_name = \"DG_Glut\"\n",
    "mem_gb = 10\n"
   ]
  },
  {
   "cell_type": "code",
   "execution_count": 2,
   "id": "5e12f6d8",
   "metadata": {
    "execution": {
     "iopub.execute_input": "2024-12-08T03:35:23.261792Z",
     "iopub.status.busy": "2024-12-08T03:35:23.261432Z",
     "iopub.status.idle": "2024-12-08T03:35:23.531117Z",
     "shell.execute_reply": "2024-12-08T03:35:23.530398Z"
    },
    "papermill": {
     "duration": 0.273392,
     "end_time": "2024-12-08T03:35:23.532908",
     "exception": false,
     "start_time": "2024-12-08T03:35:23.259516",
     "status": "completed"
    },
    "tags": []
   },
   "outputs": [],
   "source": [
    "import pandas as pd\n",
    "import subprocess\n",
    "import numpy as np"
   ]
  },
  {
   "cell_type": "code",
   "execution_count": 3,
   "id": "b68ed46c",
   "metadata": {
    "execution": {
     "iopub.execute_input": "2024-12-08T03:35:23.538531Z",
     "iopub.status.busy": "2024-12-08T03:35:23.537773Z",
     "iopub.status.idle": "2024-12-08T03:35:23.540869Z",
     "shell.execute_reply": "2024-12-08T03:35:23.540342Z"
    },
    "papermill": {
     "duration": 0.006992,
     "end_time": "2024-12-08T03:35:23.542101",
     "exception": false,
     "start_time": "2024-12-08T03:35:23.535109",
     "status": "completed"
    },
    "tags": []
   },
   "outputs": [],
   "source": [
    "#group_name = 'DG_Glut'"
   ]
  },
  {
   "cell_type": "code",
   "execution_count": 4,
   "id": "a08a8588",
   "metadata": {
    "execution": {
     "iopub.execute_input": "2024-12-08T03:35:23.546605Z",
     "iopub.status.busy": "2024-12-08T03:35:23.546429Z",
     "iopub.status.idle": "2024-12-08T03:35:23.549229Z",
     "shell.execute_reply": "2024-12-08T03:35:23.548674Z"
    },
    "papermill": {
     "duration": 0.006617,
     "end_time": "2024-12-08T03:35:23.550584",
     "exception": false,
     "start_time": "2024-12-08T03:35:23.543967",
     "status": "completed"
    },
    "tags": []
   },
   "outputs": [],
   "source": [
    "home_dir = '/home/qzeng_salk_edu/project/241018_pre_ml'\n",
    "ct = group_name\n",
    "\n",
    "_dir ='/data/dmg_result'"
   ]
  },
  {
   "cell_type": "code",
   "execution_count": 5,
   "id": "90b2ea34",
   "metadata": {
    "execution": {
     "iopub.execute_input": "2024-12-08T03:35:23.555548Z",
     "iopub.status.busy": "2024-12-08T03:35:23.555181Z",
     "iopub.status.idle": "2024-12-08T03:35:26.672258Z",
     "shell.execute_reply": "2024-12-08T03:35:26.671608Z"
    },
    "papermill": {
     "duration": 3.121312,
     "end_time": "2024-12-08T03:35:26.673844",
     "exception": false,
     "start_time": "2024-12-08T03:35:23.552532",
     "status": "completed"
    },
    "tags": []
   },
   "outputs": [
    {
     "name": "stderr",
     "output_type": "stream",
     "text": [
      "/var/tmp/ipykernel_77078/2186674015.py:1: DtypeWarning: Columns (10) have mixed types. Specify dtype option on import or set low_memory=False.\n",
      "  all_dmg = pd.read_csv(f\"{_dir}/Male.CGN.DMG.csv\", index_col =0)\n"
     ]
    }
   ],
   "source": [
    "all_dmg = pd.read_csv(f\"{_dir}/Male.CGN.DMG.csv\", index_col =0)\n",
    "all_dmg['celltype'] = all_dmg['celltype'].apply(lambda x: x.replace('/','').replace(' ','_'))"
   ]
  },
  {
   "cell_type": "code",
   "execution_count": 6,
   "id": "1aa2522a",
   "metadata": {
    "execution": {
     "iopub.execute_input": "2024-12-08T03:35:26.678069Z",
     "iopub.status.busy": "2024-12-08T03:35:26.677838Z",
     "iopub.status.idle": "2024-12-08T03:35:26.835427Z",
     "shell.execute_reply": "2024-12-08T03:35:26.834680Z"
    },
    "papermill": {
     "duration": 0.1611,
     "end_time": "2024-12-08T03:35:26.836668",
     "exception": false,
     "start_time": "2024-12-08T03:35:26.675568",
     "status": "completed"
    },
    "tags": []
   },
   "outputs": [
    {
     "data": {
      "text/html": [
       "<div>\n",
       "<style scoped>\n",
       "    .dataframe tbody tr th:only-of-type {\n",
       "        vertical-align: middle;\n",
       "    }\n",
       "\n",
       "    .dataframe tbody tr th {\n",
       "        vertical-align: top;\n",
       "    }\n",
       "\n",
       "    .dataframe thead th {\n",
       "        text-align: right;\n",
       "    }\n",
       "</style>\n",
       "<table border=\"1\" class=\"dataframe\">\n",
       "  <thead>\n",
       "    <tr style=\"text-align: right;\">\n",
       "      <th></th>\n",
       "      <th>chrom</th>\n",
       "      <th>source</th>\n",
       "      <th>feature</th>\n",
       "      <th>start</th>\n",
       "      <th>end</th>\n",
       "      <th>score</th>\n",
       "      <th>strand</th>\n",
       "      <th>phase</th>\n",
       "      <th>gene_id</th>\n",
       "      <th>transcript_id</th>\n",
       "      <th>...</th>\n",
       "      <th>gene_name</th>\n",
       "      <th>transcript_type</th>\n",
       "      <th>transcript_status</th>\n",
       "      <th>transcript_name</th>\n",
       "      <th>exon_number</th>\n",
       "      <th>exon_id</th>\n",
       "      <th>level</th>\n",
       "      <th>mgi_id</th>\n",
       "      <th>havana_gene</th>\n",
       "      <th>tag</th>\n",
       "    </tr>\n",
       "  </thead>\n",
       "  <tbody>\n",
       "    <tr>\n",
       "      <th>0</th>\n",
       "      <td>chr1</td>\n",
       "      <td>HAVANA</td>\n",
       "      <td>gene</td>\n",
       "      <td>3073253</td>\n",
       "      <td>3074322</td>\n",
       "      <td>.</td>\n",
       "      <td>+</td>\n",
       "      <td>.</td>\n",
       "      <td>ENSMUSG00000102693.1</td>\n",
       "      <td>NaN</td>\n",
       "      <td>...</td>\n",
       "      <td>4933401J01Rik</td>\n",
       "      <td>NaN</td>\n",
       "      <td>NaN</td>\n",
       "      <td>NaN</td>\n",
       "      <td>NaN</td>\n",
       "      <td>NaN</td>\n",
       "      <td>2</td>\n",
       "      <td>MGI:1918292</td>\n",
       "      <td>OTTMUSG00000049935.1</td>\n",
       "      <td>NaN</td>\n",
       "    </tr>\n",
       "    <tr>\n",
       "      <th>1</th>\n",
       "      <td>chr1</td>\n",
       "      <td>ENSEMBL</td>\n",
       "      <td>gene</td>\n",
       "      <td>3102016</td>\n",
       "      <td>3102125</td>\n",
       "      <td>.</td>\n",
       "      <td>+</td>\n",
       "      <td>.</td>\n",
       "      <td>ENSMUSG00000064842.1</td>\n",
       "      <td>NaN</td>\n",
       "      <td>...</td>\n",
       "      <td>Gm26206</td>\n",
       "      <td>NaN</td>\n",
       "      <td>NaN</td>\n",
       "      <td>NaN</td>\n",
       "      <td>NaN</td>\n",
       "      <td>NaN</td>\n",
       "      <td>3</td>\n",
       "      <td>MGI:5455983</td>\n",
       "      <td>NaN</td>\n",
       "      <td>NaN</td>\n",
       "    </tr>\n",
       "    <tr>\n",
       "      <th>2</th>\n",
       "      <td>chr1</td>\n",
       "      <td>HAVANA</td>\n",
       "      <td>gene</td>\n",
       "      <td>3205901</td>\n",
       "      <td>3671498</td>\n",
       "      <td>.</td>\n",
       "      <td>-</td>\n",
       "      <td>.</td>\n",
       "      <td>ENSMUSG00000051951.5</td>\n",
       "      <td>NaN</td>\n",
       "      <td>...</td>\n",
       "      <td>Xkr4</td>\n",
       "      <td>NaN</td>\n",
       "      <td>NaN</td>\n",
       "      <td>NaN</td>\n",
       "      <td>NaN</td>\n",
       "      <td>NaN</td>\n",
       "      <td>2</td>\n",
       "      <td>MGI:3528744</td>\n",
       "      <td>OTTMUSG00000026353.2</td>\n",
       "      <td>NaN</td>\n",
       "    </tr>\n",
       "    <tr>\n",
       "      <th>3</th>\n",
       "      <td>chr1</td>\n",
       "      <td>HAVANA</td>\n",
       "      <td>gene</td>\n",
       "      <td>3252757</td>\n",
       "      <td>3253236</td>\n",
       "      <td>.</td>\n",
       "      <td>+</td>\n",
       "      <td>.</td>\n",
       "      <td>ENSMUSG00000102851.1</td>\n",
       "      <td>NaN</td>\n",
       "      <td>...</td>\n",
       "      <td>Gm18956</td>\n",
       "      <td>NaN</td>\n",
       "      <td>NaN</td>\n",
       "      <td>NaN</td>\n",
       "      <td>NaN</td>\n",
       "      <td>NaN</td>\n",
       "      <td>1</td>\n",
       "      <td>MGI:5011141</td>\n",
       "      <td>OTTMUSG00000049958.1</td>\n",
       "      <td>pseudo_consens</td>\n",
       "    </tr>\n",
       "    <tr>\n",
       "      <th>4</th>\n",
       "      <td>chr1</td>\n",
       "      <td>HAVANA</td>\n",
       "      <td>gene</td>\n",
       "      <td>3365731</td>\n",
       "      <td>3368549</td>\n",
       "      <td>.</td>\n",
       "      <td>-</td>\n",
       "      <td>.</td>\n",
       "      <td>ENSMUSG00000103377.1</td>\n",
       "      <td>NaN</td>\n",
       "      <td>...</td>\n",
       "      <td>Gm37180</td>\n",
       "      <td>NaN</td>\n",
       "      <td>NaN</td>\n",
       "      <td>NaN</td>\n",
       "      <td>NaN</td>\n",
       "      <td>NaN</td>\n",
       "      <td>2</td>\n",
       "      <td>MGI:5610408</td>\n",
       "      <td>OTTMUSG00000049960.1</td>\n",
       "      <td>NaN</td>\n",
       "    </tr>\n",
       "  </tbody>\n",
       "</table>\n",
       "<p>5 rows × 22 columns</p>\n",
       "</div>"
      ],
      "text/plain": [
       "  chrom   source feature    start      end score strand phase  \\\n",
       "0  chr1   HAVANA    gene  3073253  3074322     .      +     .   \n",
       "1  chr1  ENSEMBL    gene  3102016  3102125     .      +     .   \n",
       "2  chr1   HAVANA    gene  3205901  3671498     .      -     .   \n",
       "3  chr1   HAVANA    gene  3252757  3253236     .      +     .   \n",
       "4  chr1   HAVANA    gene  3365731  3368549     .      -     .   \n",
       "\n",
       "                gene_id  transcript_id  ...      gene_name  transcript_type  \\\n",
       "0  ENSMUSG00000102693.1            NaN  ...  4933401J01Rik              NaN   \n",
       "1  ENSMUSG00000064842.1            NaN  ...        Gm26206              NaN   \n",
       "2  ENSMUSG00000051951.5            NaN  ...           Xkr4              NaN   \n",
       "3  ENSMUSG00000102851.1            NaN  ...        Gm18956              NaN   \n",
       "4  ENSMUSG00000103377.1            NaN  ...        Gm37180              NaN   \n",
       "\n",
       "  transcript_status  transcript_name  exon_number  exon_id  level  \\\n",
       "0               NaN              NaN          NaN      NaN      2   \n",
       "1               NaN              NaN          NaN      NaN      3   \n",
       "2               NaN              NaN          NaN      NaN      2   \n",
       "3               NaN              NaN          NaN      NaN      1   \n",
       "4               NaN              NaN          NaN      NaN      2   \n",
       "\n",
       "        mgi_id           havana_gene             tag  \n",
       "0  MGI:1918292  OTTMUSG00000049935.1             NaN  \n",
       "1  MGI:5455983                   NaN             NaN  \n",
       "2  MGI:3528744  OTTMUSG00000026353.2             NaN  \n",
       "3  MGI:5011141  OTTMUSG00000049958.1  pseudo_consens  \n",
       "4  MGI:5610408  OTTMUSG00000049960.1             NaN  \n",
       "\n",
       "[5 rows x 22 columns]"
      ]
     },
     "execution_count": 6,
     "metadata": {},
     "output_type": "execute_result"
    }
   ],
   "source": [
    "gene_meta = pd.read_csv(f\"/data/ref/gencode.vM22.basic.annotation.gene.flat.tsv.gz\", sep = '\\t')\n",
    "gene_meta.head()"
   ]
  },
  {
   "cell_type": "code",
   "execution_count": 7,
   "id": "56b7dcab",
   "metadata": {
    "execution": {
     "iopub.execute_input": "2024-12-08T03:35:26.842135Z",
     "iopub.status.busy": "2024-12-08T03:35:26.841422Z",
     "iopub.status.idle": "2024-12-08T03:35:27.099401Z",
     "shell.execute_reply": "2024-12-08T03:35:27.098716Z"
    },
    "papermill": {
     "duration": 0.261786,
     "end_time": "2024-12-08T03:35:27.100504",
     "exception": false,
     "start_time": "2024-12-08T03:35:26.838718",
     "status": "completed"
    },
    "tags": []
   },
   "outputs": [
    {
     "data": {
      "text/html": [
       "<div>\n",
       "<style scoped>\n",
       "    .dataframe tbody tr th:only-of-type {\n",
       "        vertical-align: middle;\n",
       "    }\n",
       "\n",
       "    .dataframe tbody tr th {\n",
       "        vertical-align: top;\n",
       "    }\n",
       "\n",
       "    .dataframe thead th {\n",
       "        text-align: right;\n",
       "    }\n",
       "</style>\n",
       "<table border=\"1\" class=\"dataframe\">\n",
       "  <thead>\n",
       "    <tr style=\"text-align: right;\">\n",
       "      <th></th>\n",
       "      <th>pvalue</th>\n",
       "      <th>corrected_pvalue</th>\n",
       "      <th>18mo</th>\n",
       "      <th>2mo</th>\n",
       "      <th>9mo</th>\n",
       "      <th>gene_length</th>\n",
       "      <th>DMG</th>\n",
       "      <th>gene_name</th>\n",
       "    </tr>\n",
       "    <tr>\n",
       "      <th>geneslop2k</th>\n",
       "      <th></th>\n",
       "      <th></th>\n",
       "      <th></th>\n",
       "      <th></th>\n",
       "      <th></th>\n",
       "      <th></th>\n",
       "      <th></th>\n",
       "      <th></th>\n",
       "    </tr>\n",
       "  </thead>\n",
       "  <tbody>\n",
       "    <tr>\n",
       "      <th>ENSMUSG00000069824.5</th>\n",
       "      <td>0.432191</td>\n",
       "      <td>1.000000</td>\n",
       "      <td>1.033908</td>\n",
       "      <td>1.038785</td>\n",
       "      <td>1.033349</td>\n",
       "      <td>4133</td>\n",
       "      <td>0</td>\n",
       "      <td>Olfr377-ps1</td>\n",
       "    </tr>\n",
       "    <tr>\n",
       "      <th>ENSMUSG00000009093.7</th>\n",
       "      <td>0.000002</td>\n",
       "      <td>0.000074</td>\n",
       "      <td>1.111812</td>\n",
       "      <td>1.134192</td>\n",
       "      <td>1.115521</td>\n",
       "      <td>7600</td>\n",
       "      <td>1</td>\n",
       "      <td>Gstt4</td>\n",
       "    </tr>\n",
       "    <tr>\n",
       "      <th>ENSMUSG00000039480.14</th>\n",
       "      <td>0.554045</td>\n",
       "      <td>1.000000</td>\n",
       "      <td>0.997603</td>\n",
       "      <td>0.997914</td>\n",
       "      <td>1.001627</td>\n",
       "      <td>130264</td>\n",
       "      <td>0</td>\n",
       "      <td>Nt5dc1</td>\n",
       "    </tr>\n",
       "    <tr>\n",
       "      <th>ENSMUSG00000070354.13</th>\n",
       "      <td>0.533546</td>\n",
       "      <td>1.000000</td>\n",
       "      <td>1.046187</td>\n",
       "      <td>1.042132</td>\n",
       "      <td>1.039432</td>\n",
       "      <td>17204</td>\n",
       "      <td>0</td>\n",
       "      <td>Evi2</td>\n",
       "    </tr>\n",
       "    <tr>\n",
       "      <th>ENSMUSG00000047187.9</th>\n",
       "      <td>0.000021</td>\n",
       "      <td>0.000679</td>\n",
       "      <td>0.951726</td>\n",
       "      <td>0.944251</td>\n",
       "      <td>0.969846</td>\n",
       "      <td>72134</td>\n",
       "      <td>-1</td>\n",
       "      <td>Rab2a</td>\n",
       "    </tr>\n",
       "  </tbody>\n",
       "</table>\n",
       "</div>"
      ],
      "text/plain": [
       "                         pvalue  corrected_pvalue      18mo       2mo  \\\n",
       "geneslop2k                                                              \n",
       "ENSMUSG00000069824.5   0.432191          1.000000  1.033908  1.038785   \n",
       "ENSMUSG00000009093.7   0.000002          0.000074  1.111812  1.134192   \n",
       "ENSMUSG00000039480.14  0.554045          1.000000  0.997603  0.997914   \n",
       "ENSMUSG00000070354.13  0.533546          1.000000  1.046187  1.042132   \n",
       "ENSMUSG00000047187.9   0.000021          0.000679  0.951726  0.944251   \n",
       "\n",
       "                            9mo  gene_length  DMG    gene_name  \n",
       "geneslop2k                                                      \n",
       "ENSMUSG00000069824.5   1.033349         4133    0  Olfr377-ps1  \n",
       "ENSMUSG00000009093.7   1.115521         7600    1        Gstt4  \n",
       "ENSMUSG00000039480.14  1.001627       130264    0       Nt5dc1  \n",
       "ENSMUSG00000070354.13  1.039432        17204    0         Evi2  \n",
       "ENSMUSG00000047187.9   0.969846        72134   -1        Rab2a  "
      ]
     },
     "execution_count": 7,
     "metadata": {},
     "output_type": "execute_result"
    }
   ],
   "source": [
    "dmg =all_dmg[all_dmg['celltype'] == ct].copy()\n",
    "dmg['gene_name'] = dmg.index.map(gene_meta.set_index('gene_id')['gene_name'].to_dict())\n",
    "# change columns name 8wk to 2mo\n",
    "dmg.columns = dmg.columns.str.replace('8wk', '2mo')\n",
    "# add a column DMG, make corrected_pvalue < 0.05 and methylation_change > 0 as -1; corrected_pvalue < 0.05 and methylation_change < 0 as 1; the rest as 0\n",
    "dmg['DMG'] = np.where((dmg['methylation_change'] > 0) & (dmg['pvalue'] < 0.05), -1, np.where((dmg['methylation_change'] < 0) & (dmg['pvalue'] < 0.05), 1, 0))\n",
    "#dmg drop celltype, methylation_change, abs_change, trend\n",
    "dmg = dmg.drop(columns = ['celltype', 'methylation_change', 'abs_change', 'trend'])\n",
    "dmg.head()"
   ]
  },
  {
   "cell_type": "code",
   "execution_count": 8,
   "id": "eaeef715",
   "metadata": {
    "execution": {
     "iopub.execute_input": "2024-12-08T03:35:27.105667Z",
     "iopub.status.busy": "2024-12-08T03:35:27.105440Z",
     "iopub.status.idle": "2024-12-08T03:35:27.314595Z",
     "shell.execute_reply": "2024-12-08T03:35:27.313889Z"
    },
    "papermill": {
     "duration": 0.213325,
     "end_time": "2024-12-08T03:35:27.316087",
     "exception": false,
     "start_time": "2024-12-08T03:35:27.102762",
     "status": "completed"
    },
    "tags": []
   },
   "outputs": [],
   "source": [
    "dmg.to_csv(f\"{home_dir}/ml_input/{ct}/{ct}.mCG_genebody_gene.csv\")"
   ]
  },
  {
   "cell_type": "code",
   "execution_count": null,
   "id": "9e2099a3",
   "metadata": {
    "papermill": {
     "duration": 0.001983,
     "end_time": "2024-12-08T03:35:27.320134",
     "exception": false,
     "start_time": "2024-12-08T03:35:27.318151",
     "status": "completed"
    },
    "tags": []
   },
   "outputs": [],
   "source": []
  }
 ],
 "metadata": {
  "kernelspec": {
   "display_name": "base",
   "language": "python",
   "name": "python3"
  },
  "language_info": {
   "codemirror_mode": {
    "name": "ipython",
    "version": 3
   },
   "file_extension": ".py",
   "mimetype": "text/x-python",
   "name": "python",
   "nbconvert_exporter": "python",
   "pygments_lexer": "ipython3",
   "version": "3.10.12"
  },
  "papermill": {
   "default_parameters": {},
   "duration": 5.572989,
   "end_time": "2024-12-08T03:35:27.638627",
   "environment_variables": {},
   "exception": null,
   "input_path": "/home/qzeng_salk_edu/project/241018_pre_ml/gen_ml_input/notebooks/02.mcg_gene_body.ipynb",
   "output_path": "DG_Glut/02.mcg_gene_body.ipynb",
   "parameters": {
    "cpu": 8,
    "group_name": "DG_Glut",
    "mem_gb": 10
   },
   "start_time": "2024-12-08T03:35:22.065638",
   "version": "2.4.0"
  }
 },
 "nbformat": 4,
 "nbformat_minor": 5
}