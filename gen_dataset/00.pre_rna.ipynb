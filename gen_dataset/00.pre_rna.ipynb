{
 "cells": [
  {
   "cell_type": "code",
   "execution_count": 1,
   "id": "2d50250a",
   "metadata": {
    "execution": {
     "iopub.execute_input": "2024-12-08T03:33:44.918045Z",
     "iopub.status.busy": "2024-12-08T03:33:44.917810Z",
     "iopub.status.idle": "2024-12-08T03:33:44.923188Z",
     "shell.execute_reply": "2024-12-08T03:33:44.922712Z"
    },
    "papermill": {
     "duration": 0.010404,
     "end_time": "2024-12-08T03:33:44.924308",
     "exception": false,
     "start_time": "2024-12-08T03:33:44.913904",
     "status": "completed"
    },
    "tags": [
     "injected-parameters"
    ]
   },
   "outputs": [],
   "source": [
    "# Parameters\n",
    "cpu = 8\n",
    "group_name = \"DG_Glut\"\n",
    "mem_gb = 10\n"
   ]
  },
  {
   "cell_type": "code",
   "execution_count": 2,
   "id": "36f3d5eb-3551-4eca-b807-f5d017e28690",
   "metadata": {
    "execution": {
     "iopub.execute_input": "2024-12-08T03:33:44.930357Z",
     "iopub.status.busy": "2024-12-08T03:33:44.929900Z",
     "iopub.status.idle": "2024-12-08T03:33:50.836249Z",
     "shell.execute_reply": "2024-12-08T03:33:50.835730Z"
    },
    "papermill": {
     "duration": 5.911094,
     "end_time": "2024-12-08T03:33:50.837908",
     "exception": false,
     "start_time": "2024-12-08T03:33:44.926814",
     "status": "completed"
    },
    "tags": []
   },
   "outputs": [],
   "source": [
    "import numpy as np\n",
    "import pandas as pd\n",
    "import seaborn as sns\n",
    "import matplotlib as mpl\n",
    "import matplotlib.pyplot as plt\n",
    "import anndata\n",
    "import scanpy as sc\n",
    "from glob import glob\n",
    "import time\n",
    "import cooler\n",
    "import subprocess\n",
    "import glob\n",
    "import pathlib\n",
    "from tqdm import tqdm\n",
    "from collections import defaultdict"
   ]
  },
  {
   "cell_type": "code",
   "execution_count": 3,
   "id": "d6a8cfd4",
   "metadata": {
    "execution": {
     "iopub.execute_input": "2024-12-08T03:33:50.844065Z",
     "iopub.status.busy": "2024-12-08T03:33:50.843641Z",
     "iopub.status.idle": "2024-12-08T03:33:50.846548Z",
     "shell.execute_reply": "2024-12-08T03:33:50.846051Z"
    },
    "papermill": {
     "duration": 0.007103,
     "end_time": "2024-12-08T03:33:50.847746",
     "exception": false,
     "start_time": "2024-12-08T03:33:50.840643",
     "status": "completed"
    },
    "tags": []
   },
   "outputs": [],
   "source": [
    "#group_name = 'DG_Glut'"
   ]
  },
  {
   "cell_type": "code",
   "execution_count": 4,
   "id": "b52380c0",
   "metadata": {
    "execution": {
     "iopub.execute_input": "2024-12-08T03:33:50.853624Z",
     "iopub.status.busy": "2024-12-08T03:33:50.853348Z",
     "iopub.status.idle": "2024-12-08T03:33:50.856554Z",
     "shell.execute_reply": "2024-12-08T03:33:50.855910Z"
    },
    "papermill": {
     "duration": 0.007716,
     "end_time": "2024-12-08T03:33:50.857790",
     "exception": false,
     "start_time": "2024-12-08T03:33:50.850074",
     "status": "completed"
    },
    "tags": []
   },
   "outputs": [],
   "source": [
    "home_dir = '/home/qzeng_salk_edu/project/241018_pre_ml/'\n",
    "ct = group_name\n"
   ]
  },
  {
   "cell_type": "code",
   "execution_count": 5,
   "id": "f5764520",
   "metadata": {
    "execution": {
     "iopub.execute_input": "2024-12-08T03:33:50.863671Z",
     "iopub.status.busy": "2024-12-08T03:33:50.863484Z",
     "iopub.status.idle": "2024-12-08T03:33:51.498872Z",
     "shell.execute_reply": "2024-12-08T03:33:51.498177Z"
    },
    "papermill": {
     "duration": 0.640055,
     "end_time": "2024-12-08T03:33:51.500490",
     "exception": false,
     "start_time": "2024-12-08T03:33:50.860435",
     "status": "completed"
    },
    "tags": []
   },
   "outputs": [],
   "source": [
    "gene_meta = pd.read_csv('/data/ref/gencode.vM22.basic.annotation.gene.flat.tsv.gz', sep = '\\t')\n",
    "use_gene_types = ['protein_coding','lncRNA']\n",
    "\n",
    "use_genes = pd.read_csv(f'{home_dir}/mm10_gene_2kb.bed', index_col = None, header = None, sep = '\\t')\n",
    "use_genes = use_genes[5].values"
   ]
  },
  {
   "cell_type": "code",
   "execution_count": 6,
   "id": "d6c6cad1",
   "metadata": {
    "execution": {
     "iopub.execute_input": "2024-12-08T03:33:51.506793Z",
     "iopub.status.busy": "2024-12-08T03:33:51.506298Z",
     "iopub.status.idle": "2024-12-08T03:33:51.509545Z",
     "shell.execute_reply": "2024-12-08T03:33:51.509030Z"
    },
    "papermill": {
     "duration": 0.007594,
     "end_time": "2024-12-08T03:33:51.510719",
     "exception": false,
     "start_time": "2024-12-08T03:33:51.503125",
     "status": "completed"
    },
    "tags": []
   },
   "outputs": [],
   "source": [
    "import pathlib\n",
    "# make a dir ml_input/{ct}\n",
    "pathlib.Path(f'{home_dir}/ml_input/{ct}').mkdir(parents=True, exist_ok=True)"
   ]
  },
  {
   "cell_type": "code",
   "execution_count": 7,
   "id": "ef9d3a08",
   "metadata": {
    "execution": {
     "iopub.execute_input": "2024-12-08T03:33:51.517411Z",
     "iopub.status.busy": "2024-12-08T03:33:51.517224Z",
     "iopub.status.idle": "2024-12-08T03:33:52.296866Z",
     "shell.execute_reply": "2024-12-08T03:33:52.296292Z"
    },
    "papermill": {
     "duration": 0.78387,
     "end_time": "2024-12-08T03:33:52.297973",
     "exception": false,
     "start_time": "2024-12-08T03:33:51.514103",
     "status": "completed"
    },
    "tags": []
   },
   "outputs": [
    {
     "data": {
      "text/html": [
       "<div>\n",
       "<style scoped>\n",
       "    .dataframe tbody tr th:only-of-type {\n",
       "        vertical-align: middle;\n",
       "    }\n",
       "\n",
       "    .dataframe tbody tr th {\n",
       "        vertical-align: top;\n",
       "    }\n",
       "\n",
       "    .dataframe thead th {\n",
       "        text-align: right;\n",
       "    }\n",
       "</style>\n",
       "<table border=\"1\" class=\"dataframe\">\n",
       "  <thead>\n",
       "    <tr style=\"text-align: right;\">\n",
       "      <th></th>\n",
       "      <th>stats</th>\n",
       "      <th>fdr</th>\n",
       "      <th>log2(old/young)</th>\n",
       "      <th>DEG</th>\n",
       "      <th>-log10(fdr)</th>\n",
       "    </tr>\n",
       "    <tr>\n",
       "      <th>gene</th>\n",
       "      <th></th>\n",
       "      <th></th>\n",
       "      <th></th>\n",
       "      <th></th>\n",
       "      <th></th>\n",
       "    </tr>\n",
       "  </thead>\n",
       "  <tbody>\n",
       "    <tr>\n",
       "      <th>Xkr4</th>\n",
       "      <td>323.576557</td>\n",
       "      <td>2.691351e-69</td>\n",
       "      <td>-0.187008</td>\n",
       "      <td>0</td>\n",
       "      <td>68.570030</td>\n",
       "    </tr>\n",
       "    <tr>\n",
       "      <th>Gm1992</th>\n",
       "      <td>312.377331</td>\n",
       "      <td>6.712878e-67</td>\n",
       "      <td>-1.829304</td>\n",
       "      <td>-1</td>\n",
       "      <td>66.173091</td>\n",
       "    </tr>\n",
       "    <tr>\n",
       "      <th>Mrpl15</th>\n",
       "      <td>29.183867</td>\n",
       "      <td>1.154416e-06</td>\n",
       "      <td>0.040531</td>\n",
       "      <td>0</td>\n",
       "      <td>5.937638</td>\n",
       "    </tr>\n",
       "    <tr>\n",
       "      <th>Lypla1</th>\n",
       "      <td>6.037245</td>\n",
       "      <td>6.604203e-02</td>\n",
       "      <td>0.183398</td>\n",
       "      <td>0</td>\n",
       "      <td>1.180180</td>\n",
       "    </tr>\n",
       "    <tr>\n",
       "      <th>Tcea1</th>\n",
       "      <td>30.854576</td>\n",
       "      <td>5.174600e-07</td>\n",
       "      <td>0.107180</td>\n",
       "      <td>0</td>\n",
       "      <td>6.286123</td>\n",
       "    </tr>\n",
       "    <tr>\n",
       "      <th>...</th>\n",
       "      <td>...</td>\n",
       "      <td>...</td>\n",
       "      <td>...</td>\n",
       "      <td>...</td>\n",
       "      <td>...</td>\n",
       "    </tr>\n",
       "    <tr>\n",
       "      <th>Nhlh1</th>\n",
       "      <td>1.056245</td>\n",
       "      <td>6.284981e-01</td>\n",
       "      <td>0.170464</td>\n",
       "      <td>0</td>\n",
       "      <td>0.201696</td>\n",
       "    </tr>\n",
       "    <tr>\n",
       "      <th>Gm5678</th>\n",
       "      <td>2.428680</td>\n",
       "      <td>3.419347e-01</td>\n",
       "      <td>1.672156</td>\n",
       "      <td>0</td>\n",
       "      <td>0.466057</td>\n",
       "    </tr>\n",
       "    <tr>\n",
       "      <th>Pla2g2f</th>\n",
       "      <td>3.138304</td>\n",
       "      <td>2.483605e-01</td>\n",
       "      <td>0.532965</td>\n",
       "      <td>0</td>\n",
       "      <td>0.604917</td>\n",
       "    </tr>\n",
       "    <tr>\n",
       "      <th>Gm16131</th>\n",
       "      <td>9.908671</td>\n",
       "      <td>1.094131e-02</td>\n",
       "      <td>0.071474</td>\n",
       "      <td>0</td>\n",
       "      <td>1.960931</td>\n",
       "    </tr>\n",
       "    <tr>\n",
       "      <th>Syna</th>\n",
       "      <td>16.897107</td>\n",
       "      <td>4.048947e-04</td>\n",
       "      <td>-3.351369</td>\n",
       "      <td>0</td>\n",
       "      <td>3.392658</td>\n",
       "    </tr>\n",
       "  </tbody>\n",
       "</table>\n",
       "<p>15346 rows × 5 columns</p>\n",
       "</div>"
      ],
      "text/plain": [
       "              stats           fdr  log2(old/young)  DEG  -log10(fdr)\n",
       "gene                                                                \n",
       "Xkr4     323.576557  2.691351e-69        -0.187008    0    68.570030\n",
       "Gm1992   312.377331  6.712878e-67        -1.829304   -1    66.173091\n",
       "Mrpl15    29.183867  1.154416e-06         0.040531    0     5.937638\n",
       "Lypla1     6.037245  6.604203e-02         0.183398    0     1.180180\n",
       "Tcea1     30.854576  5.174600e-07         0.107180    0     6.286123\n",
       "...             ...           ...              ...  ...          ...\n",
       "Nhlh1      1.056245  6.284981e-01         0.170464    0     0.201696\n",
       "Gm5678     2.428680  3.419347e-01         1.672156    0     0.466057\n",
       "Pla2g2f    3.138304  2.483605e-01         0.532965    0     0.604917\n",
       "Gm16131    9.908671  1.094131e-02         0.071474    0     1.960931\n",
       "Syna      16.897107  4.048947e-04        -3.351369    0     3.392658\n",
       "\n",
       "[15346 rows x 5 columns]"
      ]
     },
     "execution_count": 7,
     "metadata": {},
     "output_type": "execute_result"
    }
   ],
   "source": [
    "# my deg analysis\n",
    "pvalue_cut = 1e-5\n",
    "log2fc_cut = 0.3\n",
    "\n",
    "\n",
    "expr = pd.read_hdf(f'/data/female-amb/Diff.Result/DEG.stats/{ct}/expr.hdf').T\n",
    "expr = expr + 1e-5\n",
    "all_genes = pd.read_hdf(f'/data/female-amb/Diff.Result/DEG.stats/{ct}/deg_stats.hdf')\n",
    "all_genes['log2(old/young)'] = np.log2(expr[f\"{ct}.18mo\"]/expr[f\"{ct}.2mo\"])\n",
    "\n",
    "# highly expressed genes\n",
    "highly_expressed_genes = expr.sum(axis = 1)[expr.sum(axis = 1) > 1e-3].index\n",
    "all_genes = all_genes.loc[all_genes.index.isin(highly_expressed_genes)]\n",
    "\n",
    "# add a column in all_genes, if the gene not in deg_df the value = 0; if the value in deg_df['avg_log2FC'] > 0, the value = -1; if the value in deg_df['avg_log2FC'] < 0, the value = 1\n",
    "deg_df = all_genes[(all_genes['fdr'] < pvalue_cut) & (np.abs(all_genes['log2(old/young)']) > log2fc_cut)]\n",
    "all_genes['DEG'] = 0\n",
    "all_genes.loc[deg_df.index, 'DEG'] = all_genes.loc[deg_df.index, 'log2(old/young)'].apply(lambda x: 1 if x > 0 else -1)\n",
    "all_genes = all_genes[all_genes.index.isin(use_genes)]\n",
    "\n",
    "min_value = all_genes[all_genes['fdr'] != 0].sort_values('fdr').iloc[0]['fdr']\n",
    "all_genes['-log10(fdr)'] = -np.log10(all_genes['fdr'] + min_value)\n",
    "all_genes"
   ]
  },
  {
   "cell_type": "code",
   "execution_count": 8,
   "id": "8ca8425a",
   "metadata": {
    "execution": {
     "iopub.execute_input": "2024-12-08T03:33:52.304717Z",
     "iopub.status.busy": "2024-12-08T03:33:52.304538Z",
     "iopub.status.idle": "2024-12-08T03:33:52.312673Z",
     "shell.execute_reply": "2024-12-08T03:33:52.311861Z"
    },
    "papermill": {
     "duration": 0.013198,
     "end_time": "2024-12-08T03:33:52.314012",
     "exception": false,
     "start_time": "2024-12-08T03:33:52.300814",
     "status": "completed"
    },
    "tags": []
   },
   "outputs": [
    {
     "data": {
      "text/plain": [
       "DEG\n",
       " 0    12750\n",
       "-1     2285\n",
       " 1      311\n",
       "Name: count, dtype: int64"
      ]
     },
     "execution_count": 8,
     "metadata": {},
     "output_type": "execute_result"
    }
   ],
   "source": [
    "all_genes = all_genes[all_genes.index.isin(use_genes)]\n",
    "all_genes['DEG'].value_counts()"
   ]
  },
  {
   "cell_type": "code",
   "execution_count": 9,
   "id": "736c2cb8",
   "metadata": {
    "execution": {
     "iopub.execute_input": "2024-12-08T03:33:52.320848Z",
     "iopub.status.busy": "2024-12-08T03:33:52.320399Z",
     "iopub.status.idle": "2024-12-08T03:33:52.399204Z",
     "shell.execute_reply": "2024-12-08T03:33:52.398478Z"
    },
    "papermill": {
     "duration": 0.083953,
     "end_time": "2024-12-08T03:33:52.400909",
     "exception": false,
     "start_time": "2024-12-08T03:33:52.316956",
     "status": "completed"
    },
    "tags": []
   },
   "outputs": [],
   "source": [
    "all_genes.to_csv(f\"{home_dir}/ml_input/{ct}/{ct}.RNA_DEG.csv\")"
   ]
  },
  {
   "cell_type": "markdown",
   "id": "f46a50d5",
   "metadata": {
    "papermill": {
     "duration": 0.004509,
     "end_time": "2024-12-08T03:33:52.410467",
     "exception": false,
     "start_time": "2024-12-08T03:33:52.405958",
     "status": "completed"
    },
    "tags": []
   },
   "source": [
    "## luida deg"
   ]
  },
  {
   "cell_type": "code",
   "execution_count": 10,
   "id": "f3e0ce31",
   "metadata": {
    "execution": {
     "iopub.execute_input": "2024-12-08T03:33:52.417487Z",
     "iopub.status.busy": "2024-12-08T03:33:52.417249Z",
     "iopub.status.idle": "2024-12-08T03:33:52.562514Z",
     "shell.execute_reply": "2024-12-08T03:33:52.562034Z"
    },
    "papermill": {
     "duration": 0.150433,
     "end_time": "2024-12-08T03:33:52.564178",
     "exception": false,
     "start_time": "2024-12-08T03:33:52.413745",
     "status": "completed"
    },
    "tags": []
   },
   "outputs": [
    {
     "data": {
      "text/html": [
       "<div>\n",
       "<style scoped>\n",
       "    .dataframe tbody tr th:only-of-type {\n",
       "        vertical-align: middle;\n",
       "    }\n",
       "\n",
       "    .dataframe tbody tr th {\n",
       "        vertical-align: top;\n",
       "    }\n",
       "\n",
       "    .dataframe thead th {\n",
       "        text-align: right;\n",
       "    }\n",
       "</style>\n",
       "<table border=\"1\" class=\"dataframe\">\n",
       "  <thead>\n",
       "    <tr style=\"text-align: right;\">\n",
       "      <th></th>\n",
       "      <th>p_val</th>\n",
       "      <th>avg_log2FC</th>\n",
       "      <th>pct.1</th>\n",
       "      <th>pct.2</th>\n",
       "      <th>p_val_adj</th>\n",
       "    </tr>\n",
       "  </thead>\n",
       "  <tbody>\n",
       "    <tr>\n",
       "      <th>Nrg1</th>\n",
       "      <td>0.0</td>\n",
       "      <td>-1.279634</td>\n",
       "      <td>0.512</td>\n",
       "      <td>0.836</td>\n",
       "      <td>0.0</td>\n",
       "    </tr>\n",
       "    <tr>\n",
       "      <th>Snhg11</th>\n",
       "      <td>0.0</td>\n",
       "      <td>-1.234044</td>\n",
       "      <td>0.407</td>\n",
       "      <td>0.702</td>\n",
       "      <td>0.0</td>\n",
       "    </tr>\n",
       "    <tr>\n",
       "      <th>Gm48530</th>\n",
       "      <td>0.0</td>\n",
       "      <td>-2.092791</td>\n",
       "      <td>0.112</td>\n",
       "      <td>0.401</td>\n",
       "      <td>0.0</td>\n",
       "    </tr>\n",
       "    <tr>\n",
       "      <th>Zfp804b</th>\n",
       "      <td>0.0</td>\n",
       "      <td>-1.415103</td>\n",
       "      <td>0.266</td>\n",
       "      <td>0.536</td>\n",
       "      <td>0.0</td>\n",
       "    </tr>\n",
       "    <tr>\n",
       "      <th>Xist</th>\n",
       "      <td>0.0</td>\n",
       "      <td>-0.855881</td>\n",
       "      <td>0.562</td>\n",
       "      <td>0.827</td>\n",
       "      <td>0.0</td>\n",
       "    </tr>\n",
       "  </tbody>\n",
       "</table>\n",
       "</div>"
      ],
      "text/plain": [
       "         p_val  avg_log2FC  pct.1  pct.2  p_val_adj\n",
       "Nrg1       0.0   -1.279634  0.512  0.836        0.0\n",
       "Snhg11     0.0   -1.234044  0.407  0.702        0.0\n",
       "Gm48530    0.0   -2.092791  0.112  0.401        0.0\n",
       "Zfp804b    0.0   -1.415103  0.266  0.536        0.0\n",
       "Xist       0.0   -0.855881  0.562  0.827        0.0"
      ]
     },
     "execution_count": 10,
     "metadata": {},
     "output_type": "execute_result"
    }
   ],
   "source": [
    "pvalue_cut = 1e-2\n",
    "log2fc_cut = 0.3\n",
    "\n",
    "#luisa deg analysis\n",
    "deg_dir = '/data/female-amb/Diff.Result/luisa_deg'\n",
    "# load luisa results\n",
    "df= pd.read_csv(f'{deg_dir}/{ct}.csv', index_col=0)\n",
    "#select the DEGs bt the cutoffs\n",
    "deg_df = df[(df['p_val_adj'] < pvalue_cut) & (np.abs(df['avg_log2FC']) > log2fc_cut)]\n",
    "deg_df.head()"
   ]
  },
  {
   "cell_type": "code",
   "execution_count": 11,
   "id": "14e023a6-b23f-4c2f-9376-a94cd4a5ce71",
   "metadata": {
    "execution": {
     "iopub.execute_input": "2024-12-08T03:33:52.575276Z",
     "iopub.status.busy": "2024-12-08T03:33:52.575051Z",
     "iopub.status.idle": "2024-12-08T03:33:52.798971Z",
     "shell.execute_reply": "2024-12-08T03:33:52.798412Z"
    },
    "papermill": {
     "duration": 0.230954,
     "end_time": "2024-12-08T03:33:52.800160",
     "exception": false,
     "start_time": "2024-12-08T03:33:52.569206",
     "status": "completed"
    },
    "tags": []
   },
   "outputs": [
    {
     "name": "stderr",
     "output_type": "stream",
     "text": [
      "/opt/conda/lib/python3.10/site-packages/pandas/core/arraylike.py:399: RuntimeWarning: divide by zero encountered in log10\n",
      "  result = getattr(ufunc, method)(*inputs, **kwargs)\n"
     ]
    },
    {
     "data": {
      "text/plain": [
       "<matplotlib.collections.PathCollection at 0x7f9ee96b2aa0>"
      ]
     },
     "execution_count": 11,
     "metadata": {},
     "output_type": "execute_result"
    },
    {
     "data": {
      "image/png": "[encoded data removed]",
      "text/plain": [
       "<Figure size 200x200 with 1 Axes>"
      ]
     },
     "metadata": {},
     "output_type": "display_data"
    }
   ],
   "source": [
    "# plot the volcano plot, with df in the background  and DEGs in the foreground\n",
    "fig, ax = plt.subplots(figsize=(2,2))\n",
    "ax.scatter(df['avg_log2FC'], -np.log10(df['p_val_adj']), s=3, color='lightgray')\n",
    "ax.scatter(deg_df['avg_log2FC'], -np.log10(deg_df['p_val_adj']), s=5)"
   ]
  },
  {
   "cell_type": "code",
   "execution_count": 12,
   "id": "194d532c",
   "metadata": {
    "execution": {
     "iopub.execute_input": "2024-12-08T03:33:52.807721Z",
     "iopub.status.busy": "2024-12-08T03:33:52.807549Z",
     "iopub.status.idle": "2024-12-08T03:33:52.813720Z",
     "shell.execute_reply": "2024-12-08T03:33:52.813221Z"
    },
    "papermill": {
     "duration": 0.011151,
     "end_time": "2024-12-08T03:33:52.814799",
     "exception": false,
     "start_time": "2024-12-08T03:33:52.803648",
     "status": "completed"
    },
    "tags": []
   },
   "outputs": [],
   "source": [
    "df['DEG'] = 0\n",
    "df.loc[deg_df.index, 'DEG'] = df.loc[deg_df.index, 'avg_log2FC'].apply(lambda x: -1 if x > 0 else 1)"
   ]
  },
  {
   "cell_type": "code",
   "execution_count": 13,
   "id": "795b2939",
   "metadata": {
    "execution": {
     "iopub.execute_input": "2024-12-08T03:33:52.822167Z",
     "iopub.status.busy": "2024-12-08T03:33:52.822001Z",
     "iopub.status.idle": "2024-12-08T03:33:52.827544Z",
     "shell.execute_reply": "2024-12-08T03:33:52.827097Z"
    },
    "papermill": {
     "duration": 0.010431,
     "end_time": "2024-12-08T03:33:52.828643",
     "exception": false,
     "start_time": "2024-12-08T03:33:52.818212",
     "status": "completed"
    },
    "tags": []
   },
   "outputs": [],
   "source": [
    "df = df.loc[df.index.isin(use_genes)]"
   ]
  },
  {
   "cell_type": "code",
   "execution_count": 14,
   "id": "eb43dbda",
   "metadata": {
    "execution": {
     "iopub.execute_input": "2024-12-08T03:33:52.835877Z",
     "iopub.status.busy": "2024-12-08T03:33:52.835714Z",
     "iopub.status.idle": "2024-12-08T03:33:52.846641Z",
     "shell.execute_reply": "2024-12-08T03:33:52.846213Z"
    },
    "papermill": {
     "duration": 0.015882,
     "end_time": "2024-12-08T03:33:52.847813",
     "exception": false,
     "start_time": "2024-12-08T03:33:52.831931",
     "status": "completed"
    },
    "tags": []
   },
   "outputs": [
    {
     "data": {
      "text/html": [
       "<div>\n",
       "<style scoped>\n",
       "    .dataframe tbody tr th:only-of-type {\n",
       "        vertical-align: middle;\n",
       "    }\n",
       "\n",
       "    .dataframe tbody tr th {\n",
       "        vertical-align: top;\n",
       "    }\n",
       "\n",
       "    .dataframe thead th {\n",
       "        text-align: right;\n",
       "    }\n",
       "</style>\n",
       "<table border=\"1\" class=\"dataframe\">\n",
       "  <thead>\n",
       "    <tr style=\"text-align: right;\">\n",
       "      <th></th>\n",
       "      <th>p_val</th>\n",
       "      <th>avg_log2FC</th>\n",
       "      <th>pct.1</th>\n",
       "      <th>pct.2</th>\n",
       "      <th>p_val_adj</th>\n",
       "      <th>DEG</th>\n",
       "    </tr>\n",
       "  </thead>\n",
       "  <tbody>\n",
       "    <tr>\n",
       "      <th>Nrg1</th>\n",
       "      <td>0.000000e+00</td>\n",
       "      <td>-1.279634</td>\n",
       "      <td>0.512</td>\n",
       "      <td>0.836</td>\n",
       "      <td>0.000000e+00</td>\n",
       "      <td>1</td>\n",
       "    </tr>\n",
       "    <tr>\n",
       "      <th>Snhg11</th>\n",
       "      <td>0.000000e+00</td>\n",
       "      <td>-1.234044</td>\n",
       "      <td>0.407</td>\n",
       "      <td>0.702</td>\n",
       "      <td>0.000000e+00</td>\n",
       "      <td>1</td>\n",
       "    </tr>\n",
       "    <tr>\n",
       "      <th>Zfp804b</th>\n",
       "      <td>0.000000e+00</td>\n",
       "      <td>-1.415103</td>\n",
       "      <td>0.266</td>\n",
       "      <td>0.536</td>\n",
       "      <td>0.000000e+00</td>\n",
       "      <td>1</td>\n",
       "    </tr>\n",
       "    <tr>\n",
       "      <th>Xist</th>\n",
       "      <td>0.000000e+00</td>\n",
       "      <td>-0.855881</td>\n",
       "      <td>0.562</td>\n",
       "      <td>0.827</td>\n",
       "      <td>0.000000e+00</td>\n",
       "      <td>1</td>\n",
       "    </tr>\n",
       "    <tr>\n",
       "      <th>Nrxn3</th>\n",
       "      <td>0.000000e+00</td>\n",
       "      <td>-1.176254</td>\n",
       "      <td>0.774</td>\n",
       "      <td>0.985</td>\n",
       "      <td>0.000000e+00</td>\n",
       "      <td>1</td>\n",
       "    </tr>\n",
       "    <tr>\n",
       "      <th>Camk2d</th>\n",
       "      <td>0.000000e+00</td>\n",
       "      <td>-3.280839</td>\n",
       "      <td>0.032</td>\n",
       "      <td>0.242</td>\n",
       "      <td>0.000000e+00</td>\n",
       "      <td>1</td>\n",
       "    </tr>\n",
       "    <tr>\n",
       "      <th>Meg3</th>\n",
       "      <td>0.000000e+00</td>\n",
       "      <td>-1.000236</td>\n",
       "      <td>0.900</td>\n",
       "      <td>0.973</td>\n",
       "      <td>0.000000e+00</td>\n",
       "      <td>1</td>\n",
       "    </tr>\n",
       "    <tr>\n",
       "      <th>Rfx3</th>\n",
       "      <td>0.000000e+00</td>\n",
       "      <td>0.488790</td>\n",
       "      <td>0.992</td>\n",
       "      <td>0.953</td>\n",
       "      <td>0.000000e+00</td>\n",
       "      <td>-1</td>\n",
       "    </tr>\n",
       "    <tr>\n",
       "      <th>Grin2a</th>\n",
       "      <td>0.000000e+00</td>\n",
       "      <td>0.470946</td>\n",
       "      <td>0.999</td>\n",
       "      <td>0.993</td>\n",
       "      <td>0.000000e+00</td>\n",
       "      <td>-1</td>\n",
       "    </tr>\n",
       "    <tr>\n",
       "      <th>Zbtb20</th>\n",
       "      <td>0.000000e+00</td>\n",
       "      <td>0.390037</td>\n",
       "      <td>1.000</td>\n",
       "      <td>0.998</td>\n",
       "      <td>0.000000e+00</td>\n",
       "      <td>-1</td>\n",
       "    </tr>\n",
       "    <tr>\n",
       "      <th>Rbfox1</th>\n",
       "      <td>0.000000e+00</td>\n",
       "      <td>0.382806</td>\n",
       "      <td>1.000</td>\n",
       "      <td>0.999</td>\n",
       "      <td>0.000000e+00</td>\n",
       "      <td>-1</td>\n",
       "    </tr>\n",
       "    <tr>\n",
       "      <th>Grin1</th>\n",
       "      <td>1.021928e-313</td>\n",
       "      <td>-0.732905</td>\n",
       "      <td>0.632</td>\n",
       "      <td>0.719</td>\n",
       "      <td>2.654357e-309</td>\n",
       "      <td>1</td>\n",
       "    </tr>\n",
       "    <tr>\n",
       "      <th>Egfem1</th>\n",
       "      <td>2.432446e-301</td>\n",
       "      <td>0.574156</td>\n",
       "      <td>0.955</td>\n",
       "      <td>0.861</td>\n",
       "      <td>6.318035e-297</td>\n",
       "      <td>-1</td>\n",
       "    </tr>\n",
       "    <tr>\n",
       "      <th>Fgf14</th>\n",
       "      <td>4.196492e-299</td>\n",
       "      <td>0.300648</td>\n",
       "      <td>1.000</td>\n",
       "      <td>0.999</td>\n",
       "      <td>1.089997e-294</td>\n",
       "      <td>-1</td>\n",
       "    </tr>\n",
       "    <tr>\n",
       "      <th>Slc4a4</th>\n",
       "      <td>1.803190e-295</td>\n",
       "      <td>0.764164</td>\n",
       "      <td>0.896</td>\n",
       "      <td>0.751</td>\n",
       "      <td>4.683606e-291</td>\n",
       "      <td>-1</td>\n",
       "    </tr>\n",
       "    <tr>\n",
       "      <th>Plxna4</th>\n",
       "      <td>1.215740e-277</td>\n",
       "      <td>0.523029</td>\n",
       "      <td>0.961</td>\n",
       "      <td>0.899</td>\n",
       "      <td>3.157764e-273</td>\n",
       "      <td>-1</td>\n",
       "    </tr>\n",
       "    <tr>\n",
       "      <th>Gm15738</th>\n",
       "      <td>1.334649e-272</td>\n",
       "      <td>1.940843</td>\n",
       "      <td>0.198</td>\n",
       "      <td>0.057</td>\n",
       "      <td>3.466617e-268</td>\n",
       "      <td>-1</td>\n",
       "    </tr>\n",
       "    <tr>\n",
       "      <th>Il1rapl1</th>\n",
       "      <td>9.658026e-261</td>\n",
       "      <td>0.274341</td>\n",
       "      <td>0.999</td>\n",
       "      <td>0.997</td>\n",
       "      <td>2.508576e-256</td>\n",
       "      <td>0</td>\n",
       "    </tr>\n",
       "    <tr>\n",
       "      <th>Cacna1e</th>\n",
       "      <td>1.045167e-254</td>\n",
       "      <td>0.411063</td>\n",
       "      <td>0.976</td>\n",
       "      <td>0.931</td>\n",
       "      <td>2.714716e-250</td>\n",
       "      <td>-1</td>\n",
       "    </tr>\n",
       "    <tr>\n",
       "      <th>Nell2</th>\n",
       "      <td>1.447965e-254</td>\n",
       "      <td>0.499448</td>\n",
       "      <td>0.940</td>\n",
       "      <td>0.847</td>\n",
       "      <td>3.760944e-250</td>\n",
       "      <td>-1</td>\n",
       "    </tr>\n",
       "  </tbody>\n",
       "</table>\n",
       "</div>"
      ],
      "text/plain": [
       "                  p_val  avg_log2FC  pct.1  pct.2      p_val_adj  DEG\n",
       "Nrg1       0.000000e+00   -1.279634  0.512  0.836   0.000000e+00    1\n",
       "Snhg11     0.000000e+00   -1.234044  0.407  0.702   0.000000e+00    1\n",
       "Zfp804b    0.000000e+00   -1.415103  0.266  0.536   0.000000e+00    1\n",
       "Xist       0.000000e+00   -0.855881  0.562  0.827   0.000000e+00    1\n",
       "Nrxn3      0.000000e+00   -1.176254  0.774  0.985   0.000000e+00    1\n",
       "Camk2d     0.000000e+00   -3.280839  0.032  0.242   0.000000e+00    1\n",
       "Meg3       0.000000e+00   -1.000236  0.900  0.973   0.000000e+00    1\n",
       "Rfx3       0.000000e+00    0.488790  0.992  0.953   0.000000e+00   -1\n",
       "Grin2a     0.000000e+00    0.470946  0.999  0.993   0.000000e+00   -1\n",
       "Zbtb20     0.000000e+00    0.390037  1.000  0.998   0.000000e+00   -1\n",
       "Rbfox1     0.000000e+00    0.382806  1.000  0.999   0.000000e+00   -1\n",
       "Grin1     1.021928e-313   -0.732905  0.632  0.719  2.654357e-309    1\n",
       "Egfem1    2.432446e-301    0.574156  0.955  0.861  6.318035e-297   -1\n",
       "Fgf14     4.196492e-299    0.300648  1.000  0.999  1.089997e-294   -1\n",
       "Slc4a4    1.803190e-295    0.764164  0.896  0.751  4.683606e-291   -1\n",
       "Plxna4    1.215740e-277    0.523029  0.961  0.899  3.157764e-273   -1\n",
       "Gm15738   1.334649e-272    1.940843  0.198  0.057  3.466617e-268   -1\n",
       "Il1rapl1  9.658026e-261    0.274341  0.999  0.997  2.508576e-256    0\n",
       "Cacna1e   1.045167e-254    0.411063  0.976  0.931  2.714716e-250   -1\n",
       "Nell2     1.447965e-254    0.499448  0.940  0.847  3.760944e-250   -1"
      ]
     },
     "execution_count": 14,
     "metadata": {},
     "output_type": "execute_result"
    }
   ],
   "source": [
    "df.sort_values('p_val_adj').head(20)"
   ]
  },
  {
   "cell_type": "code",
   "execution_count": 15,
   "id": "47aafa62",
   "metadata": {
    "execution": {
     "iopub.execute_input": "2024-12-08T03:33:52.855543Z",
     "iopub.status.busy": "2024-12-08T03:33:52.855326Z",
     "iopub.status.idle": "2024-12-08T03:33:52.859846Z",
     "shell.execute_reply": "2024-12-08T03:33:52.859433Z"
    },
    "papermill": {
     "duration": 0.009828,
     "end_time": "2024-12-08T03:33:52.861064",
     "exception": false,
     "start_time": "2024-12-08T03:33:52.851236",
     "status": "completed"
    },
    "tags": []
   },
   "outputs": [
    {
     "data": {
      "text/plain": [
       "DEG\n",
       " 0    5461\n",
       "-1    2659\n",
       " 1     190\n",
       "Name: count, dtype: int64"
      ]
     },
     "execution_count": 15,
     "metadata": {},
     "output_type": "execute_result"
    }
   ],
   "source": [
    "df['DEG'].value_counts()"
   ]
  },
  {
   "cell_type": "code",
   "execution_count": 16,
   "id": "57b192ba-12a3-461d-bc47-a61bcf81529f",
   "metadata": {
    "execution": {
     "iopub.execute_input": "2024-12-08T03:33:52.868651Z",
     "iopub.status.busy": "2024-12-08T03:33:52.868486Z",
     "iopub.status.idle": "2024-12-08T03:33:52.903885Z",
     "shell.execute_reply": "2024-12-08T03:33:52.903346Z"
    },
    "papermill": {
     "duration": 0.040914,
     "end_time": "2024-12-08T03:33:52.905427",
     "exception": false,
     "start_time": "2024-12-08T03:33:52.864513",
     "status": "completed"
    },
    "tags": []
   },
   "outputs": [],
   "source": [
    "# save the table out as f\"{ct}.RNAseq_DEG.hdf\"\n",
    "df.to_csv(f\"{home_dir}/ml_input/{ct}/{ct}.luisa_RNA_DEG.csv\")"
   ]
  },
  {
   "cell_type": "markdown",
   "id": "63bcd329",
   "metadata": {
    "papermill": {
     "duration": 0.003752,
     "end_time": "2024-12-08T03:33:52.913149",
     "exception": false,
     "start_time": "2024-12-08T03:33:52.909397",
     "status": "completed"
    },
    "tags": []
   },
   "source": [
    "## gene meta"
   ]
  },
  {
   "cell_type": "code",
   "execution_count": 17,
   "id": "464c6f8e",
   "metadata": {
    "execution": {
     "iopub.execute_input": "2024-12-08T03:33:52.921328Z",
     "iopub.status.busy": "2024-12-08T03:33:52.921086Z",
     "iopub.status.idle": "2024-12-08T03:33:52.924127Z",
     "shell.execute_reply": "2024-12-08T03:33:52.923549Z"
    },
    "papermill": {
     "duration": 0.008574,
     "end_time": "2024-12-08T03:33:52.925238",
     "exception": false,
     "start_time": "2024-12-08T03:33:52.916664",
     "status": "completed"
    },
    "tags": []
   },
   "outputs": [],
   "source": [
    "# gene_meta = pd.read_csv('/data/ref/gencode.vM22.basic.annotation.gene.flat.tsv.gz', sep = '\\t')\n",
    "# gene_meta = gene_meta[['chrom','start','end','gene_id','strand','gene_name','gene_type']]\n",
    "# # slop start and end 2000\n",
    "# gene_meta['start'] = gene_meta['start'] - 2000\n",
    "# gene_meta['end'] = gene_meta['end'] + 2000\n",
    "# # remove chrM, chrX and chrY\n",
    "# gene_meta = gene_meta[~gene_meta['chrom'].isin(['chrM','chrX','chrY'])]\n",
    "# gene_meta"
   ]
  },
  {
   "cell_type": "code",
   "execution_count": 18,
   "id": "10dc347c",
   "metadata": {
    "execution": {
     "iopub.execute_input": "2024-12-08T03:33:52.934133Z",
     "iopub.status.busy": "2024-12-08T03:33:52.933559Z",
     "iopub.status.idle": "2024-12-08T03:33:52.936739Z",
     "shell.execute_reply": "2024-12-08T03:33:52.936117Z"
    },
    "papermill": {
     "duration": 0.008819,
     "end_time": "2024-12-08T03:33:52.937830",
     "exception": false,
     "start_time": "2024-12-08T03:33:52.929011",
     "status": "completed"
    },
    "tags": []
   },
   "outputs": [],
   "source": [
    "# gene_meta.to_csv('mm10_gene_2kb.bed', sep = '\\t', index = False, header = False)"
   ]
  },
  {
   "cell_type": "code",
   "execution_count": null,
   "id": "a112b31a",
   "metadata": {
    "papermill": {
     "duration": 0.003468,
     "end_time": "2024-12-08T03:33:52.945000",
     "exception": false,
     "start_time": "2024-12-08T03:33:52.941532",
     "status": "completed"
    },
    "tags": []
   },
   "outputs": [],
   "source": []
  },
  {
   "cell_type": "code",
   "execution_count": null,
   "id": "37c9cd46",
   "metadata": {
    "papermill": {
     "duration": 0.003473,
     "end_time": "2024-12-08T03:33:52.951990",
     "exception": false,
     "start_time": "2024-12-08T03:33:52.948517",
     "status": "completed"
    },
    "tags": []
   },
   "outputs": [],
   "source": []
  }
 ],
 "metadata": {
  "kernelspec": {
   "display_name": "Python 3 (ipykernel)",
   "language": "python",
   "name": "python3"
  },
  "language_info": {
   "codemirror_mode": {
    "name": "ipython",
    "version": 3
   },
   "file_extension": ".py",
   "mimetype": "text/x-python",
   "name": "python",
   "nbconvert_exporter": "python",
   "pygments_lexer": "ipython3",
   "version": "3.10.12"
  },
  "papermill": {
   "default_parameters": {},
   "duration": 10.216341,
   "end_time": "2024-12-08T03:33:54.174982",
   "environment_variables": {},
   "exception": null,
   "input_path": "/home/qzeng_salk_edu/project/241018_pre_ml/gen_ml_input/notebooks/00.pre_rna.ipynb",
   "output_path": "DG_Glut/00.pre_rna.ipynb",
   "parameters": {
    "cpu": 8,
    "group_name": "DG_Glut",
    "mem_gb": 10
   },
   "start_time": "2024-12-08T03:33:43.958641",
   "version": "2.4.0"
  }
 },
 "nbformat": 4,
 "nbformat_minor": 5
}