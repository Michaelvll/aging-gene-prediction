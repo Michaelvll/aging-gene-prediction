{
 "cells": [
  {
   "cell_type": "code",
   "execution_count": 1,
   "metadata": {},
   "outputs": [],
   "source": [
    "import pandas as pd\n",
    "import numpy as np"
   ]
  },
  {
   "cell_type": "code",
   "execution_count": 11,
   "metadata": {},
   "outputs": [],
   "source": [
    "ct = 'DG_Glut'"
   ]
  },
  {
   "cell_type": "code",
   "execution_count": 14,
   "metadata": {},
   "outputs": [
    {
     "name": "stdout",
     "output_type": "stream",
     "text": [
      "/home/qzeng_salk_edu/pkg/aging-gene-prediction\n"
     ]
    }
   ],
   "source": [
    "!pwd"
   ]
  },
  {
   "cell_type": "code",
   "execution_count": 23,
   "metadata": {},
   "outputs": [],
   "source": [
    "hic = pd.read_csv(f'/home/qzeng_salk_edu/project/241018_pre_ml/ml_input/{ct}/{ct}.Loop_gene.csv.gz')"
   ]
  },
  {
   "cell_type": "code",
   "execution_count": 27,
   "metadata": {},
   "outputs": [
    {
     "name": "stdout",
     "output_type": "stream",
     "text": [
      "Processed hic loop data\n"
     ]
    }
   ],
   "source": [
    "#hic = pd.read_csv('data/Oligo_NN.diff_loop_gene.csv')\n",
    "hic_feat = hic\n",
    "hic_feat.rename(columns={'gene_name': 'gene'}, inplace=True)\n",
    "hic_feat['9mo-2mo.Q'] = hic_feat['9mo.Q'] - hic_feat['2mo.Q']\n",
    "hic_feat['18mo-9mo.Q'] = hic_feat['18mo.Q'] - hic_feat['9mo.Q']\n",
    "hic_feat['18mo-2mo.Q'] = hic_feat['18mo.Q'] - hic_feat['2mo.Q']\n",
    "hic_feat['9mo-2mo.T'] = hic_feat['9mo.T'] - hic_feat['2mo.T']\n",
    "hic_feat['18mo-9mo.T'] = hic_feat['18mo.T'] - hic_feat['9mo.T']\n",
    "hic_feat['18mo-2mo.T'] = hic_feat['18mo.T'] - hic_feat['2mo.T']\n",
    "\n",
    "\n",
    "hic_feat['log2(gene_length)'] = np.log2(hic_feat['gene_length'] + 10000)\n",
    "hic_feat['log2(anchor1_distance)'] = np.log2(hic_feat['anchor1_distance'] + 10000) #10000 i the loop resolution\n",
    "hic_feat['log2(anchor2_distance)'] = np.log2(hic_feat['anchor2_distance'] + 10000)\n",
    "\n",
    "hic_feat = hic_feat[['gene', *HIC_FEATURE_NAMES]]\n",
    "assert hic_feat.isna().sum().sum() == 0\n",
    "assert hic_feat.isin([np.inf, -np.inf]).sum().sum() == 0\n",
    "#DATA['hic_loop'] = hic_feat\n",
    "print('Processed hic loop data')"
   ]
  },
  {
   "cell_type": "code",
   "execution_count": 26,
   "metadata": {},
   "outputs": [],
   "source": [
    "HIC_FEATURE_NAMES = [ 'Tanova', '2mo.Q', '9mo.Q', '18mo.Q','9mo-2mo.Q','18mo-9mo.Q', '18mo-2mo.Q',\n",
    "                         'log2(gene_length)', 'log2(anchor1_distance)','log2(anchor2_distance)','Diff_Loop']"
   ]
  },
  {
   "cell_type": "code",
   "execution_count": null,
   "metadata": {},
   "outputs": [],
   "source": []
  },
  {
   "cell_type": "code",
   "execution_count": null,
   "metadata": {},
   "outputs": [],
   "source": []
  }
 ],
 "metadata": {
  "kernelspec": {
   "display_name": "base",
   "language": "python",
   "name": "python3"
  },
  "language_info": {
   "codemirror_mode": {
    "name": "ipython",
    "version": 3
   },
   "file_extension": ".py",
   "mimetype": "text/x-python",
   "name": "python",
   "nbconvert_exporter": "python",
   "pygments_lexer": "ipython3",
   "version": "3.10.12"
  }
 },
 "nbformat": 4,
 "nbformat_minor": 2
}
