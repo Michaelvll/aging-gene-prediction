{
 "cells": [
  {
   "cell_type": "code",
   "execution_count": 1,
   "metadata": {},
   "outputs": [],
   "source": [
    "import pandas as pd\n",
    "import numpy as np\n",
    "from concurrent.futures import ThreadPoolExecutor\n",
    "from data_loader import load_data, get_balanced_data,get_balanced_data_by_samllest_group, normalize_features, DATA_FEATURE_NAMES_LIST, concat_group_data"
   ]
  },
  {
   "cell_type": "code",
   "execution_count": 2,
   "metadata": {},
   "outputs": [],
   "source": [
    "from collections import defaultdict"
   ]
  },
  {
   "cell_type": "code",
   "execution_count": 8,
   "metadata": {},
   "outputs": [],
   "source": [
    "#concat_cts = ['CA1-ProS_Glut', 'CA3_Glut', 'DG_Glut']\n",
    "concat_cts = ['L23_IT_CTX_Glut', 'L6_CT_CTX_Glut', 'L5_ET_CTX_Glut','L6_IT_CTX_Glut'] #"
   ]
  },
  {
   "cell_type": "code",
   "execution_count": 10,
   "metadata": {},
   "outputs": [
    {
     "name": "stdout",
     "output_type": "stream",
     "text": [
      "L23_IT_CTX_Glut\n",
      "Processed dmr data\n",
      "Processed mCG genebody data\n",
      "Preparing data\n",
      "zero: 7789, up: 203,down: 1361\n",
      "Getting balanced data\n",
      "L6_CT_CTX_Glut\n",
      "Processed dmr data\n",
      "Processed mCG genebody data\n",
      "Preparing data\n",
      "zero: 7885, up: 141,down: 1330\n",
      "Getting balanced data\n",
      "L5_ET_CTX_Glut\n",
      "Processed dmr data\n",
      "Processed mCG genebody data\n",
      "Preparing data\n",
      "zero: 8692, up: 78,down: 413\n",
      "Getting balanced data\n",
      "L6_IT_CTX_Glut\n",
      "Processed dmr data\n",
      "Processed mCG genebody data\n",
      "Preparing data\n",
      "zero: 9063, up: 32,down: 158\n",
      "Getting balanced data\n"
     ]
    }
   ],
   "source": [
    "X_balanced, y_balanced = concat_group_data(concat_cts)"
   ]
  },
  {
   "cell_type": "code",
   "execution_count": 9,
   "metadata": {},
   "outputs": [],
   "source": [
    "def concat_group_data(concat_cts):\n",
    "    y_balanced = []\n",
    "    X_balanced_list = []\n",
    "\n",
    "    for ct in concat_cts:\n",
    "        print(ct)\n",
    "        data_tmp = load_data(ct=ct)\n",
    "        X_balanced_tmp, y_balanced_tmp = get_balanced_data_by_samllest_group(data_tmp)\n",
    "        y_balanced.append(y_balanced_tmp)\n",
    "        X_balanced_list.append(X_balanced_tmp)\n",
    "\n",
    "    y_balanced = np.concatenate(y_balanced)\n",
    "    X_balanced = defaultdict(list)\n",
    "\n",
    "    for feature_name in DATA_FEATURE_NAMES_LIST:\n",
    "        for i in range(len(concat_cts)):\n",
    "            X_balanced[feature_name] += X_balanced_list[i][feature_name]\n",
    "\n",
    "    return X_balanced, y_balanced\n",
    "\n"
   ]
  },
  {
   "cell_type": "code",
   "execution_count": 11,
   "metadata": {},
   "outputs": [],
   "source": [
    "assert len(X_balanced['dmr']) == len(y_balanced)"
   ]
  },
  {
   "cell_type": "code",
   "execution_count": 12,
   "metadata": {},
   "outputs": [
    {
     "data": {
      "text/plain": [
       "1362"
      ]
     },
     "execution_count": 12,
     "metadata": {},
     "output_type": "execute_result"
    }
   ],
   "source": [
    "len(y_balanced)"
   ]
  },
  {
   "cell_type": "code",
   "execution_count": null,
   "metadata": {},
   "outputs": [],
   "source": []
  },
  {
   "cell_type": "code",
   "execution_count": null,
   "metadata": {},
   "outputs": [],
   "source": []
  },
  {
   "cell_type": "code",
   "execution_count": null,
   "metadata": {},
   "outputs": [],
   "source": []
  }
 ],
 "metadata": {
  "kernelspec": {
   "display_name": "base",
   "language": "python",
   "name": "python3"
  },
  "language_info": {
   "codemirror_mode": {
    "name": "ipython",
    "version": 3
   },
   "file_extension": ".py",
   "mimetype": "text/x-python",
   "name": "python",
   "nbconvert_exporter": "python",
   "pygments_lexer": "ipython3",
   "version": "3.10.12"
  }
 },
 "nbformat": 4,
 "nbformat_minor": 2
}
